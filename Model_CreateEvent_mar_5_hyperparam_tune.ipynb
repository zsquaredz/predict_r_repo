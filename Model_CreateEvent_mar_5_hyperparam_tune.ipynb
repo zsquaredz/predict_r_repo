{
 "cells": [
  {
   "cell_type": "code",
   "execution_count": 34,
   "metadata": {},
   "outputs": [],
   "source": [
    "from __future__ import print_function, division\n",
    "%matplotlib inline\n",
    "\n",
    "# Your code goes here\n",
    "import os\n",
    "import numpy as np \n",
    "import pandas as pd\n",
    "import matplotlib.pyplot as plt\n",
    "import seaborn as sns\n",
    "from sklearn.metrics import accuracy_score, log_loss\n",
    "from sklearn.linear_model import LogisticRegression, LogisticRegressionCV\n",
    "from sklearn.preprocessing import StandardScaler\n",
    "from sklearn.cross_validation import KFold\n",
    "from sklearn.ensemble import RandomForestClassifier\n",
    "from sklearn.svm import SVC\n",
    "from sklearn.naive_bayes import GaussianNB\n",
    "from sklearn.neural_network import MLPClassifier\n",
    "from sklearn.model_selection import train_test_split\n",
    "from sklearn.metrics import average_precision_score, recall_score, precision_score, f1_score, confusion_matrix\n",
    "from sklearn.dummy import DummyClassifier"
   ]
  },
  {
   "cell_type": "code",
   "execution_count": 7,
   "metadata": {},
   "outputs": [
    {
     "name": "stdout",
     "output_type": "stream",
     "text": [
      "(22202, 100)\n",
      "(7084, 100)\n"
     ]
    }
   ],
   "source": [
    "dataset1 = pd.read_csv('createEvent_feb_28.csv',delimiter = ',')\n",
    "data_neg = dataset1.loc[(dataset1['class']==0) & (dataset1['proj_span']>0.0)]\n",
    "data_pos = dataset1.loc[(dataset1['class']==1) & (dataset1['proj_span']>0.0)]\n",
    "print(data_neg.shape)\n",
    "print(data_pos.shape)"
   ]
  },
  {
   "cell_type": "code",
   "execution_count": 2,
   "metadata": {},
   "outputs": [],
   "source": [
    "dataset = pd.read_csv('createEvent_feb_28.csv',delimiter = ',')\n",
    "# dataset1 = pd.read_csv('test_createEvent_12_18.csv',delimiter = ',') # this one does not take care the CRAN before GH date"
   ]
  },
  {
   "cell_type": "code",
   "execution_count": 3,
   "metadata": {},
   "outputs": [
    {
     "data": {
      "text/plain": [
       "(29286, 100)"
      ]
     },
     "execution_count": 3,
     "metadata": {},
     "output_type": "execute_result"
    }
   ],
   "source": [
    "X = (dataset.drop('class', axis=1)).drop('id', axis=1)\n",
    "y = dataset['class']\n",
    "dataset.shape"
   ]
  },
  {
   "cell_type": "code",
   "execution_count": 36,
   "metadata": {},
   "outputs": [
    {
     "data": {
      "text/plain": [
       "(4428,)"
      ]
     },
     "execution_count": 36,
     "metadata": {},
     "output_type": "execute_result"
    }
   ],
   "source": [
    "y_val.loc[(y_val==0)].shape"
   ]
  },
  {
   "cell_type": "code",
   "execution_count": 5,
   "metadata": {},
   "outputs": [
    {
     "data": {
      "text/html": [
       "<div>\n",
       "<style scoped>\n",
       "    .dataframe tbody tr th:only-of-type {\n",
       "        vertical-align: middle;\n",
       "    }\n",
       "\n",
       "    .dataframe tbody tr th {\n",
       "        vertical-align: top;\n",
       "    }\n",
       "\n",
       "    .dataframe thead th {\n",
       "        text-align: right;\n",
       "    }\n",
       "</style>\n",
       "<table border=\"1\" class=\"dataframe\">\n",
       "  <thead>\n",
       "    <tr style=\"text-align: right;\">\n",
       "      <th></th>\n",
       "      <th>activity_intensity</th>\n",
       "      <th>activity_intensity_Q1</th>\n",
       "      <th>activity_intensity_Q2</th>\n",
       "      <th>activity_intensity_Q3</th>\n",
       "      <th>activity_intensity_Q4</th>\n",
       "      <th>class</th>\n",
       "      <th>contribution_30_10_percentage</th>\n",
       "      <th>contribution_50_30_percentage</th>\n",
       "      <th>contribution_below_10_percentage</th>\n",
       "      <th>contribution_over_50</th>\n",
       "      <th>...</th>\n",
       "      <th>num_TeamAdd_Q4</th>\n",
       "      <th>num_Watch</th>\n",
       "      <th>num_Watch_Q1</th>\n",
       "      <th>num_Watch_Q2</th>\n",
       "      <th>num_Watch_Q3</th>\n",
       "      <th>num_Watch_Q4</th>\n",
       "      <th>num_joint_project</th>\n",
       "      <th>num_joint_success_project</th>\n",
       "      <th>proj_span</th>\n",
       "      <th>team_age_in_days</th>\n",
       "    </tr>\n",
       "  </thead>\n",
       "  <tbody>\n",
       "    <tr>\n",
       "      <th>count</th>\n",
       "      <td>29286.000000</td>\n",
       "      <td>29286.000000</td>\n",
       "      <td>29286.000000</td>\n",
       "      <td>29286.000000</td>\n",
       "      <td>29286.000000</td>\n",
       "      <td>29286.000000</td>\n",
       "      <td>29286.000000</td>\n",
       "      <td>29286.000000</td>\n",
       "      <td>29286.000000</td>\n",
       "      <td>29286.000000</td>\n",
       "      <td>...</td>\n",
       "      <td>29286.000000</td>\n",
       "      <td>29286.000000</td>\n",
       "      <td>29286.000000</td>\n",
       "      <td>29286.000000</td>\n",
       "      <td>29286.000000</td>\n",
       "      <td>29286.000000</td>\n",
       "      <td>29286.000000</td>\n",
       "      <td>29286.000000</td>\n",
       "      <td>29286.000000</td>\n",
       "      <td>29286.000000</td>\n",
       "    </tr>\n",
       "    <tr>\n",
       "      <th>mean</th>\n",
       "      <td>2.032372</td>\n",
       "      <td>0.900518</td>\n",
       "      <td>0.925266</td>\n",
       "      <td>0.889983</td>\n",
       "      <td>1.932008</td>\n",
       "      <td>0.241890</td>\n",
       "      <td>0.011429</td>\n",
       "      <td>0.016388</td>\n",
       "      <td>0.009165</td>\n",
       "      <td>0.970327</td>\n",
       "      <td>...</td>\n",
       "      <td>0.001707</td>\n",
       "      <td>0.358567</td>\n",
       "      <td>0.294782</td>\n",
       "      <td>0.300485</td>\n",
       "      <td>0.323977</td>\n",
       "      <td>0.301851</td>\n",
       "      <td>1931.859011</td>\n",
       "      <td>1057.497781</td>\n",
       "      <td>58.686266</td>\n",
       "      <td>152.457693</td>\n",
       "    </tr>\n",
       "    <tr>\n",
       "      <th>std</th>\n",
       "      <td>3.694424</td>\n",
       "      <td>1.033171</td>\n",
       "      <td>0.910507</td>\n",
       "      <td>0.714117</td>\n",
       "      <td>3.562333</td>\n",
       "      <td>0.428236</td>\n",
       "      <td>0.066854</td>\n",
       "      <td>0.110770</td>\n",
       "      <td>0.059710</td>\n",
       "      <td>0.169686</td>\n",
       "      <td>...</td>\n",
       "      <td>0.046717</td>\n",
       "      <td>6.030359</td>\n",
       "      <td>4.003175</td>\n",
       "      <td>4.678314</td>\n",
       "      <td>5.570368</td>\n",
       "      <td>4.027580</td>\n",
       "      <td>3929.881167</td>\n",
       "      <td>2164.228317</td>\n",
       "      <td>193.306612</td>\n",
       "      <td>226.302552</td>\n",
       "    </tr>\n",
       "    <tr>\n",
       "      <th>min</th>\n",
       "      <td>0.001577</td>\n",
       "      <td>0.001577</td>\n",
       "      <td>0.001577</td>\n",
       "      <td>0.001577</td>\n",
       "      <td>0.001577</td>\n",
       "      <td>0.000000</td>\n",
       "      <td>0.000000</td>\n",
       "      <td>0.000000</td>\n",
       "      <td>0.000000</td>\n",
       "      <td>0.000000</td>\n",
       "      <td>...</td>\n",
       "      <td>0.000000</td>\n",
       "      <td>0.000000</td>\n",
       "      <td>0.000000</td>\n",
       "      <td>0.000000</td>\n",
       "      <td>0.000000</td>\n",
       "      <td>0.000000</td>\n",
       "      <td>1.000000</td>\n",
       "      <td>0.000000</td>\n",
       "      <td>1.000000</td>\n",
       "      <td>0.000000</td>\n",
       "    </tr>\n",
       "    <tr>\n",
       "      <th>25%</th>\n",
       "      <td>0.857143</td>\n",
       "      <td>1.000000</td>\n",
       "      <td>0.800000</td>\n",
       "      <td>0.824943</td>\n",
       "      <td>0.750000</td>\n",
       "      <td>0.000000</td>\n",
       "      <td>0.000000</td>\n",
       "      <td>0.000000</td>\n",
       "      <td>0.000000</td>\n",
       "      <td>1.000000</td>\n",
       "      <td>...</td>\n",
       "      <td>0.000000</td>\n",
       "      <td>0.000000</td>\n",
       "      <td>0.000000</td>\n",
       "      <td>0.000000</td>\n",
       "      <td>0.000000</td>\n",
       "      <td>0.000000</td>\n",
       "      <td>2.000000</td>\n",
       "      <td>0.000000</td>\n",
       "      <td>1.000000</td>\n",
       "      <td>0.000000</td>\n",
       "    </tr>\n",
       "    <tr>\n",
       "      <th>50%</th>\n",
       "      <td>1.000000</td>\n",
       "      <td>1.000000</td>\n",
       "      <td>1.000000</td>\n",
       "      <td>1.000000</td>\n",
       "      <td>1.000000</td>\n",
       "      <td>0.000000</td>\n",
       "      <td>0.000000</td>\n",
       "      <td>0.000000</td>\n",
       "      <td>0.000000</td>\n",
       "      <td>1.000000</td>\n",
       "      <td>...</td>\n",
       "      <td>0.000000</td>\n",
       "      <td>0.000000</td>\n",
       "      <td>0.000000</td>\n",
       "      <td>0.000000</td>\n",
       "      <td>0.000000</td>\n",
       "      <td>0.000000</td>\n",
       "      <td>3.000000</td>\n",
       "      <td>2.000000</td>\n",
       "      <td>1.000000</td>\n",
       "      <td>25.000000</td>\n",
       "    </tr>\n",
       "    <tr>\n",
       "      <th>75%</th>\n",
       "      <td>2.500000</td>\n",
       "      <td>1.000000</td>\n",
       "      <td>1.000000</td>\n",
       "      <td>1.000000</td>\n",
       "      <td>2.000000</td>\n",
       "      <td>0.000000</td>\n",
       "      <td>0.000000</td>\n",
       "      <td>0.000000</td>\n",
       "      <td>0.000000</td>\n",
       "      <td>1.000000</td>\n",
       "      <td>...</td>\n",
       "      <td>0.000000</td>\n",
       "      <td>0.000000</td>\n",
       "      <td>0.000000</td>\n",
       "      <td>0.000000</td>\n",
       "      <td>0.000000</td>\n",
       "      <td>0.000000</td>\n",
       "      <td>16.000000</td>\n",
       "      <td>8.000000</td>\n",
       "      <td>8.000000</td>\n",
       "      <td>243.000000</td>\n",
       "    </tr>\n",
       "    <tr>\n",
       "      <th>max</th>\n",
       "      <td>403.000000</td>\n",
       "      <td>99.283920</td>\n",
       "      <td>36.000000</td>\n",
       "      <td>20.800000</td>\n",
       "      <td>403.000000</td>\n",
       "      <td>1.000000</td>\n",
       "      <td>1.000000</td>\n",
       "      <td>1.000000</td>\n",
       "      <td>1.000000</td>\n",
       "      <td>1.000000</td>\n",
       "      <td>...</td>\n",
       "      <td>2.000000</td>\n",
       "      <td>593.000000</td>\n",
       "      <td>263.000000</td>\n",
       "      <td>483.000000</td>\n",
       "      <td>593.000000</td>\n",
       "      <td>263.000000</td>\n",
       "      <td>10065.000000</td>\n",
       "      <td>10057.000000</td>\n",
       "      <td>2258.000000</td>\n",
       "      <td>1019.000000</td>\n",
       "    </tr>\n",
       "  </tbody>\n",
       "</table>\n",
       "<p>8 rows × 99 columns</p>\n",
       "</div>"
      ],
      "text/plain": [
       "       activity_intensity  activity_intensity_Q1  activity_intensity_Q2  \\\n",
       "count        29286.000000           29286.000000           29286.000000   \n",
       "mean             2.032372               0.900518               0.925266   \n",
       "std              3.694424               1.033171               0.910507   \n",
       "min              0.001577               0.001577               0.001577   \n",
       "25%              0.857143               1.000000               0.800000   \n",
       "50%              1.000000               1.000000               1.000000   \n",
       "75%              2.500000               1.000000               1.000000   \n",
       "max            403.000000              99.283920              36.000000   \n",
       "\n",
       "       activity_intensity_Q3  activity_intensity_Q4         class  \\\n",
       "count           29286.000000           29286.000000  29286.000000   \n",
       "mean                0.889983               1.932008      0.241890   \n",
       "std                 0.714117               3.562333      0.428236   \n",
       "min                 0.001577               0.001577      0.000000   \n",
       "25%                 0.824943               0.750000      0.000000   \n",
       "50%                 1.000000               1.000000      0.000000   \n",
       "75%                 1.000000               2.000000      0.000000   \n",
       "max                20.800000             403.000000      1.000000   \n",
       "\n",
       "       contribution_30_10_percentage  contribution_50_30_percentage  \\\n",
       "count                   29286.000000                   29286.000000   \n",
       "mean                        0.011429                       0.016388   \n",
       "std                         0.066854                       0.110770   \n",
       "min                         0.000000                       0.000000   \n",
       "25%                         0.000000                       0.000000   \n",
       "50%                         0.000000                       0.000000   \n",
       "75%                         0.000000                       0.000000   \n",
       "max                         1.000000                       1.000000   \n",
       "\n",
       "       contribution_below_10_percentage  contribution_over_50  \\\n",
       "count                      29286.000000          29286.000000   \n",
       "mean                           0.009165              0.970327   \n",
       "std                            0.059710              0.169686   \n",
       "min                            0.000000              0.000000   \n",
       "25%                            0.000000              1.000000   \n",
       "50%                            0.000000              1.000000   \n",
       "75%                            0.000000              1.000000   \n",
       "max                            1.000000              1.000000   \n",
       "\n",
       "             ...         num_TeamAdd_Q4     num_Watch  num_Watch_Q1  \\\n",
       "count        ...           29286.000000  29286.000000  29286.000000   \n",
       "mean         ...               0.001707      0.358567      0.294782   \n",
       "std          ...               0.046717      6.030359      4.003175   \n",
       "min          ...               0.000000      0.000000      0.000000   \n",
       "25%          ...               0.000000      0.000000      0.000000   \n",
       "50%          ...               0.000000      0.000000      0.000000   \n",
       "75%          ...               0.000000      0.000000      0.000000   \n",
       "max          ...               2.000000    593.000000    263.000000   \n",
       "\n",
       "       num_Watch_Q2  num_Watch_Q3  num_Watch_Q4  num_joint_project  \\\n",
       "count  29286.000000  29286.000000  29286.000000       29286.000000   \n",
       "mean       0.300485      0.323977      0.301851        1931.859011   \n",
       "std        4.678314      5.570368      4.027580        3929.881167   \n",
       "min        0.000000      0.000000      0.000000           1.000000   \n",
       "25%        0.000000      0.000000      0.000000           2.000000   \n",
       "50%        0.000000      0.000000      0.000000           3.000000   \n",
       "75%        0.000000      0.000000      0.000000          16.000000   \n",
       "max      483.000000    593.000000    263.000000       10065.000000   \n",
       "\n",
       "       num_joint_success_project     proj_span  team_age_in_days  \n",
       "count               29286.000000  29286.000000      29286.000000  \n",
       "mean                 1057.497781     58.686266        152.457693  \n",
       "std                  2164.228317    193.306612        226.302552  \n",
       "min                     0.000000      1.000000          0.000000  \n",
       "25%                     0.000000      1.000000          0.000000  \n",
       "50%                     2.000000      1.000000         25.000000  \n",
       "75%                     8.000000      8.000000        243.000000  \n",
       "max                 10057.000000   2258.000000       1019.000000  \n",
       "\n",
       "[8 rows x 99 columns]"
      ]
     },
     "execution_count": 5,
     "metadata": {},
     "output_type": "execute_result"
    }
   ],
   "source": [
    "dataset.describe()"
   ]
  },
  {
   "cell_type": "code",
   "execution_count": 35,
   "metadata": {},
   "outputs": [
    {
     "name": "stdout",
     "output_type": "stream",
     "text": [
      "Classification accuracy of the LogisticRegression classifier on training set: 0.76234\n",
      "Precision on train: 0.00000\n",
      "Recall on train: 0.00000\n",
      "\n",
      "Classification accuracy of the LogisticRegression classifier on val set: 0.75602\n",
      "Precision on val: 0.00000\n",
      "Recall on val: 0.00000\n"
     ]
    },
    {
     "name": "stderr",
     "output_type": "stream",
     "text": [
      "/usr/lib64/python3.4/site-packages/sklearn/metrics/classification.py:1135: UndefinedMetricWarning: Precision is ill-defined and being set to 0.0 due to no predicted samples.\n",
      "  'precision', 'predicted', average, warn_for)\n"
     ]
    }
   ],
   "source": [
    "d = DummyClassifier(strategy='most_frequent')\n",
    "d.fit(X_tr, y_tr)\n",
    "ca = d.score(X_tr, y_tr)\n",
    "print('Classification accuracy of the LogisticRegression classifier on training set: {:.5f}'.format(ca))\n",
    "y_pred = d.predict(X_tr)\n",
    "p = precision_score(y_pred=y_pred,y_true=y_tr, pos_label=1)\n",
    "r = recall_score(y_pred=y_pred, y_true=y_tr, pos_label=1)\n",
    "print('Precision on train: {:.5f}'.format(p))\n",
    "print('Recall on train: {:.5f}'.format(r))\n",
    "ca = d.score(X_val, y_val)\n",
    "y_pred = d.predict(X_val)\n",
    "p = precision_score(y_pred=y_pred,y_true=y_val, pos_label=1)\n",
    "r = recall_score(y_pred=y_pred, y_true=y_val, pos_label=1)\n",
    "print('\\nClassification accuracy of the LogisticRegression classifier on val set: {:.5f}'.format(ca))\n",
    "print('Precision on val: {:.5f}'.format(p))\n",
    "print('Recall on val: {:.5f}'.format(r))"
   ]
  },
  {
   "cell_type": "code",
   "execution_count": null,
   "metadata": {},
   "outputs": [],
   "source": []
  },
  {
   "cell_type": "code",
   "execution_count": 4,
   "metadata": {},
   "outputs": [
    {
     "name": "stdout",
     "output_type": "stream",
     "text": [
      "training size:  17571\n",
      "validation size:  5857\n",
      "test size:  5858\n"
     ]
    }
   ],
   "source": [
    "X_tr_val, X_test, y_tr_val, y_test = train_test_split(X, y, test_size=0.2, random_state=20190101)\n",
    "X_tr, X_val, y_tr, y_val = train_test_split(X_tr_val, y_tr_val, test_size=0.25, random_state=20190207)\n",
    "print('training size: ', X_tr.shape[0])\n",
    "print('validation size: ', X_val.shape[0])\n",
    "print('test size: ', X_test.shape[0])"
   ]
  },
  {
   "cell_type": "code",
   "execution_count": 7,
   "metadata": {},
   "outputs": [
    {
     "data": {
      "image/png": "[encoded data removed]",
      "text/plain": [
       "<Figure size 864x360 with 1 Axes>"
      ]
     },
     "metadata": {},
     "output_type": "display_data"
    }
   ],
   "source": [
    "plt.figure(figsize=(12,5))\n",
    "plt.subplot(1,2,1)\n",
    "ax1 = sns.countplot(x='class', data=dataset)\n",
    "ax1.set_xticklabels(['not Success', 'Success'])\n",
    "plt.title('Dataset with CreateEvent in beginning')\n",
    "# ax2 = plt.subplot(1,2,2)\n",
    "# sns.countplot(x='class', data=dataset1)\n",
    "# ax2.set_xticklabels(['not Success', 'Success'])\n",
    "# plt.title('Dataset don\\'t care CRAN before GH')\n",
    "plt.show()"
   ]
  },
  {
   "cell_type": "code",
   "execution_count": 8,
   "metadata": {},
   "outputs": [
    {
     "name": "stdout",
     "output_type": "stream",
     "text": [
      "Classification accuracy of the LogisticRegression classifier on training set: 0.94622\n",
      "Precision on train: 0.95392\n",
      "Recall on train: 0.81298\n",
      "\n",
      "Classification accuracy of the LogisticRegression classifier on val set: 0.93614\n",
      "Precision on val: 0.93849\n",
      "Recall on val: 0.79006\n"
     ]
    },
    {
     "data": {
      "text/plain": [
       "array([[4354,   74],\n",
       "       [ 300, 1129]])"
      ]
     },
     "execution_count": 8,
     "metadata": {},
     "output_type": "execute_result"
    }
   ],
   "source": [
    "lr = LogisticRegression(solver='lbfgs')\n",
    "lr.fit(X_tr, y_tr)\n",
    "ca = lr.score(X_tr, y_tr)\n",
    "print('Classification accuracy of the LogisticRegression classifier on training set: {:.5f}'.format(ca))\n",
    "y_pred = lr.predict(X_tr)\n",
    "p = precision_score(y_pred=y_pred,y_true=y_tr, pos_label=1)\n",
    "r = recall_score(y_pred=y_pred, y_true=y_tr, pos_label=1)\n",
    "print('Precision on train: {:.5f}'.format(p))\n",
    "print('Recall on train: {:.5f}'.format(r))\n",
    "ca = lr.score(X_val, y_val)\n",
    "y_pred = lr.predict(X_val)\n",
    "p = precision_score(y_pred=y_pred,y_true=y_val, pos_label=1)\n",
    "r = recall_score(y_pred=y_pred, y_true=y_val, pos_label=1)\n",
    "print('\\nClassification accuracy of the LogisticRegression classifier on val set: {:.5f}'.format(ca))\n",
    "print('Precision on val: {:.5f}'.format(p))\n",
    "print('Recall on val: {:.5f}'.format(r))\n",
    "confusion_matrix(y_pred=y_pred, y_true=y_val)"
   ]
  },
  {
   "cell_type": "code",
   "execution_count": 9,
   "metadata": {},
   "outputs": [
    {
     "name": "stdout",
     "output_type": "stream",
     "text": [
      "\n",
      "Classification accuracy of the LogisticRegression classifier on test set: 0.94418\n",
      "Precision on val: 0.95212\n",
      "Recall on val: 0.82015\n"
     ]
    }
   ],
   "source": [
    "ca = lr.score(X_test, y_test)\n",
    "y_pred_1 = lr.predict(X_test)\n",
    "p = precision_score(y_pred=y_pred_1,y_true=y_test, pos_label=1)\n",
    "r = recall_score(y_pred=y_pred_1, y_true=y_test, pos_label=1)\n",
    "print('\\nClassification accuracy of the LogisticRegression classifier on test set: {:.5f}'.format(ca))\n",
    "print('Precision on val: {:.5f}'.format(p))\n",
    "print('Recall on val: {:.5f}'.format(r))"
   ]
  },
  {
   "cell_type": "code",
   "execution_count": 10,
   "metadata": {},
   "outputs": [],
   "source": [
    "# display coef for logistic regression model\n",
    "# print(lr.coef_)\n",
    "# print(lr.intercept_)"
   ]
  },
  {
   "cell_type": "code",
   "execution_count": 11,
   "metadata": {},
   "outputs": [],
   "source": [
    "def plot_confusion_matrix(cm, classes=None, title='Confusion matrix'):\n",
    "    \"\"\"Plots a confusion matrix.\"\"\"\n",
    "    if classes is not None:\n",
    "        sns.heatmap(cm, xticklabels=classes, yticklabels=classes, vmin=0., vmax=1., annot=True)\n",
    "    else:\n",
    "        sns.heatmap(cm, vmin=0., vmax=1.)\n",
    "    plt.title(title)\n",
    "    plt.ylabel('True label')\n",
    "    plt.xlabel('Predicted label')"
   ]
  },
  {
   "cell_type": "code",
   "execution_count": 12,
   "metadata": {},
   "outputs": [],
   "source": [
    "# cm = confusion_matrix(y_pred=y_pred, y_true=y_val)\n",
    "# # retrive the normalized version of cm\n",
    "# cm_norm = cm/cm.sum(axis=1)[:, np.newaxis]\n",
    "\n",
    "# plt.figure()\n",
    "# plot_confusion_matrix(cm_norm, classes=['unsuccess','success'])\n",
    "# plt.show()"
   ]
  },
  {
   "cell_type": "code",
   "execution_count": 13,
   "metadata": {},
   "outputs": [],
   "source": []
  },
  {
   "cell_type": "code",
   "execution_count": null,
   "metadata": {},
   "outputs": [],
   "source": []
  },
  {
   "cell_type": "code",
   "execution_count": null,
   "metadata": {},
   "outputs": [],
   "source": []
  },
  {
   "cell_type": "code",
   "execution_count": 5,
   "metadata": {},
   "outputs": [],
   "source": [
    "# transform the data\n",
    "ss = StandardScaler()\n",
    "ss.fit(X_tr)\n",
    "X_tr = ss.transform(X_tr)\n",
    "X_val = ss.transform(X_val)\n",
    "X_test = ss.transform(X_test)"
   ]
  },
  {
   "cell_type": "code",
   "execution_count": 6,
   "metadata": {},
   "outputs": [
    {
     "name": "stdout",
     "output_type": "stream",
     "text": [
      "Classification accuracy of the LogisticRegression classifier on training set: 0.95088\n",
      "Precision on train: 0.98422\n",
      "Recall on train: 0.80627\n",
      "\n",
      "Classification accuracy of the LogisticRegression classifier on val set: 0.93973\n",
      "Precision on val: 0.97193\n",
      "Recall on val: 0.77537\n"
     ]
    }
   ],
   "source": [
    "lr = LogisticRegression(solver='lbfgs')\n",
    "lr.fit(X_tr, y_tr)\n",
    "ca = lr.score(X_tr, y_tr)\n",
    "print('Classification accuracy of the LogisticRegression classifier on training set: {:.5f}'.format(ca))\n",
    "y_pred = lr.predict(X_tr)\n",
    "p = precision_score(y_pred=y_pred,y_true=y_tr, pos_label=1)\n",
    "r = recall_score(y_pred=y_pred, y_true=y_tr, pos_label=1)\n",
    "print('Precision on train: {:.5f}'.format(p))\n",
    "print('Recall on train: {:.5f}'.format(r))\n",
    "\n",
    "ca = lr.score(X_val, y_val)\n",
    "y_pred = lr.predict(X_val)\n",
    "p = precision_score(y_pred=y_pred,y_true=y_val, pos_label=1)\n",
    "r = recall_score(y_pred=y_pred, y_true=y_val, pos_label=1)\n",
    "print('\\nClassification accuracy of the LogisticRegression classifier on val set: {:.5f}'.format(ca))\n",
    "print('Precision on val: {:.5f}'.format(p))\n",
    "print('Recall on val: {:.5f}'.format(r))\n"
   ]
  },
  {
   "cell_type": "code",
   "execution_count": 10,
   "metadata": {},
   "outputs": [],
   "source": [
    "# display coef for logistic regression model\n",
    "# print(lr.coef_)\n",
    "# print(lr.intercept_)"
   ]
  },
  {
   "cell_type": "code",
   "execution_count": 17,
   "metadata": {},
   "outputs": [],
   "source": [
    "# cm = confusion_matrix(y_pred=y_pred, y_true=y_val)\n",
    "# # retrive the normalized version of cm\n",
    "# cm_norm = cm/cm.sum(axis=1)[:, np.newaxis]\n",
    "\n",
    "# plt.figure()\n",
    "# plot_confusion_matrix(cm_norm, classes=['unsuccess','success'])\n",
    "# plt.show()"
   ]
  },
  {
   "cell_type": "code",
   "execution_count": 13,
   "metadata": {},
   "outputs": [
    {
     "name": "stdout",
     "output_type": "stream",
     "text": [
      "[0.75567697 0.7558477  0.87741164 0.94024244 0.93990097 0.94041318\n",
      " 0.93973024 0.94041318 0.94041318 0.94041318 0.93990097 0.93990097\n",
      " 0.9395595  0.93973024 0.93990097 0.93990097 0.94024244 0.94041318\n",
      " 0.94109612 0.94160833 0.94126686 0.9414376  0.9414376  0.94212054\n",
      " 0.9414376  0.9419498  0.94126686 0.94160833 0.9414376  0.94160833\n",
      " 0.9414376  0.9414376  0.9414376  0.9414376  0.9414376  0.9414376\n",
      " 0.9414376  0.9414376  0.9414376  0.9414376 ]\n"
     ]
    }
   ],
   "source": [
    "c = np.logspace(-5, 10, num=40, base=10)\n",
    "score_array = np.zeros((40,))\n",
    "for n in range(len(c)):\n",
    "    lr = LogisticRegression(C=c[n], solver='lbfgs')\n",
    "    lr.fit(X_tr, y_tr)\n",
    "    score_array[n] = lr.score(X_val, y_val)\n",
    "    \n",
    "print(score_array)"
   ]
  },
  {
   "cell_type": "code",
   "execution_count": 14,
   "metadata": {},
   "outputs": [
    {
     "data": {
      "text/plain": [
       "array([1.00000000e-05, 2.42446202e-05, 5.87801607e-05, 1.42510267e-04,\n",
       "       3.45510729e-04, 8.37677640e-04, 2.03091762e-03, 4.92388263e-03,\n",
       "       1.19377664e-02, 2.89426612e-02, 7.01703829e-02, 1.70125428e-01,\n",
       "       4.12462638e-01, 1.00000000e+00, 2.42446202e+00, 5.87801607e+00,\n",
       "       1.42510267e+01, 3.45510729e+01, 8.37677640e+01, 2.03091762e+02,\n",
       "       4.92388263e+02, 1.19377664e+03, 2.89426612e+03, 7.01703829e+03,\n",
       "       1.70125428e+04, 4.12462638e+04, 1.00000000e+05, 2.42446202e+05,\n",
       "       5.87801607e+05, 1.42510267e+06, 3.45510729e+06, 8.37677640e+06,\n",
       "       2.03091762e+07, 4.92388263e+07, 1.19377664e+08, 2.89426612e+08,\n",
       "       7.01703829e+08, 1.70125428e+09, 4.12462638e+09, 1.00000000e+10])"
      ]
     },
     "execution_count": 14,
     "metadata": {},
     "output_type": "execute_result"
    }
   ],
   "source": [
    "c"
   ]
  },
  {
   "cell_type": "code",
   "execution_count": 31,
   "metadata": {},
   "outputs": [
    {
     "data": {
      "image/png": "[encoded data removed]",
      "text/plain": [
       "<Figure size 720x576 with 1 Axes>"
      ]
     },
     "metadata": {},
     "output_type": "display_data"
    }
   ],
   "source": [
    "# score_array_mean = np.zeros((20,1))\n",
    "# for n in range(20):\n",
    "#     score_array_mean[n][0] = score_array[:,n].mean()\n",
    "    \n",
    "plt.figure(figsize=(10,8))\n",
    "plt.semilogx(c, score_array, basex=10)\n",
    "plt.xlabel('Regularisation parameter C')\n",
    "plt.ylabel('Classification accuracy')\n",
    "plt.title('Mean classification accuracy against regularisation parameter C')\n",
    "plt.show()"
   ]
  },
  {
   "cell_type": "code",
   "execution_count": 32,
   "metadata": {},
   "outputs": [
    {
     "name": "stdout",
     "output_type": "stream",
     "text": [
      "\n",
      "Classification accuracy of the LogisticRegression classifier on val set: 0.94212\n",
      "Precision on val: 0.96821\n",
      "Recall on val: 0.78866\n"
     ]
    }
   ],
   "source": [
    "C_optimal = c[score_array.argmax()]\n",
    "lr = LogisticRegression(C=C_optimal, solver='lbfgs')\n",
    "lr.fit(X_tr, y_tr)\n",
    "ca = lr.score(X_val, y_val)\n",
    "y_pred = lr.predict(X_val)\n",
    "p = precision_score(y_pred=y_pred,y_true=y_val, pos_label=1)\n",
    "r = recall_score(y_pred=y_pred, y_true=y_val, pos_label=1)\n",
    "print('\\nClassification accuracy of the LogisticRegression classifier on val set: {:.5f}'.format(ca))\n",
    "print('Precision on val: {:.5f}'.format(p))\n",
    "print('Recall on val: {:.5f}'.format(r))"
   ]
  },
  {
   "cell_type": "code",
   "execution_count": 37,
   "metadata": {},
   "outputs": [
    {
     "name": "stdout",
     "output_type": "stream",
     "text": [
      "[0.75567697 0.75567697 0.75601844 0.87741164 0.94024244 0.93973024\n",
      " 0.93990097 0.9395595  0.94007171 0.93973024 0.94041318 0.94024244\n",
      " 0.94041318 0.94041318 0.94007171 0.93990097 0.94007171 0.93938877\n",
      " 0.9395595  0.93990097 0.93990097 0.93990097 0.9395595  0.93990097\n",
      " 0.94024244 0.9414376  0.94024244 0.94109612 0.94024244 0.9414376\n",
      " 0.94126686 0.9419498  0.9414376  0.9414376  0.9419498  0.9419498\n",
      " 0.9414376  0.94177907 0.9419498  0.94126686]\n"
     ]
    }
   ],
   "source": [
    "c = np.logspace(-5, 5, num=40, base=10)\n",
    "score_array = np.zeros((40,))\n",
    "for n in range(len(c)):\n",
    "    lr = LogisticRegression(C=c[n], solver='lbfgs')\n",
    "    lr.fit(X_tr, y_tr)\n",
    "    score_array[n] = lr.score(X_val, y_val)\n",
    "    \n",
    "print(score_array)"
   ]
  },
  {
   "cell_type": "code",
   "execution_count": 41,
   "metadata": {},
   "outputs": [
    {
     "data": {
      "image/png": "[encoded data removed]",
      "text/plain": [
       "<Figure size 720x576 with 1 Axes>"
      ]
     },
     "metadata": {},
     "output_type": "display_data"
    }
   ],
   "source": [
    "plt.figure(figsize=(10,8))\n",
    "plt.semilogx(c, score_array, basex=10)\n",
    "plt.xlabel('Regularisation parameter C')\n",
    "plt.ylabel('Classification accuracy')\n",
    "# plt.title('Mean classification accuracy against regularisation parameter C')\n",
    "plt.show()"
   ]
  },
  {
   "cell_type": "code",
   "execution_count": 60,
   "metadata": {},
   "outputs": [
    {
     "name": "stdout",
     "output_type": "stream",
     "text": [
      "Classification accuracy of the LogisticRegression classifier on training set: 0.95367\n",
      "Precision on train: 0.98221\n",
      "Recall on train: 0.81992\n",
      "F1 on train: 0.89376\n",
      "\n",
      "Classification accuracy of the LogisticRegression classifier on val set: 0.94195\n",
      "Precision on val: 0.96899\n",
      "Recall on val: 0.78726\n",
      "F1 on val: 0.86873\n"
     ]
    }
   ],
   "source": [
    "C_optimal = c[score_array.argmax()]\n",
    "lr = LogisticRegression(C=C_optimal, solver='lbfgs')\n",
    "lr.fit(X_tr, y_tr)\n",
    "ca = lr.score(X_tr, y_tr)\n",
    "print('Classification accuracy of the LogisticRegression classifier on training set: {:.5f}'.format(ca))\n",
    "y_pred = lr.predict(X_tr)\n",
    "p = precision_score(y_pred=y_pred,y_true=y_tr, pos_label=1)\n",
    "r = recall_score(y_pred=y_pred, y_true=y_tr, pos_label=1)\n",
    "f1 = f1_score(y_pred=y_pred, y_true=y_tr, pos_label=1)\n",
    "print('Precision on train: {:.5f}'.format(p))\n",
    "print('Recall on train: {:.5f}'.format(r))\n",
    "print('F1 on train: {:.5f}'.format(f1))\n",
    "\n",
    "ca = lr.score(X_val, y_val)\n",
    "y_pred = lr.predict(X_val)\n",
    "p = precision_score(y_pred=y_pred,y_true=y_val, pos_label=1)\n",
    "r = recall_score(y_pred=y_pred, y_true=y_val, pos_label=1)\n",
    "f1 = f1_score(y_pred=y_pred, y_true=y_val, pos_label=1)\n",
    "print('\\nClassification accuracy of the LogisticRegression classifier on val set: {:.5f}'.format(ca))\n",
    "print('Precision on val: {:.5f}'.format(p))\n",
    "print('Recall on val: {:.5f}'.format(r))\n",
    "print('F1 on val: {:.5f}'.format(f1))"
   ]
  },
  {
   "cell_type": "code",
   "execution_count": 40,
   "metadata": {},
   "outputs": [
    {
     "data": {
      "text/plain": [
       "888.6238162743389"
      ]
     },
     "execution_count": 40,
     "metadata": {},
     "output_type": "execute_result"
    }
   ],
   "source": [
    "C_optimal"
   ]
  },
  {
   "cell_type": "code",
   "execution_count": 58,
   "metadata": {
    "scrolled": true
   },
   "outputs": [
    {
     "name": "stdout",
     "output_type": "stream",
     "text": [
      "Accuracy score on the training dataset: 0.997552785840305\n",
      "Precision on train: 0.99976\n",
      "Recall on train: 0.98994\n",
      "F1 on val: 0.99483\n",
      "\n",
      "Accuracy score on the val dataset: 0.96841\n",
      "Precision on val: 0.98823\n",
      "Recall on val: 0.88104\n",
      "F1 on val: 0.93156\n"
     ]
    }
   ],
   "source": [
    "rf = RandomForestClassifier(n_estimators=120, random_state=42)\n",
    "rf.fit(X_tr, y_tr)\n",
    "y_pred = rf.predict(X_tr)\n",
    "p = precision_score(y_pred=y_pred,y_true=y_tr, pos_label=1)\n",
    "r = recall_score(y_pred=y_pred, y_true=y_tr, pos_label=1)\n",
    "accuracy_score_train = rf.score(X_tr, y_tr)\n",
    "f1 = f1_score(y_pred=y_pred, y_true=y_tr, pos_label=1)\n",
    "print('Accuracy score on the training dataset: {}'.format(accuracy_score_train))\n",
    "print('Precision on train: {:.5f}'.format(p))\n",
    "print('Recall on train: {:.5f}'.format(r))\n",
    "print('F1 on val: {:.5f}'.format(f1))\n",
    "\n",
    "# test set\n",
    "y_pred = rf.predict(X_val)\n",
    "p = precision_score(y_pred=y_pred,y_true=y_val, pos_label=1)\n",
    "r = recall_score(y_pred=y_pred, y_true=y_val, pos_label=1)\n",
    "accuracy_score_val = rf.score(X_val, y_val)\n",
    "f1 = f1_score(y_pred=y_pred, y_true=y_val, pos_label=1)\n",
    "print('\\nAccuracy score on the val dataset: {:.5f}'.format(accuracy_score_val))\n",
    "print('Precision on val: {:.5f}'.format(p))\n",
    "print('Recall on val: {:.5f}'.format(r))\n",
    "print('F1 on val: {:.5f}'.format(f1))"
   ]
  },
  {
   "cell_type": "code",
   "execution_count": 112,
   "metadata": {},
   "outputs": [
    {
     "name": "stdout",
     "output_type": "stream",
     "text": [
      "Accuracy score on the test dataset: 0.9725162171389553\n",
      "Precision on test: 0.98887\n",
      "Recall on test: 0.90128\n",
      "F1 on test: 0.94305\n"
     ]
    }
   ],
   "source": [
    "rf = RandomForestClassifier(n_estimators=120, random_state=42)\n",
    "rf.fit(X_tr, y_tr)\n",
    "y_pred = rf.predict(X_test)\n",
    "p = precision_score(y_pred=y_pred,y_true=y_test, pos_label=1)\n",
    "r = recall_score(y_pred=y_pred, y_true=y_test, pos_label=1)\n",
    "accuracy_score_train = rf.score(X_test, y_test)\n",
    "f1 = f1_score(y_pred=y_pred, y_true=y_test, pos_label=1)\n",
    "print('Accuracy score on the test dataset: {}'.format(accuracy_score_train))\n",
    "print('Precision on test: {:.5f}'.format(p))\n",
    "print('Recall on test: {:.5f}'.format(r))\n",
    "print('F1 on test: {:.5f}'.format(f1))"
   ]
  },
  {
   "cell_type": "code",
   "execution_count": 56,
   "metadata": {},
   "outputs": [
    {
     "data": {
      "image/png": "[encoded data removed]",
      "text/plain": [
       "<Figure size 576x432 with 1 Axes>"
      ]
     },
     "metadata": {},
     "output_type": "display_data"
    }
   ],
   "source": [
    "plt.figure(figsize=(8,6))\n",
    "plt.plot([10,30,50,70,100, 120, 130], [0.96141, 0.96397, 0.96619, 0.96739, 0.96773, 0.96841, 0.96773])\n",
    "plt.xlabel('Number of trees')\n",
    "plt.ylabel('Classification accuracy')\n",
    "# plt.title('Classification accuracy against regularisation parameter C')\n",
    "plt.show()"
   ]
  },
  {
   "cell_type": "code",
   "execution_count": 59,
   "metadata": {},
   "outputs": [
    {
     "name": "stdout",
     "output_type": "stream",
     "text": [
      "Names of the 10 most important features:\n",
      "1. num_joint_success_project\n",
      "2. num_joint_project\n",
      "3. team_age_in_days\n",
      "4. num_Create_Q4\n",
      "5. num_Create\n",
      "6. num_Push_Q4\n",
      "7. num_Push\n",
      "8. activity_intensity_Q4\n",
      "9. normalized_proj_span\n",
      "10. activity_intensity\n"
     ]
    }
   ],
   "source": [
    "features = X.columns[:].values.tolist()\n",
    "important_features = rf.feature_importances_\n",
    "feature_index = np.argsort(important_features)[::-1]\n",
    "print('Names of the 10 most important features:')\n",
    "for n in range(10):\n",
    "    print(\"{}. {}\".format(n+1, features[feature_index[n]]))"
   ]
  },
  {
   "cell_type": "code",
   "execution_count": 22,
   "metadata": {},
   "outputs": [
    {
     "name": "stdout",
     "output_type": "stream",
     "text": [
      "\n",
      "Accuracy score on the val dataset: 0.96637\n",
      "Precision on val: 0.98487\n",
      "Recall on val: 0.88032\n"
     ]
    }
   ],
   "source": [
    "# test set\n",
    "y_pred = rf.predict(X_test)\n",
    "p = precision_score(y_pred=y_pred,y_true=y_test, pos_label=1)\n",
    "r = recall_score(y_pred=y_pred, y_true=y_test, pos_label=1)\n",
    "accuracy_score_val = rf.score(X_test, y_test)\n",
    "print('\\nAccuracy score on the val dataset: {:.5f}'.format(accuracy_score_val))\n",
    "print('Precision on val: {:.5f}'.format(p))\n",
    "print('Recall on val: {:.5f}'.format(r))"
   ]
  },
  {
   "cell_type": "code",
   "execution_count": 32,
   "metadata": {},
   "outputs": [
    {
     "name": "stdout",
     "output_type": "stream",
     "text": [
      "Accuracy score on the training dataset: 0.997552785840305\n",
      "Precision on train: 0.99976\n",
      "Recall on train: 0.98994\n",
      "\n",
      "Accuracy score on the val dataset: 0.96773\n",
      "Precision on val: 0.98666\n",
      "Recall on val: 0.87964\n"
     ]
    }
   ],
   "source": [
    "rf = RandomForestClassifier(n_estimators=100, random_state=42)\n",
    "rf.fit(X_tr, y_tr)\n",
    "y_pred = rf.predict(X_tr)\n",
    "p = precision_score(y_pred=y_pred,y_true=y_tr, pos_label=1)\n",
    "r = recall_score(y_pred=y_pred, y_true=y_tr, pos_label=1)\n",
    "accuracy_score_train = rf.score(X_tr, y_tr)\n",
    "print('Accuracy score on the training dataset: {}'.format(accuracy_score_train))\n",
    "print('Precision on train: {:.5f}'.format(p))\n",
    "print('Recall on train: {:.5f}'.format(r))\n",
    "\n",
    "# test set\n",
    "y_pred = rf.predict(X_val)\n",
    "p = precision_score(y_pred=y_pred,y_true=y_val, pos_label=1)\n",
    "r = recall_score(y_pred=y_pred, y_true=y_val, pos_label=1)\n",
    "accuracy_score_val = rf.score(X_val, y_val)\n",
    "print('\\nAccuracy score on the val dataset: {:.5f}'.format(accuracy_score_val))\n",
    "print('Precision on val: {:.5f}'.format(p))\n",
    "print('Recall on val: {:.5f}'.format(r))"
   ]
  },
  {
   "cell_type": "code",
   "execution_count": 33,
   "metadata": {},
   "outputs": [
    {
     "data": {
      "image/png": "[encoded data removed]",
      "text/plain": [
       "<Figure size 576x432 with 1 Axes>"
      ]
     },
     "metadata": {},
     "output_type": "display_data"
    }
   ],
   "source": [
    "plt.figure(figsize=(8,6))\n",
    "plt.plot([10,30,50,70,100, 120, 130], [0.961, 0.964, 0.96619, 0.96739, 0.96773, 0.96841, 0.96773])\n",
    "plt.xlabel('Number of trees')\n",
    "plt.ylabel('Classification accuracy')\n",
    "# plt.title('Classification accuracy against regularisation parameter C')\n",
    "plt.show()"
   ]
  },
  {
   "cell_type": "code",
   "execution_count": 21,
   "metadata": {},
   "outputs": [
    {
     "name": "stdout",
     "output_type": "stream",
     "text": [
      "Ploy SVC classification accuracy on training set: 0.95549\n",
      "Poly SVC classification accuracy on val set: 0.94007\n"
     ]
    }
   ],
   "source": [
    "svc_poly = SVC(kernel='poly')\n",
    "svc_poly.fit(X_tr, y_tr)\n",
    "ca = svc_poly.score(X_tr, y_tr)\n",
    "print('Ploy SVC classification accuracy on training set: {:.5f}'.format(ca))\n",
    "ca = svc_poly.score(X_val, y_val)\n",
    "print('Poly SVC classification accuracy on val set: {:.5f}'.format(ca))"
   ]
  },
  {
   "cell_type": "code",
   "execution_count": 23,
   "metadata": {},
   "outputs": [
    {
     "name": "stdout",
     "output_type": "stream",
     "text": [
      "Linear SVC classification accuracy on training set: 0.95020\n",
      "Linear SVC classification accuracy on val set: 0.94810\n"
     ]
    }
   ],
   "source": [
    "svc_linear = SVC(kernel='linear')\n",
    "svc_linear.fit(X_tr, y_tr)\n",
    "ca = svc_linear.score(X_tr, y_tr)\n",
    "print('Linear SVC classification accuracy on training set: {:.5f}'.format(ca))\n",
    "ca = svc_linear.score(X_val, y_val)\n",
    "print('Linear SVC classification accuracy on val set: {:.5f}'.format(ca))"
   ]
  },
  {
   "cell_type": "code",
   "execution_count": 24,
   "metadata": {},
   "outputs": [
    {
     "name": "stdout",
     "output_type": "stream",
     "text": [
      "\n",
      "Radial Basis Function SVC classification accuracy on training set: 0.95521\n",
      "Radial Basis Function SVC classification accuracy on val set: 0.94912\n"
     ]
    }
   ],
   "source": [
    "\n",
    "\n",
    "svc_rbf = SVC(kernel='rbf')\n",
    "svc_rbf.fit(X_tr, y_tr)\n",
    "ca = svc_rbf.score(X_tr, y_tr)\n",
    "print('\\nRadial Basis Function SVC classification accuracy on training set: {:.5f}'.format(ca))\n",
    "ca = svc_rbf.score(X_val, y_val)\n",
    "print('Radial Basis Function SVC classification accuracy on val set: {:.5f}'.format(ca))\n",
    "\n"
   ]
  },
  {
   "cell_type": "code",
   "execution_count": 63,
   "metadata": {},
   "outputs": [
    {
     "name": "stdout",
     "output_type": "stream",
     "text": [
      "\n",
      "Radial Basis Function SVC classification accuracy on training set: 0.95475\n",
      "Precision on train: 0.99706\n",
      "Recall on train: 0.81202\n",
      "F1 on train: 0.89508\n",
      "\n",
      "Radial Basis Function SVC classification accuracy on val set: 0.94212\n",
      "Precision on val: 0.99099\n",
      "Recall on val: 0.76977\n",
      "F1 on val: 0.86648\n"
     ]
    }
   ],
   "source": [
    "svc_rbf = SVC(kernel='rbf')\n",
    "svc_rbf.fit(X_tr, y_tr)\n",
    "y_pred = svc_rbf.predict(X_tr)\n",
    "p = precision_score(y_pred=y_pred,y_true=y_tr, pos_label=1)\n",
    "r = recall_score(y_pred=y_pred, y_true=y_tr, pos_label=1)\n",
    "f1 = f1_score(y_pred=y_pred, y_true=y_tr, pos_label=1)\n",
    "ca = svc_rbf.score(X_tr, y_tr)\n",
    "print('\\nRadial Basis Function SVC classification accuracy on training set: {:.5f}'.format(ca))\n",
    "print('Precision on train: {:.5f}'.format(p))\n",
    "print('Recall on train: {:.5f}'.format(r))\n",
    "print('F1 on train: {:.5f}'.format(f1))\n",
    "\n",
    "y_pred = svc_rbf.predict(X_val)\n",
    "p = precision_score(y_pred=y_pred,y_true=y_val, pos_label=1)\n",
    "r = recall_score(y_pred=y_pred, y_true=y_val, pos_label=1)\n",
    "f1 = f1_score(y_pred=y_pred, y_true=y_val, pos_label=1)\n",
    "ca = svc_rbf.score(X_val, y_val)\n",
    "print('\\nRadial Basis Function SVC classification accuracy on val set: {:.5f}'.format(ca))\n",
    "print('Precision on val: {:.5f}'.format(p))\n",
    "print('Recall on val: {:.5f}'.format(r))\n",
    "print('F1 on val: {:.5f}'.format(f1))\n"
   ]
  },
  {
   "cell_type": "code",
   "execution_count": 64,
   "metadata": {},
   "outputs": [
    {
     "name": "stdout",
     "output_type": "stream",
     "text": [
      "\n",
      "Linear SVC classification accuracy on training set: 0.95043\n",
      "Precision on train: 0.99699\n",
      "Recall on train: 0.79382\n",
      "F1 on train: 0.88388\n",
      "\n",
      "Linear SVC classification accuracy on val set: 0.94127\n",
      "Precision on val: 0.99273\n",
      "Recall on val: 0.76487\n",
      "F1 on val: 0.86403\n"
     ]
    }
   ],
   "source": [
    "svc_linear = SVC(kernel='linear')\n",
    "svc_linear.fit(X_tr, y_tr)\n",
    "y_pred = svc_linear.predict(X_tr)\n",
    "p = precision_score(y_pred=y_pred,y_true=y_tr, pos_label=1)\n",
    "r = recall_score(y_pred=y_pred, y_true=y_tr, pos_label=1)\n",
    "f1 = f1_score(y_pred=y_pred, y_true=y_tr, pos_label=1)\n",
    "ca = svc_linear.score(X_tr, y_tr)\n",
    "print('\\nLinear SVC classification accuracy on training set: {:.5f}'.format(ca))\n",
    "print('Precision on train: {:.5f}'.format(p))\n",
    "print('Recall on train: {:.5f}'.format(r))\n",
    "print('F1 on train: {:.5f}'.format(f1))\n",
    "\n",
    "y_pred = svc_linear.predict(X_val)\n",
    "p = precision_score(y_pred=y_pred,y_true=y_val, pos_label=1)\n",
    "r = recall_score(y_pred=y_pred, y_true=y_val, pos_label=1)\n",
    "f1 = f1_score(y_pred=y_pred, y_true=y_val, pos_label=1)\n",
    "ca = svc_linear.score(X_val, y_val)\n",
    "print('\\nLinear SVC classification accuracy on val set: {:.5f}'.format(ca))\n",
    "print('Precision on val: {:.5f}'.format(p))\n",
    "print('Recall on val: {:.5f}'.format(r))\n",
    "print('F1 on val: {:.5f}'.format(f1))"
   ]
  },
  {
   "cell_type": "code",
   "execution_count": 65,
   "metadata": {},
   "outputs": [
    {
     "name": "stdout",
     "output_type": "stream",
     "text": [
      "\n",
      "Poly SVC classification accuracy on training set: 0.95549\n",
      "Precision on train: 0.99824\n",
      "Recall on train: 0.81418\n",
      "F1 on train: 0.89686\n",
      "\n",
      "Poly SVC classification accuracy on val set: 0.94007\n",
      "Precision on val: 0.97281\n",
      "Recall on val: 0.77607\n",
      "F1 on val: 0.86337\n"
     ]
    }
   ],
   "source": [
    "svc_poly = SVC(kernel='poly')\n",
    "svc_poly.fit(X_tr, y_tr)\n",
    "y_pred = svc_poly.predict(X_tr)\n",
    "p = precision_score(y_pred=y_pred,y_true=y_tr, pos_label=1)\n",
    "r = recall_score(y_pred=y_pred, y_true=y_tr, pos_label=1)\n",
    "f1 = f1_score(y_pred=y_pred, y_true=y_tr, pos_label=1)\n",
    "ca = svc_poly.score(X_tr, y_tr)\n",
    "print('\\nPoly SVC classification accuracy on training set: {:.5f}'.format(ca))\n",
    "print('Precision on train: {:.5f}'.format(p))\n",
    "print('Recall on train: {:.5f}'.format(r))\n",
    "print('F1 on train: {:.5f}'.format(f1))\n",
    "\n",
    "y_pred = svc_poly.predict(X_val)\n",
    "p = precision_score(y_pred=y_pred,y_true=y_val, pos_label=1)\n",
    "r = recall_score(y_pred=y_pred, y_true=y_val, pos_label=1)\n",
    "f1 = f1_score(y_pred=y_pred, y_true=y_val, pos_label=1)\n",
    "ca = svc_poly.score(X_val, y_val)\n",
    "print('\\nPoly SVC classification accuracy on val set: {:.5f}'.format(ca))\n",
    "print('Precision on val: {:.5f}'.format(p))\n",
    "print('Recall on val: {:.5f}'.format(r))\n",
    "print('F1 on val: {:.5f}'.format(f1))"
   ]
  },
  {
   "cell_type": "code",
   "execution_count": 15,
   "metadata": {},
   "outputs": [
    {
     "name": "stdout",
     "output_type": "stream",
     "text": [
      "[[0.75601844 0.94075465 0.94075465 0.94007171]\n",
      " [0.94075465 0.94092539 0.94075465 0.94075465]\n",
      " [0.94092539 0.94092539 0.94212054 0.94280348]\n",
      " [0.94075465 0.9419498  0.94263275 0.94348643]]\n"
     ]
    }
   ],
   "source": [
    "# tune SVM rbf\n",
    "C = np.logspace(-2, 1, 4)\n",
    "gamma = np.logspace(-4, -1, 4)\n",
    "score_array = np.zeros((4,4))\n",
    "\n",
    "\n",
    "for i in range(len(C)):\n",
    "    for j in range(len(gamma)):\n",
    "        svc_rbf = SVC(C=C[i], kernel='rbf', gamma=gamma[j])\n",
    "        svc_rbf.fit(X_tr, y_tr)\n",
    "        score_array[i][j] = svc_rbf.score(X_val, y_val)\n",
    "print(score_array)\n"
   ]
  },
  {
   "cell_type": "code",
   "execution_count": 16,
   "metadata": {},
   "outputs": [
    {
     "data": {
      "image/png": "[encoded data removed]",
      "text/plain": [
       "<Figure size 432x288 with 2 Axes>"
      ]
     },
     "metadata": {},
     "output_type": "display_data"
    }
   ],
   "source": [
    "plt.figure()\n",
    "sns.heatmap(score_array, annot=True, xticklabels=C, yticklabels=gamma)\n",
    "plt.ylabel('C')\n",
    "plt.xlabel('gamma')\n",
    "plt.title('Validation classification accuracy for all pairs')\n",
    "plt.show()"
   ]
  },
  {
   "cell_type": "code",
   "execution_count": 66,
   "metadata": {},
   "outputs": [
    {
     "name": "stdout",
     "output_type": "stream",
     "text": [
      "[[0.94092539 0.94075465 0.94041318 0.92760799]\n",
      " [0.94092539 0.94297422 0.94160833 0.9371692 ]\n",
      " [0.9419498  0.94365716 0.93751067 0.93802288]\n",
      " [0.94280348 0.94212054 0.94246201 0.93785214]]\n"
     ]
    }
   ],
   "source": [
    "# tune SVM rbf\n",
    "C = np.logspace(-1, 2, 4)\n",
    "gamma = np.logspace(-2, 1, 4)\n",
    "score_array = np.zeros((4,4))\n",
    "\n",
    "\n",
    "for i in range(len(C)):\n",
    "    for j in range(len(gamma)):\n",
    "        svc_rbf = SVC(C=C[i], kernel='rbf', gamma=gamma[j])\n",
    "        svc_rbf.fit(X_tr, y_tr)\n",
    "        score_array[i][j] = svc_rbf.score(X_val, y_val)\n",
    "print(score_array)"
   ]
  },
  {
   "cell_type": "code",
   "execution_count": 67,
   "metadata": {},
   "outputs": [
    {
     "data": {
      "image/png": "[encoded data removed]",
      "text/plain": [
       "<Figure size 432x288 with 2 Axes>"
      ]
     },
     "metadata": {},
     "output_type": "display_data"
    }
   ],
   "source": [
    "plt.figure()\n",
    "sns.heatmap(score_array, annot=True, xticklabels=C, yticklabels=gamma)\n",
    "plt.ylabel('C')\n",
    "plt.xlabel('gamma')\n",
    "plt.title('Validation classification accuracy for all pairs')\n",
    "plt.show()"
   ]
  },
  {
   "cell_type": "code",
   "execution_count": 68,
   "metadata": {},
   "outputs": [
    {
     "name": "stdout",
     "output_type": "stream",
     "text": [
      "[[0.94075465 0.94075465 0.9371692  0.92760799]\n",
      " [0.94212054 0.94280348 0.94075465 0.9371692 ]\n",
      " [0.94263275 0.94348643 0.94075465 0.93802288]\n",
      " [0.94229128 0.94553526 0.94280348 0.93785214]]\n"
     ]
    }
   ],
   "source": [
    "# tune SVM rbf\n",
    "C = np.logspace(-1, 2, 4)\n",
    "gamma = np.logspace(-2, 1, 4)\n",
    "score_array = np.zeros((4,4))\n",
    "\n",
    "\n",
    "for i in range(len(C)):\n",
    "    for j in range(len(gamma)):\n",
    "        svc_rbf = SVC(C=C[i], kernel='rbf', gamma=gamma[j])\n",
    "        svc_rbf.fit(X_tr, y_tr)\n",
    "        score_array[i][j] = svc_rbf.score(X_val, y_val)\n",
    "print(score_array)"
   ]
  },
  {
   "cell_type": "code",
   "execution_count": 70,
   "metadata": {},
   "outputs": [
    {
     "data": {
      "image/png": "[encoded data removed]",
      "text/plain": [
       "<Figure size 432x288 with 2 Axes>"
      ]
     },
     "metadata": {},
     "output_type": "display_data"
    }
   ],
   "source": [
    "plt.figure()\n",
    "sns.heatmap(score_array, annot=True, xticklabels=gamma, yticklabels=C)\n",
    "plt.ylabel('C')\n",
    "plt.xlabel('gamma')\n",
    "plt.title('Validation classification accuracy for all pairs')\n",
    "plt.show()"
   ]
  },
  {
   "cell_type": "code",
   "execution_count": 83,
   "metadata": {},
   "outputs": [
    {
     "name": "stdout",
     "output_type": "stream",
     "text": [
      "0.9409253884241079\n",
      "0.9409253884241079\n",
      "0.9419498036537477\n",
      "0.9428034830117807\n",
      "0.9412668601673212\n"
     ]
    }
   ],
   "source": [
    "for i in (0.1,1,10,100,1000):\n",
    "    svc_rbf = SVC(C=i, kernel='rbf', gamma=0.001)\n",
    "    svc_rbf.fit(X_tr, y_tr)\n",
    "    print(svc_rbf.score(X_val, y_val))"
   ]
  },
  {
   "cell_type": "code",
   "execution_count": 80,
   "metadata": {},
   "outputs": [],
   "source": [
    "new_score_array = np.append(score_array, [[0.9470718798019464,0.9429742188833874,0.9405839166808947,0.936315519890729]], axis=0)"
   ]
  },
  {
   "cell_type": "code",
   "execution_count": 87,
   "metadata": {},
   "outputs": [
    {
     "data": {
      "text/plain": [
       "array([[0.94092539, 0.94075465, 0.94075465, 0.9371692 , 0.92760799],\n",
       "       [0.94092539, 0.94212054, 0.94280348, 0.94075465, 0.9371692 ],\n",
       "       [0.9419498 , 0.94263275, 0.94348643, 0.94075465, 0.93802288],\n",
       "       [0.94280348, 0.94229128, 0.94553526, 0.94280348, 0.93785214],\n",
       "       [0.94126686, 0.94707188, 0.94297422, 0.94058392, 0.93631552]])"
      ]
     },
     "execution_count": 87,
     "metadata": {},
     "output_type": "execute_result"
    }
   ],
   "source": [
    "n = np.append([[0.9409253884241079],\n",
    "[0.9409253884241079],\n",
    "[0.9419498036537477],\n",
    "[0.9428034830117807],\n",
    "[0.9412668601673212]], new_score_array, axis=1)\n",
    "n"
   ]
  },
  {
   "cell_type": "code",
   "execution_count": 89,
   "metadata": {},
   "outputs": [
    {
     "data": {
      "image/png": "[encoded data removed]",
      "text/plain": [
       "<Figure size 432x288 with 2 Axes>"
      ]
     },
     "metadata": {},
     "output_type": "display_data"
    }
   ],
   "source": [
    "C = np.logspace(-1, 3, 5)\n",
    "gamma = np.logspace(-3, 1, 5)\n",
    "plt.figure()\n",
    "sns.heatmap(n, annot=True, xticklabels=gamma, yticklabels=C)\n",
    "plt.ylabel('C')\n",
    "plt.xlabel('gamma')\n",
    "# plt.title('Validation classification accuracy for all pairs')\n",
    "plt.show()"
   ]
  },
  {
   "cell_type": "code",
   "execution_count": 90,
   "metadata": {},
   "outputs": [
    {
     "name": "stdout",
     "output_type": "stream",
     "text": [
      "\n",
      "Radial Basis Function SVC classification accuracy on training set: 0.97661\n",
      "Precision on train: 0.99788\n",
      "Recall on train: 0.90350\n",
      "F1 on train: 0.94835\n",
      "\n",
      "Radial Basis Function SVC classification accuracy on val set: 0.94707\n",
      "Precision on val: 0.95012\n",
      "Recall on val: 0.82645\n",
      "F1 on val: 0.88398\n"
     ]
    }
   ],
   "source": [
    "svc_rbf = SVC(kernel='rbf', C=1000, gamma=0.01)\n",
    "svc_rbf.fit(X_tr, y_tr)\n",
    "y_pred = svc_rbf.predict(X_tr)\n",
    "p = precision_score(y_pred=y_pred,y_true=y_tr, pos_label=1)\n",
    "r = recall_score(y_pred=y_pred, y_true=y_tr, pos_label=1)\n",
    "f1 = f1_score(y_pred=y_pred, y_true=y_tr, pos_label=1)\n",
    "ca = svc_rbf.score(X_tr, y_tr)\n",
    "print('\\nRadial Basis Function SVC classification accuracy on training set: {:.5f}'.format(ca))\n",
    "print('Precision on train: {:.5f}'.format(p))\n",
    "print('Recall on train: {:.5f}'.format(r))\n",
    "print('F1 on train: {:.5f}'.format(f1))\n",
    "\n",
    "y_pred = svc_rbf.predict(X_val)\n",
    "p = precision_score(y_pred=y_pred,y_true=y_val, pos_label=1)\n",
    "r = recall_score(y_pred=y_pred, y_true=y_val, pos_label=1)\n",
    "f1 = f1_score(y_pred=y_pred, y_true=y_val, pos_label=1)\n",
    "ca = svc_rbf.score(X_val, y_val)\n",
    "print('\\nRadial Basis Function SVC classification accuracy on val set: {:.5f}'.format(ca))\n",
    "print('Precision on val: {:.5f}'.format(p))\n",
    "print('Recall on val: {:.5f}'.format(r))\n",
    "print('F1 on val: {:.5f}'.format(f1))"
   ]
  },
  {
   "cell_type": "code",
   "execution_count": 27,
   "metadata": {},
   "outputs": [
    {
     "name": "stdout",
     "output_type": "stream",
     "text": [
      "\n",
      "MLP classification accuracy on training set: 0.95549\n",
      "Precision on train: 0.97884\n",
      "Recall on train: 0.83070\n",
      "\n",
      "MLP classification accuracy on validation set: 0.94810\n",
      "Precision on val: 0.96449\n",
      "Recall on val: 0.81735\n"
     ]
    }
   ],
   "source": [
    "mlp = MLPClassifier(solver='lbfgs', alpha=1e-5, hidden_layer_sizes=(5,2), random_state=201902)\n",
    "mlp.fit(X_tr, y_tr)\n",
    "y_pred = mlp.predict(X_tr)\n",
    "ca = mlp.score(X_tr, y_tr)\n",
    "print('\\nMLP classification accuracy on training set: {:.5f}'.format(ca))\n",
    "p = precision_score(y_pred=y_pred,y_true=y_tr, pos_label=1)\n",
    "r = recall_score(y_pred=y_pred, y_true=y_tr, pos_label=1)\n",
    "print('Precision on train: {:.5f}'.format(p))\n",
    "print('Recall on train: {:.5f}'.format(r))\n",
    "\n",
    "y_pred = mlp.predict(X_val)\n",
    "ca = mlp.score(X_val, y_val)\n",
    "print('\\nMLP classification accuracy on validation set: {:.5f}'.format(ca))\n",
    "p = precision_score(y_pred=y_pred,y_true=y_val, pos_label=1)\n",
    "r = recall_score(y_pred=y_pred, y_true=y_val, pos_label=1)\n",
    "print('Precision on val: {:.5f}'.format(p))\n",
    "print('Recall on val: {:.5f}'.format(r))"
   ]
  },
  {
   "cell_type": "code",
   "execution_count": null,
   "metadata": {},
   "outputs": [],
   "source": []
  },
  {
   "cell_type": "code",
   "execution_count": 28,
   "metadata": {},
   "outputs": [
    {
     "name": "stdout",
     "output_type": "stream",
     "text": [
      "Precision on val: 0.96809\n",
      "Recall on val: 0.79986\n"
     ]
    }
   ],
   "source": [
    "y_pred = mlp.predict(X_test)\n",
    "p = precision_score(y_pred=y_pred,y_true=y_test, pos_label=1)\n",
    "r = recall_score(y_pred=y_pred, y_true=y_test, pos_label=1)\n",
    "print('Precision on val: {:.5f}'.format(p))\n",
    "print('Recall on val: {:.5f}'.format(r))"
   ]
  },
  {
   "cell_type": "code",
   "execution_count": 23,
   "metadata": {},
   "outputs": [
    {
     "name": "stdout",
     "output_type": "stream",
     "text": [
      "Precision on train: 0.99502\n",
      "Recall on train: 0.90876\n",
      "Precision on val: 0.92242\n",
      "Recall on val: 0.83205\n"
     ]
    }
   ],
   "source": [
    "mlp = MLPClassifier(solver='lbfgs', alpha=1e-5, hidden_layer_sizes=(30,30,20), random_state=2019)\n",
    "mlp.fit(X_tr, y_tr)\n",
    "y_pred = mlp.predict(X_tr)\n",
    "p = precision_score(y_pred=y_pred,y_true=y_tr, pos_label=1)\n",
    "r = recall_score(y_pred=y_pred, y_true=y_tr, pos_label=1)\n",
    "print('Precision on train: {:.5f}'.format(p))\n",
    "print('Recall on train: {:.5f}'.format(r))\n",
    "\n",
    "y_pred = mlp.predict(X_val)\n",
    "p = precision_score(y_pred=y_pred,y_true=y_val, pos_label=1)\n",
    "r = recall_score(y_pred=y_pred, y_true=y_val, pos_label=1)\n",
    "print('Precision on val: {:.5f}'.format(p))\n",
    "print('Recall on val: {:.5f}'.format(r))"
   ]
  },
  {
   "cell_type": "code",
   "execution_count": 21,
   "metadata": {},
   "outputs": [
    {
     "name": "stdout",
     "output_type": "stream",
     "text": [
      "[[0.94570599 0.94946218 0.94536452 0.94365716]\n",
      " [0.94399863 0.9438279  0.93768141 0.94348643]\n",
      " [0.94434011 0.94365716 0.94041318 0.94246201]\n",
      " [0.94399863 0.94297422 0.94280348 0.93887656]\n",
      " [0.94348643 0.94229128 0.94160833 0.94229128]]\n"
     ]
    }
   ],
   "source": [
    "hidden_dim = np.array([10,50,100,150,200])\n",
    "\n",
    "n_layer = np.array([2,3,5,10])\n",
    "\n",
    "\n",
    "score_array = np.zeros((5,4))\n",
    "for h in range(len(hidden_dim)):\n",
    "    for n in range(len(n_layer)):\n",
    "        h_l_z = np.repeat(hidden_dim[h], n_layer[n])\n",
    "        mlp = MLPClassifier(solver='lbfgs', alpha=1e-5, hidden_layer_sizes=h_l_z, random_state=201902)\n",
    "        mlp.fit(X_tr, y_tr)\n",
    "        score_array[h][n] = mlp.score(X_val, y_val)\n",
    "\n",
    "    \n",
    "print(score_array)"
   ]
  },
  {
   "cell_type": "code",
   "execution_count": 22,
   "metadata": {},
   "outputs": [
    {
     "data": {
      "image/png": "[encoded data removed]",
      "text/plain": [
       "<Figure size 432x288 with 2 Axes>"
      ]
     },
     "metadata": {},
     "output_type": "display_data"
    }
   ],
   "source": [
    "plt.figure()\n",
    "sns.heatmap(score_array, annot=True, xticklabels=hidden_dim, yticklabels=n_layer)\n",
    "plt.ylabel('Hidden dim')\n",
    "plt.xlabel('Num of Layer')\n",
    "plt.title('Validation classification accuracy for all pairs')\n",
    "plt.show()"
   ]
  },
  {
   "cell_type": "code",
   "execution_count": 91,
   "metadata": {},
   "outputs": [
    {
     "name": "stdout",
     "output_type": "stream",
     "text": [
      "[[0.94792556 0.93973024 0.9504866  0.94024244]\n",
      " [0.94792556 0.94946218 0.94536452 0.94365716]\n",
      " [0.94519379 0.9438279  0.93768141 0.94348643]\n",
      " [0.94416937 0.94365716 0.94041318 0.94246201]\n",
      " [0.94280348 0.94297422 0.94280348 0.93887656]]\n"
     ]
    }
   ],
   "source": [
    "hidden_dim = np.array([5,10,50,100,150])\n",
    "\n",
    "n_layer = np.array([1,3,5,10])\n",
    "\n",
    "\n",
    "score_array = np.zeros((5,4))\n",
    "for h in range(len(hidden_dim)):\n",
    "    for n in range(len(n_layer)):\n",
    "        h_l_z = np.repeat(hidden_dim[h], n_layer[n])\n",
    "        mlp = MLPClassifier(solver='lbfgs', alpha=1e-5, hidden_layer_sizes=h_l_z, random_state=201902)\n",
    "        mlp.fit(X_tr, y_tr)\n",
    "        score_array[h][n] = mlp.score(X_val, y_val)\n",
    "\n",
    "    \n",
    "print(score_array)"
   ]
  },
  {
   "cell_type": "code",
   "execution_count": 99,
   "metadata": {},
   "outputs": [
    {
     "data": {
      "image/png": "[encoded data removed]",
      "text/plain": [
       "<Figure size 432x288 with 2 Axes>"
      ]
     },
     "metadata": {},
     "output_type": "display_data"
    }
   ],
   "source": [
    "plt.figure()\n",
    "sns.heatmap(score_array, annot=True, xticklabels=n_layer, yticklabels=hidden_dim)\n",
    "plt.ylabel('Hidden dim')\n",
    "plt.xlabel('Num of Layer')\n",
    "# plt.title('Validation classification accuracy for all pairs')\n",
    "plt.show()"
   ]
  },
  {
   "cell_type": "code",
   "execution_count": 100,
   "metadata": {},
   "outputs": [
    {
     "data": {
      "text/plain": [
       "0.9416083319105344"
      ]
     },
     "execution_count": 100,
     "metadata": {},
     "output_type": "execute_result"
    }
   ],
   "source": [
    "mlp = MLPClassifier(solver='lbfgs', alpha=1e-5, hidden_layer_sizes=(3,3,3,3,3), random_state=2019)\n",
    "mlp.fit(X_tr, y_tr)\n",
    "mlp.score(X_val, y_val)"
   ]
  },
  {
   "cell_type": "code",
   "execution_count": 102,
   "metadata": {},
   "outputs": [
    {
     "data": {
      "text/plain": [
       "0.9368277275055489"
      ]
     },
     "execution_count": 102,
     "metadata": {},
     "output_type": "execute_result"
    }
   ],
   "source": [
    "mlp = MLPClassifier(solver='lbfgs', alpha=1e-5, hidden_layer_sizes=(3,3,3,3,3,3,3,3,3,3), random_state=2019)\n",
    "mlp.fit(X_tr, y_tr)\n",
    "mlp.score(X_val, y_val)"
   ]
  },
  {
   "cell_type": "code",
   "execution_count": 103,
   "metadata": {},
   "outputs": [
    {
     "data": {
      "text/plain": [
       "0.9412668601673212"
      ]
     },
     "execution_count": 103,
     "metadata": {},
     "output_type": "execute_result"
    }
   ],
   "source": [
    "mlp = MLPClassifier(solver='lbfgs', alpha=1e-5, hidden_layer_sizes=(3,3,3), random_state=2019)\n",
    "mlp.fit(X_tr, y_tr)\n",
    "mlp.score(X_val, y_val)"
   ]
  },
  {
   "cell_type": "code",
   "execution_count": 104,
   "metadata": {},
   "outputs": [
    {
     "data": {
      "text/plain": [
       "0.9504865972340789"
      ]
     },
     "execution_count": 104,
     "metadata": {},
     "output_type": "execute_result"
    }
   ],
   "source": [
    "mlp = MLPClassifier(solver='lbfgs', alpha=1e-5, hidden_layer_sizes=(3), random_state=2019)\n",
    "mlp.fit(X_tr, y_tr)\n",
    "mlp.score(X_val, y_val)"
   ]
  },
  {
   "cell_type": "code",
   "execution_count": 109,
   "metadata": {},
   "outputs": [],
   "source": [
    "n = np.append([[0.9504865972340789,0.9412668601673212,0.9416083319105344,0.9368277275055489]],score_array, axis=0)"
   ]
  },
  {
   "cell_type": "code",
   "execution_count": 110,
   "metadata": {},
   "outputs": [
    {
     "data": {
      "image/png": "[encoded data removed]",
      "text/plain": [
       "<Figure size 432x288 with 2 Axes>"
      ]
     },
     "metadata": {},
     "output_type": "display_data"
    }
   ],
   "source": [
    "hidden_dim = np.array([3,5,10,50,100,150])\n",
    "plt.figure()\n",
    "sns.heatmap(n, annot=True, xticklabels=n_layer, yticklabels=hidden_dim)\n",
    "plt.ylabel('Hidden dim')\n",
    "plt.xlabel('Num of Layer')\n",
    "# plt.title('Validation classification accuracy for all pairs')\n",
    "plt.show()"
   ]
  },
  {
   "cell_type": "code",
   "execution_count": 111,
   "metadata": {},
   "outputs": [
    {
     "name": "stdout",
     "output_type": "stream",
     "text": [
      "\n",
      "MLP classification accuracy on training set: 0.96250\n",
      "Precision on train: 0.98537\n",
      "Recall on train: 0.85489\n",
      "F1 on train: 0.91550\n",
      "\n",
      "MLP classification accuracy on validation set: 0.95049\n",
      "Precision on val: 0.97027\n",
      "Recall on val: 0.82225\n",
      "F1 on val: 0.89015\n"
     ]
    }
   ],
   "source": [
    "mlp = MLPClassifier(solver='lbfgs', alpha=1e-5, hidden_layer_sizes=(5,5,5,5,5), random_state=201902)\n",
    "mlp.fit(X_tr, y_tr)\n",
    "y_pred = mlp.predict(X_tr)\n",
    "ca = mlp.score(X_tr, y_tr)\n",
    "print('\\nMLP classification accuracy on training set: {:.5f}'.format(ca))\n",
    "p = precision_score(y_pred=y_pred,y_true=y_tr, pos_label=1)\n",
    "r = recall_score(y_pred=y_pred, y_true=y_tr, pos_label=1)\n",
    "f1 = f1_score(y_pred=y_pred, y_true=y_tr, pos_label=1)\n",
    "print('Precision on train: {:.5f}'.format(p))\n",
    "print('Recall on train: {:.5f}'.format(r))\n",
    "print('F1 on train: {:.5f}'.format(f1))\n",
    "\n",
    "y_pred = mlp.predict(X_val)\n",
    "ca = mlp.score(X_val, y_val)\n",
    "print('\\nMLP classification accuracy on validation set: {:.5f}'.format(ca))\n",
    "p = precision_score(y_pred=y_pred,y_true=y_val, pos_label=1)\n",
    "r = recall_score(y_pred=y_pred, y_true=y_val, pos_label=1)\n",
    "f1 = f1_score(y_pred=y_pred, y_true=y_val, pos_label=1)\n",
    "print('Precision on val: {:.5f}'.format(p))\n",
    "print('Recall on val: {:.5f}'.format(r))\n",
    "print('F1 on val: {:.5f}'.format(f1))"
   ]
  },
  {
   "cell_type": "code",
   "execution_count": null,
   "metadata": {},
   "outputs": [],
   "source": []
  }
 ],
 "metadata": {
  "kernelspec": {
   "display_name": "Python 3",
   "language": "python",
   "name": "python3"
  },
  "language_info": {
   "codemirror_mode": {
    "name": "ipython",
    "version": 3
   },
   "file_extension": ".py",
   "mimetype": "text/x-python",
   "name": "python",
   "nbconvert_exporter": "python",
   "pygments_lexer": "ipython3",
   "version": "3.6.8"
  }
 },
 "nbformat": 4,
 "nbformat_minor": 2
}
