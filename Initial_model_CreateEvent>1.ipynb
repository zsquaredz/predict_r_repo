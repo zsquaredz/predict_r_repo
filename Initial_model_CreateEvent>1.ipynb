{
 "cells": [
  {
   "cell_type": "code",
   "execution_count": 1,
   "metadata": {},
   "outputs": [
    {
     "name": "stderr",
     "output_type": "stream",
     "text": [
      "/usr/lib64/python3.4/site-packages/sklearn/cross_validation.py:41: DeprecationWarning: This module was deprecated in version 0.18 in favor of the model_selection module into which all the refactored classes and functions are moved. Also note that the interface of the new CV iterators are different from that of this module. This module will be removed in 0.20.\n",
      "  \"This module will be removed in 0.20.\", DeprecationWarning)\n"
     ]
    }
   ],
   "source": [
    "from __future__ import print_function, division\n",
    "%matplotlib inline\n",
    "\n",
    "# Your code goes here\n",
    "import os\n",
    "import numpy as np \n",
    "import pandas as pd\n",
    "import matplotlib.pyplot as plt\n",
    "import seaborn as sns\n",
    "from sklearn.metrics import accuracy_score, log_loss\n",
    "from sklearn.linear_model import LogisticRegression, LogisticRegressionCV\n",
    "from sklearn.preprocessing import StandardScaler\n",
    "from sklearn.cross_validation import KFold\n",
    "from sklearn.ensemble import RandomForestClassifier\n",
    "from sklearn.svm import SVC\n",
    "from sklearn.model_selection import train_test_split\n",
    "from sklearn.metrics import average_precision_score, recall_score, precision_score, f1_score, confusion_matrix"
   ]
  },
  {
   "cell_type": "code",
   "execution_count": 2,
   "metadata": {},
   "outputs": [],
   "source": [
    "dataset = pd.read_csv('test_createEvent.csv',delimiter = ',')\n",
    "dataset = dataset.loc[dataset['proj_span'] >= 2.0]\n",
    "# dataset1 = pd.read_csv('test_createEvent_12_18.csv',delimiter = ',') # this one does not take care the CRAN before GH date"
   ]
  },
  {
   "cell_type": "code",
   "execution_count": 3,
   "metadata": {},
   "outputs": [
    {
     "data": {
      "text/plain": [
       "(9709, 23)"
      ]
     },
     "execution_count": 3,
     "metadata": {},
     "output_type": "execute_result"
    }
   ],
   "source": [
    "X = (dataset.drop('class', axis=1)).drop('id', axis=1)\n",
    "y = dataset['class']\n",
    "dataset.shape"
   ]
  },
  {
   "cell_type": "code",
   "execution_count": null,
   "metadata": {},
   "outputs": [],
   "source": []
  },
  {
   "cell_type": "code",
   "execution_count": 4,
   "metadata": {},
   "outputs": [
    {
     "data": {
      "text/html": [
       "<div>\n",
       "<style scoped>\n",
       "    .dataframe tbody tr th:only-of-type {\n",
       "        vertical-align: middle;\n",
       "    }\n",
       "\n",
       "    .dataframe tbody tr th {\n",
       "        vertical-align: top;\n",
       "    }\n",
       "\n",
       "    .dataframe thead th {\n",
       "        text-align: right;\n",
       "    }\n",
       "</style>\n",
       "<table border=\"1\" class=\"dataframe\">\n",
       "  <thead>\n",
       "    <tr style=\"text-align: right;\">\n",
       "      <th></th>\n",
       "      <th>activity_intensity</th>\n",
       "      <th>class</th>\n",
       "      <th>final_teamsize</th>\n",
       "      <th>first_quater_teamsize</th>\n",
       "      <th>normalized_proj_span</th>\n",
       "      <th>num_CommitComment</th>\n",
       "      <th>num_Create</th>\n",
       "      <th>num_Delete</th>\n",
       "      <th>num_Download</th>\n",
       "      <th>num_Fork</th>\n",
       "      <th>...</th>\n",
       "      <th>num_Issues</th>\n",
       "      <th>num_Member</th>\n",
       "      <th>num_Public</th>\n",
       "      <th>num_PullRequest</th>\n",
       "      <th>num_PullRequestReviewComment</th>\n",
       "      <th>num_Push</th>\n",
       "      <th>num_Release</th>\n",
       "      <th>num_TeamAdd</th>\n",
       "      <th>num_Watch</th>\n",
       "      <th>proj_span</th>\n",
       "    </tr>\n",
       "  </thead>\n",
       "  <tbody>\n",
       "    <tr>\n",
       "      <th>count</th>\n",
       "      <td>9709.000000</td>\n",
       "      <td>9709.000000</td>\n",
       "      <td>9709.000000</td>\n",
       "      <td>9709.000000</td>\n",
       "      <td>9709.000000</td>\n",
       "      <td>9709.000000</td>\n",
       "      <td>9709.000000</td>\n",
       "      <td>9709.000000</td>\n",
       "      <td>9709.000000</td>\n",
       "      <td>9709.000000</td>\n",
       "      <td>...</td>\n",
       "      <td>9709.000000</td>\n",
       "      <td>9709.000000</td>\n",
       "      <td>9709.000000</td>\n",
       "      <td>9709.000000</td>\n",
       "      <td>9709.000000</td>\n",
       "      <td>9709.000000</td>\n",
       "      <td>9709.000000</td>\n",
       "      <td>9709.000000</td>\n",
       "      <td>9709.000000</td>\n",
       "      <td>9709.000000</td>\n",
       "    </tr>\n",
       "    <tr>\n",
       "      <th>mean</th>\n",
       "      <td>0.779384</td>\n",
       "      <td>0.135853</td>\n",
       "      <td>7.098156</td>\n",
       "      <td>6.892471</td>\n",
       "      <td>0.095892</td>\n",
       "      <td>0.113606</td>\n",
       "      <td>1.757133</td>\n",
       "      <td>0.163457</td>\n",
       "      <td>0.013905</td>\n",
       "      <td>4.740550</td>\n",
       "      <td>...</td>\n",
       "      <td>1.166135</td>\n",
       "      <td>0.090226</td>\n",
       "      <td>0.006798</td>\n",
       "      <td>1.932537</td>\n",
       "      <td>0.476465</td>\n",
       "      <td>13.948295</td>\n",
       "      <td>0.054795</td>\n",
       "      <td>0.004738</td>\n",
       "      <td>1.066021</td>\n",
       "      <td>175.003502</td>\n",
       "    </tr>\n",
       "    <tr>\n",
       "      <th>std</th>\n",
       "      <td>1.517324</td>\n",
       "      <td>0.342650</td>\n",
       "      <td>402.884139</td>\n",
       "      <td>402.887401</td>\n",
       "      <td>0.166633</td>\n",
       "      <td>1.784129</td>\n",
       "      <td>2.785109</td>\n",
       "      <td>1.211451</td>\n",
       "      <td>0.589980</td>\n",
       "      <td>390.656206</td>\n",
       "      <td>...</td>\n",
       "      <td>16.881751</td>\n",
       "      <td>0.504712</td>\n",
       "      <td>0.157739</td>\n",
       "      <td>52.139998</td>\n",
       "      <td>26.633173</td>\n",
       "      <td>39.319484</td>\n",
       "      <td>0.596036</td>\n",
       "      <td>0.078473</td>\n",
       "      <td>10.436935</td>\n",
       "      <td>304.105835</td>\n",
       "    </tr>\n",
       "    <tr>\n",
       "      <th>min</th>\n",
       "      <td>0.001577</td>\n",
       "      <td>0.000000</td>\n",
       "      <td>1.000000</td>\n",
       "      <td>0.000000</td>\n",
       "      <td>0.001096</td>\n",
       "      <td>0.000000</td>\n",
       "      <td>1.000000</td>\n",
       "      <td>0.000000</td>\n",
       "      <td>0.000000</td>\n",
       "      <td>0.000000</td>\n",
       "      <td>...</td>\n",
       "      <td>0.000000</td>\n",
       "      <td>0.000000</td>\n",
       "      <td>0.000000</td>\n",
       "      <td>0.000000</td>\n",
       "      <td>0.000000</td>\n",
       "      <td>0.000000</td>\n",
       "      <td>0.000000</td>\n",
       "      <td>0.000000</td>\n",
       "      <td>0.000000</td>\n",
       "      <td>2.000000</td>\n",
       "    </tr>\n",
       "    <tr>\n",
       "      <th>25%</th>\n",
       "      <td>0.060606</td>\n",
       "      <td>0.000000</td>\n",
       "      <td>1.000000</td>\n",
       "      <td>1.000000</td>\n",
       "      <td>0.004384</td>\n",
       "      <td>0.000000</td>\n",
       "      <td>1.000000</td>\n",
       "      <td>0.000000</td>\n",
       "      <td>0.000000</td>\n",
       "      <td>0.000000</td>\n",
       "      <td>...</td>\n",
       "      <td>0.000000</td>\n",
       "      <td>0.000000</td>\n",
       "      <td>0.000000</td>\n",
       "      <td>0.000000</td>\n",
       "      <td>0.000000</td>\n",
       "      <td>2.000000</td>\n",
       "      <td>0.000000</td>\n",
       "      <td>0.000000</td>\n",
       "      <td>0.000000</td>\n",
       "      <td>8.000000</td>\n",
       "    </tr>\n",
       "    <tr>\n",
       "      <th>50%</th>\n",
       "      <td>0.225806</td>\n",
       "      <td>0.000000</td>\n",
       "      <td>1.000000</td>\n",
       "      <td>1.000000</td>\n",
       "      <td>0.024658</td>\n",
       "      <td>0.000000</td>\n",
       "      <td>1.000000</td>\n",
       "      <td>0.000000</td>\n",
       "      <td>0.000000</td>\n",
       "      <td>0.000000</td>\n",
       "      <td>...</td>\n",
       "      <td>0.000000</td>\n",
       "      <td>0.000000</td>\n",
       "      <td>0.000000</td>\n",
       "      <td>0.000000</td>\n",
       "      <td>0.000000</td>\n",
       "      <td>5.000000</td>\n",
       "      <td>0.000000</td>\n",
       "      <td>0.000000</td>\n",
       "      <td>0.000000</td>\n",
       "      <td>45.000000</td>\n",
       "    </tr>\n",
       "    <tr>\n",
       "      <th>75%</th>\n",
       "      <td>0.833333</td>\n",
       "      <td>0.000000</td>\n",
       "      <td>2.000000</td>\n",
       "      <td>2.000000</td>\n",
       "      <td>0.109041</td>\n",
       "      <td>0.000000</td>\n",
       "      <td>2.000000</td>\n",
       "      <td>0.000000</td>\n",
       "      <td>0.000000</td>\n",
       "      <td>0.000000</td>\n",
       "      <td>...</td>\n",
       "      <td>0.000000</td>\n",
       "      <td>0.000000</td>\n",
       "      <td>0.000000</td>\n",
       "      <td>0.000000</td>\n",
       "      <td>0.000000</td>\n",
       "      <td>13.000000</td>\n",
       "      <td>0.000000</td>\n",
       "      <td>0.000000</td>\n",
       "      <td>0.000000</td>\n",
       "      <td>199.000000</td>\n",
       "    </tr>\n",
       "    <tr>\n",
       "      <th>max</th>\n",
       "      <td>27.013793</td>\n",
       "      <td>1.000000</td>\n",
       "      <td>39666.000000</td>\n",
       "      <td>39666.000000</td>\n",
       "      <td>1.237260</td>\n",
       "      <td>122.000000</td>\n",
       "      <td>98.000000</td>\n",
       "      <td>48.000000</td>\n",
       "      <td>45.000000</td>\n",
       "      <td>38489.000000</td>\n",
       "      <td>...</td>\n",
       "      <td>1450.000000</td>\n",
       "      <td>30.000000</td>\n",
       "      <td>13.000000</td>\n",
       "      <td>4353.000000</td>\n",
       "      <td>2556.000000</td>\n",
       "      <td>1894.000000</td>\n",
       "      <td>29.000000</td>\n",
       "      <td>2.000000</td>\n",
       "      <td>593.000000</td>\n",
       "      <td>2258.000000</td>\n",
       "    </tr>\n",
       "  </tbody>\n",
       "</table>\n",
       "<p>8 rows × 22 columns</p>\n",
       "</div>"
      ],
      "text/plain": [
       "       activity_intensity        class  final_teamsize  first_quater_teamsize  \\\n",
       "count         9709.000000  9709.000000     9709.000000            9709.000000   \n",
       "mean             0.779384     0.135853        7.098156               6.892471   \n",
       "std              1.517324     0.342650      402.884139             402.887401   \n",
       "min              0.001577     0.000000        1.000000               0.000000   \n",
       "25%              0.060606     0.000000        1.000000               1.000000   \n",
       "50%              0.225806     0.000000        1.000000               1.000000   \n",
       "75%              0.833333     0.000000        2.000000               2.000000   \n",
       "max             27.013793     1.000000    39666.000000           39666.000000   \n",
       "\n",
       "       normalized_proj_span  num_CommitComment   num_Create   num_Delete  \\\n",
       "count           9709.000000        9709.000000  9709.000000  9709.000000   \n",
       "mean               0.095892           0.113606     1.757133     0.163457   \n",
       "std                0.166633           1.784129     2.785109     1.211451   \n",
       "min                0.001096           0.000000     1.000000     0.000000   \n",
       "25%                0.004384           0.000000     1.000000     0.000000   \n",
       "50%                0.024658           0.000000     1.000000     0.000000   \n",
       "75%                0.109041           0.000000     2.000000     0.000000   \n",
       "max                1.237260         122.000000    98.000000    48.000000   \n",
       "\n",
       "       num_Download      num_Fork     ...        num_Issues   num_Member  \\\n",
       "count   9709.000000   9709.000000     ...       9709.000000  9709.000000   \n",
       "mean       0.013905      4.740550     ...          1.166135     0.090226   \n",
       "std        0.589980    390.656206     ...         16.881751     0.504712   \n",
       "min        0.000000      0.000000     ...          0.000000     0.000000   \n",
       "25%        0.000000      0.000000     ...          0.000000     0.000000   \n",
       "50%        0.000000      0.000000     ...          0.000000     0.000000   \n",
       "75%        0.000000      0.000000     ...          0.000000     0.000000   \n",
       "max       45.000000  38489.000000     ...       1450.000000    30.000000   \n",
       "\n",
       "        num_Public  num_PullRequest  num_PullRequestReviewComment  \\\n",
       "count  9709.000000      9709.000000                   9709.000000   \n",
       "mean      0.006798         1.932537                      0.476465   \n",
       "std       0.157739        52.139998                     26.633173   \n",
       "min       0.000000         0.000000                      0.000000   \n",
       "25%       0.000000         0.000000                      0.000000   \n",
       "50%       0.000000         0.000000                      0.000000   \n",
       "75%       0.000000         0.000000                      0.000000   \n",
       "max      13.000000      4353.000000                   2556.000000   \n",
       "\n",
       "          num_Push  num_Release  num_TeamAdd    num_Watch    proj_span  \n",
       "count  9709.000000  9709.000000  9709.000000  9709.000000  9709.000000  \n",
       "mean     13.948295     0.054795     0.004738     1.066021   175.003502  \n",
       "std      39.319484     0.596036     0.078473    10.436935   304.105835  \n",
       "min       0.000000     0.000000     0.000000     0.000000     2.000000  \n",
       "25%       2.000000     0.000000     0.000000     0.000000     8.000000  \n",
       "50%       5.000000     0.000000     0.000000     0.000000    45.000000  \n",
       "75%      13.000000     0.000000     0.000000     0.000000   199.000000  \n",
       "max    1894.000000    29.000000     2.000000   593.000000  2258.000000  \n",
       "\n",
       "[8 rows x 22 columns]"
      ]
     },
     "execution_count": 4,
     "metadata": {},
     "output_type": "execute_result"
    }
   ],
   "source": [
    "dataset.describe()"
   ]
  },
  {
   "cell_type": "code",
   "execution_count": null,
   "metadata": {},
   "outputs": [],
   "source": []
  },
  {
   "cell_type": "code",
   "execution_count": 5,
   "metadata": {},
   "outputs": [],
   "source": [
    "X_tr, X_test, y_tr, y_test = train_test_split(X, y, test_size=0.3, random_state=20190101)"
   ]
  },
  {
   "cell_type": "code",
   "execution_count": 6,
   "metadata": {},
   "outputs": [
    {
     "data": {
      "image/png": "[encoded data removed]",
      "text/plain": [
       "<Figure size 864x360 with 1 Axes>"
      ]
     },
     "metadata": {},
     "output_type": "display_data"
    }
   ],
   "source": [
    "plt.figure(figsize=(12,5))\n",
    "plt.subplot(1,2,1)\n",
    "ax1 = sns.countplot(x='class', data=dataset)\n",
    "ax1.set_xticklabels(['not Success', 'Success'])\n",
    "plt.title('Dataset with CreateEvent in beginning')\n",
    "# ax2 = plt.subplot(1,2,2)\n",
    "# sns.countplot(x='class', data=dataset1)\n",
    "# ax2.set_xticklabels(['not Success', 'Success'])\n",
    "# plt.title('Dataset don\\'t care CRAN before GH')\n",
    "plt.show()"
   ]
  },
  {
   "cell_type": "code",
   "execution_count": 7,
   "metadata": {},
   "outputs": [
    {
     "name": "stdout",
     "output_type": "stream",
     "text": [
      "Classification accuracy of the LogisticRegression classifier on training set: 0.86374\n",
      "Precision on train: 0.40310\n",
      "Recall on train: 0.05771\n",
      "\n",
      "Classification accuracy of the LogisticRegression classifier on test set: 0.85410\n",
      "Precision on test: 0.44444\n",
      "Recall on test: 0.06699\n"
     ]
    },
    {
     "data": {
      "text/plain": [
       "array([[2460,   35],\n",
       "       [ 390,   28]])"
      ]
     },
     "execution_count": 7,
     "metadata": {},
     "output_type": "execute_result"
    }
   ],
   "source": [
    "lr = LogisticRegression(solver='lbfgs')\n",
    "lr.fit(X_tr, y_tr)\n",
    "ca = lr.score(X_tr, y_tr)\n",
    "print('Classification accuracy of the LogisticRegression classifier on training set: {:.5f}'.format(ca))\n",
    "y_pred = lr.predict(X_tr)\n",
    "p = precision_score(y_pred=y_pred,y_true=y_tr, pos_label=1)\n",
    "r = recall_score(y_pred=y_pred, y_true=y_tr, pos_label=1)\n",
    "print('Precision on train: {:.5f}'.format(p))\n",
    "print('Recall on train: {:.5f}'.format(r))\n",
    "ca = lr.score(X_test, y_test)\n",
    "y_pred = lr.predict(X_test)\n",
    "p = precision_score(y_pred=y_pred,y_true=y_test, pos_label=1)\n",
    "r = recall_score(y_pred=y_pred, y_true=y_test, pos_label=1)\n",
    "print('\\nClassification accuracy of the LogisticRegression classifier on test set: {:.5f}'.format(ca))\n",
    "print('Precision on test: {:.5f}'.format(p))\n",
    "print('Recall on test: {:.5f}'.format(r))\n",
    "confusion_matrix(y_pred=y_pred, y_true=y_test)"
   ]
  },
  {
   "cell_type": "code",
   "execution_count": 8,
   "metadata": {},
   "outputs": [
    {
     "name": "stdout",
     "output_type": "stream",
     "text": [
      "[[-9.16030633e-01 -3.96913434e-01  1.59664925e-01  3.90249257e-07\n",
      "   1.37347282e-02  2.33838684e-01  1.63248321e-01 -5.33269388e-02\n",
      "  -1.24289769e-01  2.45442398e-02  6.94274331e-02 -5.25172390e-02\n",
      "  -6.26657191e-02 -1.84170971e-02  4.14015883e-02 -3.64768772e-02\n",
      "  -1.36222072e-02  1.37639613e-01 -2.94807354e-03  2.79068145e-01\n",
      "   7.12204894e-04]]\n",
      "[-1.3275112]\n"
     ]
    }
   ],
   "source": [
    "# display coef for logistic regression model\n",
    "print(lr.coef_)\n",
    "print(lr.intercept_)"
   ]
  },
  {
   "cell_type": "code",
   "execution_count": 9,
   "metadata": {},
   "outputs": [],
   "source": [
    "def plot_confusion_matrix(cm, classes=None, title='Confusion matrix'):\n",
    "    \"\"\"Plots a confusion matrix.\"\"\"\n",
    "    if classes is not None:\n",
    "        sns.heatmap(cm, xticklabels=classes, yticklabels=classes, vmin=0., vmax=1., annot=True)\n",
    "    else:\n",
    "        sns.heatmap(cm, vmin=0., vmax=1.)\n",
    "    plt.title(title)\n",
    "    plt.ylabel('True label')\n",
    "    plt.xlabel('Predicted label')"
   ]
  },
  {
   "cell_type": "code",
   "execution_count": 10,
   "metadata": {},
   "outputs": [
    {
     "data": {
      "image/png": "[encoded data removed]",
      "text/plain": [
       "<Figure size 432x288 with 2 Axes>"
      ]
     },
     "metadata": {},
     "output_type": "display_data"
    }
   ],
   "source": [
    "cm = confusion_matrix(y_pred=y_pred, y_true=y_test)\n",
    "# retrive the normalized version of cm\n",
    "cm_norm = cm/cm.sum(axis=1)[:, np.newaxis]\n",
    "\n",
    "plt.figure()\n",
    "plot_confusion_matrix(cm_norm, classes=['unsuccess','success'])\n",
    "plt.show()"
   ]
  },
  {
   "cell_type": "code",
   "execution_count": null,
   "metadata": {},
   "outputs": [],
   "source": []
  },
  {
   "cell_type": "code",
   "execution_count": null,
   "metadata": {},
   "outputs": [],
   "source": []
  },
  {
   "cell_type": "code",
   "execution_count": null,
   "metadata": {},
   "outputs": [],
   "source": []
  },
  {
   "cell_type": "code",
   "execution_count": 11,
   "metadata": {},
   "outputs": [],
   "source": [
    "# transform the data\n",
    "ss = StandardScaler()\n",
    "ss.fit(X_tr)\n",
    "X_tr = ss.transform(X_tr)\n",
    "X_test = ss.transform(X_test)"
   ]
  },
  {
   "cell_type": "code",
   "execution_count": 12,
   "metadata": {},
   "outputs": [
    {
     "name": "stdout",
     "output_type": "stream",
     "text": [
      "Classification accuracy of the LogisticRegression classifier on training set: 0.86595\n",
      "Precision on train: 0.45370\n",
      "Recall on train: 0.05438\n",
      "\n",
      "Classification accuracy of the LogisticRegression classifier on test set: 0.85548\n",
      "Precision on test: 0.45946\n",
      "Recall on test: 0.04067\n"
     ]
    }
   ],
   "source": [
    "lr = LogisticRegression(solver='lbfgs')\n",
    "lr.fit(X_tr, y_tr)\n",
    "ca = lr.score(X_tr, y_tr)\n",
    "print('Classification accuracy of the LogisticRegression classifier on training set: {:.5f}'.format(ca))\n",
    "y_pred = lr.predict(X_tr)\n",
    "p = precision_score(y_pred=y_pred,y_true=y_tr, pos_label=1)\n",
    "r = recall_score(y_pred=y_pred, y_true=y_tr, pos_label=1)\n",
    "print('Precision on train: {:.5f}'.format(p))\n",
    "print('Recall on train: {:.5f}'.format(r))\n",
    "\n",
    "ca = lr.score(X_test, y_test)\n",
    "y_pred = lr.predict(X_test)\n",
    "p = precision_score(y_pred=y_pred,y_true=y_test, pos_label=1)\n",
    "r = recall_score(y_pred=y_pred, y_true=y_test, pos_label=1)\n",
    "print('\\nClassification accuracy of the LogisticRegression classifier on test set: {:.5f}'.format(ca))\n",
    "print('Precision on test: {:.5f}'.format(p))\n",
    "print('Recall on test: {:.5f}'.format(r))"
   ]
  },
  {
   "cell_type": "code",
   "execution_count": 13,
   "metadata": {},
   "outputs": [
    {
     "name": "stdout",
     "output_type": "stream",
     "text": [
      "[[-0.53397737 -0.38019675 -0.30436998  0.1246035  -0.03826608  0.94065182\n",
      "  -0.38004436 -0.83058487 -0.65604821  0.05449156  0.27281641 -0.12511399\n",
      "  -0.05194784 -0.6741018   0.05267614 -0.26826779 -0.1315938  -0.07124272\n",
      "  -0.03243973 -0.11603111  0.1246035 ]]\n",
      "[-2.10349968]\n"
     ]
    }
   ],
   "source": [
    "# display coef for logistic regression model\n",
    "print(lr.coef_)\n",
    "print(lr.intercept_)"
   ]
  },
  {
   "cell_type": "code",
   "execution_count": 14,
   "metadata": {},
   "outputs": [
    {
     "data": {
      "image/png": "[encoded data removed]",
      "text/plain": [
       "<Figure size 432x288 with 2 Axes>"
      ]
     },
     "metadata": {},
     "output_type": "display_data"
    }
   ],
   "source": [
    "cm = confusion_matrix(y_pred=y_pred, y_true=y_test)\n",
    "# retrive the normalized version of cm\n",
    "cm_norm = cm/cm.sum(axis=1)[:, np.newaxis]\n",
    "\n",
    "plt.figure()\n",
    "plot_confusion_matrix(cm_norm, classes=['unsuccess','success'])\n",
    "plt.show()"
   ]
  },
  {
   "cell_type": "code",
   "execution_count": null,
   "metadata": {},
   "outputs": [],
   "source": []
  },
  {
   "cell_type": "code",
   "execution_count": null,
   "metadata": {},
   "outputs": [],
   "source": []
  },
  {
   "cell_type": "code",
   "execution_count": null,
   "metadata": {},
   "outputs": [],
   "source": []
  },
  {
   "cell_type": "code",
   "execution_count": 15,
   "metadata": {},
   "outputs": [
    {
     "name": "stdout",
     "output_type": "stream",
     "text": [
      "Accuracy score on the training dataset: 0.987051206592113\n",
      "Precision on train: 0.98221\n",
      "Recall on train: 0.91898\n",
      "\n",
      "Accuracy score on the test dataset: 0.89839\n",
      "Precision on test: 0.76293\n",
      "Recall on test: 0.42344\n"
     ]
    }
   ],
   "source": [
    "rf = RandomForestClassifier(n_estimators=100, random_state=42)\n",
    "rf.fit(X_tr, y_tr)\n",
    "y_pred = rf.predict(X_tr)\n",
    "p = precision_score(y_pred=y_pred,y_true=y_tr, pos_label=1)\n",
    "r = recall_score(y_pred=y_pred, y_true=y_tr, pos_label=1)\n",
    "accuracy_score_train = rf.score(X_tr, y_tr)\n",
    "print('Accuracy score on the training dataset: {}'.format(accuracy_score_train))\n",
    "print('Precision on train: {:.5f}'.format(p))\n",
    "print('Recall on train: {:.5f}'.format(r))\n",
    "\n",
    "# test set\n",
    "y_pred = rf.predict(X_test)\n",
    "p = precision_score(y_pred=y_pred,y_true=y_test, pos_label=1)\n",
    "r = recall_score(y_pred=y_pred, y_true=y_test, pos_label=1)\n",
    "accuracy_score_test = rf.score(X_test, y_test)\n",
    "print('\\nAccuracy score on the test dataset: {:.5f}'.format(accuracy_score_test))\n",
    "print('Precision on test: {:.5f}'.format(p))\n",
    "print('Recall on test: {:.5f}'.format(r))"
   ]
  },
  {
   "cell_type": "code",
   "execution_count": 16,
   "metadata": {},
   "outputs": [
    {
     "data": {
      "image/png": "[encoded data removed]",
      "text/plain": [
       "<Figure size 432x288 with 2 Axes>"
      ]
     },
     "metadata": {},
     "output_type": "display_data"
    }
   ],
   "source": [
    "cm = confusion_matrix(y_pred=y_pred, y_true=y_test)\n",
    "# retrive the normalized version of cm\n",
    "cm_norm = cm/cm.sum(axis=1)[:, np.newaxis]\n",
    "\n",
    "plt.figure()\n",
    "plot_confusion_matrix(cm_norm, classes=['unsuccess','success'])\n",
    "plt.show()"
   ]
  },
  {
   "cell_type": "code",
   "execution_count": 17,
   "metadata": {},
   "outputs": [
    {
     "name": "stdout",
     "output_type": "stream",
     "text": [
      "Names of the 10 most important features:\n",
      "1. activity_intensity\n",
      "2. num_Create\n",
      "3. proj_span\n",
      "4. normalized_proj_span\n",
      "5. num_Push\n",
      "6. first_quater_teamsize\n",
      "7. final_teamsize\n",
      "8. num_PullRequest\n",
      "9. num_Watch\n",
      "10. num_Fork\n"
     ]
    }
   ],
   "source": [
    "features = X.columns[:].values.tolist()\n",
    "important_features = rf.feature_importances_\n",
    "feature_index = np.argsort(important_features)[::-1]\n",
    "print('Names of the 10 most important features:')\n",
    "for n in range(10):\n",
    "    print(\"{}. {}\".format(n+1, features[feature_index[n]]))"
   ]
  },
  {
   "cell_type": "code",
   "execution_count": null,
   "metadata": {},
   "outputs": [],
   "source": []
  },
  {
   "cell_type": "code",
   "execution_count": null,
   "metadata": {},
   "outputs": [],
   "source": []
  },
  {
   "cell_type": "code",
   "execution_count": null,
   "metadata": {},
   "outputs": [],
   "source": []
  },
  {
   "cell_type": "code",
   "execution_count": 18,
   "metadata": {},
   "outputs": [
    {
     "name": "stdout",
     "output_type": "stream",
     "text": [
      "Linear SVC classification accuracy on training set: 0.86742\n",
      "Linear SVC classification accuracy on test set: 0.85651\n"
     ]
    }
   ],
   "source": [
    "svc_linear = SVC(kernel='linear')\n",
    "svc_linear.fit(X_tr, y_tr)\n",
    "ca = svc_linear.score(X_tr, y_tr)\n",
    "print('Linear SVC classification accuracy on training set: {:.5f}'.format(ca))\n",
    "ca = svc_linear.score(X_test, y_test)\n",
    "print('Linear SVC classification accuracy on test set: {:.5f}'.format(ca))"
   ]
  },
  {
   "cell_type": "code",
   "execution_count": 19,
   "metadata": {},
   "outputs": [
    {
     "name": "stdout",
     "output_type": "stream",
     "text": [
      "\n",
      "Radial Basis Function SVC classification accuracy on training set: 0.88184\n",
      "Radial Basis Function SVC classification accuracy on test set: 0.86337\n"
     ]
    }
   ],
   "source": [
    "\n",
    "\n",
    "svc_rbf = SVC(kernel='rbf')\n",
    "svc_rbf.fit(X_tr, y_tr)\n",
    "ca = svc_rbf.score(X_tr, y_tr)\n",
    "print('\\nRadial Basis Function SVC classification accuracy on training set: {:.5f}'.format(ca))\n",
    "ca = svc_rbf.score(X_test, y_test)\n",
    "print('Radial Basis Function SVC classification accuracy on test set: {:.5f}'.format(ca))\n",
    "\n"
   ]
  },
  {
   "cell_type": "code",
   "execution_count": 20,
   "metadata": {},
   "outputs": [
    {
     "name": "stdout",
     "output_type": "stream",
     "text": [
      "Precision on train: 0.84028\n",
      "Recall on train: 0.13430\n",
      "Precision on test: 0.67857\n",
      "Recall on test: 0.09091\n"
     ]
    }
   ],
   "source": [
    "y_pred = svc_rbf.predict(X_tr)\n",
    "p = precision_score(y_pred=y_pred,y_true=y_tr, pos_label=1)\n",
    "r = recall_score(y_pred=y_pred, y_true=y_tr, pos_label=1)\n",
    "print('Precision on train: {:.5f}'.format(p))\n",
    "print('Recall on train: {:.5f}'.format(r))\n",
    "\n",
    "y_pred = svc_rbf.predict(X_test)\n",
    "p = precision_score(y_pred=y_pred,y_true=y_test, pos_label=1)\n",
    "r = recall_score(y_pred=y_pred, y_true=y_test, pos_label=1)\n",
    "print('Precision on test: {:.5f}'.format(p))\n",
    "print('Recall on test: {:.5f}'.format(r))\n"
   ]
  },
  {
   "cell_type": "code",
   "execution_count": 21,
   "metadata": {},
   "outputs": [
    {
     "name": "stdout",
     "output_type": "stream",
     "text": [
      "\n",
      "Polynomial SVC classification accuracy on training set: 0.87463\n",
      "Polynomial SVC classification accuracy on test set: 0.85479\n"
     ]
    }
   ],
   "source": [
    "svc_poly = SVC(kernel='poly')\n",
    "svc_poly.fit(X_tr, y_tr)\n",
    "ca = svc_poly.score(X_tr, y_tr)\n",
    "print('\\nPolynomial SVC classification accuracy on training set: {:.5f}'.format(ca))\n",
    "ca = svc_poly.score(X_test, y_test)\n",
    "print('Polynomial SVC classification accuracy on test set: {:.5f}'.format(ca))"
   ]
  },
  {
   "cell_type": "code",
   "execution_count": null,
   "metadata": {},
   "outputs": [],
   "source": []
  },
  {
   "cell_type": "code",
   "execution_count": null,
   "metadata": {},
   "outputs": [],
   "source": []
  }
 ],
 "metadata": {
  "kernelspec": {
   "display_name": "Python 3",
   "language": "python",
   "name": "python3"
  },
  "language_info": {
   "codemirror_mode": {
    "name": "ipython",
    "version": 3
   },
   "file_extension": ".py",
   "mimetype": "text/x-python",
   "name": "python",
   "nbconvert_exporter": "python",
   "pygments_lexer": "ipython3",
   "version": "3.4.9"
  }
 },
 "nbformat": 4,
 "nbformat_minor": 2
}
