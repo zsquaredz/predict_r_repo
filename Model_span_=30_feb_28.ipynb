{
 "cells": [
  {
   "cell_type": "code",
   "execution_count": 1,
   "metadata": {},
   "outputs": [
    {
     "name": "stderr",
     "output_type": "stream",
     "text": [
      "/usr/lib64/python3.6/site-packages/sklearn/cross_validation.py:41: DeprecationWarning: This module was deprecated in version 0.18 in favor of the model_selection module into which all the refactored classes and functions are moved. Also note that the interface of the new CV iterators are different from that of this module. This module will be removed in 0.20.\n",
      "  \"This module will be removed in 0.20.\", DeprecationWarning)\n",
      "/usr/lib64/python3.6/site-packages/sklearn/ensemble/weight_boosting.py:29: DeprecationWarning: numpy.core.umath_tests is an internal NumPy module and should not be imported. It will be removed in a future NumPy release.\n",
      "  from numpy.core.umath_tests import inner1d\n"
     ]
    }
   ],
   "source": [
    "from __future__ import print_function, division\n",
    "%matplotlib inline\n",
    "\n",
    "# Your code goes here\n",
    "import os\n",
    "import numpy as np \n",
    "import pandas as pd\n",
    "import matplotlib.pyplot as plt\n",
    "import seaborn as sns\n",
    "from scipy import stats\n",
    "from sklearn.metrics import accuracy_score, log_loss\n",
    "from sklearn.linear_model import LogisticRegression, LogisticRegressionCV\n",
    "from sklearn.preprocessing import StandardScaler\n",
    "from sklearn.cross_validation import KFold\n",
    "from sklearn.ensemble import RandomForestClassifier\n",
    "from sklearn.svm import SVC\n",
    "from sklearn.model_selection import train_test_split\n",
    "from sklearn.metrics import average_precision_score, recall_score, precision_score, f1_score, confusion_matrix\n",
    "from sklearn.dummy import DummyClassifier"
   ]
  },
  {
   "cell_type": "code",
   "execution_count": null,
   "metadata": {},
   "outputs": [],
   "source": []
  },
  {
   "cell_type": "code",
   "execution_count": null,
   "metadata": {},
   "outputs": [],
   "source": []
  },
  {
   "cell_type": "code",
   "execution_count": 2,
   "metadata": {
    "scrolled": true
   },
   "outputs": [
    {
     "name": "stdout",
     "output_type": "stream",
     "text": [
      "(8086, 100)\n",
      "(2461, 100)\n"
     ]
    }
   ],
   "source": [
    "dataset1 = pd.read_csv('span_feb_28.csv',delimiter = ',')\n",
    "data_neg = dataset1.loc[(dataset1['class']==0) & (dataset1['proj_span']>=30.0) & (dataset1['final_teamsize'] >= 2)]\n",
    "data_pos = dataset1.loc[(dataset1['class']==1) & (dataset1['proj_span']>=30.0) & (dataset1['final_teamsize'] >= 2)]\n",
    "print(data_neg.shape)\n",
    "print(data_pos.shape)"
   ]
  },
  {
   "cell_type": "code",
   "execution_count": 2,
   "metadata": {},
   "outputs": [],
   "source": [
    "dataset = pd.read_csv('span_feb_28.csv',delimiter = ',')\n",
    "dataset = dataset.loc[(dataset['proj_span'] >= 30.0) & (dataset['final_teamsize'] >= 2)]\n"
   ]
  },
  {
   "cell_type": "code",
   "execution_count": null,
   "metadata": {},
   "outputs": [],
   "source": []
  },
  {
   "cell_type": "code",
   "execution_count": 3,
   "metadata": {},
   "outputs": [
    {
     "data": {
      "text/plain": [
       "(10547, 100)"
      ]
     },
     "execution_count": 3,
     "metadata": {},
     "output_type": "execute_result"
    }
   ],
   "source": [
    "X = (dataset.drop('class', axis=1)).drop('id', axis=1)\n",
    "y = dataset['class']\n",
    "dataset.shape"
   ]
  },
  {
   "cell_type": "code",
   "execution_count": null,
   "metadata": {},
   "outputs": [],
   "source": []
  },
  {
   "cell_type": "code",
   "execution_count": 5,
   "metadata": {},
   "outputs": [
    {
     "data": {
      "text/html": [
       "<div>\n",
       "<style scoped>\n",
       "    .dataframe tbody tr th:only-of-type {\n",
       "        vertical-align: middle;\n",
       "    }\n",
       "\n",
       "    .dataframe tbody tr th {\n",
       "        vertical-align: top;\n",
       "    }\n",
       "\n",
       "    .dataframe thead th {\n",
       "        text-align: right;\n",
       "    }\n",
       "</style>\n",
       "<table border=\"1\" class=\"dataframe\">\n",
       "  <thead>\n",
       "    <tr style=\"text-align: right;\">\n",
       "      <th></th>\n",
       "      <th>activity_intensity</th>\n",
       "      <th>activity_intensity_Q1</th>\n",
       "      <th>activity_intensity_Q2</th>\n",
       "      <th>activity_intensity_Q3</th>\n",
       "      <th>activity_intensity_Q4</th>\n",
       "      <th>class</th>\n",
       "      <th>contribution_30_10_percentage</th>\n",
       "      <th>contribution_50_30_percentage</th>\n",
       "      <th>contribution_below_10_percentage</th>\n",
       "      <th>contribution_over_50</th>\n",
       "      <th>...</th>\n",
       "      <th>num_TeamAdd_Q4</th>\n",
       "      <th>num_Watch</th>\n",
       "      <th>num_Watch_Q1</th>\n",
       "      <th>num_Watch_Q2</th>\n",
       "      <th>num_Watch_Q3</th>\n",
       "      <th>num_Watch_Q4</th>\n",
       "      <th>num_joint_project</th>\n",
       "      <th>num_joint_success_project</th>\n",
       "      <th>proj_span</th>\n",
       "      <th>team_age_in_days</th>\n",
       "    </tr>\n",
       "  </thead>\n",
       "  <tbody>\n",
       "    <tr>\n",
       "      <th>count</th>\n",
       "      <td>10547.000000</td>\n",
       "      <td>10547.000000</td>\n",
       "      <td>10547.000000</td>\n",
       "      <td>10547.000000</td>\n",
       "      <td>10547.000000</td>\n",
       "      <td>10547.000000</td>\n",
       "      <td>10547.000000</td>\n",
       "      <td>10547.000000</td>\n",
       "      <td>10547.000000</td>\n",
       "      <td>10547.000000</td>\n",
       "      <td>...</td>\n",
       "      <td>10547.000000</td>\n",
       "      <td>10547.000000</td>\n",
       "      <td>10547.000000</td>\n",
       "      <td>10547.000000</td>\n",
       "      <td>10547.000000</td>\n",
       "      <td>10547.000000</td>\n",
       "      <td>10547.000000</td>\n",
       "      <td>10547.000000</td>\n",
       "      <td>10547.000000</td>\n",
       "      <td>10547.000000</td>\n",
       "    </tr>\n",
       "    <tr>\n",
       "      <th>mean</th>\n",
       "      <td>0.215348</td>\n",
       "      <td>0.259294</td>\n",
       "      <td>0.210542</td>\n",
       "      <td>0.210691</td>\n",
       "      <td>0.206053</td>\n",
       "      <td>0.233336</td>\n",
       "      <td>0.091162</td>\n",
       "      <td>0.123078</td>\n",
       "      <td>0.074800</td>\n",
       "      <td>0.690338</td>\n",
       "      <td>...</td>\n",
       "      <td>0.018773</td>\n",
       "      <td>2.070541</td>\n",
       "      <td>1.906324</td>\n",
       "      <td>1.773206</td>\n",
       "      <td>1.870769</td>\n",
       "      <td>1.886887</td>\n",
       "      <td>1.210581</td>\n",
       "      <td>0.276287</td>\n",
       "      <td>342.222338</td>\n",
       "      <td>9.024746</td>\n",
       "    </tr>\n",
       "    <tr>\n",
       "      <th>std</th>\n",
       "      <td>0.589705</td>\n",
       "      <td>1.313745</td>\n",
       "      <td>0.602704</td>\n",
       "      <td>0.636025</td>\n",
       "      <td>0.525491</td>\n",
       "      <td>0.422975</td>\n",
       "      <td>0.178907</td>\n",
       "      <td>0.273893</td>\n",
       "      <td>0.155117</td>\n",
       "      <td>0.462376</td>\n",
       "      <td>...</td>\n",
       "      <td>0.155280</td>\n",
       "      <td>12.556466</td>\n",
       "      <td>11.399548</td>\n",
       "      <td>10.519051</td>\n",
       "      <td>11.623849</td>\n",
       "      <td>11.654193</td>\n",
       "      <td>1.002902</td>\n",
       "      <td>0.620078</td>\n",
       "      <td>331.719348</td>\n",
       "      <td>70.727458</td>\n",
       "    </tr>\n",
       "    <tr>\n",
       "      <th>min</th>\n",
       "      <td>0.001468</td>\n",
       "      <td>0.001468</td>\n",
       "      <td>0.001468</td>\n",
       "      <td>0.001468</td>\n",
       "      <td>0.001468</td>\n",
       "      <td>0.000000</td>\n",
       "      <td>0.000000</td>\n",
       "      <td>0.000000</td>\n",
       "      <td>0.000000</td>\n",
       "      <td>0.000000</td>\n",
       "      <td>...</td>\n",
       "      <td>0.000000</td>\n",
       "      <td>0.000000</td>\n",
       "      <td>0.000000</td>\n",
       "      <td>0.000000</td>\n",
       "      <td>0.000000</td>\n",
       "      <td>0.000000</td>\n",
       "      <td>1.000000</td>\n",
       "      <td>0.000000</td>\n",
       "      <td>30.000000</td>\n",
       "      <td>0.000000</td>\n",
       "    </tr>\n",
       "    <tr>\n",
       "      <th>25%</th>\n",
       "      <td>0.027027</td>\n",
       "      <td>0.027145</td>\n",
       "      <td>0.026857</td>\n",
       "      <td>0.026882</td>\n",
       "      <td>0.025381</td>\n",
       "      <td>0.000000</td>\n",
       "      <td>0.000000</td>\n",
       "      <td>0.000000</td>\n",
       "      <td>0.000000</td>\n",
       "      <td>0.000000</td>\n",
       "      <td>...</td>\n",
       "      <td>0.000000</td>\n",
       "      <td>0.000000</td>\n",
       "      <td>0.000000</td>\n",
       "      <td>0.000000</td>\n",
       "      <td>0.000000</td>\n",
       "      <td>0.000000</td>\n",
       "      <td>1.000000</td>\n",
       "      <td>0.000000</td>\n",
       "      <td>97.000000</td>\n",
       "      <td>0.000000</td>\n",
       "    </tr>\n",
       "    <tr>\n",
       "      <th>50%</th>\n",
       "      <td>0.070796</td>\n",
       "      <td>0.071429</td>\n",
       "      <td>0.069790</td>\n",
       "      <td>0.070000</td>\n",
       "      <td>0.067524</td>\n",
       "      <td>0.000000</td>\n",
       "      <td>0.000000</td>\n",
       "      <td>0.000000</td>\n",
       "      <td>0.006061</td>\n",
       "      <td>1.000000</td>\n",
       "      <td>...</td>\n",
       "      <td>0.000000</td>\n",
       "      <td>0.000000</td>\n",
       "      <td>0.000000</td>\n",
       "      <td>0.000000</td>\n",
       "      <td>0.000000</td>\n",
       "      <td>0.000000</td>\n",
       "      <td>1.000000</td>\n",
       "      <td>0.000000</td>\n",
       "      <td>227.000000</td>\n",
       "      <td>0.000000</td>\n",
       "    </tr>\n",
       "    <tr>\n",
       "      <th>75%</th>\n",
       "      <td>0.195079</td>\n",
       "      <td>0.200000</td>\n",
       "      <td>0.187500</td>\n",
       "      <td>0.189798</td>\n",
       "      <td>0.184333</td>\n",
       "      <td>0.000000</td>\n",
       "      <td>0.111111</td>\n",
       "      <td>0.076923</td>\n",
       "      <td>0.076923</td>\n",
       "      <td>1.000000</td>\n",
       "      <td>...</td>\n",
       "      <td>0.000000</td>\n",
       "      <td>1.000000</td>\n",
       "      <td>1.000000</td>\n",
       "      <td>1.000000</td>\n",
       "      <td>1.000000</td>\n",
       "      <td>1.000000</td>\n",
       "      <td>1.000000</td>\n",
       "      <td>0.000000</td>\n",
       "      <td>475.000000</td>\n",
       "      <td>0.000000</td>\n",
       "    </tr>\n",
       "    <tr>\n",
       "      <th>max</th>\n",
       "      <td>29.613683</td>\n",
       "      <td>108.911357</td>\n",
       "      <td>25.500000</td>\n",
       "      <td>38.789862</td>\n",
       "      <td>15.625000</td>\n",
       "      <td>1.000000</td>\n",
       "      <td>1.000000</td>\n",
       "      <td>1.000000</td>\n",
       "      <td>1.000000</td>\n",
       "      <td>1.000000</td>\n",
       "      <td>...</td>\n",
       "      <td>3.000000</td>\n",
       "      <td>607.000000</td>\n",
       "      <td>607.000000</td>\n",
       "      <td>607.000000</td>\n",
       "      <td>607.000000</td>\n",
       "      <td>607.000000</td>\n",
       "      <td>26.000000</td>\n",
       "      <td>25.000000</td>\n",
       "      <td>1800.000000</td>\n",
       "      <td>1590.000000</td>\n",
       "    </tr>\n",
       "  </tbody>\n",
       "</table>\n",
       "<p>8 rows × 99 columns</p>\n",
       "</div>"
      ],
      "text/plain": [
       "       activity_intensity  activity_intensity_Q1  activity_intensity_Q2  \\\n",
       "count        10547.000000           10547.000000           10547.000000   \n",
       "mean             0.215348               0.259294               0.210542   \n",
       "std              0.589705               1.313745               0.602704   \n",
       "min              0.001468               0.001468               0.001468   \n",
       "25%              0.027027               0.027145               0.026857   \n",
       "50%              0.070796               0.071429               0.069790   \n",
       "75%              0.195079               0.200000               0.187500   \n",
       "max             29.613683             108.911357              25.500000   \n",
       "\n",
       "       activity_intensity_Q3  activity_intensity_Q4         class  \\\n",
       "count           10547.000000           10547.000000  10547.000000   \n",
       "mean                0.210691               0.206053      0.233336   \n",
       "std                 0.636025               0.525491      0.422975   \n",
       "min                 0.001468               0.001468      0.000000   \n",
       "25%                 0.026882               0.025381      0.000000   \n",
       "50%                 0.070000               0.067524      0.000000   \n",
       "75%                 0.189798               0.184333      0.000000   \n",
       "max                38.789862              15.625000      1.000000   \n",
       "\n",
       "       contribution_30_10_percentage  contribution_50_30_percentage  \\\n",
       "count                   10547.000000                   10547.000000   \n",
       "mean                        0.091162                       0.123078   \n",
       "std                         0.178907                       0.273893   \n",
       "min                         0.000000                       0.000000   \n",
       "25%                         0.000000                       0.000000   \n",
       "50%                         0.000000                       0.000000   \n",
       "75%                         0.111111                       0.076923   \n",
       "max                         1.000000                       1.000000   \n",
       "\n",
       "       contribution_below_10_percentage  contribution_over_50  \\\n",
       "count                      10547.000000          10547.000000   \n",
       "mean                           0.074800              0.690338   \n",
       "std                            0.155117              0.462376   \n",
       "min                            0.000000              0.000000   \n",
       "25%                            0.000000              0.000000   \n",
       "50%                            0.006061              1.000000   \n",
       "75%                            0.076923              1.000000   \n",
       "max                            1.000000              1.000000   \n",
       "\n",
       "             ...         num_TeamAdd_Q4     num_Watch  num_Watch_Q1  \\\n",
       "count        ...           10547.000000  10547.000000  10547.000000   \n",
       "mean         ...               0.018773      2.070541      1.906324   \n",
       "std          ...               0.155280     12.556466     11.399548   \n",
       "min          ...               0.000000      0.000000      0.000000   \n",
       "25%          ...               0.000000      0.000000      0.000000   \n",
       "50%          ...               0.000000      0.000000      0.000000   \n",
       "75%          ...               0.000000      1.000000      1.000000   \n",
       "max          ...               3.000000    607.000000    607.000000   \n",
       "\n",
       "       num_Watch_Q2  num_Watch_Q3  num_Watch_Q4  num_joint_project  \\\n",
       "count  10547.000000  10547.000000  10547.000000       10547.000000   \n",
       "mean       1.773206      1.870769      1.886887           1.210581   \n",
       "std       10.519051     11.623849     11.654193           1.002902   \n",
       "min        0.000000      0.000000      0.000000           1.000000   \n",
       "25%        0.000000      0.000000      0.000000           1.000000   \n",
       "50%        0.000000      0.000000      0.000000           1.000000   \n",
       "75%        1.000000      1.000000      1.000000           1.000000   \n",
       "max      607.000000    607.000000    607.000000          26.000000   \n",
       "\n",
       "       num_joint_success_project     proj_span  team_age_in_days  \n",
       "count               10547.000000  10547.000000      10547.000000  \n",
       "mean                    0.276287    342.222338          9.024746  \n",
       "std                     0.620078    331.719348         70.727458  \n",
       "min                     0.000000     30.000000          0.000000  \n",
       "25%                     0.000000     97.000000          0.000000  \n",
       "50%                     0.000000    227.000000          0.000000  \n",
       "75%                     0.000000    475.000000          0.000000  \n",
       "max                    25.000000   1800.000000       1590.000000  \n",
       "\n",
       "[8 rows x 99 columns]"
      ]
     },
     "execution_count": 5,
     "metadata": {},
     "output_type": "execute_result"
    }
   ],
   "source": [
    "\n",
    "dataset.describe()"
   ]
  },
  {
   "cell_type": "code",
   "execution_count": 4,
   "metadata": {},
   "outputs": [
    {
     "name": "stdout",
     "output_type": "stream",
     "text": [
      "training size:  6327\n",
      "validation size:  2110\n",
      "test size:  2110\n"
     ]
    }
   ],
   "source": [
    "X_tr, X_test, y_tr, y_test = train_test_split(X, y, test_size=0.2, random_state=20190101)\n",
    "X_tr, X_val, y_tr, y_val = train_test_split(X_tr, y_tr, test_size=0.25, random_state=20190101)\n",
    "print('training size: ', X_tr.shape[0])\n",
    "print('validation size: ', X_val.shape[0])\n",
    "print('test size: ', X_test.shape[0])"
   ]
  },
  {
   "cell_type": "code",
   "execution_count": 7,
   "metadata": {},
   "outputs": [
    {
     "data": {
      "image/png": "[encoded data removed]",
      "text/plain": [
       "<Figure size 864x360 with 2 Axes>"
      ]
     },
     "metadata": {},
     "output_type": "display_data"
    }
   ],
   "source": [
    "plt.figure(figsize=(12,5))\n",
    "plt.subplot(1,2,1)\n",
    "ax1 = sns.countplot(x='class', data=dataset)\n",
    "ax1.set_xticklabels(['not Success', 'Success'])\n",
    "plt.title('Dataset with CRAN before GH')\n",
    "ax2 = plt.subplot(1,2,2)\n",
    "sns.countplot(x='class', data=dataset1)\n",
    "ax2.set_xticklabels(['not Success', 'Success'])\n",
    "plt.title('Dataset don\\'t care CRAN before GH')\n",
    "plt.show()"
   ]
  },
  {
   "cell_type": "code",
   "execution_count": 5,
   "metadata": {},
   "outputs": [
    {
     "name": "stdout",
     "output_type": "stream",
     "text": [
      "Classification accuracy of the LogisticRegression classifier on training set: 0.77398\n",
      "Precision on train: 0.00000\n",
      "Recall on train: 0.00000\n",
      "\n",
      "Classification accuracy of the LogisticRegression classifier on val set: 0.74787\n",
      "Precision on val: 0.00000\n",
      "Recall on val: 0.00000\n",
      "\n",
      "Classification accuracy of the LogisticRegression classifier on test set: 0.76351\n",
      "Precision on val: 0.00000\n",
      "Recall on val: 0.00000\n"
     ]
    },
    {
     "name": "stderr",
     "output_type": "stream",
     "text": [
      "/usr/lib64/python3.6/site-packages/sklearn/metrics/classification.py:1135: UndefinedMetricWarning: Precision is ill-defined and being set to 0.0 due to no predicted samples.\n",
      "  'precision', 'predicted', average, warn_for)\n",
      "/usr/lib64/python3.6/site-packages/sklearn/metrics/classification.py:1135: UndefinedMetricWarning: Precision is ill-defined and being set to 0.0 due to no predicted samples.\n",
      "  'precision', 'predicted', average, warn_for)\n",
      "/usr/lib64/python3.6/site-packages/sklearn/metrics/classification.py:1135: UndefinedMetricWarning: Precision is ill-defined and being set to 0.0 due to no predicted samples.\n",
      "  'precision', 'predicted', average, warn_for)\n"
     ]
    }
   ],
   "source": [
    "d = DummyClassifier(strategy='most_frequent')\n",
    "d.fit(X_tr, y_tr)\n",
    "ca = d.score(X_tr, y_tr)\n",
    "print('Classification accuracy of the LogisticRegression classifier on training set: {:.5f}'.format(ca))\n",
    "y_pred = d.predict(X_tr)\n",
    "p = precision_score(y_pred=y_pred,y_true=y_tr, pos_label=1)\n",
    "r = recall_score(y_pred=y_pred, y_true=y_tr, pos_label=1)\n",
    "print('Precision on train: {:.5f}'.format(p))\n",
    "print('Recall on train: {:.5f}'.format(r))\n",
    "ca = d.score(X_val, y_val)\n",
    "y_pred = d.predict(X_val)\n",
    "p = precision_score(y_pred=y_pred,y_true=y_val, pos_label=1)\n",
    "r = recall_score(y_pred=y_pred, y_true=y_val, pos_label=1)\n",
    "print('\\nClassification accuracy of the LogisticRegression classifier on val set: {:.5f}'.format(ca))\n",
    "print('Precision on val: {:.5f}'.format(p))\n",
    "print('Recall on val: {:.5f}'.format(r))\n",
    "ca = d.score(X_test, y_test)\n",
    "y_pred = d.predict(X_test)\n",
    "p = precision_score(y_pred=y_pred,y_true=y_test, pos_label=1)\n",
    "r = recall_score(y_pred=y_pred, y_true=y_test, pos_label=1)\n",
    "print('\\nClassification accuracy of the LogisticRegression classifier on test set: {:.5f}'.format(ca))\n",
    "print('Precision on val: {:.5f}'.format(p))\n",
    "print('Recall on val: {:.5f}'.format(r))"
   ]
  },
  {
   "cell_type": "code",
   "execution_count": 10,
   "metadata": {},
   "outputs": [
    {
     "name": "stdout",
     "output_type": "stream",
     "text": [
      "Classification accuracy of the LogisticRegression classifier on training set: 0.81097\n",
      "Precision on train: 0.73780\n",
      "Recall on train: 0.25385\n",
      "\n",
      "Classification accuracy of the LogisticRegression classifier on val set: 0.78720\n",
      "Precision on val: 0.74850\n",
      "Recall on val: 0.23496\n"
     ]
    },
    {
     "data": {
      "text/plain": [
       "array([[1486,  125],\n",
       "       [ 457,   42]])"
      ]
     },
     "execution_count": 10,
     "metadata": {},
     "output_type": "execute_result"
    }
   ],
   "source": [
    "lr = LogisticRegression(solver='lbfgs')\n",
    "lr.fit(X_tr, y_tr)\n",
    "ca = lr.score(X_tr, y_tr)\n",
    "print('Classification accuracy of the LogisticRegression classifier on training set: {:.5f}'.format(ca))\n",
    "y_pred = lr.predict(X_tr)\n",
    "p = precision_score(y_pred=y_pred,y_true=y_tr, pos_label=1)\n",
    "r = recall_score(y_pred=y_pred, y_true=y_tr, pos_label=1)\n",
    "print('Precision on train: {:.5f}'.format(p))\n",
    "print('Recall on train: {:.5f}'.format(r))\n",
    "ca = lr.score(X_val, y_val)\n",
    "y_pred = lr.predict(X_val)\n",
    "p = precision_score(y_pred=y_pred,y_true=y_val, pos_label=1)\n",
    "r = recall_score(y_pred=y_pred, y_true=y_val, pos_label=1)\n",
    "print('\\nClassification accuracy of the LogisticRegression classifier on val set: {:.5f}'.format(ca))\n",
    "print('Precision on val: {:.5f}'.format(p))\n",
    "print('Recall on val: {:.5f}'.format(r))\n",
    "confusion_matrix(y_pred=y_pred, y_true=y_test)"
   ]
  },
  {
   "cell_type": "code",
   "execution_count": 10,
   "metadata": {},
   "outputs": [
    {
     "name": "stdout",
     "output_type": "stream",
     "text": [
      "[[-1.46247303e-01 -1.69863342e-01 -1.43627767e-01 -1.44630022e-01\n",
      "  -1.40829671e-01 -6.53113734e-02 -9.01481077e-02 -2.38951614e-02\n",
      "  -3.82085838e-01 -2.91641881e-02 -2.91641881e-02 -2.73398635e-01\n",
      "  -3.68333308e-01  8.51070708e-07 -3.72590560e-02 -3.33869339e-02\n",
      "  -3.31591208e-02 -3.25406470e-02 -4.17882942e-02  3.32409374e-02\n",
      "   8.04508943e-03 -9.44111682e-03  6.44812423e-02  2.25209418e-02\n",
      "  -5.07680214e-02 -3.66538947e-02 -2.37326038e-02 -1.60719512e-02\n",
      "  -4.13314450e-02  0.00000000e+00  0.00000000e+00  0.00000000e+00\n",
      "   0.00000000e+00  0.00000000e+00  2.11362767e-02 -3.69526140e-02\n",
      "  -5.53859119e-02 -1.40073816e-04  2.21470373e-02 -2.97633079e-02\n",
      "  -3.10159812e-04 -8.97210430e-02  6.78788505e-03  1.38024003e-02\n",
      "   4.69265551e-02  4.43008813e-02 -5.29647097e-02 -7.66670017e-02\n",
      "  -1.07209782e-02  3.08038569e-02  6.64118189e-02  1.29539833e-02\n",
      "   1.27246644e-02 -3.28088580e-03 -7.40540156e-02 -7.18173201e-02\n",
      "  -6.21950418e-02 -6.73629703e-02 -7.12013117e-02 -2.83300481e-02\n",
      "  -2.78866248e-02 -2.75487491e-02 -2.72516638e-02 -2.88776852e-02\n",
      "  -2.98859832e-02 -3.40872037e-02 -4.33652033e-02  4.13238278e-03\n",
      "   7.02368549e-02  5.92259998e-03 -4.63551987e-05  2.57612803e-02\n",
      "  -3.20875095e-02  4.43793177e-02  1.86944779e-02 -2.60360775e-02\n",
      "   2.08675253e-02 -1.55374924e-02 -2.33107904e-03  2.28246365e-02\n",
      "   2.32994777e-02  5.38971187e-03  2.38912928e-02  2.53810271e-02\n",
      "  -1.21471833e-02 -1.20387635e-02 -1.08103728e-02 -1.19517220e-02\n",
      "  -1.21726622e-02  8.76652016e-02 -9.48813489e-03 -8.16348025e-02\n",
      "  -4.69801374e-02  1.16885070e-01 -6.17029739e-01  7.69558713e-01\n",
      "   1.55320404e-03  2.11035310e-03]]\n",
      "[-0.55753603]\n"
     ]
    }
   ],
   "source": [
    "# display coef for logistic regression model\n",
    "print(lr.coef_)\n",
    "print(lr.intercept_)"
   ]
  },
  {
   "cell_type": "code",
   "execution_count": 11,
   "metadata": {},
   "outputs": [],
   "source": [
    "def plot_confusion_matrix(cm, classes=None, title='Confusion matrix'):\n",
    "    \"\"\"Plots a confusion matrix.\"\"\"\n",
    "    if classes is not None:\n",
    "        sns.heatmap(cm, xticklabels=classes, yticklabels=classes, vmin=0., vmax=1., annot=True)\n",
    "    else:\n",
    "        sns.heatmap(cm, vmin=0., vmax=1.)\n",
    "    plt.title(title)\n",
    "    plt.ylabel('True label')\n",
    "    plt.xlabel('Predicted label')"
   ]
  },
  {
   "cell_type": "code",
   "execution_count": 12,
   "metadata": {},
   "outputs": [],
   "source": [
    "# cm = confusion_matrix(y_pred=y_pred, y_true=y_test)\n",
    "# # retrive the normalized version of cm\n",
    "# cm_norm = cm/cm.sum(axis=1)[:, np.newaxis]\n",
    "\n",
    "# plt.figure()\n",
    "# plot_confusion_matrix(cm_norm, classes=['unsuccess','success'])\n",
    "# plt.show()"
   ]
  },
  {
   "cell_type": "code",
   "execution_count": 13,
   "metadata": {
    "scrolled": true
   },
   "outputs": [],
   "source": [
    "# lr = LogisticRegression(solver='lbfgs')\n",
    "# lr.fit(X_tr, y_tr)\n",
    "# predictions = lr.predict(X_tr)\n",
    "# params = np.append(lr.intercept_, lr.coef_)\n",
    "# newX = pd.DataFrame({\"Constant\":np.ones(len(X_tr))}).join(pd.DataFrame(X_tr.reset_index(drop=True)))\n",
    "# MSE = (sum((y_tr-predictions)**2))/(len(newX)-len(newX.columns))\n",
    "\n",
    "\n",
    "# var_b = MSE*(np.linalg.inv(np.dot(newX.T,newX)).diagonal())\n",
    "# sd_b = np.sqrt(var_b)\n",
    "# ts_b = params/ sd_b\n",
    "# print(newX)\n",
    "# p_values =[2*(1-stats.t.cdf(np.abs(i),(len(newX)-1))) for i in ts_b]\n",
    "\n",
    "# sd_b = np.round(sd_b,3)\n",
    "# ts_b = np.round(ts_b,3)\n",
    "# p_values = np.round(p_values,3)\n",
    "# params = np.round(params,4)\n",
    "\n",
    "# myDF3 = pd.DataFrame()\n",
    "# myDF3[\"Coefficients\"],myDF3[\"Standard Errors\"],myDF3[\"t values\"],myDF3[\"Probabilites\"] = [params,sd_b,ts_b,p_values]\n",
    "# print(myDF3)"
   ]
  },
  {
   "cell_type": "code",
   "execution_count": null,
   "metadata": {},
   "outputs": [],
   "source": []
  },
  {
   "cell_type": "code",
   "execution_count": 14,
   "metadata": {},
   "outputs": [],
   "source": [
    "# cm = confusion_matrix(y_pred=y_pred, y_true=y_test_1)\n",
    "# # retrive the normalized version of cm\n",
    "# cm_norm = cm/cm.sum(axis=1)[:, np.newaxis]\n",
    "\n",
    "# plt.figure()\n",
    "# plot_confusion_matrix(cm_norm, classes=['unsuccess','success'])\n",
    "# plt.show()"
   ]
  },
  {
   "cell_type": "code",
   "execution_count": 15,
   "metadata": {},
   "outputs": [],
   "source": [
    "# transform the data\n",
    "ss = StandardScaler()\n",
    "ss.fit(X_tr)\n",
    "X_tr = ss.transform(X_tr)\n",
    "X_test = ss.transform(X_test)\n",
    "X_val = ss.transform(X_val)\n",
    "\n"
   ]
  },
  {
   "cell_type": "code",
   "execution_count": 16,
   "metadata": {},
   "outputs": [
    {
     "name": "stdout",
     "output_type": "stream",
     "text": [
      "Classification accuracy of the LogisticRegression classifier on training set: 0.99542\n",
      "Precision on train: 0.98883\n",
      "Recall on train: 0.99091\n",
      "\n",
      "Classification accuracy of the LogisticRegression classifier on val set: 0.98910\n",
      "Precision on val: 0.97393\n",
      "Recall on val: 0.98308\n"
     ]
    }
   ],
   "source": [
    "lr = LogisticRegression(solver='lbfgs')\n",
    "lr.fit(X_tr, y_tr)\n",
    "ca = lr.score(X_tr, y_tr)\n",
    "print('Classification accuracy of the LogisticRegression classifier on training set: {:.5f}'.format(ca))\n",
    "y_pred = lr.predict(X_tr)\n",
    "p = precision_score(y_pred=y_pred,y_true=y_tr, pos_label=1)\n",
    "r = recall_score(y_pred=y_pred, y_true=y_tr, pos_label=1)\n",
    "print('Precision on train: {:.5f}'.format(p))\n",
    "print('Recall on train: {:.5f}'.format(r))\n",
    "\n",
    "ca = lr.score(X_val, y_val)\n",
    "y_pred = lr.predict(X_val)\n",
    "p = precision_score(y_pred=y_pred,y_true=y_val, pos_label=1)\n",
    "r = recall_score(y_pred=y_pred, y_true=y_val, pos_label=1)\n",
    "print('\\nClassification accuracy of the LogisticRegression classifier on val set: {:.5f}'.format(ca))\n",
    "print('Precision on val: {:.5f}'.format(p))\n",
    "print('Recall on val: {:.5f}'.format(r))"
   ]
  },
  {
   "cell_type": "code",
   "execution_count": 17,
   "metadata": {},
   "outputs": [
    {
     "name": "stdout",
     "output_type": "stream",
     "text": [
      "[[-8.35170437e-02  9.30521023e-03  7.77322483e-02  3.23467558e-02\n",
      "  -4.35336860e-02  9.03546975e-02  2.76022360e-01  3.28259867e-02\n",
      "  -5.63247270e-02  4.47699568e-03  4.47699568e-03  2.47416219e-02\n",
      "   2.66628748e-01  1.86052317e-01 -1.37109849e-02 -3.25581461e-02\n",
      "   4.16290209e-02  5.44920882e-02 -4.90668583e-02  1.39809107e-02\n",
      "   1.23091523e-02  4.98584023e-02  6.79829599e-02  8.49305294e-02\n",
      "  -7.83235859e-02 -1.08337925e-02  4.34176403e-02 -7.73502239e-02\n",
      "  -4.76199790e-02  0.00000000e+00  0.00000000e+00  0.00000000e+00\n",
      "   0.00000000e+00  0.00000000e+00 -1.18839566e-02 -1.16194878e-02\n",
      "  -7.44994480e-02 -1.03435272e-02 -3.44321077e-01 -5.14497134e-02\n",
      "   5.98626274e-02 -7.63779417e-02  5.11482407e-02  4.53160113e-02\n",
      "   5.75370957e-02  8.10243075e-02  3.33909180e-01 -8.59981526e-02\n",
      "  -1.06214554e-01  1.90329238e-01  8.68953337e-02 -2.78115851e-01\n",
      "  -1.30994724e-01 -1.36854564e-01  6.64842389e-02 -5.14699475e-02\n",
      "  -8.44162399e-02  1.99006764e-01 -6.09039162e-02  3.63471874e-02\n",
      "   6.13974247e-02 -6.10139768e-02  7.02298334e-02 -1.12345908e-01\n",
      "  -1.00935481e-01 -3.14618163e-03  1.87958241e-02 -4.47853254e-03\n",
      "  -2.84427132e-02 -4.19939502e-02  1.53145690e-01 -1.68445115e-01\n",
      "  -1.01070118e-01  2.05415732e-01  2.56933477e-01 -2.04094897e-02\n",
      "  -4.13034444e-01 -3.08022111e-03 -4.24620560e-02  8.09374458e-02\n",
      "   1.04622446e-01 -1.97782449e-01  1.27906667e-01 -4.87456695e-02\n",
      "  -4.93534247e-02 -3.69584177e-02  1.11768397e-01  3.57651511e-02\n",
      "  -7.80950372e-02 -1.40535973e-02 -9.37738232e-02  1.82973889e-01\n",
      "  -5.80139813e-02  1.08324327e-01 -3.02708495e+00  6.51011534e+00\n",
      "   1.86052317e-01 -6.12642785e-01]]\n",
      "[-3.70187333]\n"
     ]
    }
   ],
   "source": [
    "# display coef for logistic regression model\n",
    "print(lr.coef_)\n",
    "print(lr.intercept_)"
   ]
  },
  {
   "cell_type": "code",
   "execution_count": 18,
   "metadata": {},
   "outputs": [],
   "source": [
    "# cm = confusion_matrix(y_pred=y_pred, y_true=y_test)\n",
    "# # retrive the normalized version of cm\n",
    "# cm_norm = cm/cm.sum(axis=1)[:, np.newaxis]\n",
    "\n",
    "# plt.figure()\n",
    "# plot_confusion_matrix(cm_norm, classes=['unsuccess','success'])\n",
    "# plt.show()"
   ]
  },
  {
   "cell_type": "code",
   "execution_count": null,
   "metadata": {},
   "outputs": [],
   "source": []
  },
  {
   "cell_type": "code",
   "execution_count": null,
   "metadata": {},
   "outputs": [],
   "source": []
  },
  {
   "cell_type": "code",
   "execution_count": 19,
   "metadata": {},
   "outputs": [],
   "source": [
    "# cm = confusion_matrix(y_pred=y_pred, y_true=y_test_1)\n",
    "# # retrive the normalized version of cm\n",
    "# cm_norm = cm/cm.sum(axis=1)[:, np.newaxis]\n",
    "\n",
    "# plt.figure()\n",
    "# plot_confusion_matrix(cm_norm, classes=['unsuccess','success'])\n",
    "# plt.show()"
   ]
  },
  {
   "cell_type": "code",
   "execution_count": 20,
   "metadata": {},
   "outputs": [
    {
     "name": "stdout",
     "output_type": "stream",
     "text": [
      "Accuracy score on the training dataset: 1.0\n",
      "Precision on train: 1.00000\n",
      "Recall on train: 1.00000\n",
      "\n",
      "Accuracy score on the val dataset: 0.99005\n",
      "Precision on val: 0.96203\n",
      "Recall on val: 1.00000\n"
     ]
    }
   ],
   "source": [
    "rf = RandomForestClassifier(n_estimators=100, random_state=42)\n",
    "rf.fit(X_tr, y_tr)\n",
    "y_pred = rf.predict(X_tr)\n",
    "p = precision_score(y_pred=y_pred,y_true=y_tr, pos_label=1)\n",
    "r = recall_score(y_pred=y_pred, y_true=y_tr, pos_label=1)\n",
    "accuracy_score_train = rf.score(X_tr, y_tr)\n",
    "print('Accuracy score on the training dataset: {}'.format(accuracy_score_train))\n",
    "print('Precision on train: {:.5f}'.format(p))\n",
    "print('Recall on train: {:.5f}'.format(r))\n",
    "\n",
    "# test set\n",
    "y_pred = rf.predict(X_val)\n",
    "p = precision_score(y_pred=y_pred,y_true=y_val, pos_label=1)\n",
    "r = recall_score(y_pred=y_pred, y_true=y_val, pos_label=1)\n",
    "accuracy_score_val = rf.score(X_val, y_val)\n",
    "print('\\nAccuracy score on the val dataset: {:.5f}'.format(accuracy_score_val))\n",
    "print('Precision on val: {:.5f}'.format(p))\n",
    "print('Recall on val: {:.5f}'.format(r))"
   ]
  },
  {
   "cell_type": "code",
   "execution_count": 21,
   "metadata": {},
   "outputs": [
    {
     "name": "stdout",
     "output_type": "stream",
     "text": [
      "\n",
      "Accuracy score on the test dataset: 0.99194\n",
      "Precision on test: 0.96887\n",
      "Recall on test: 0.99800\n"
     ]
    }
   ],
   "source": [
    "# test set\n",
    "y_pred = rf.predict(X_test)\n",
    "p = precision_score(y_pred=y_pred,y_true=y_test, pos_label=1)\n",
    "r = recall_score(y_pred=y_pred, y_true=y_test, pos_label=1)\n",
    "accuracy_score_test = rf.score(X_test, y_test)\n",
    "print('\\nAccuracy score on the test dataset: {:.5f}'.format(accuracy_score_test))\n",
    "print('Precision on test: {:.5f}'.format(p))\n",
    "print('Recall on test: {:.5f}'.format(r))"
   ]
  },
  {
   "cell_type": "code",
   "execution_count": 22,
   "metadata": {},
   "outputs": [],
   "source": [
    "# cm = confusion_matrix(y_pred=y_pred, y_true=y_test)\n",
    "# # retrive the normalized version of cm\n",
    "# cm_norm = cm/cm.sum(axis=1)[:, np.newaxis]\n",
    "\n",
    "# plt.figure()\n",
    "# plot_confusion_matrix(cm_norm, classes=['unsuccess','success'])\n",
    "# plt.show()"
   ]
  },
  {
   "cell_type": "code",
   "execution_count": 23,
   "metadata": {},
   "outputs": [
    {
     "name": "stdout",
     "output_type": "stream",
     "text": [
      "Names of the 10 most important features:\n",
      "1. num_joint_success_project\n",
      "2. normalized_proj_span\n",
      "3. proj_span\n",
      "4. activity_intensity_Q3\n",
      "5. activity_intensity_Q4\n",
      "6. activity_intensity_Q1\n",
      "7. activity_intensity\n",
      "8. activity_intensity_Q2\n",
      "9. max_contribution_percentage\n",
      "10. num_Create_Q1\n"
     ]
    }
   ],
   "source": [
    "features = X.columns[:].values.tolist()\n",
    "important_features = rf.feature_importances_\n",
    "feature_index = np.argsort(important_features)[::-1]\n",
    "print('Names of the 10 most important features:')\n",
    "for n in range(10):\n",
    "    print(\"{}. {}\".format(n+1, features[feature_index[n]]))"
   ]
  },
  {
   "cell_type": "code",
   "execution_count": null,
   "metadata": {
    "scrolled": true
   },
   "outputs": [],
   "source": []
  },
  {
   "cell_type": "code",
   "execution_count": 24,
   "metadata": {},
   "outputs": [],
   "source": [
    "# cm = confusion_matrix(y_pred=y_pred, y_true=y_test_1)\n",
    "# # retrive the normalized version of cm\n",
    "# cm_norm = cm/cm.sum(axis=1)[:, np.newaxis]\n",
    "\n",
    "# plt.figure()\n",
    "# plot_confusion_matrix(cm_norm, classes=['unsuccess','success'])\n",
    "# plt.show()"
   ]
  },
  {
   "cell_type": "code",
   "execution_count": null,
   "metadata": {},
   "outputs": [],
   "source": []
  },
  {
   "cell_type": "code",
   "execution_count": 25,
   "metadata": {},
   "outputs": [],
   "source": [
    "# svc_linear = SVC(kernel='linear')\n",
    "# svc_linear.fit(X_tr, y_tr)\n",
    "# ca = svc_linear.score(X_tr, y_tr)\n",
    "# print('Linear SVC classification accuracy on training set: {:.5f}'.format(ca))\n",
    "# ca = svc_linear.score(X_test, y_test)\n",
    "# print('Linear SVC classification accuracy on test set: {:.5f}'.format(ca))"
   ]
  },
  {
   "cell_type": "code",
   "execution_count": 26,
   "metadata": {},
   "outputs": [
    {
     "name": "stdout",
     "output_type": "stream",
     "text": [
      "\n",
      "Radial Basis Function SVC classification accuracy on training set: 0.98957\n",
      "Radial Basis Function SVC classification accuracy on val set: 0.96825\n"
     ]
    }
   ],
   "source": [
    "\n",
    "\n",
    "svc_rbf = SVC(kernel='rbf')\n",
    "svc_rbf.fit(X_tr, y_tr)\n",
    "ca = svc_rbf.score(X_tr, y_tr)\n",
    "print('\\nRadial Basis Function SVC classification accuracy on training set: {:.5f}'.format(ca))\n",
    "ca = svc_rbf.score(X_val, y_val)\n",
    "print('Radial Basis Function SVC classification accuracy on val set: {:.5f}'.format(ca))\n",
    "\n",
    "# svc_poly = SVC(kernel='poly')\n",
    "# svc_poly.fit(X_tr, y_tr)\n",
    "# ca = svc_poly.score(X_tr, y_tr)\n",
    "# print('\\nPolynomial SVC classification accuracy on training set: {:.5f}'.format(ca))\n",
    "# ca = svc_poly.score(X_test, y_test)\n",
    "# print('Polynomial SVC classification accuracy on test set: {:.5f}'.format(ca))"
   ]
  },
  {
   "cell_type": "code",
   "execution_count": 27,
   "metadata": {},
   "outputs": [
    {
     "name": "stdout",
     "output_type": "stream",
     "text": [
      "Precision on train: 0.98164\n",
      "Recall on train: 0.97203\n",
      "Precision on val: 0.96970\n",
      "Recall on val: 0.90226\n"
     ]
    }
   ],
   "source": [
    "y_pred = svc_rbf.predict(X_tr)\n",
    "p = precision_score(y_pred=y_pred,y_true=y_tr, pos_label=1)\n",
    "r = recall_score(y_pred=y_pred, y_true=y_tr, pos_label=1)\n",
    "print('Precision on train: {:.5f}'.format(p))\n",
    "print('Recall on train: {:.5f}'.format(r))\n",
    "\n",
    "y_pred = svc_rbf.predict(X_val)\n",
    "p = precision_score(y_pred=y_pred,y_true=y_val, pos_label=1)\n",
    "r = recall_score(y_pred=y_pred, y_true=y_val, pos_label=1)\n",
    "print('Precision on val: {:.5f}'.format(p))\n",
    "print('Recall on val: {:.5f}'.format(r))\n"
   ]
  },
  {
   "cell_type": "code",
   "execution_count": 28,
   "metadata": {},
   "outputs": [
    {
     "name": "stdout",
     "output_type": "stream",
     "text": [
      "\n",
      "MLP classification accuracy on training set: 0.99716\n",
      "Precision on train: 0.98892\n",
      "Recall on train: 0.99860\n",
      "\n",
      "MLP classification accuracy on validation set: 0.98910\n",
      "Precision on val: 0.97570\n",
      "Recall on val: 0.98120\n"
     ]
    }
   ],
   "source": [
    "from sklearn.neural_network import MLPClassifier\n",
    "mlp = MLPClassifier(solver='lbfgs', alpha=1e-5, hidden_layer_sizes=(5,2), random_state=201902)\n",
    "mlp.fit(X_tr, y_tr)\n",
    "y_pred = mlp.predict(X_tr)\n",
    "ca = mlp.score(X_tr, y_tr)\n",
    "print('\\nMLP classification accuracy on training set: {:.5f}'.format(ca))\n",
    "p = precision_score(y_pred=y_pred,y_true=y_tr, pos_label=1)\n",
    "r = recall_score(y_pred=y_pred, y_true=y_tr, pos_label=1)\n",
    "print('Precision on train: {:.5f}'.format(p))\n",
    "print('Recall on train: {:.5f}'.format(r))\n",
    "\n",
    "y_pred = mlp.predict(X_val)\n",
    "ca = mlp.score(X_val, y_val)\n",
    "print('\\nMLP classification accuracy on validation set: {:.5f}'.format(ca))\n",
    "p = precision_score(y_pred=y_pred,y_true=y_val, pos_label=1)\n",
    "r = recall_score(y_pred=y_pred, y_true=y_val, pos_label=1)\n",
    "print('Precision on val: {:.5f}'.format(p))\n",
    "print('Recall on val: {:.5f}'.format(r))"
   ]
  },
  {
   "cell_type": "code",
   "execution_count": 29,
   "metadata": {},
   "outputs": [
    {
     "name": "stdout",
     "output_type": "stream",
     "text": [
      "[10 10 10 10 10 10 10 10 10 10 10 10 10 10 10 10 10 10 10 10 10 10 10 10\n",
      " 10 10 10 10 10 10 10 10 10 10 10 10 10 10 10 10 10 10 10 10 10 10 10 10\n",
      " 10 10 10 10 10 10 10 10 10 10 10 10 10 10 10 10 10 10 10 10 10 10 10 10\n",
      " 10 10 10 10 10 10 10 10 10 10 10 10 10 10 10 10 10 10 10 10 10 10 10 10\n",
      " 10 10 10 10 10 10 10 10 10 10 10 10 10 10 10 10 10 10 10 10 10 10 10 10\n",
      " 10 10 10 10 10 10 10 10 10 10 10 10 10 10 10 10 10 10 10 10 10 10 10 10\n",
      " 10 10 10 10 10 10 10 10 10 10 10 10 10 10 10 10 10 10 10 10 10 10 10 10\n",
      " 10 10 10 10 10 10 10 10 10 10 10 10 10 10 10 10 10 10 10 10 10 10 10 10\n",
      " 10 10 10 10 10 10 10 10]\n",
      "\n",
      "MLP classification accuracy on training set: 0.77398\n",
      "Precision on train: 0.00000\n",
      "Recall on train: 0.00000\n",
      "\n",
      "MLP classification accuracy on validation set: 0.74787\n",
      "Precision on val: 0.00000\n",
      "Recall on val: 0.00000\n"
     ]
    },
    {
     "name": "stderr",
     "output_type": "stream",
     "text": [
      "/usr/lib64/python3.4/site-packages/sklearn/metrics/classification.py:1135: UndefinedMetricWarning: Precision is ill-defined and being set to 0.0 due to no predicted samples.\n",
      "  'precision', 'predicted', average, warn_for)\n"
     ]
    }
   ],
   "source": [
    "from sklearn.neural_network import MLPClassifier\n",
    "test = np.repeat(10,200)\n",
    "print(test)\n",
    "mlp = MLPClassifier(solver='lbfgs', alpha=1e-5, hidden_layer_sizes=(test), random_state=201902)\n",
    "mlp.fit(X_tr, y_tr)\n",
    "y_pred = mlp.predict(X_tr)\n",
    "ca = mlp.score(X_tr, y_tr)\n",
    "print('\\nMLP classification accuracy on training set: {:.5f}'.format(ca))\n",
    "p = precision_score(y_pred=y_pred,y_true=y_tr, pos_label=1)\n",
    "r = recall_score(y_pred=y_pred, y_true=y_tr, pos_label=1)\n",
    "print('Precision on train: {:.5f}'.format(p))\n",
    "print('Recall on train: {:.5f}'.format(r))\n",
    "\n",
    "y_pred = mlp.predict(X_val)\n",
    "ca = mlp.score(X_val, y_val)\n",
    "print('\\nMLP classification accuracy on validation set: {:.5f}'.format(ca))\n",
    "p = precision_score(y_pred=y_pred,y_true=y_val, pos_label=1)\n",
    "r = recall_score(y_pred=y_pred, y_true=y_val, pos_label=1)\n",
    "print('Precision on val: {:.5f}'.format(p))\n",
    "print('Recall on val: {:.5f}'.format(r))"
   ]
  },
  {
   "cell_type": "code",
   "execution_count": null,
   "metadata": {},
   "outputs": [],
   "source": []
  }
 ],
 "metadata": {
  "kernelspec": {
   "display_name": "Python 3",
   "language": "python",
   "name": "python3"
  },
  "language_info": {
   "codemirror_mode": {
    "name": "ipython",
    "version": 3
   },
   "file_extension": ".py",
   "mimetype": "text/x-python",
   "name": "python",
   "nbconvert_exporter": "python",
   "pygments_lexer": "ipython3",
   "version": "3.6.8"
  }
 },
 "nbformat": 4,
 "nbformat_minor": 2
}
