{
 "cells": [
  {
   "cell_type": "code",
   "execution_count": 1,
   "metadata": {},
   "outputs": [
    {
     "name": "stderr",
     "output_type": "stream",
     "text": [
      "/usr/lib64/python3.4/site-packages/sklearn/cross_validation.py:41: DeprecationWarning: This module was deprecated in version 0.18 in favor of the model_selection module into which all the refactored classes and functions are moved. Also note that the interface of the new CV iterators are different from that of this module. This module will be removed in 0.20.\n",
      "  \"This module will be removed in 0.20.\", DeprecationWarning)\n"
     ]
    }
   ],
   "source": [
    "from __future__ import print_function, division\n",
    "%matplotlib inline\n",
    "\n",
    "# Your code goes here\n",
    "import os\n",
    "import numpy as np \n",
    "import pandas as pd\n",
    "import matplotlib.pyplot as plt\n",
    "import seaborn as sns\n",
    "from scipy import stats\n",
    "from sklearn.metrics import accuracy_score, log_loss\n",
    "from sklearn.linear_model import LogisticRegression, LogisticRegressionCV\n",
    "from sklearn.preprocessing import StandardScaler\n",
    "from sklearn.cross_validation import KFold\n",
    "from sklearn.ensemble import RandomForestClassifier\n",
    "from sklearn.svm import SVC\n",
    "from sklearn.model_selection import train_test_split\n",
    "from sklearn.metrics import average_precision_score, recall_score, precision_score, f1_score, confusion_matrix"
   ]
  },
  {
   "cell_type": "code",
   "execution_count": null,
   "metadata": {},
   "outputs": [],
   "source": []
  },
  {
   "cell_type": "code",
   "execution_count": null,
   "metadata": {},
   "outputs": [],
   "source": []
  },
  {
   "cell_type": "code",
   "execution_count": 2,
   "metadata": {},
   "outputs": [
    {
     "name": "stdout",
     "output_type": "stream",
     "text": [
      "(21820, 100)\n",
      "(5993, 100)\n"
     ]
    }
   ],
   "source": [
    "dataset1 = pd.read_csv('span_feb_28.csv',delimiter = ',')\n",
    "data_neg = dataset1.loc[(dataset1['class']==0) & (dataset1['proj_span']>=10.0)]\n",
    "data_pos = dataset1.loc[(dataset1['class']==1) & (dataset1['proj_span']>=10.0)]\n",
    "print(data_neg.shape)\n",
    "print(data_pos.shape)"
   ]
  },
  {
   "cell_type": "code",
   "execution_count": 3,
   "metadata": {},
   "outputs": [],
   "source": [
    "dataset = pd.read_csv('span_feb_28.csv',delimiter = ',')\n",
    "dataset = dataset.loc[dataset['proj_span'] >= 10.0]\n"
   ]
  },
  {
   "cell_type": "code",
   "execution_count": null,
   "metadata": {},
   "outputs": [],
   "source": []
  },
  {
   "cell_type": "code",
   "execution_count": 4,
   "metadata": {},
   "outputs": [
    {
     "data": {
      "text/plain": [
       "(27813, 100)"
      ]
     },
     "execution_count": 4,
     "metadata": {},
     "output_type": "execute_result"
    }
   ],
   "source": [
    "X = (dataset.drop('class', axis=1)).drop('id', axis=1)\n",
    "y = dataset['class']\n",
    "dataset.shape"
   ]
  },
  {
   "cell_type": "code",
   "execution_count": null,
   "metadata": {},
   "outputs": [],
   "source": []
  },
  {
   "cell_type": "code",
   "execution_count": 5,
   "metadata": {},
   "outputs": [
    {
     "data": {
      "text/html": [
       "<div>\n",
       "<style scoped>\n",
       "    .dataframe tbody tr th:only-of-type {\n",
       "        vertical-align: middle;\n",
       "    }\n",
       "\n",
       "    .dataframe tbody tr th {\n",
       "        vertical-align: top;\n",
       "    }\n",
       "\n",
       "    .dataframe thead th {\n",
       "        text-align: right;\n",
       "    }\n",
       "</style>\n",
       "<table border=\"1\" class=\"dataframe\">\n",
       "  <thead>\n",
       "    <tr style=\"text-align: right;\">\n",
       "      <th></th>\n",
       "      <th>activity_intensity</th>\n",
       "      <th>activity_intensity_Q1</th>\n",
       "      <th>activity_intensity_Q2</th>\n",
       "      <th>activity_intensity_Q3</th>\n",
       "      <th>activity_intensity_Q4</th>\n",
       "      <th>class</th>\n",
       "      <th>contribution_30_10_percentage</th>\n",
       "      <th>contribution_50_30_percentage</th>\n",
       "      <th>contribution_below_10_percentage</th>\n",
       "      <th>contribution_over_50</th>\n",
       "      <th>...</th>\n",
       "      <th>num_TeamAdd_Q4</th>\n",
       "      <th>num_Watch</th>\n",
       "      <th>num_Watch_Q1</th>\n",
       "      <th>num_Watch_Q2</th>\n",
       "      <th>num_Watch_Q3</th>\n",
       "      <th>num_Watch_Q4</th>\n",
       "      <th>num_joint_project</th>\n",
       "      <th>num_joint_success_project</th>\n",
       "      <th>proj_span</th>\n",
       "      <th>team_age_in_days</th>\n",
       "    </tr>\n",
       "  </thead>\n",
       "  <tbody>\n",
       "    <tr>\n",
       "      <th>count</th>\n",
       "      <td>27813.000000</td>\n",
       "      <td>27813.000000</td>\n",
       "      <td>27813.000000</td>\n",
       "      <td>27813.000000</td>\n",
       "      <td>27813.000000</td>\n",
       "      <td>27813.000000</td>\n",
       "      <td>27813.000000</td>\n",
       "      <td>27813.000000</td>\n",
       "      <td>27813.000000</td>\n",
       "      <td>27813.000000</td>\n",
       "      <td>...</td>\n",
       "      <td>27813.000000</td>\n",
       "      <td>27813.000000</td>\n",
       "      <td>27813.000000</td>\n",
       "      <td>27813.000000</td>\n",
       "      <td>27813.000000</td>\n",
       "      <td>27813.000000</td>\n",
       "      <td>27813.000000</td>\n",
       "      <td>27813.000000</td>\n",
       "      <td>27813.000000</td>\n",
       "      <td>27813.000000</td>\n",
       "    </tr>\n",
       "    <tr>\n",
       "      <th>mean</th>\n",
       "      <td>0.338187</td>\n",
       "      <td>0.393658</td>\n",
       "      <td>0.332373</td>\n",
       "      <td>0.332155</td>\n",
       "      <td>0.302854</td>\n",
       "      <td>0.215475</td>\n",
       "      <td>0.039833</td>\n",
       "      <td>0.061942</td>\n",
       "      <td>0.030057</td>\n",
       "      <td>0.858987</td>\n",
       "      <td>...</td>\n",
       "      <td>0.007622</td>\n",
       "      <td>0.829936</td>\n",
       "      <td>0.761011</td>\n",
       "      <td>0.699924</td>\n",
       "      <td>0.737065</td>\n",
       "      <td>0.743429</td>\n",
       "      <td>828.326358</td>\n",
       "      <td>814.016647</td>\n",
       "      <td>186.270845</td>\n",
       "      <td>53.731277</td>\n",
       "    </tr>\n",
       "    <tr>\n",
       "      <th>std</th>\n",
       "      <td>1.765379</td>\n",
       "      <td>1.994095</td>\n",
       "      <td>1.838033</td>\n",
       "      <td>1.541264</td>\n",
       "      <td>1.844249</td>\n",
       "      <td>0.411159</td>\n",
       "      <td>0.123407</td>\n",
       "      <td>0.204760</td>\n",
       "      <td>0.103510</td>\n",
       "      <td>0.348041</td>\n",
       "      <td>...</td>\n",
       "      <td>0.098599</td>\n",
       "      <td>8.089224</td>\n",
       "      <td>7.275324</td>\n",
       "      <td>6.542039</td>\n",
       "      <td>7.217557</td>\n",
       "      <td>7.237156</td>\n",
       "      <td>2738.267131</td>\n",
       "      <td>2731.359397</td>\n",
       "      <td>256.520035</td>\n",
       "      <td>141.433467</td>\n",
       "    </tr>\n",
       "    <tr>\n",
       "      <th>min</th>\n",
       "      <td>0.001468</td>\n",
       "      <td>0.001468</td>\n",
       "      <td>0.001468</td>\n",
       "      <td>0.001468</td>\n",
       "      <td>0.001468</td>\n",
       "      <td>0.000000</td>\n",
       "      <td>0.000000</td>\n",
       "      <td>0.000000</td>\n",
       "      <td>0.000000</td>\n",
       "      <td>0.000000</td>\n",
       "      <td>...</td>\n",
       "      <td>0.000000</td>\n",
       "      <td>0.000000</td>\n",
       "      <td>0.000000</td>\n",
       "      <td>0.000000</td>\n",
       "      <td>0.000000</td>\n",
       "      <td>0.000000</td>\n",
       "      <td>1.000000</td>\n",
       "      <td>0.000000</td>\n",
       "      <td>10.000000</td>\n",
       "      <td>0.000000</td>\n",
       "    </tr>\n",
       "    <tr>\n",
       "      <th>25%</th>\n",
       "      <td>0.043831</td>\n",
       "      <td>0.043956</td>\n",
       "      <td>0.043478</td>\n",
       "      <td>0.043636</td>\n",
       "      <td>0.039474</td>\n",
       "      <td>0.000000</td>\n",
       "      <td>0.000000</td>\n",
       "      <td>0.000000</td>\n",
       "      <td>0.000000</td>\n",
       "      <td>1.000000</td>\n",
       "      <td>...</td>\n",
       "      <td>0.000000</td>\n",
       "      <td>0.000000</td>\n",
       "      <td>0.000000</td>\n",
       "      <td>0.000000</td>\n",
       "      <td>0.000000</td>\n",
       "      <td>0.000000</td>\n",
       "      <td>1.000000</td>\n",
       "      <td>0.000000</td>\n",
       "      <td>28.000000</td>\n",
       "      <td>0.000000</td>\n",
       "    </tr>\n",
       "    <tr>\n",
       "      <th>50%</th>\n",
       "      <td>0.126761</td>\n",
       "      <td>0.129032</td>\n",
       "      <td>0.125000</td>\n",
       "      <td>0.125000</td>\n",
       "      <td>0.115385</td>\n",
       "      <td>0.000000</td>\n",
       "      <td>0.000000</td>\n",
       "      <td>0.000000</td>\n",
       "      <td>0.000000</td>\n",
       "      <td>1.000000</td>\n",
       "      <td>...</td>\n",
       "      <td>0.000000</td>\n",
       "      <td>0.000000</td>\n",
       "      <td>0.000000</td>\n",
       "      <td>0.000000</td>\n",
       "      <td>0.000000</td>\n",
       "      <td>0.000000</td>\n",
       "      <td>1.000000</td>\n",
       "      <td>0.000000</td>\n",
       "      <td>84.000000</td>\n",
       "      <td>0.000000</td>\n",
       "    </tr>\n",
       "    <tr>\n",
       "      <th>75%</th>\n",
       "      <td>0.335347</td>\n",
       "      <td>0.354839</td>\n",
       "      <td>0.333333</td>\n",
       "      <td>0.333333</td>\n",
       "      <td>0.285714</td>\n",
       "      <td>0.000000</td>\n",
       "      <td>0.000000</td>\n",
       "      <td>0.000000</td>\n",
       "      <td>0.000000</td>\n",
       "      <td>1.000000</td>\n",
       "      <td>...</td>\n",
       "      <td>0.000000</td>\n",
       "      <td>0.000000</td>\n",
       "      <td>0.000000</td>\n",
       "      <td>0.000000</td>\n",
       "      <td>0.000000</td>\n",
       "      <td>0.000000</td>\n",
       "      <td>5.000000</td>\n",
       "      <td>1.000000</td>\n",
       "      <td>237.000000</td>\n",
       "      <td>35.000000</td>\n",
       "    </tr>\n",
       "    <tr>\n",
       "      <th>max</th>\n",
       "      <td>267.739130</td>\n",
       "      <td>249.800000</td>\n",
       "      <td>276.166667</td>\n",
       "      <td>224.333333</td>\n",
       "      <td>283.666667</td>\n",
       "      <td>1.000000</td>\n",
       "      <td>1.000000</td>\n",
       "      <td>1.000000</td>\n",
       "      <td>1.000000</td>\n",
       "      <td>1.000000</td>\n",
       "      <td>...</td>\n",
       "      <td>3.000000</td>\n",
       "      <td>607.000000</td>\n",
       "      <td>607.000000</td>\n",
       "      <td>607.000000</td>\n",
       "      <td>607.000000</td>\n",
       "      <td>607.000000</td>\n",
       "      <td>10064.000000</td>\n",
       "      <td>10033.000000</td>\n",
       "      <td>1800.000000</td>\n",
       "      <td>1718.000000</td>\n",
       "    </tr>\n",
       "  </tbody>\n",
       "</table>\n",
       "<p>8 rows × 99 columns</p>\n",
       "</div>"
      ],
      "text/plain": [
       "       activity_intensity  activity_intensity_Q1  activity_intensity_Q2  \\\n",
       "count        27813.000000           27813.000000           27813.000000   \n",
       "mean             0.338187               0.393658               0.332373   \n",
       "std              1.765379               1.994095               1.838033   \n",
       "min              0.001468               0.001468               0.001468   \n",
       "25%              0.043831               0.043956               0.043478   \n",
       "50%              0.126761               0.129032               0.125000   \n",
       "75%              0.335347               0.354839               0.333333   \n",
       "max            267.739130             249.800000             276.166667   \n",
       "\n",
       "       activity_intensity_Q3  activity_intensity_Q4         class  \\\n",
       "count           27813.000000           27813.000000  27813.000000   \n",
       "mean                0.332155               0.302854      0.215475   \n",
       "std                 1.541264               1.844249      0.411159   \n",
       "min                 0.001468               0.001468      0.000000   \n",
       "25%                 0.043636               0.039474      0.000000   \n",
       "50%                 0.125000               0.115385      0.000000   \n",
       "75%                 0.333333               0.285714      0.000000   \n",
       "max               224.333333             283.666667      1.000000   \n",
       "\n",
       "       contribution_30_10_percentage  contribution_50_30_percentage  \\\n",
       "count                   27813.000000                   27813.000000   \n",
       "mean                        0.039833                       0.061942   \n",
       "std                         0.123407                       0.204760   \n",
       "min                         0.000000                       0.000000   \n",
       "25%                         0.000000                       0.000000   \n",
       "50%                         0.000000                       0.000000   \n",
       "75%                         0.000000                       0.000000   \n",
       "max                         1.000000                       1.000000   \n",
       "\n",
       "       contribution_below_10_percentage  contribution_over_50  \\\n",
       "count                      27813.000000          27813.000000   \n",
       "mean                           0.030057              0.858987   \n",
       "std                            0.103510              0.348041   \n",
       "min                            0.000000              0.000000   \n",
       "25%                            0.000000              1.000000   \n",
       "50%                            0.000000              1.000000   \n",
       "75%                            0.000000              1.000000   \n",
       "max                            1.000000              1.000000   \n",
       "\n",
       "             ...         num_TeamAdd_Q4     num_Watch  num_Watch_Q1  \\\n",
       "count        ...           27813.000000  27813.000000  27813.000000   \n",
       "mean         ...               0.007622      0.829936      0.761011   \n",
       "std          ...               0.098599      8.089224      7.275324   \n",
       "min          ...               0.000000      0.000000      0.000000   \n",
       "25%          ...               0.000000      0.000000      0.000000   \n",
       "50%          ...               0.000000      0.000000      0.000000   \n",
       "75%          ...               0.000000      0.000000      0.000000   \n",
       "max          ...               3.000000    607.000000    607.000000   \n",
       "\n",
       "       num_Watch_Q2  num_Watch_Q3  num_Watch_Q4  num_joint_project  \\\n",
       "count  27813.000000  27813.000000  27813.000000       27813.000000   \n",
       "mean       0.699924      0.737065      0.743429         828.326358   \n",
       "std        6.542039      7.217557      7.237156        2738.267131   \n",
       "min        0.000000      0.000000      0.000000           1.000000   \n",
       "25%        0.000000      0.000000      0.000000           1.000000   \n",
       "50%        0.000000      0.000000      0.000000           1.000000   \n",
       "75%        0.000000      0.000000      0.000000           5.000000   \n",
       "max      607.000000    607.000000    607.000000       10064.000000   \n",
       "\n",
       "       num_joint_success_project     proj_span  team_age_in_days  \n",
       "count               27813.000000  27813.000000      27813.000000  \n",
       "mean                  814.016647    186.270845         53.731277  \n",
       "std                  2731.359397    256.520035        141.433467  \n",
       "min                     0.000000     10.000000          0.000000  \n",
       "25%                     0.000000     28.000000          0.000000  \n",
       "50%                     0.000000     84.000000          0.000000  \n",
       "75%                     1.000000    237.000000         35.000000  \n",
       "max                 10033.000000   1800.000000       1718.000000  \n",
       "\n",
       "[8 rows x 99 columns]"
      ]
     },
     "execution_count": 5,
     "metadata": {},
     "output_type": "execute_result"
    }
   ],
   "source": [
    "\n",
    "dataset.describe()"
   ]
  },
  {
   "cell_type": "code",
   "execution_count": 6,
   "metadata": {},
   "outputs": [
    {
     "name": "stdout",
     "output_type": "stream",
     "text": [
      "training size:  16687\n",
      "validation size:  5563\n",
      "test size:  5563\n"
     ]
    }
   ],
   "source": [
    "X_tr, X_test, y_tr, y_test = train_test_split(X, y, test_size=0.2, random_state=20190101)\n",
    "X_tr, X_val, y_tr, y_val = train_test_split(X_tr, y_tr, test_size=0.25, random_state=20190101)\n",
    "print('training size: ', X_tr.shape[0])\n",
    "print('validation size: ', X_val.shape[0])\n",
    "print('test size: ', X_test.shape[0])"
   ]
  },
  {
   "cell_type": "code",
   "execution_count": 7,
   "metadata": {},
   "outputs": [
    {
     "data": {
      "image/png": "[encoded data removed]",
      "text/plain": [
       "<Figure size 864x360 with 2 Axes>"
      ]
     },
     "metadata": {},
     "output_type": "display_data"
    }
   ],
   "source": [
    "plt.figure(figsize=(12,5))\n",
    "plt.subplot(1,2,1)\n",
    "ax1 = sns.countplot(x='class', data=dataset)\n",
    "ax1.set_xticklabels(['not Success', 'Success'])\n",
    "plt.title('Dataset with CRAN before GH')\n",
    "ax2 = plt.subplot(1,2,2)\n",
    "sns.countplot(x='class', data=dataset1)\n",
    "ax2.set_xticklabels(['not Success', 'Success'])\n",
    "plt.title('Dataset don\\'t care CRAN before GH')\n",
    "plt.show()"
   ]
  },
  {
   "cell_type": "code",
   "execution_count": 8,
   "metadata": {},
   "outputs": [
    {
     "name": "stdout",
     "output_type": "stream",
     "text": [
      "Classification accuracy of the LogisticRegression classifier on training set: 0.86079\n",
      "Precision on train: 0.84152\n",
      "Recall on train: 0.42515\n",
      "\n",
      "Classification accuracy of the LogisticRegression classifier on val set: 0.86284\n",
      "Precision on val: 0.84013\n",
      "Recall on val: 0.43644\n"
     ]
    },
    {
     "data": {
      "text/plain": [
       "array([[3834,  463],\n",
       "       [1116,  150]])"
      ]
     },
     "execution_count": 8,
     "metadata": {},
     "output_type": "execute_result"
    }
   ],
   "source": [
    "lr = LogisticRegression(solver='lbfgs')\n",
    "lr.fit(X_tr, y_tr)\n",
    "ca = lr.score(X_tr, y_tr)\n",
    "print('Classification accuracy of the LogisticRegression classifier on training set: {:.5f}'.format(ca))\n",
    "y_pred = lr.predict(X_tr)\n",
    "p = precision_score(y_pred=y_pred,y_true=y_tr, pos_label=1)\n",
    "r = recall_score(y_pred=y_pred, y_true=y_tr, pos_label=1)\n",
    "print('Precision on train: {:.5f}'.format(p))\n",
    "print('Recall on train: {:.5f}'.format(r))\n",
    "ca = lr.score(X_val, y_val)\n",
    "y_pred = lr.predict(X_val)\n",
    "p = precision_score(y_pred=y_pred,y_true=y_val, pos_label=1)\n",
    "r = recall_score(y_pred=y_pred, y_true=y_val, pos_label=1)\n",
    "print('\\nClassification accuracy of the LogisticRegression classifier on val set: {:.5f}'.format(ca))\n",
    "print('Precision on val: {:.5f}'.format(p))\n",
    "print('Recall on val: {:.5f}'.format(r))\n",
    "confusion_matrix(y_pred=y_pred, y_true=y_test)"
   ]
  },
  {
   "cell_type": "code",
   "execution_count": 9,
   "metadata": {},
   "outputs": [
    {
     "name": "stdout",
     "output_type": "stream",
     "text": [
      "[[-1.03370514e-01 -1.22186047e-01 -1.03169203e-01 -1.00737809e-01\n",
      "  -9.85234268e-02 -1.18374944e-02 -2.22985708e-02 -2.76129669e-03\n",
      "  -2.62127292e-01 -1.19755104e-01 -1.19755104e-01 -1.52495701e-01\n",
      "  -2.63191001e-01  4.33484346e-07  4.99950355e-03  5.71838927e-03\n",
      "   6.67968101e-04  6.60199674e-03  4.71760849e-03  1.17581909e-02\n",
      "   9.57278258e-03  6.39881623e-03  6.30796057e-03  1.37640595e-03\n",
      "   2.39742240e-02  2.54262544e-02  2.33778634e-02  1.96577367e-02\n",
      "   1.83586229e-02  0.00000000e+00  0.00000000e+00  0.00000000e+00\n",
      "   0.00000000e+00  0.00000000e+00 -9.83400170e-03 -1.25027217e-02\n",
      "  -1.40860828e-02 -1.70819202e-02 -1.19197262e-02  2.17675308e-04\n",
      "   2.14910781e-03 -2.25749553e-02 -1.65139331e-03  2.50964045e-03\n",
      "   2.64701966e-02  4.00924386e-02 -2.36676297e-02 -1.36147155e-02\n",
      "  -5.26488606e-03  6.46270612e-03  3.93448523e-02  7.19645539e-03\n",
      "  -1.22614786e-02 -3.96126059e-03 -1.25854447e-02 -1.10888613e-02\n",
      "  -1.14536348e-02 -1.14149469e-02 -1.09494937e-02 -7.65304707e-03\n",
      "  -7.44774742e-03 -7.17139435e-03 -7.57081273e-03 -7.77323673e-03\n",
      "  -2.85205842e-02 -3.56395960e-03  9.02678935e-03 -1.40587695e-02\n",
      "   4.29771348e-02  1.88128869e-02 -7.95159644e-03 -5.51297688e-04\n",
      "   2.58008341e-02  2.55624809e-02  1.92824817e-02 -2.56502208e-02\n",
      "   3.87617517e-03  6.23847526e-04 -1.32036105e-02  1.64104550e-02\n",
      "   1.75810094e-02  1.29362228e-02  1.67217735e-02  1.45562739e-02\n",
      "  -2.02950339e-03 -2.02193214e-03 -1.94849428e-03 -1.93234715e-03\n",
      "  -1.96484674e-03  8.51112205e-02  7.35617921e-02  5.31011795e-02\n",
      "   4.72560393e-02  9.21819983e-02  1.50451390e-03 -8.54945075e-04\n",
      "   7.91108932e-04 -3.39623998e-03]]\n",
      "[-0.29939503]\n"
     ]
    }
   ],
   "source": [
    "# display coef for logistic regression model\n",
    "print(lr.coef_)\n",
    "print(lr.intercept_)"
   ]
  },
  {
   "cell_type": "code",
   "execution_count": 10,
   "metadata": {},
   "outputs": [],
   "source": [
    "def plot_confusion_matrix(cm, classes=None, title='Confusion matrix'):\n",
    "    \"\"\"Plots a confusion matrix.\"\"\"\n",
    "    if classes is not None:\n",
    "        sns.heatmap(cm, xticklabels=classes, yticklabels=classes, vmin=0., vmax=1., annot=True)\n",
    "    else:\n",
    "        sns.heatmap(cm, vmin=0., vmax=1.)\n",
    "    plt.title(title)\n",
    "    plt.ylabel('True label')\n",
    "    plt.xlabel('Predicted label')"
   ]
  },
  {
   "cell_type": "code",
   "execution_count": 11,
   "metadata": {},
   "outputs": [],
   "source": [
    "# cm = confusion_matrix(y_pred=y_pred, y_true=y_test)\n",
    "# # retrive the normalized version of cm\n",
    "# cm_norm = cm/cm.sum(axis=1)[:, np.newaxis]\n",
    "\n",
    "# plt.figure()\n",
    "# plot_confusion_matrix(cm_norm, classes=['unsuccess','success'])\n",
    "# plt.show()"
   ]
  },
  {
   "cell_type": "code",
   "execution_count": 12,
   "metadata": {
    "scrolled": true
   },
   "outputs": [],
   "source": [
    "# lr = LogisticRegression(solver='lbfgs')\n",
    "# lr.fit(X_tr, y_tr)\n",
    "# predictions = lr.predict(X_tr)\n",
    "# params = np.append(lr.intercept_, lr.coef_)\n",
    "# newX = pd.DataFrame({\"Constant\":np.ones(len(X_tr))}).join(pd.DataFrame(X_tr.reset_index(drop=True)))\n",
    "# MSE = (sum((y_tr-predictions)**2))/(len(newX)-len(newX.columns))\n",
    "\n",
    "\n",
    "# var_b = MSE*(np.linalg.inv(np.dot(newX.T,newX)).diagonal())\n",
    "# sd_b = np.sqrt(var_b)\n",
    "# ts_b = params/ sd_b\n",
    "# print(newX)\n",
    "# p_values =[2*(1-stats.t.cdf(np.abs(i),(len(newX)-1))) for i in ts_b]\n",
    "\n",
    "# sd_b = np.round(sd_b,3)\n",
    "# ts_b = np.round(ts_b,3)\n",
    "# p_values = np.round(p_values,3)\n",
    "# params = np.round(params,4)\n",
    "\n",
    "# myDF3 = pd.DataFrame()\n",
    "# myDF3[\"Coefficients\"],myDF3[\"Standard Errors\"],myDF3[\"t values\"],myDF3[\"Probabilites\"] = [params,sd_b,ts_b,p_values]\n",
    "# print(myDF3)"
   ]
  },
  {
   "cell_type": "code",
   "execution_count": null,
   "metadata": {},
   "outputs": [],
   "source": []
  },
  {
   "cell_type": "code",
   "execution_count": 13,
   "metadata": {},
   "outputs": [],
   "source": [
    "# cm = confusion_matrix(y_pred=y_pred, y_true=y_test_1)\n",
    "# # retrive the normalized version of cm\n",
    "# cm_norm = cm/cm.sum(axis=1)[:, np.newaxis]\n",
    "\n",
    "# plt.figure()\n",
    "# plot_confusion_matrix(cm_norm, classes=['unsuccess','success'])\n",
    "# plt.show()"
   ]
  },
  {
   "cell_type": "code",
   "execution_count": 7,
   "metadata": {},
   "outputs": [],
   "source": [
    "# transform the data\n",
    "ss = StandardScaler()\n",
    "ss.fit(X_tr)\n",
    "X_tr = ss.transform(X_tr)\n",
    "X_test = ss.transform(X_test)\n",
    "X_val = ss.transform(X_val)\n",
    "\n"
   ]
  },
  {
   "cell_type": "code",
   "execution_count": 8,
   "metadata": {},
   "outputs": [
    {
     "name": "stdout",
     "output_type": "stream",
     "text": [
      "Classification accuracy of the LogisticRegression classifier on training set: 0.87331\n",
      "Precision on train: 0.89651\n",
      "Recall on train: 0.45672\n",
      "\n",
      "Classification accuracy of the LogisticRegression classifier on val set: 0.86302\n",
      "Precision on val: 0.87321\n",
      "Recall on val: 0.41441\n"
     ]
    }
   ],
   "source": [
    "lr = LogisticRegression(solver='lbfgs')\n",
    "lr.fit(X_tr, y_tr)\n",
    "ca = lr.score(X_tr, y_tr)\n",
    "print('Classification accuracy of the LogisticRegression classifier on training set: {:.5f}'.format(ca))\n",
    "y_pred = lr.predict(X_tr)\n",
    "p = precision_score(y_pred=y_pred,y_true=y_tr, pos_label=1)\n",
    "r = recall_score(y_pred=y_pred, y_true=y_tr, pos_label=1)\n",
    "print('Precision on train: {:.5f}'.format(p))\n",
    "print('Recall on train: {:.5f}'.format(r))\n",
    "\n",
    "ca = lr.score(X_val, y_val)\n",
    "y_pred = lr.predict(X_val)\n",
    "p = precision_score(y_pred=y_pred,y_true=y_val, pos_label=1)\n",
    "r = recall_score(y_pred=y_pred, y_true=y_val, pos_label=1)\n",
    "print('\\nClassification accuracy of the LogisticRegression classifier on val set: {:.5f}'.format(ca))\n",
    "print('Precision on val: {:.5f}'.format(p))\n",
    "print('Recall on val: {:.5f}'.format(r))"
   ]
  },
  {
   "cell_type": "code",
   "execution_count": 9,
   "metadata": {},
   "outputs": [],
   "source": [
    "# display coef for logistic regression model\n",
    "# print(lr.coef_)\n",
    "# print(lr.intercept_)"
   ]
  },
  {
   "cell_type": "code",
   "execution_count": 10,
   "metadata": {},
   "outputs": [],
   "source": [
    "# cm = confusion_matrix(y_pred=y_pred, y_true=y_test)\n",
    "# # retrive the normalized version of cm\n",
    "# cm_norm = cm/cm.sum(axis=1)[:, np.newaxis]\n",
    "\n",
    "# plt.figure()\n",
    "# plot_confusion_matrix(cm_norm, classes=['unsuccess','success'])\n",
    "# plt.show()"
   ]
  },
  {
   "cell_type": "code",
   "execution_count": 22,
   "metadata": {},
   "outputs": [
    {
     "name": "stdout",
     "output_type": "stream",
     "text": [
      "[0.78842351 0.78896279 0.79129966 0.79381629 0.7999281  0.82922883\n",
      " 0.86068668 0.8610462  0.86194499 0.86122596 0.86140572 0.86158548\n",
      " 0.86086644 0.86140572 0.86248427 0.86320331 0.86338307 0.8641021\n",
      " 0.86392234 0.86374258 0.86338307 0.86338307 0.86320331 0.86320331\n",
      " 0.86320331 0.86302355 0.86338307 0.86302355 0.86338307 0.86302355\n",
      " 0.86302355 0.86302355 0.86320331 0.86320331 0.86338307 0.86374258\n",
      " 0.86338307 0.86356283 0.86338307 0.86338307]\n"
     ]
    }
   ],
   "source": [
    "c = np.logspace(-5, 2, num=40, base=10)\n",
    "score_array = np.zeros((40,))\n",
    "for n in range(len(c)):\n",
    "    lr = LogisticRegression(C=c[n], solver='lbfgs')\n",
    "    lr.fit(X_tr, y_tr)\n",
    "    score_array[n] = lr.score(X_val, y_val)\n",
    "    \n",
    "print(score_array)"
   ]
  },
  {
   "cell_type": "code",
   "execution_count": 23,
   "metadata": {},
   "outputs": [
    {
     "data": {
      "text/plain": [
       "array([1.00000000e-05, 1.51177507e-05, 2.28546386e-05, 3.45510729e-05,\n",
       "       5.22334507e-05, 7.89652287e-05, 1.19377664e-04, 1.80472177e-04,\n",
       "       2.72833338e-04, 4.12462638e-04, 6.23550734e-04, 9.42668455e-04,\n",
       "       1.42510267e-03, 2.15443469e-03, 3.25702066e-03, 4.92388263e-03,\n",
       "       7.44380301e-03, 1.12533558e-02, 1.70125428e-02, 2.57191381e-02,\n",
       "       3.88815518e-02, 5.87801607e-02, 8.88623816e-02, 1.34339933e-01,\n",
       "       2.03091762e-01, 3.07029063e-01, 4.64158883e-01, 7.01703829e-01,\n",
       "       1.06081836e+00, 1.60371874e+00, 2.42446202e+00, 3.66524124e+00,\n",
       "       5.54102033e+00, 8.37677640e+00, 1.26638017e+01, 1.91448198e+01,\n",
       "       2.89426612e+01, 4.37547938e+01, 6.61474064e+01, 1.00000000e+02])"
      ]
     },
     "execution_count": 23,
     "metadata": {},
     "output_type": "execute_result"
    }
   ],
   "source": [
    "c"
   ]
  },
  {
   "cell_type": "code",
   "execution_count": 24,
   "metadata": {},
   "outputs": [
    {
     "data": {
      "image/png": "[encoded data removed]",
      "text/plain": [
       "<Figure size 720x576 with 1 Axes>"
      ]
     },
     "metadata": {},
     "output_type": "display_data"
    }
   ],
   "source": [
    "plt.figure(figsize=(10,8))\n",
    "plt.semilogx(c, score_array, basex=10)\n",
    "plt.xlabel('Regularisation parameter C')\n",
    "plt.ylabel('Classification accuracy')\n",
    "plt.title('Mean classification accuracy against regularisation parameter C')\n",
    "plt.show()"
   ]
  },
  {
   "cell_type": "code",
   "execution_count": 25,
   "metadata": {},
   "outputs": [
    {
     "name": "stdout",
     "output_type": "stream",
     "text": [
      "Optimal C is : 0.01125\n",
      "\n",
      "Classification accuracy of the LogisticRegression classifier on val set: 0.86410\n",
      "Precision on val: 0.88129\n",
      "Recall on val: 0.41525\n"
     ]
    }
   ],
   "source": [
    "C_optimal = c[score_array.argmax()]\n",
    "print('Optimal C is : {:.5f}'.format(C_optimal))\n",
    "lr = LogisticRegression(C=C_optimal, solver='lbfgs')\n",
    "lr.fit(X_tr, y_tr)\n",
    "ca = lr.score(X_val, y_val)\n",
    "y_pred = lr.predict(X_val)\n",
    "p = precision_score(y_pred=y_pred,y_true=y_val, pos_label=1)\n",
    "r = recall_score(y_pred=y_pred, y_true=y_val, pos_label=1)\n",
    "print('\\nClassification accuracy of the LogisticRegression classifier on val set: {:.5f}'.format(ca))\n",
    "print('Precision on val: {:.5f}'.format(p))\n",
    "print('Recall on val: {:.5f}'.format(r))"
   ]
  },
  {
   "cell_type": "code",
   "execution_count": 11,
   "metadata": {},
   "outputs": [],
   "source": [
    "# cm = confusion_matrix(y_pred=y_pred, y_true=y_test_1)\n",
    "# # retrive the normalized version of cm\n",
    "# cm_norm = cm/cm.sum(axis=1)[:, np.newaxis]\n",
    "\n",
    "# plt.figure()\n",
    "# plot_confusion_matrix(cm_norm, classes=['unsuccess','success'])\n",
    "# plt.show()"
   ]
  },
  {
   "cell_type": "code",
   "execution_count": 12,
   "metadata": {},
   "outputs": [
    {
     "name": "stdout",
     "output_type": "stream",
     "text": [
      "Accuracy score on the training dataset: 0.9998801462216096\n",
      "Precision on train: 1.00000\n",
      "Recall on train: 0.99944\n",
      "\n",
      "Accuracy score on the val dataset: 0.96261\n",
      "Precision on val: 0.95763\n",
      "Recall on val: 0.86186\n"
     ]
    }
   ],
   "source": [
    "rf = RandomForestClassifier(n_estimators=100, random_state=42)\n",
    "rf.fit(X_tr, y_tr)\n",
    "y_pred = rf.predict(X_tr)\n",
    "p = precision_score(y_pred=y_pred,y_true=y_tr, pos_label=1)\n",
    "r = recall_score(y_pred=y_pred, y_true=y_tr, pos_label=1)\n",
    "accuracy_score_train = rf.score(X_tr, y_tr)\n",
    "print('Accuracy score on the training dataset: {}'.format(accuracy_score_train))\n",
    "print('Precision on train: {:.5f}'.format(p))\n",
    "print('Recall on train: {:.5f}'.format(r))\n",
    "\n",
    "# test set\n",
    "y_pred = rf.predict(X_val)\n",
    "p = precision_score(y_pred=y_pred,y_true=y_val, pos_label=1)\n",
    "r = recall_score(y_pred=y_pred, y_true=y_val, pos_label=1)\n",
    "accuracy_score_val = rf.score(X_val, y_val)\n",
    "print('\\nAccuracy score on the val dataset: {:.5f}'.format(accuracy_score_val))\n",
    "print('Precision on val: {:.5f}'.format(p))\n",
    "print('Recall on val: {:.5f}'.format(r))"
   ]
  },
  {
   "cell_type": "code",
   "execution_count": 13,
   "metadata": {},
   "outputs": [],
   "source": [
    "# cm = confusion_matrix(y_pred=y_pred, y_true=y_test)\n",
    "# # retrive the normalized version of cm\n",
    "# cm_norm = cm/cm.sum(axis=1)[:, np.newaxis]\n",
    "\n",
    "# plt.figure()\n",
    "# plot_confusion_matrix(cm_norm, classes=['unsuccess','success'])\n",
    "# plt.show()"
   ]
  },
  {
   "cell_type": "code",
   "execution_count": 14,
   "metadata": {},
   "outputs": [
    {
     "name": "stdout",
     "output_type": "stream",
     "text": [
      "Names of the 10 most important features:\n",
      "1. num_joint_success_project\n",
      "2. num_joint_project\n",
      "3. team_age_in_days\n",
      "4. activity_intensity_Q4\n",
      "5. normalized_proj_span\n",
      "6. proj_span\n",
      "7. activity_intensity\n",
      "8. activity_intensity_Q1\n",
      "9. activity_intensity_Q2\n",
      "10. activity_intensity_Q3\n"
     ]
    }
   ],
   "source": [
    "features = X.columns[:].values.tolist()\n",
    "important_features = rf.feature_importances_\n",
    "feature_index = np.argsort(important_features)[::-1]\n",
    "print('Names of the 10 most important features:')\n",
    "for n in range(10):\n",
    "    print(\"{}. {}\".format(n+1, features[feature_index[n]]))"
   ]
  },
  {
   "cell_type": "code",
   "execution_count": null,
   "metadata": {
    "scrolled": true
   },
   "outputs": [],
   "source": []
  },
  {
   "cell_type": "code",
   "execution_count": 15,
   "metadata": {},
   "outputs": [],
   "source": [
    "# cm = confusion_matrix(y_pred=y_pred, y_true=y_test_1)\n",
    "# # retrive the normalized version of cm\n",
    "# cm_norm = cm/cm.sum(axis=1)[:, np.newaxis]\n",
    "\n",
    "# plt.figure()\n",
    "# plot_confusion_matrix(cm_norm, classes=['unsuccess','success'])\n",
    "# plt.show()"
   ]
  },
  {
   "cell_type": "code",
   "execution_count": null,
   "metadata": {},
   "outputs": [],
   "source": []
  },
  {
   "cell_type": "code",
   "execution_count": 16,
   "metadata": {},
   "outputs": [],
   "source": [
    "# svc_linear = SVC(kernel='linear')\n",
    "# svc_linear.fit(X_tr, y_tr)\n",
    "# ca = svc_linear.score(X_tr, y_tr)\n",
    "# print('Linear SVC classification accuracy on training set: {:.5f}'.format(ca))\n",
    "# ca = svc_linear.score(X_test, y_test)\n",
    "# print('Linear SVC classification accuracy on test set: {:.5f}'.format(ca))"
   ]
  },
  {
   "cell_type": "code",
   "execution_count": 17,
   "metadata": {},
   "outputs": [
    {
     "name": "stdout",
     "output_type": "stream",
     "text": [
      "\n",
      "Radial Basis Function SVC classification accuracy on training set: 0.88087\n",
      "Radial Basis Function SVC classification accuracy on val set: 0.86230\n"
     ]
    }
   ],
   "source": [
    "\n",
    "\n",
    "svc_rbf = SVC(kernel='rbf')\n",
    "svc_rbf.fit(X_tr, y_tr)\n",
    "ca = svc_rbf.score(X_tr, y_tr)\n",
    "print('\\nRadial Basis Function SVC classification accuracy on training set: {:.5f}'.format(ca))\n",
    "ca = svc_rbf.score(X_val, y_val)\n",
    "print('Radial Basis Function SVC classification accuracy on val set: {:.5f}'.format(ca))\n",
    "\n",
    "# svc_poly = SVC(kernel='poly')\n",
    "# svc_poly.fit(X_tr, y_tr)\n",
    "# ca = svc_poly.score(X_tr, y_tr)\n",
    "# print('\\nPolynomial SVC classification accuracy on training set: {:.5f}'.format(ca))\n",
    "# ca = svc_poly.score(X_test, y_test)\n",
    "# print('Polynomial SVC classification accuracy on test set: {:.5f}'.format(ca))"
   ]
  },
  {
   "cell_type": "code",
   "execution_count": 25,
   "metadata": {},
   "outputs": [
    {
     "name": "stdout",
     "output_type": "stream",
     "text": [
      "Precision on train: 0.98828\n",
      "Recall on train: 0.42797\n",
      "Precision on val: 0.97021\n",
      "Recall on val: 0.38644\n"
     ]
    }
   ],
   "source": [
    "y_pred = svc_rbf.predict(X_tr)\n",
    "p = precision_score(y_pred=y_pred,y_true=y_tr, pos_label=1)\n",
    "r = recall_score(y_pred=y_pred, y_true=y_tr, pos_label=1)\n",
    "print('Precision on train: {:.5f}'.format(p))\n",
    "print('Recall on train: {:.5f}'.format(r))\n",
    "\n",
    "y_pred = svc_rbf.predict(X_val)\n",
    "p = precision_score(y_pred=y_pred,y_true=y_val, pos_label=1)\n",
    "r = recall_score(y_pred=y_pred, y_true=y_val, pos_label=1)\n",
    "print('Precision on val: {:.5f}'.format(p))\n",
    "print('Recall on val: {:.5f}'.format(r))\n"
   ]
  },
  {
   "cell_type": "code",
   "execution_count": 29,
   "metadata": {},
   "outputs": [
    {
     "name": "stdout",
     "output_type": "stream",
     "text": [
      "[[0.78788424 0.79759123 0.85727126 0.84594643]\n",
      " [0.79974834 0.85924861 0.85924861 0.85834981]\n",
      " [0.85942837 0.8601474  0.86248427 0.86230451]\n",
      " [0.8601474  0.86140572 0.86176523 0.85763077]]\n"
     ]
    }
   ],
   "source": [
    "# tune SVM rbf\n",
    "C = np.logspace(-2, 1, 4)\n",
    "gamma = np.logspace(-4, -1, 4)\n",
    "score_array = np.zeros((4,4))\n",
    "\n",
    "\n",
    "for i in range(len(C)):\n",
    "    for j in range(len(gamma)):\n",
    "        svc_rbf = SVC(C=C[i], kernel='rbf', gamma=gamma[j])\n",
    "        svc_rbf.fit(X_tr, y_tr)\n",
    "        score_array[i][j] = svc_rbf.score(X_val, y_val)\n",
    "print(score_array)"
   ]
  },
  {
   "cell_type": "code",
   "execution_count": 26,
   "metadata": {},
   "outputs": [
    {
     "name": "stdout",
     "output_type": "stream",
     "text": [
      "\n",
      "MLP classification accuracy on training set: 0.88116\n",
      "Precision on train: 0.89898\n",
      "Recall on train: 0.49676\n",
      "\n",
      "MLP classification accuracy on validation set: 0.86410\n",
      "Precision on val: 0.87324\n",
      "Recall on val: 0.42034\n"
     ]
    }
   ],
   "source": [
    "from sklearn.neural_network import MLPClassifier\n",
    "mlp = MLPClassifier(solver='lbfgs', alpha=1e-5, hidden_layer_sizes=(5,2), random_state=201902)\n",
    "mlp.fit(X_tr, y_tr)\n",
    "y_pred = mlp.predict(X_tr)\n",
    "ca = mlp.score(X_tr, y_tr)\n",
    "print('\\nMLP classification accuracy on training set: {:.5f}'.format(ca))\n",
    "p = precision_score(y_pred=y_pred,y_true=y_tr, pos_label=1)\n",
    "r = recall_score(y_pred=y_pred, y_true=y_tr, pos_label=1)\n",
    "print('Precision on train: {:.5f}'.format(p))\n",
    "print('Recall on train: {:.5f}'.format(r))\n",
    "\n",
    "y_pred = mlp.predict(X_val)\n",
    "ca = mlp.score(X_val, y_val)\n",
    "print('\\nMLP classification accuracy on validation set: {:.5f}'.format(ca))\n",
    "p = precision_score(y_pred=y_pred,y_true=y_val, pos_label=1)\n",
    "r = recall_score(y_pred=y_pred, y_true=y_val, pos_label=1)\n",
    "print('Precision on val: {:.5f}'.format(p))\n",
    "print('Recall on val: {:.5f}'.format(r))"
   ]
  },
  {
   "cell_type": "code",
   "execution_count": 27,
   "metadata": {},
   "outputs": [
    {
     "name": "stdout",
     "output_type": "stream",
     "text": [
      "[[0.86823656 0.8680568  0.86733777]\n",
      " [0.85834981 0.85205824 0.85852957]\n",
      " [0.85403559 0.84954161 0.85924861]\n",
      " [0.85205824 0.84109294 0.8561927 ]\n",
      " [0.84972137 0.84900234 0.85097969]]\n"
     ]
    }
   ],
   "source": [
    "hidden_dim = np.array([10,50,100,150,200])\n",
    "\n",
    "n_layer = np.array([2,5,10])\n",
    "\n",
    "\n",
    "score_array = np.zeros((5,3))\n",
    "for h in range(len(hidden_dim)):\n",
    "    for n in range(len(n_layer)):\n",
    "        h_l_z = np.repeat(hidden_dim[h], n_layer[n])\n",
    "        mlp = MLPClassifier(solver='lbfgs', alpha=1e-5, hidden_layer_sizes=h_l_z, random_state=201902)\n",
    "        mlp.fit(X_tr, y_tr)\n",
    "        score_array[h][n] = mlp.score(X_val, y_val)\n",
    "\n",
    "    \n",
    "print(score_array)"
   ]
  },
  {
   "cell_type": "code",
   "execution_count": 28,
   "metadata": {},
   "outputs": [
    {
     "data": {
      "image/png": "[encoded data removed]",
      "text/plain": [
       "<Figure size 432x288 with 2 Axes>"
      ]
     },
     "metadata": {},
     "output_type": "display_data"
    }
   ],
   "source": [
    "plt.figure()\n",
    "sns.heatmap(score_array, annot=True, xticklabels=hidden_dim, yticklabels=n_layer)\n",
    "plt.ylabel('Hidden dim')\n",
    "plt.xlabel('Num of Layer')\n",
    "plt.title('Validation classification accuracy for all pairs')\n",
    "plt.show()"
   ]
  },
  {
   "cell_type": "code",
   "execution_count": null,
   "metadata": {},
   "outputs": [],
   "source": []
  }
 ],
 "metadata": {
  "kernelspec": {
   "display_name": "Python 3",
   "language": "python",
   "name": "python3"
  },
  "language_info": {
   "codemirror_mode": {
    "name": "ipython",
    "version": 3
   },
   "file_extension": ".py",
   "mimetype": "text/x-python",
   "name": "python",
   "nbconvert_exporter": "python",
   "pygments_lexer": "ipython3",
   "version": "3.4.9"
  }
 },
 "nbformat": 4,
 "nbformat_minor": 2
}
