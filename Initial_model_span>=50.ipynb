{
 "cells": [
  {
   "cell_type": "code",
   "execution_count": 1,
   "metadata": {},
   "outputs": [
    {
     "name": "stderr",
     "output_type": "stream",
     "text": [
      "/usr/lib64/python3.4/site-packages/sklearn/cross_validation.py:41: DeprecationWarning: This module was deprecated in version 0.18 in favor of the model_selection module into which all the refactored classes and functions are moved. Also note that the interface of the new CV iterators are different from that of this module. This module will be removed in 0.20.\n",
      "  \"This module will be removed in 0.20.\", DeprecationWarning)\n"
     ]
    }
   ],
   "source": [
    "from __future__ import print_function, division\n",
    "%matplotlib inline\n",
    "\n",
    "# Your code goes here\n",
    "import os\n",
    "import numpy as np \n",
    "import pandas as pd\n",
    "import matplotlib.pyplot as plt\n",
    "import seaborn as sns\n",
    "from sklearn.metrics import accuracy_score, log_loss\n",
    "from sklearn.linear_model import LogisticRegression, LogisticRegressionCV\n",
    "from sklearn.preprocessing import StandardScaler\n",
    "from sklearn.cross_validation import KFold\n",
    "from sklearn.ensemble import RandomForestClassifier\n",
    "from sklearn.svm import SVC\n",
    "from sklearn.model_selection import train_test_split\n",
    "from sklearn.metrics import average_precision_score, recall_score, precision_score, f1_score, confusion_matrix"
   ]
  },
  {
   "cell_type": "code",
   "execution_count": 2,
   "metadata": {},
   "outputs": [
    {
     "name": "stdout",
     "output_type": "stream",
     "text": [
      "(12703, 22)\n",
      "(4564, 22)\n"
     ]
    }
   ],
   "source": [
    "dataset1 = pd.read_csv('test_1.csv',delimiter = ',')\n",
    "data_neg = dataset1.loc[(dataset1['class']==0) & (dataset1['proj_span']>=50.0)]\n",
    "data_pos = dataset1.loc[(dataset1['class']==1) & (dataset1['proj_span']>=50.0)]\n",
    "print(data_neg.shape)\n",
    "print(data_pos.shape)"
   ]
  },
  {
   "cell_type": "code",
   "execution_count": 2,
   "metadata": {},
   "outputs": [],
   "source": [
    "dataset = pd.read_csv('test.csv',delimiter = ',')\n",
    "dataset1 = pd.read_csv('test_1.csv',delimiter = ',') # this one does not take care the CRAN before GH date\n",
    "dataset = dataset.loc[dataset['proj_span'] >= 50.0]\n",
    "dataset1 = dataset1.loc[dataset1['proj_span'] >= 50.0]"
   ]
  },
  {
   "cell_type": "code",
   "execution_count": 3,
   "metadata": {},
   "outputs": [
    {
     "data": {
      "text/plain": [
       "(17267, 22)"
      ]
     },
     "execution_count": 3,
     "metadata": {},
     "output_type": "execute_result"
    }
   ],
   "source": [
    "X = (dataset.drop('class', axis=1)).drop('id', axis=1)\n",
    "y = dataset['class']\n",
    "dataset.shape"
   ]
  },
  {
   "cell_type": "code",
   "execution_count": 4,
   "metadata": {},
   "outputs": [
    {
     "data": {
      "text/plain": [
       "(17267, 22)"
      ]
     },
     "execution_count": 4,
     "metadata": {},
     "output_type": "execute_result"
    }
   ],
   "source": [
    "X_1 = (dataset1.drop('class', axis=1)).drop('id', axis=1)\n",
    "y_1 = dataset1['class']\n",
    "dataset1.shape"
   ]
  },
  {
   "cell_type": "code",
   "execution_count": 5,
   "metadata": {},
   "outputs": [
    {
     "data": {
      "text/html": [
       "<div>\n",
       "<style scoped>\n",
       "    .dataframe tbody tr th:only-of-type {\n",
       "        vertical-align: middle;\n",
       "    }\n",
       "\n",
       "    .dataframe tbody tr th {\n",
       "        vertical-align: top;\n",
       "    }\n",
       "\n",
       "    .dataframe thead th {\n",
       "        text-align: right;\n",
       "    }\n",
       "</style>\n",
       "<table border=\"1\" class=\"dataframe\">\n",
       "  <thead>\n",
       "    <tr style=\"text-align: right;\">\n",
       "      <th></th>\n",
       "      <th>activity_intensity</th>\n",
       "      <th>class</th>\n",
       "      <th>final_teamsize</th>\n",
       "      <th>first_quater_teamsize</th>\n",
       "      <th>normalized_proj_span</th>\n",
       "      <th>num_CommitComment</th>\n",
       "      <th>num_Create</th>\n",
       "      <th>num_Delete</th>\n",
       "      <th>num_Fork</th>\n",
       "      <th>num_Gollum</th>\n",
       "      <th>...</th>\n",
       "      <th>num_Issues</th>\n",
       "      <th>num_Member</th>\n",
       "      <th>num_Public</th>\n",
       "      <th>num_PullRequest</th>\n",
       "      <th>num_PullRequestReviewComment</th>\n",
       "      <th>num_Push</th>\n",
       "      <th>num_Release</th>\n",
       "      <th>num_TeamAdd</th>\n",
       "      <th>num_Watch</th>\n",
       "      <th>proj_span</th>\n",
       "    </tr>\n",
       "  </thead>\n",
       "  <tbody>\n",
       "    <tr>\n",
       "      <th>count</th>\n",
       "      <td>17267.000000</td>\n",
       "      <td>17267.000000</td>\n",
       "      <td>17267.000000</td>\n",
       "      <td>17267.000000</td>\n",
       "      <td>17267.000000</td>\n",
       "      <td>17267.000000</td>\n",
       "      <td>17267.000000</td>\n",
       "      <td>17267.000000</td>\n",
       "      <td>17267.000000</td>\n",
       "      <td>17267.000000</td>\n",
       "      <td>...</td>\n",
       "      <td>17267.000000</td>\n",
       "      <td>17267.000000</td>\n",
       "      <td>17267.000000</td>\n",
       "      <td>17267.000000</td>\n",
       "      <td>17267.000000</td>\n",
       "      <td>17267.000000</td>\n",
       "      <td>17267.000000</td>\n",
       "      <td>17267.000000</td>\n",
       "      <td>17267.000000</td>\n",
       "      <td>17267.000000</td>\n",
       "    </tr>\n",
       "    <tr>\n",
       "      <th>mean</th>\n",
       "      <td>0.161972</td>\n",
       "      <td>0.264319</td>\n",
       "      <td>6.575028</td>\n",
       "      <td>6.501071</td>\n",
       "      <td>0.156367</td>\n",
       "      <td>0.129148</td>\n",
       "      <td>1.038049</td>\n",
       "      <td>0.240111</td>\n",
       "      <td>3.513465</td>\n",
       "      <td>0.529739</td>\n",
       "      <td>...</td>\n",
       "      <td>1.623849</td>\n",
       "      <td>0.084960</td>\n",
       "      <td>0.024208</td>\n",
       "      <td>7.268257</td>\n",
       "      <td>1.543059</td>\n",
       "      <td>17.401807</td>\n",
       "      <td>0.077489</td>\n",
       "      <td>0.011583</td>\n",
       "      <td>1.251231</td>\n",
       "      <td>285.370012</td>\n",
       "    </tr>\n",
       "    <tr>\n",
       "      <th>std</th>\n",
       "      <td>0.441523</td>\n",
       "      <td>0.440983</td>\n",
       "      <td>301.426692</td>\n",
       "      <td>301.428121</td>\n",
       "      <td>0.155001</td>\n",
       "      <td>1.487038</td>\n",
       "      <td>3.072750</td>\n",
       "      <td>2.251304</td>\n",
       "      <td>292.981824</td>\n",
       "      <td>7.823614</td>\n",
       "      <td>...</td>\n",
       "      <td>11.353639</td>\n",
       "      <td>0.559573</td>\n",
       "      <td>0.196087</td>\n",
       "      <td>49.305409</td>\n",
       "      <td>28.532156</td>\n",
       "      <td>44.880187</td>\n",
       "      <td>0.809002</td>\n",
       "      <td>0.122638</td>\n",
       "      <td>9.863314</td>\n",
       "      <td>282.876253</td>\n",
       "    </tr>\n",
       "    <tr>\n",
       "      <th>min</th>\n",
       "      <td>0.001468</td>\n",
       "      <td>0.000000</td>\n",
       "      <td>1.000000</td>\n",
       "      <td>0.000000</td>\n",
       "      <td>0.027397</td>\n",
       "      <td>0.000000</td>\n",
       "      <td>0.000000</td>\n",
       "      <td>0.000000</td>\n",
       "      <td>0.000000</td>\n",
       "      <td>0.000000</td>\n",
       "      <td>...</td>\n",
       "      <td>0.000000</td>\n",
       "      <td>0.000000</td>\n",
       "      <td>0.000000</td>\n",
       "      <td>0.000000</td>\n",
       "      <td>0.000000</td>\n",
       "      <td>0.000000</td>\n",
       "      <td>0.000000</td>\n",
       "      <td>0.000000</td>\n",
       "      <td>0.000000</td>\n",
       "      <td>50.000000</td>\n",
       "    </tr>\n",
       "    <tr>\n",
       "      <th>25%</th>\n",
       "      <td>0.026087</td>\n",
       "      <td>0.000000</td>\n",
       "      <td>1.000000</td>\n",
       "      <td>1.000000</td>\n",
       "      <td>0.053151</td>\n",
       "      <td>0.000000</td>\n",
       "      <td>0.000000</td>\n",
       "      <td>0.000000</td>\n",
       "      <td>0.000000</td>\n",
       "      <td>0.000000</td>\n",
       "      <td>...</td>\n",
       "      <td>0.000000</td>\n",
       "      <td>0.000000</td>\n",
       "      <td>0.000000</td>\n",
       "      <td>0.000000</td>\n",
       "      <td>0.000000</td>\n",
       "      <td>1.000000</td>\n",
       "      <td>0.000000</td>\n",
       "      <td>0.000000</td>\n",
       "      <td>0.000000</td>\n",
       "      <td>97.000000</td>\n",
       "    </tr>\n",
       "    <tr>\n",
       "      <th>50%</th>\n",
       "      <td>0.059880</td>\n",
       "      <td>0.000000</td>\n",
       "      <td>2.000000</td>\n",
       "      <td>2.000000</td>\n",
       "      <td>0.101370</td>\n",
       "      <td>0.000000</td>\n",
       "      <td>0.000000</td>\n",
       "      <td>0.000000</td>\n",
       "      <td>0.000000</td>\n",
       "      <td>0.000000</td>\n",
       "      <td>...</td>\n",
       "      <td>0.000000</td>\n",
       "      <td>0.000000</td>\n",
       "      <td>0.000000</td>\n",
       "      <td>0.000000</td>\n",
       "      <td>0.000000</td>\n",
       "      <td>4.000000</td>\n",
       "      <td>0.000000</td>\n",
       "      <td>0.000000</td>\n",
       "      <td>0.000000</td>\n",
       "      <td>185.000000</td>\n",
       "    </tr>\n",
       "    <tr>\n",
       "      <th>75%</th>\n",
       "      <td>0.154930</td>\n",
       "      <td>1.000000</td>\n",
       "      <td>3.000000</td>\n",
       "      <td>3.000000</td>\n",
       "      <td>0.191233</td>\n",
       "      <td>0.000000</td>\n",
       "      <td>1.000000</td>\n",
       "      <td>0.000000</td>\n",
       "      <td>1.000000</td>\n",
       "      <td>0.000000</td>\n",
       "      <td>...</td>\n",
       "      <td>0.000000</td>\n",
       "      <td>0.000000</td>\n",
       "      <td>0.000000</td>\n",
       "      <td>3.000000</td>\n",
       "      <td>0.000000</td>\n",
       "      <td>16.000000</td>\n",
       "      <td>0.000000</td>\n",
       "      <td>0.000000</td>\n",
       "      <td>0.000000</td>\n",
       "      <td>349.000000</td>\n",
       "    </tr>\n",
       "    <tr>\n",
       "      <th>max</th>\n",
       "      <td>29.613683</td>\n",
       "      <td>1.000000</td>\n",
       "      <td>39519.000000</td>\n",
       "      <td>39519.000000</td>\n",
       "      <td>0.986301</td>\n",
       "      <td>89.000000</td>\n",
       "      <td>117.000000</td>\n",
       "      <td>114.000000</td>\n",
       "      <td>38469.000000</td>\n",
       "      <td>649.000000</td>\n",
       "      <td>...</td>\n",
       "      <td>401.000000</td>\n",
       "      <td>34.000000</td>\n",
       "      <td>13.000000</td>\n",
       "      <td>4139.000000</td>\n",
       "      <td>2625.000000</td>\n",
       "      <td>1494.000000</td>\n",
       "      <td>54.000000</td>\n",
       "      <td>3.000000</td>\n",
       "      <td>607.000000</td>\n",
       "      <td>1800.000000</td>\n",
       "    </tr>\n",
       "  </tbody>\n",
       "</table>\n",
       "<p>8 rows × 21 columns</p>\n",
       "</div>"
      ],
      "text/plain": [
       "       activity_intensity         class  final_teamsize  \\\n",
       "count        17267.000000  17267.000000    17267.000000   \n",
       "mean             0.161972      0.264319        6.575028   \n",
       "std              0.441523      0.440983      301.426692   \n",
       "min              0.001468      0.000000        1.000000   \n",
       "25%              0.026087      0.000000        1.000000   \n",
       "50%              0.059880      0.000000        2.000000   \n",
       "75%              0.154930      1.000000        3.000000   \n",
       "max             29.613683      1.000000    39519.000000   \n",
       "\n",
       "       first_quater_teamsize  normalized_proj_span  num_CommitComment  \\\n",
       "count           17267.000000          17267.000000       17267.000000   \n",
       "mean                6.501071              0.156367           0.129148   \n",
       "std               301.428121              0.155001           1.487038   \n",
       "min                 0.000000              0.027397           0.000000   \n",
       "25%                 1.000000              0.053151           0.000000   \n",
       "50%                 2.000000              0.101370           0.000000   \n",
       "75%                 3.000000              0.191233           0.000000   \n",
       "max             39519.000000              0.986301          89.000000   \n",
       "\n",
       "         num_Create    num_Delete      num_Fork    num_Gollum      ...       \\\n",
       "count  17267.000000  17267.000000  17267.000000  17267.000000      ...        \n",
       "mean       1.038049      0.240111      3.513465      0.529739      ...        \n",
       "std        3.072750      2.251304    292.981824      7.823614      ...        \n",
       "min        0.000000      0.000000      0.000000      0.000000      ...        \n",
       "25%        0.000000      0.000000      0.000000      0.000000      ...        \n",
       "50%        0.000000      0.000000      0.000000      0.000000      ...        \n",
       "75%        1.000000      0.000000      1.000000      0.000000      ...        \n",
       "max      117.000000    114.000000  38469.000000    649.000000      ...        \n",
       "\n",
       "         num_Issues    num_Member    num_Public  num_PullRequest  \\\n",
       "count  17267.000000  17267.000000  17267.000000     17267.000000   \n",
       "mean       1.623849      0.084960      0.024208         7.268257   \n",
       "std       11.353639      0.559573      0.196087        49.305409   \n",
       "min        0.000000      0.000000      0.000000         0.000000   \n",
       "25%        0.000000      0.000000      0.000000         0.000000   \n",
       "50%        0.000000      0.000000      0.000000         0.000000   \n",
       "75%        0.000000      0.000000      0.000000         3.000000   \n",
       "max      401.000000     34.000000     13.000000      4139.000000   \n",
       "\n",
       "       num_PullRequestReviewComment      num_Push   num_Release   num_TeamAdd  \\\n",
       "count                  17267.000000  17267.000000  17267.000000  17267.000000   \n",
       "mean                       1.543059     17.401807      0.077489      0.011583   \n",
       "std                       28.532156     44.880187      0.809002      0.122638   \n",
       "min                        0.000000      0.000000      0.000000      0.000000   \n",
       "25%                        0.000000      1.000000      0.000000      0.000000   \n",
       "50%                        0.000000      4.000000      0.000000      0.000000   \n",
       "75%                        0.000000     16.000000      0.000000      0.000000   \n",
       "max                     2625.000000   1494.000000     54.000000      3.000000   \n",
       "\n",
       "          num_Watch     proj_span  \n",
       "count  17267.000000  17267.000000  \n",
       "mean       1.251231    285.370012  \n",
       "std        9.863314    282.876253  \n",
       "min        0.000000     50.000000  \n",
       "25%        0.000000     97.000000  \n",
       "50%        0.000000    185.000000  \n",
       "75%        0.000000    349.000000  \n",
       "max      607.000000   1800.000000  \n",
       "\n",
       "[8 rows x 21 columns]"
      ]
     },
     "execution_count": 5,
     "metadata": {},
     "output_type": "execute_result"
    }
   ],
   "source": [
    "\n",
    "dataset1.describe()"
   ]
  },
  {
   "cell_type": "code",
   "execution_count": 6,
   "metadata": {},
   "outputs": [],
   "source": [
    "X_tr, X_test, y_tr, y_test = train_test_split(X, y, test_size=0.3, random_state=20190101)\n",
    "X_tr_1, X_test_1, y_tr_1, y_test_1 = train_test_split(X_1, y_1, test_size=0.3, random_state=20190101)"
   ]
  },
  {
   "cell_type": "code",
   "execution_count": 7,
   "metadata": {},
   "outputs": [
    {
     "data": {
      "image/png": "[encoded data removed]",
      "text/plain": [
       "<Figure size 864x360 with 2 Axes>"
      ]
     },
     "metadata": {},
     "output_type": "display_data"
    }
   ],
   "source": [
    "plt.figure(figsize=(12,5))\n",
    "plt.subplot(1,2,1)\n",
    "ax1 = sns.countplot(x='class', data=dataset)\n",
    "ax1.set_xticklabels(['not Success', 'Success'])\n",
    "plt.title('Dataset with CRAN before GH')\n",
    "ax2 = plt.subplot(1,2,2)\n",
    "sns.countplot(x='class', data=dataset1)\n",
    "ax2.set_xticklabels(['not Success', 'Success'])\n",
    "plt.title('Dataset don\\'t care CRAN before GH')\n",
    "plt.show()"
   ]
  },
  {
   "cell_type": "code",
   "execution_count": 8,
   "metadata": {},
   "outputs": [
    {
     "name": "stdout",
     "output_type": "stream",
     "text": [
      "Classification accuracy of the LogisticRegression classifier on training set: 0.91155\n",
      "Precision on train: 0.34783\n",
      "Recall on train: 0.03868\n",
      "\n",
      "Classification accuracy of the LogisticRegression classifier on test set: 0.90793\n",
      "Precision on test: 0.36508\n",
      "Recall on test: 0.05000\n"
     ]
    },
    {
     "data": {
      "text/plain": [
       "array([[4681,   40],\n",
       "       [ 437,   23]])"
      ]
     },
     "execution_count": 8,
     "metadata": {},
     "output_type": "execute_result"
    }
   ],
   "source": [
    "lr = LogisticRegression(solver='lbfgs')\n",
    "lr.fit(X_tr, y_tr)\n",
    "ca = lr.score(X_tr, y_tr)\n",
    "print('Classification accuracy of the LogisticRegression classifier on training set: {:.5f}'.format(ca))\n",
    "y_pred = lr.predict(X_tr)\n",
    "p = precision_score(y_pred=y_pred,y_true=y_tr, pos_label=1)\n",
    "r = recall_score(y_pred=y_pred, y_true=y_tr, pos_label=1)\n",
    "print('Precision on train: {:.5f}'.format(p))\n",
    "print('Recall on train: {:.5f}'.format(r))\n",
    "ca = lr.score(X_test, y_test)\n",
    "y_pred = lr.predict(X_test)\n",
    "p = precision_score(y_pred=y_pred,y_true=y_test, pos_label=1)\n",
    "r = recall_score(y_pred=y_pred, y_true=y_test, pos_label=1)\n",
    "print('\\nClassification accuracy of the LogisticRegression classifier on test set: {:.5f}'.format(ca))\n",
    "print('Precision on test: {:.5f}'.format(p))\n",
    "print('Recall on test: {:.5f}'.format(r))\n",
    "confusion_matrix(y_pred=y_pred, y_true=y_test)"
   ]
  },
  {
   "cell_type": "code",
   "execution_count": 9,
   "metadata": {},
   "outputs": [
    {
     "name": "stdout",
     "output_type": "stream",
     "text": [
      "[[-3.62911899e-01 -2.20986839e-01  1.00412238e-01  5.06838338e-07\n",
      "   1.42385575e-01  9.65309232e-02  7.52194299e-02  9.51297299e-02\n",
      "   1.22435631e-02  2.14645995e-03  9.53234856e-03 -9.84263266e-02\n",
      "  -4.52579316e-02  6.26933170e-03 -6.78721370e-03 -3.75679599e-03\n",
      "   2.05888971e-01 -4.88126579e-03  1.43931800e-01  9.24979966e-04]]\n",
      "[-2.43527536]\n"
     ]
    }
   ],
   "source": [
    "# display coef for logistic regression model\n",
    "print(lr.coef_)\n",
    "print(lr.intercept_)"
   ]
  },
  {
   "cell_type": "code",
   "execution_count": 10,
   "metadata": {},
   "outputs": [],
   "source": [
    "def plot_confusion_matrix(cm, classes=None, title='Confusion matrix'):\n",
    "    \"\"\"Plots a confusion matrix.\"\"\"\n",
    "    if classes is not None:\n",
    "        sns.heatmap(cm, xticklabels=classes, yticklabels=classes, vmin=0., vmax=1., annot=True)\n",
    "    else:\n",
    "        sns.heatmap(cm, vmin=0., vmax=1.)\n",
    "    plt.title(title)\n",
    "    plt.ylabel('True label')\n",
    "    plt.xlabel('Predicted label')"
   ]
  },
  {
   "cell_type": "code",
   "execution_count": 11,
   "metadata": {},
   "outputs": [],
   "source": [
    "# cm = confusion_matrix(y_pred=y_pred, y_true=y_test)\n",
    "# # retrive the normalized version of cm\n",
    "# cm_norm = cm/cm.sum(axis=1)[:, np.newaxis]\n",
    "\n",
    "# plt.figure()\n",
    "# plot_confusion_matrix(cm_norm, classes=['unsuccess','success'])\n",
    "# plt.show()"
   ]
  },
  {
   "cell_type": "code",
   "execution_count": 12,
   "metadata": {},
   "outputs": [
    {
     "name": "stdout",
     "output_type": "stream",
     "text": [
      "Classification accuracy of the LogisticRegression classifier on training set: 0.76171\n",
      "Precision on train: 0.67404\n",
      "Recall on train: 0.18213\n",
      "\n",
      "Classification accuracy of the LogisticRegression classifier on test set: 0.75526\n",
      "Precision on test: 0.65517\n",
      "Recall on test: 0.17834\n"
     ]
    }
   ],
   "source": [
    "# on dataset_1\n",
    "lr = LogisticRegression(solver='lbfgs')\n",
    "lr.fit(X_tr_1, y_tr_1)\n",
    "ca = lr.score(X_tr_1, y_tr_1)\n",
    "print('Classification accuracy of the LogisticRegression classifier on training set: {:.5f}'.format(ca))\n",
    "y_pred = lr.predict(X_tr_1)\n",
    "p = precision_score(y_pred=y_pred,y_true=y_tr_1, pos_label=1)\n",
    "r = recall_score(y_pred=y_pred, y_true=y_tr_1, pos_label=1)\n",
    "print('Precision on train: {:.5f}'.format(p))\n",
    "print('Recall on train: {:.5f}'.format(r))\n",
    "\n",
    "ca = lr.score(X_test_1, y_test_1)\n",
    "y_pred = lr.predict(X_test_1)\n",
    "p = precision_score(y_pred=y_pred,y_true=y_test_1, pos_label=1)\n",
    "r = recall_score(y_pred=y_pred, y_true=y_test_1, pos_label=1)\n",
    "print('\\nClassification accuracy of the LogisticRegression classifier on test set: {:.5f}'.format(ca))\n",
    "print('Precision on test: {:.5f}'.format(p))\n",
    "print('Recall on test: {:.5f}'.format(r))"
   ]
  },
  {
   "cell_type": "code",
   "execution_count": 13,
   "metadata": {},
   "outputs": [
    {
     "name": "stdout",
     "output_type": "stream",
     "text": [
      "[[-2.96538952e-01 -9.47407009e-02  1.62899198e-01  6.70733721e-07\n",
      "   1.03728373e-02  3.36963598e-01 -1.67649038e-01 -2.45076329e-01\n",
      "  -1.76031733e-02  1.49322107e-02  8.26863954e-03 -1.17713150e-01\n",
      "  -7.93387972e-02 -1.79052975e-03  8.82665276e-04 -1.54745635e-02\n",
      "  -5.48425743e-04 -1.84384374e-02 -2.99514535e-02  1.22408904e-03]]\n",
      "[-1.45815513]\n"
     ]
    }
   ],
   "source": [
    "# display coef for logistic regression model\n",
    "print(lr.coef_)\n",
    "print(lr.intercept_)"
   ]
  },
  {
   "cell_type": "code",
   "execution_count": 14,
   "metadata": {},
   "outputs": [],
   "source": [
    "# cm = confusion_matrix(y_pred=y_pred, y_true=y_test_1)\n",
    "# # retrive the normalized version of cm\n",
    "# cm_norm = cm/cm.sum(axis=1)[:, np.newaxis]\n",
    "\n",
    "# plt.figure()\n",
    "# plot_confusion_matrix(cm_norm, classes=['unsuccess','success'])\n",
    "# plt.show()"
   ]
  },
  {
   "cell_type": "code",
   "execution_count": 15,
   "metadata": {},
   "outputs": [],
   "source": [
    "# transform the data\n",
    "ss = StandardScaler()\n",
    "ss.fit(X_tr)\n",
    "X_tr = ss.transform(X_tr)\n",
    "X_test = ss.transform(X_test)\n",
    "\n",
    "ss1 = StandardScaler()\n",
    "ss1.fit(X_tr_1)\n",
    "X_tr_1 = ss.transform(X_tr_1)\n",
    "X_test_1 = ss.transform(X_test_1)"
   ]
  },
  {
   "cell_type": "code",
   "execution_count": 16,
   "metadata": {},
   "outputs": [
    {
     "name": "stdout",
     "output_type": "stream",
     "text": [
      "Classification accuracy of the LogisticRegression classifier on training set: 0.91469\n",
      "Precision on train: 0.52055\n",
      "Recall on train: 0.03675\n",
      "\n",
      "Classification accuracy of the LogisticRegression classifier on test set: 0.90909\n",
      "Precision on test: 0.34286\n",
      "Recall on test: 0.02609\n"
     ]
    }
   ],
   "source": [
    "lr = LogisticRegression(solver='lbfgs')\n",
    "lr.fit(X_tr, y_tr)\n",
    "ca = lr.score(X_tr, y_tr)\n",
    "print('Classification accuracy of the LogisticRegression classifier on training set: {:.5f}'.format(ca))\n",
    "y_pred = lr.predict(X_tr)\n",
    "p = precision_score(y_pred=y_pred,y_true=y_tr, pos_label=1)\n",
    "r = recall_score(y_pred=y_pred, y_true=y_tr, pos_label=1)\n",
    "print('Precision on train: {:.5f}'.format(p))\n",
    "print('Recall on train: {:.5f}'.format(r))\n",
    "\n",
    "ca = lr.score(X_test, y_test)\n",
    "y_pred = lr.predict(X_test)\n",
    "p = precision_score(y_pred=y_pred,y_true=y_test, pos_label=1)\n",
    "r = recall_score(y_pred=y_pred, y_true=y_test, pos_label=1)\n",
    "print('\\nClassification accuracy of the LogisticRegression classifier on test set: {:.5f}'.format(ca))\n",
    "print('Precision on test: {:.5f}'.format(p))\n",
    "print('Recall on test: {:.5f}'.format(r))"
   ]
  },
  {
   "cell_type": "code",
   "execution_count": 17,
   "metadata": {},
   "outputs": [
    {
     "name": "stdout",
     "output_type": "stream",
     "text": [
      "[[ 0.11573549  0.00261494  0.07814995  0.20344746  0.0600677   0.40893433\n",
      "  -0.2954268  -1.70065353 -0.07686108 -0.11134191  0.2114973  -0.02920636\n",
      "  -0.05133449  0.08888731 -0.03342336 -0.08913198 -0.04338815  0.02139931\n",
      "   0.05533942  0.20344746]]\n",
      "[-2.5161522]\n"
     ]
    }
   ],
   "source": [
    "# display coef for logistic regression model\n",
    "print(lr.coef_)\n",
    "print(lr.intercept_)"
   ]
  },
  {
   "cell_type": "code",
   "execution_count": 18,
   "metadata": {},
   "outputs": [],
   "source": [
    "# cm = confusion_matrix(y_pred=y_pred, y_true=y_test)\n",
    "# # retrive the normalized version of cm\n",
    "# cm_norm = cm/cm.sum(axis=1)[:, np.newaxis]\n",
    "\n",
    "# plt.figure()\n",
    "# plot_confusion_matrix(cm_norm, classes=['unsuccess','success'])\n",
    "# plt.show()"
   ]
  },
  {
   "cell_type": "code",
   "execution_count": 19,
   "metadata": {},
   "outputs": [
    {
     "name": "stdout",
     "output_type": "stream",
     "text": [
      "Classification accuracy of the LogisticRegression classifier on training set: 0.76485\n",
      "Precision on train: 0.71089\n",
      "Recall on train: 0.17867\n",
      "\n",
      "Classification accuracy of the LogisticRegression classifier on test set: 0.76298\n",
      "Precision on test: 0.71625\n",
      "Recall on test: 0.18773\n"
     ]
    }
   ],
   "source": [
    "# on dataset_1\n",
    "lr = LogisticRegression(solver='lbfgs')\n",
    "lr.fit(X_tr_1, y_tr_1)\n",
    "ca = lr.score(X_tr_1, y_tr_1)\n",
    "print('Classification accuracy of the LogisticRegression classifier on training set: {:.5f}'.format(ca))\n",
    "y_pred = lr.predict(X_tr_1)\n",
    "p = precision_score(y_pred=y_pred,y_true=y_tr_1, pos_label=1)\n",
    "r = recall_score(y_pred=y_pred, y_true=y_tr_1, pos_label=1)\n",
    "print('Precision on train: {:.5f}'.format(p))\n",
    "print('Recall on train: {:.5f}'.format(r))\n",
    "\n",
    "ca = lr.score(X_test_1, y_test_1)\n",
    "y_pred = lr.predict(X_test_1)\n",
    "p = precision_score(y_pred=y_pred,y_true=y_test_1, pos_label=1)\n",
    "r = recall_score(y_pred=y_pred, y_true=y_test_1, pos_label=1)\n",
    "print('\\nClassification accuracy of the LogisticRegression classifier on test set: {:.5f}'.format(ca))\n",
    "print('Precision on test: {:.5f}'.format(p))\n",
    "print('Recall on test: {:.5f}'.format(r))"
   ]
  },
  {
   "cell_type": "code",
   "execution_count": 20,
   "metadata": {},
   "outputs": [
    {
     "name": "stdout",
     "output_type": "stream",
     "text": [
      "[[-8.23086065e-01 -9.83476879e-01 -7.81302545e-01  1.26731695e-01\n",
      "  -1.63924885e-02  1.11327238e+00 -2.78721543e-01 -2.99189880e+00\n",
      "  -1.67990109e-01  1.78272003e-01  3.51699965e-01 -1.67751928e-01\n",
      "  -2.72089311e-01  2.21301657e-01  9.40039735e-02 -4.47637388e-01\n",
      "  -2.32324605e-01 -7.89261209e-02  1.40387874e-03  1.26731695e-01]]\n",
      "[-1.21457353]\n"
     ]
    }
   ],
   "source": [
    "# display coef for logistic regression model\n",
    "print(lr.coef_)\n",
    "print(lr.intercept_)"
   ]
  },
  {
   "cell_type": "code",
   "execution_count": 21,
   "metadata": {},
   "outputs": [],
   "source": [
    "# cm = confusion_matrix(y_pred=y_pred, y_true=y_test_1)\n",
    "# # retrive the normalized version of cm\n",
    "# cm_norm = cm/cm.sum(axis=1)[:, np.newaxis]\n",
    "\n",
    "# plt.figure()\n",
    "# plot_confusion_matrix(cm_norm, classes=['unsuccess','success'])\n",
    "# plt.show()"
   ]
  },
  {
   "cell_type": "code",
   "execution_count": 22,
   "metadata": {},
   "outputs": [
    {
     "name": "stdout",
     "output_type": "stream",
     "text": [
      "Accuracy score on the training dataset: 0.996938606652325\n",
      "Precision on train: 0.99701\n",
      "Recall on train: 0.96712\n",
      "\n",
      "Accuracy score on the test dataset: 0.91237\n",
      "Precision on test: 0.52459\n",
      "Recall on test: 0.13913\n"
     ]
    }
   ],
   "source": [
    "rf = RandomForestClassifier(n_estimators=100, random_state=42)\n",
    "rf.fit(X_tr, y_tr)\n",
    "y_pred = rf.predict(X_tr)\n",
    "p = precision_score(y_pred=y_pred,y_true=y_tr, pos_label=1)\n",
    "r = recall_score(y_pred=y_pred, y_true=y_tr, pos_label=1)\n",
    "accuracy_score_train = rf.score(X_tr, y_tr)\n",
    "print('Accuracy score on the training dataset: {}'.format(accuracy_score_train))\n",
    "print('Precision on train: {:.5f}'.format(p))\n",
    "print('Recall on train: {:.5f}'.format(r))\n",
    "\n",
    "# test set\n",
    "y_pred = rf.predict(X_test)\n",
    "p = precision_score(y_pred=y_pred,y_true=y_test, pos_label=1)\n",
    "r = recall_score(y_pred=y_pred, y_true=y_test, pos_label=1)\n",
    "accuracy_score_test = rf.score(X_test, y_test)\n",
    "print('\\nAccuracy score on the test dataset: {:.5f}'.format(accuracy_score_test))\n",
    "print('Precision on test: {:.5f}'.format(p))\n",
    "print('Recall on test: {:.5f}'.format(r))"
   ]
  },
  {
   "cell_type": "code",
   "execution_count": 23,
   "metadata": {},
   "outputs": [],
   "source": [
    "# cm = confusion_matrix(y_pred=y_pred, y_true=y_test)\n",
    "# # retrive the normalized version of cm\n",
    "# cm_norm = cm/cm.sum(axis=1)[:, np.newaxis]\n",
    "\n",
    "# plt.figure()\n",
    "# plot_confusion_matrix(cm_norm, classes=['unsuccess','success'])\n",
    "# plt.show()"
   ]
  },
  {
   "cell_type": "code",
   "execution_count": 24,
   "metadata": {},
   "outputs": [
    {
     "name": "stdout",
     "output_type": "stream",
     "text": [
      "Names of the 10 most important features:\n",
      "1. activity_intensity\n",
      "2. normalized_proj_span\n",
      "3. proj_span\n",
      "4. num_Push\n",
      "5. num_PullRequest\n",
      "6. num_Create\n",
      "7. first_quater_teamsize\n",
      "8. final_teamsize\n",
      "9. num_PullRequestReviewComment\n",
      "10. num_Fork\n"
     ]
    }
   ],
   "source": [
    "features = X.columns[:].values.tolist()\n",
    "important_features = rf.feature_importances_\n",
    "feature_index = np.argsort(important_features)[::-1]\n",
    "print('Names of the 10 most important features:')\n",
    "for n in range(10):\n",
    "    print(\"{}. {}\".format(n+1, features[feature_index[n]]))"
   ]
  },
  {
   "cell_type": "code",
   "execution_count": 25,
   "metadata": {
    "scrolled": true
   },
   "outputs": [
    {
     "name": "stdout",
     "output_type": "stream",
     "text": [
      "Accuracy score on the training dataset: 0.9918087042859507\n",
      "Precision on train: 0.98827\n",
      "Recall on train: 0.98050\n",
      "\n",
      "Accuracy score on the test dataset: 0.81857\n",
      "Precision on test: 0.73545\n",
      "Recall on test: 0.50181\n"
     ]
    }
   ],
   "source": [
    "# dataset_1\n",
    "rf = RandomForestClassifier(n_estimators=100, random_state=42)\n",
    "rf.fit(X_tr_1, y_tr_1)\n",
    "y_pred = rf.predict(X_tr_1)\n",
    "p = precision_score(y_pred=y_pred,y_true=y_tr_1, pos_label=1)\n",
    "r = recall_score(y_pred=y_pred, y_true=y_tr_1, pos_label=1)\n",
    "accuracy_score_train = rf.score(X_tr_1, y_tr_1)\n",
    "print('Accuracy score on the training dataset: {}'.format(accuracy_score_train))\n",
    "print('Precision on train: {:.5f}'.format(p))\n",
    "print('Recall on train: {:.5f}'.format(r))\n",
    "\n",
    "# test set\n",
    "y_pred = rf.predict(X_test_1)\n",
    "p = precision_score(y_pred=y_pred,y_true=y_test_1, pos_label=1)\n",
    "r = recall_score(y_pred=y_pred, y_true=y_test_1, pos_label=1)\n",
    "accuracy_score_test = rf.score(X_test_1, y_test_1)\n",
    "print('\\nAccuracy score on the test dataset: {:.5f}'.format(accuracy_score_test))\n",
    "print('Precision on test: {:.5f}'.format(p))\n",
    "print('Recall on test: {:.5f}'.format(r))"
   ]
  },
  {
   "cell_type": "code",
   "execution_count": 26,
   "metadata": {},
   "outputs": [],
   "source": [
    "# cm = confusion_matrix(y_pred=y_pred, y_true=y_test_1)\n",
    "# # retrive the normalized version of cm\n",
    "# cm_norm = cm/cm.sum(axis=1)[:, np.newaxis]\n",
    "\n",
    "# plt.figure()\n",
    "# plot_confusion_matrix(cm_norm, classes=['unsuccess','success'])\n",
    "# plt.show()"
   ]
  },
  {
   "cell_type": "code",
   "execution_count": 27,
   "metadata": {},
   "outputs": [
    {
     "name": "stdout",
     "output_type": "stream",
     "text": [
      "Names of the 10 most important features:\n",
      "1. activity_intensity\n",
      "2. normalized_proj_span\n",
      "3. num_Create\n",
      "4. proj_span\n",
      "5. num_Push\n",
      "6. num_PullRequest\n",
      "7. first_quater_teamsize\n",
      "8. final_teamsize\n",
      "9. num_Fork\n",
      "10. num_Watch\n"
     ]
    }
   ],
   "source": [
    "features = X.columns[:].values.tolist()\n",
    "important_features = rf.feature_importances_\n",
    "feature_index = np.argsort(important_features)[::-1]\n",
    "print('Names of the 10 most important features:')\n",
    "for n in range(10):\n",
    "    print(\"{}. {}\".format(n+1, features[feature_index[n]]))"
   ]
  },
  {
   "cell_type": "code",
   "execution_count": 28,
   "metadata": {},
   "outputs": [],
   "source": [
    "# svc_linear = SVC(kernel='linear')\n",
    "# svc_linear.fit(X_tr, y_tr)\n",
    "# ca = svc_linear.score(X_tr, y_tr)\n",
    "# print('Linear SVC classification accuracy on training set: {:.5f}'.format(ca))\n",
    "# ca = svc_linear.score(X_test, y_test)\n",
    "# print('Linear SVC classification accuracy on test set: {:.5f}'.format(ca))"
   ]
  },
  {
   "cell_type": "code",
   "execution_count": 29,
   "metadata": {},
   "outputs": [
    {
     "name": "stdout",
     "output_type": "stream",
     "text": [
      "\n",
      "Radial Basis Function SVC classification accuracy on training set: 0.91991\n",
      "Radial Basis Function SVC classification accuracy on test set: 0.91141\n"
     ]
    }
   ],
   "source": [
    "\n",
    "\n",
    "svc_rbf = SVC(kernel='rbf')\n",
    "svc_rbf.fit(X_tr, y_tr)\n",
    "ca = svc_rbf.score(X_tr, y_tr)\n",
    "print('\\nRadial Basis Function SVC classification accuracy on training set: {:.5f}'.format(ca))\n",
    "ca = svc_rbf.score(X_test, y_test)\n",
    "print('Radial Basis Function SVC classification accuracy on test set: {:.5f}'.format(ca))\n",
    "\n",
    "# svc_poly = SVC(kernel='poly')\n",
    "# svc_poly.fit(X_tr, y_tr)\n",
    "# ca = svc_poly.score(X_tr, y_tr)\n",
    "# print('\\nPolynomial SVC classification accuracy on training set: {:.5f}'.format(ca))\n",
    "# ca = svc_poly.score(X_test, y_test)\n",
    "# print('Polynomial SVC classification accuracy on test set: {:.5f}'.format(ca))"
   ]
  },
  {
   "cell_type": "code",
   "execution_count": 30,
   "metadata": {},
   "outputs": [
    {
     "name": "stdout",
     "output_type": "stream",
     "text": [
      "Precision on train: 0.97143\n",
      "Recall on train: 0.06576\n",
      "Precision on test: 0.66667\n",
      "Recall on test: 0.00435\n"
     ]
    }
   ],
   "source": [
    "y_pred = svc_rbf.predict(X_tr)\n",
    "p = precision_score(y_pred=y_pred,y_true=y_tr, pos_label=1)\n",
    "r = recall_score(y_pred=y_pred, y_true=y_tr, pos_label=1)\n",
    "print('Precision on train: {:.5f}'.format(p))\n",
    "print('Recall on train: {:.5f}'.format(r))\n",
    "\n",
    "y_pred = svc_rbf.predict(X_test)\n",
    "p = precision_score(y_pred=y_pred,y_true=y_test, pos_label=1)\n",
    "r = recall_score(y_pred=y_pred, y_true=y_test, pos_label=1)\n",
    "print('Precision on test: {:.5f}'.format(p))\n",
    "print('Recall on test: {:.5f}'.format(r))\n"
   ]
  },
  {
   "cell_type": "code",
   "execution_count": 31,
   "metadata": {},
   "outputs": [
    {
     "name": "stdout",
     "output_type": "stream",
     "text": [
      "\n",
      "Radial Basis Function SVC classification accuracy on training set: 0.78893\n",
      "Radial Basis Function SVC classification accuracy on test set: 0.77591\n"
     ]
    }
   ],
   "source": [
    "svc_rbf = SVC(kernel='rbf')\n",
    "svc_rbf.fit(X_tr_1, y_tr_1)\n",
    "ca = svc_rbf.score(X_tr_1, y_tr_1)\n",
    "print('\\nRadial Basis Function SVC classification accuracy on training set: {:.5f}'.format(ca))\n",
    "ca = svc_rbf.score(X_test_1, y_test_1)\n",
    "print('Radial Basis Function SVC classification accuracy on test set: {:.5f}'.format(ca))"
   ]
  },
  {
   "cell_type": "code",
   "execution_count": 32,
   "metadata": {},
   "outputs": [
    {
     "name": "stdout",
     "output_type": "stream",
     "text": [
      "Precision on train: 0.85845\n",
      "Recall on train: 0.23655\n",
      "Precision on test: 0.80601\n",
      "Recall on test: 0.21300\n"
     ]
    }
   ],
   "source": [
    "y_pred = svc_rbf.predict(X_tr_1)\n",
    "p = precision_score(y_pred=y_pred,y_true=y_tr_1, pos_label=1)\n",
    "r = recall_score(y_pred=y_pred, y_true=y_tr_1, pos_label=1)\n",
    "print('Precision on train: {:.5f}'.format(p))\n",
    "print('Recall on train: {:.5f}'.format(r))\n",
    "\n",
    "y_pred = svc_rbf.predict(X_test_1)\n",
    "p = precision_score(y_pred=y_pred,y_true=y_test_1, pos_label=1)\n",
    "r = recall_score(y_pred=y_pred, y_true=y_test_1, pos_label=1)\n",
    "print('Precision on test: {:.5f}'.format(p))\n",
    "print('Recall on test: {:.5f}'.format(r))"
   ]
  },
  {
   "cell_type": "code",
   "execution_count": null,
   "metadata": {},
   "outputs": [],
   "source": []
  }
 ],
 "metadata": {
  "kernelspec": {
   "display_name": "Python 3",
   "language": "python",
   "name": "python3"
  },
  "language_info": {
   "codemirror_mode": {
    "name": "ipython",
    "version": 3
   },
   "file_extension": ".py",
   "mimetype": "text/x-python",
   "name": "python",
   "nbconvert_exporter": "python",
   "pygments_lexer": "ipython3",
   "version": "3.4.9"
  }
 },
 "nbformat": 4,
 "nbformat_minor": 2
}
