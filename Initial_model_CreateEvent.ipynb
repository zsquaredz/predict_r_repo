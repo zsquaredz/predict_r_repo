{
 "cells": [
  {
   "cell_type": "code",
   "execution_count": 1,
   "metadata": {},
   "outputs": [
    {
     "name": "stderr",
     "output_type": "stream",
     "text": [
      "/usr/lib64/python3.4/site-packages/sklearn/cross_validation.py:41: DeprecationWarning: This module was deprecated in version 0.18 in favor of the model_selection module into which all the refactored classes and functions are moved. Also note that the interface of the new CV iterators are different from that of this module. This module will be removed in 0.20.\n",
      "  \"This module will be removed in 0.20.\", DeprecationWarning)\n"
     ]
    }
   ],
   "source": [
    "from __future__ import print_function, division\n",
    "%matplotlib inline\n",
    "\n",
    "# Your code goes here\n",
    "import os\n",
    "import numpy as np \n",
    "import pandas as pd\n",
    "import matplotlib.pyplot as plt\n",
    "import seaborn as sns\n",
    "from sklearn.metrics import accuracy_score, log_loss\n",
    "from sklearn.linear_model import LogisticRegression, LogisticRegressionCV\n",
    "from sklearn.preprocessing import StandardScaler\n",
    "from sklearn.cross_validation import KFold\n",
    "from sklearn.ensemble import RandomForestClassifier\n",
    "from sklearn.svm import SVC\n",
    "from sklearn.model_selection import train_test_split\n",
    "from sklearn.metrics import average_precision_score, recall_score, precision_score, f1_score, confusion_matrix"
   ]
  },
  {
   "cell_type": "code",
   "execution_count": 2,
   "metadata": {},
   "outputs": [],
   "source": [
    "dataset = pd.read_csv('test_createEvent.csv',delimiter = ',')\n",
    "# dataset1 = pd.read_csv('test_createEvent_12_18.csv',delimiter = ',') # this one does not take care the CRAN before GH date"
   ]
  },
  {
   "cell_type": "code",
   "execution_count": 3,
   "metadata": {},
   "outputs": [
    {
     "data": {
      "text/plain": [
       "(29286, 23)"
      ]
     },
     "execution_count": 3,
     "metadata": {},
     "output_type": "execute_result"
    }
   ],
   "source": [
    "X = (dataset.drop('class', axis=1)).drop('id', axis=1)\n",
    "y = dataset['class']\n",
    "dataset.shape"
   ]
  },
  {
   "cell_type": "code",
   "execution_count": null,
   "metadata": {},
   "outputs": [],
   "source": []
  },
  {
   "cell_type": "code",
   "execution_count": 4,
   "metadata": {},
   "outputs": [
    {
     "data": {
      "text/html": [
       "<div>\n",
       "<style scoped>\n",
       "    .dataframe tbody tr th:only-of-type {\n",
       "        vertical-align: middle;\n",
       "    }\n",
       "\n",
       "    .dataframe tbody tr th {\n",
       "        vertical-align: top;\n",
       "    }\n",
       "\n",
       "    .dataframe thead th {\n",
       "        text-align: right;\n",
       "    }\n",
       "</style>\n",
       "<table border=\"1\" class=\"dataframe\">\n",
       "  <thead>\n",
       "    <tr style=\"text-align: right;\">\n",
       "      <th></th>\n",
       "      <th>activity_intensity</th>\n",
       "      <th>class</th>\n",
       "      <th>final_teamsize</th>\n",
       "      <th>first_quater_teamsize</th>\n",
       "      <th>normalized_proj_span</th>\n",
       "      <th>num_CommitComment</th>\n",
       "      <th>num_Create</th>\n",
       "      <th>num_Delete</th>\n",
       "      <th>num_Download</th>\n",
       "      <th>num_Fork</th>\n",
       "      <th>...</th>\n",
       "      <th>num_Issues</th>\n",
       "      <th>num_Member</th>\n",
       "      <th>num_Public</th>\n",
       "      <th>num_PullRequest</th>\n",
       "      <th>num_PullRequestReviewComment</th>\n",
       "      <th>num_Push</th>\n",
       "      <th>num_Release</th>\n",
       "      <th>num_TeamAdd</th>\n",
       "      <th>num_Watch</th>\n",
       "      <th>proj_span</th>\n",
       "    </tr>\n",
       "  </thead>\n",
       "  <tbody>\n",
       "    <tr>\n",
       "      <th>count</th>\n",
       "      <td>29286.000000</td>\n",
       "      <td>29286.000000</td>\n",
       "      <td>29286.000000</td>\n",
       "      <td>29286.00000</td>\n",
       "      <td>29286.000000</td>\n",
       "      <td>29286.000000</td>\n",
       "      <td>29286.000000</td>\n",
       "      <td>29286.000000</td>\n",
       "      <td>29286.000000</td>\n",
       "      <td>29286.000000</td>\n",
       "      <td>...</td>\n",
       "      <td>29286.000000</td>\n",
       "      <td>29286.000000</td>\n",
       "      <td>29286.000000</td>\n",
       "      <td>29286.000000</td>\n",
       "      <td>29286.000000</td>\n",
       "      <td>29286.000000</td>\n",
       "      <td>29286.000000</td>\n",
       "      <td>29286.000000</td>\n",
       "      <td>29286.000000</td>\n",
       "      <td>29286.000000</td>\n",
       "    </tr>\n",
       "    <tr>\n",
       "      <th>mean</th>\n",
       "      <td>2.032372</td>\n",
       "      <td>0.236700</td>\n",
       "      <td>2.747388</td>\n",
       "      <td>2.42662</td>\n",
       "      <td>0.031819</td>\n",
       "      <td>0.039780</td>\n",
       "      <td>1.483303</td>\n",
       "      <td>0.062999</td>\n",
       "      <td>0.004951</td>\n",
       "      <td>1.577272</td>\n",
       "      <td>...</td>\n",
       "      <td>0.392235</td>\n",
       "      <td>0.035478</td>\n",
       "      <td>0.002390</td>\n",
       "      <td>0.645360</td>\n",
       "      <td>0.158096</td>\n",
       "      <td>5.451513</td>\n",
       "      <td>0.019566</td>\n",
       "      <td>0.001776</td>\n",
       "      <td>0.358567</td>\n",
       "      <td>58.686266</td>\n",
       "    </tr>\n",
       "    <tr>\n",
       "      <th>std</th>\n",
       "      <td>3.694424</td>\n",
       "      <td>0.425064</td>\n",
       "      <td>231.985625</td>\n",
       "      <td>231.98847</td>\n",
       "      <td>0.106023</td>\n",
       "      <td>1.032388</td>\n",
       "      <td>1.844393</td>\n",
       "      <td>0.781438</td>\n",
       "      <td>0.341650</td>\n",
       "      <td>224.935669</td>\n",
       "      <td>...</td>\n",
       "      <td>9.736311</td>\n",
       "      <td>0.308888</td>\n",
       "      <td>0.091621</td>\n",
       "      <td>30.034193</td>\n",
       "      <td>15.336000</td>\n",
       "      <td>23.635669</td>\n",
       "      <td>0.347865</td>\n",
       "      <td>0.048154</td>\n",
       "      <td>6.030359</td>\n",
       "      <td>193.306612</td>\n",
       "    </tr>\n",
       "    <tr>\n",
       "      <th>min</th>\n",
       "      <td>0.001577</td>\n",
       "      <td>0.000000</td>\n",
       "      <td>0.000000</td>\n",
       "      <td>0.00000</td>\n",
       "      <td>0.000000</td>\n",
       "      <td>0.000000</td>\n",
       "      <td>1.000000</td>\n",
       "      <td>0.000000</td>\n",
       "      <td>0.000000</td>\n",
       "      <td>0.000000</td>\n",
       "      <td>...</td>\n",
       "      <td>0.000000</td>\n",
       "      <td>0.000000</td>\n",
       "      <td>0.000000</td>\n",
       "      <td>0.000000</td>\n",
       "      <td>0.000000</td>\n",
       "      <td>0.000000</td>\n",
       "      <td>0.000000</td>\n",
       "      <td>0.000000</td>\n",
       "      <td>0.000000</td>\n",
       "      <td>1.000000</td>\n",
       "    </tr>\n",
       "    <tr>\n",
       "      <th>25%</th>\n",
       "      <td>0.857143</td>\n",
       "      <td>0.000000</td>\n",
       "      <td>0.000000</td>\n",
       "      <td>0.00000</td>\n",
       "      <td>0.000000</td>\n",
       "      <td>0.000000</td>\n",
       "      <td>1.000000</td>\n",
       "      <td>0.000000</td>\n",
       "      <td>0.000000</td>\n",
       "      <td>0.000000</td>\n",
       "      <td>...</td>\n",
       "      <td>0.000000</td>\n",
       "      <td>0.000000</td>\n",
       "      <td>0.000000</td>\n",
       "      <td>0.000000</td>\n",
       "      <td>0.000000</td>\n",
       "      <td>0.000000</td>\n",
       "      <td>0.000000</td>\n",
       "      <td>0.000000</td>\n",
       "      <td>0.000000</td>\n",
       "      <td>1.000000</td>\n",
       "    </tr>\n",
       "    <tr>\n",
       "      <th>50%</th>\n",
       "      <td>1.000000</td>\n",
       "      <td>0.000000</td>\n",
       "      <td>1.000000</td>\n",
       "      <td>0.00000</td>\n",
       "      <td>0.000000</td>\n",
       "      <td>0.000000</td>\n",
       "      <td>1.000000</td>\n",
       "      <td>0.000000</td>\n",
       "      <td>0.000000</td>\n",
       "      <td>0.000000</td>\n",
       "      <td>...</td>\n",
       "      <td>0.000000</td>\n",
       "      <td>0.000000</td>\n",
       "      <td>0.000000</td>\n",
       "      <td>0.000000</td>\n",
       "      <td>0.000000</td>\n",
       "      <td>1.000000</td>\n",
       "      <td>0.000000</td>\n",
       "      <td>0.000000</td>\n",
       "      <td>0.000000</td>\n",
       "      <td>1.000000</td>\n",
       "    </tr>\n",
       "    <tr>\n",
       "      <th>75%</th>\n",
       "      <td>2.500000</td>\n",
       "      <td>0.000000</td>\n",
       "      <td>1.000000</td>\n",
       "      <td>1.00000</td>\n",
       "      <td>0.004384</td>\n",
       "      <td>0.000000</td>\n",
       "      <td>1.000000</td>\n",
       "      <td>0.000000</td>\n",
       "      <td>0.000000</td>\n",
       "      <td>0.000000</td>\n",
       "      <td>...</td>\n",
       "      <td>0.000000</td>\n",
       "      <td>0.000000</td>\n",
       "      <td>0.000000</td>\n",
       "      <td>0.000000</td>\n",
       "      <td>0.000000</td>\n",
       "      <td>4.000000</td>\n",
       "      <td>0.000000</td>\n",
       "      <td>0.000000</td>\n",
       "      <td>0.000000</td>\n",
       "      <td>8.000000</td>\n",
       "    </tr>\n",
       "    <tr>\n",
       "      <th>max</th>\n",
       "      <td>403.000000</td>\n",
       "      <td>1.000000</td>\n",
       "      <td>39666.000000</td>\n",
       "      <td>39666.00000</td>\n",
       "      <td>1.237260</td>\n",
       "      <td>122.000000</td>\n",
       "      <td>98.000000</td>\n",
       "      <td>55.000000</td>\n",
       "      <td>45.000000</td>\n",
       "      <td>38489.000000</td>\n",
       "      <td>...</td>\n",
       "      <td>1450.000000</td>\n",
       "      <td>30.000000</td>\n",
       "      <td>13.000000</td>\n",
       "      <td>4353.000000</td>\n",
       "      <td>2556.000000</td>\n",
       "      <td>1894.000000</td>\n",
       "      <td>29.000000</td>\n",
       "      <td>2.000000</td>\n",
       "      <td>593.000000</td>\n",
       "      <td>2258.000000</td>\n",
       "    </tr>\n",
       "  </tbody>\n",
       "</table>\n",
       "<p>8 rows × 22 columns</p>\n",
       "</div>"
      ],
      "text/plain": [
       "       activity_intensity         class  final_teamsize  \\\n",
       "count        29286.000000  29286.000000    29286.000000   \n",
       "mean             2.032372      0.236700        2.747388   \n",
       "std              3.694424      0.425064      231.985625   \n",
       "min              0.001577      0.000000        0.000000   \n",
       "25%              0.857143      0.000000        0.000000   \n",
       "50%              1.000000      0.000000        1.000000   \n",
       "75%              2.500000      0.000000        1.000000   \n",
       "max            403.000000      1.000000    39666.000000   \n",
       "\n",
       "       first_quater_teamsize  normalized_proj_span  num_CommitComment  \\\n",
       "count            29286.00000          29286.000000       29286.000000   \n",
       "mean                 2.42662              0.031819           0.039780   \n",
       "std                231.98847              0.106023           1.032388   \n",
       "min                  0.00000              0.000000           0.000000   \n",
       "25%                  0.00000              0.000000           0.000000   \n",
       "50%                  0.00000              0.000000           0.000000   \n",
       "75%                  1.00000              0.004384           0.000000   \n",
       "max              39666.00000              1.237260         122.000000   \n",
       "\n",
       "         num_Create    num_Delete  num_Download      num_Fork      ...       \\\n",
       "count  29286.000000  29286.000000  29286.000000  29286.000000      ...        \n",
       "mean       1.483303      0.062999      0.004951      1.577272      ...        \n",
       "std        1.844393      0.781438      0.341650    224.935669      ...        \n",
       "min        1.000000      0.000000      0.000000      0.000000      ...        \n",
       "25%        1.000000      0.000000      0.000000      0.000000      ...        \n",
       "50%        1.000000      0.000000      0.000000      0.000000      ...        \n",
       "75%        1.000000      0.000000      0.000000      0.000000      ...        \n",
       "max       98.000000     55.000000     45.000000  38489.000000      ...        \n",
       "\n",
       "         num_Issues    num_Member    num_Public  num_PullRequest  \\\n",
       "count  29286.000000  29286.000000  29286.000000     29286.000000   \n",
       "mean       0.392235      0.035478      0.002390         0.645360   \n",
       "std        9.736311      0.308888      0.091621        30.034193   \n",
       "min        0.000000      0.000000      0.000000         0.000000   \n",
       "25%        0.000000      0.000000      0.000000         0.000000   \n",
       "50%        0.000000      0.000000      0.000000         0.000000   \n",
       "75%        0.000000      0.000000      0.000000         0.000000   \n",
       "max     1450.000000     30.000000     13.000000      4353.000000   \n",
       "\n",
       "       num_PullRequestReviewComment      num_Push   num_Release   num_TeamAdd  \\\n",
       "count                  29286.000000  29286.000000  29286.000000  29286.000000   \n",
       "mean                       0.158096      5.451513      0.019566      0.001776   \n",
       "std                       15.336000     23.635669      0.347865      0.048154   \n",
       "min                        0.000000      0.000000      0.000000      0.000000   \n",
       "25%                        0.000000      0.000000      0.000000      0.000000   \n",
       "50%                        0.000000      1.000000      0.000000      0.000000   \n",
       "75%                        0.000000      4.000000      0.000000      0.000000   \n",
       "max                     2556.000000   1894.000000     29.000000      2.000000   \n",
       "\n",
       "          num_Watch     proj_span  \n",
       "count  29286.000000  29286.000000  \n",
       "mean       0.358567     58.686266  \n",
       "std        6.030359    193.306612  \n",
       "min        0.000000      1.000000  \n",
       "25%        0.000000      1.000000  \n",
       "50%        0.000000      1.000000  \n",
       "75%        0.000000      8.000000  \n",
       "max      593.000000   2258.000000  \n",
       "\n",
       "[8 rows x 22 columns]"
      ]
     },
     "execution_count": 4,
     "metadata": {},
     "output_type": "execute_result"
    }
   ],
   "source": [
    "dataset.describe()"
   ]
  },
  {
   "cell_type": "code",
   "execution_count": null,
   "metadata": {},
   "outputs": [],
   "source": []
  },
  {
   "cell_type": "code",
   "execution_count": 5,
   "metadata": {},
   "outputs": [],
   "source": [
    "X_tr, X_test, y_tr, y_test = train_test_split(X, y, test_size=0.3, random_state=20190101)"
   ]
  },
  {
   "cell_type": "code",
   "execution_count": 6,
   "metadata": {},
   "outputs": [
    {
     "data": {
      "image/png": "[encoded data removed]",
      "text/plain": [
       "<Figure size 864x360 with 1 Axes>"
      ]
     },
     "metadata": {},
     "output_type": "display_data"
    }
   ],
   "source": [
    "plt.figure(figsize=(12,5))\n",
    "plt.subplot(1,2,1)\n",
    "ax1 = sns.countplot(x='class', data=dataset)\n",
    "ax1.set_xticklabels(['not Success', 'Success'])\n",
    "plt.title('Dataset with CreateEvent in beginning')\n",
    "# ax2 = plt.subplot(1,2,2)\n",
    "# sns.countplot(x='class', data=dataset1)\n",
    "# ax2.set_xticklabels(['not Success', 'Success'])\n",
    "# plt.title('Dataset don\\'t care CRAN before GH')\n",
    "plt.show()"
   ]
  },
  {
   "cell_type": "code",
   "execution_count": 7,
   "metadata": {},
   "outputs": [
    {
     "name": "stdout",
     "output_type": "stream",
     "text": [
      "Classification accuracy of the LogisticRegression classifier on training set: 0.82244\n",
      "Precision on train: 0.81545\n",
      "Recall on train: 0.30225\n",
      "\n",
      "Classification accuracy of the LogisticRegression classifier on test set: 0.81106\n",
      "Precision on test: 0.82767\n",
      "Recall on test: 0.30170\n"
     ]
    },
    {
     "data": {
      "text/plain": [
       "array([[6468,  137],\n",
       "       [1523,  658]])"
      ]
     },
     "execution_count": 7,
     "metadata": {},
     "output_type": "execute_result"
    }
   ],
   "source": [
    "lr = LogisticRegression(solver='lbfgs')\n",
    "lr.fit(X_tr, y_tr)\n",
    "ca = lr.score(X_tr, y_tr)\n",
    "print('Classification accuracy of the LogisticRegression classifier on training set: {:.5f}'.format(ca))\n",
    "y_pred = lr.predict(X_tr)\n",
    "p = precision_score(y_pred=y_pred,y_true=y_tr, pos_label=1)\n",
    "r = recall_score(y_pred=y_pred, y_true=y_tr, pos_label=1)\n",
    "print('Precision on train: {:.5f}'.format(p))\n",
    "print('Recall on train: {:.5f}'.format(r))\n",
    "ca = lr.score(X_test, y_test)\n",
    "y_pred = lr.predict(X_test)\n",
    "p = precision_score(y_pred=y_pred,y_true=y_test, pos_label=1)\n",
    "r = recall_score(y_pred=y_pred, y_true=y_test, pos_label=1)\n",
    "print('\\nClassification accuracy of the LogisticRegression classifier on test set: {:.5f}'.format(ca))\n",
    "print('Precision on test: {:.5f}'.format(p))\n",
    "print('Recall on test: {:.5f}'.format(r))\n",
    "confusion_matrix(y_pred=y_pred, y_true=y_test)"
   ]
  },
  {
   "cell_type": "code",
   "execution_count": 8,
   "metadata": {},
   "outputs": [
    {
     "name": "stdout",
     "output_type": "stream",
     "text": [
      "[[-1.15512037e-01 -1.17665156e-01 -1.44654255e-01 -7.24092236e-05\n",
      "  -9.71139453e-02  9.31815565e-01 -3.10483147e-01 -1.07749966e-02\n",
      "  -8.70081088e-02  1.34255896e-02  4.00843557e-02  2.88741885e-02\n",
      "  -9.84206202e-02 -1.45854552e-02  7.26845035e-02 -8.68868036e-02\n",
      "  -6.25158090e-02 -2.53953978e-02 -1.63591780e-02  3.27596617e-01\n",
      "   5.10285195e-04]]\n",
      "[-2.08022227]\n"
     ]
    }
   ],
   "source": [
    "# display coef for logistic regression model\n",
    "print(lr.coef_)\n",
    "print(lr.intercept_)"
   ]
  },
  {
   "cell_type": "code",
   "execution_count": 9,
   "metadata": {},
   "outputs": [],
   "source": [
    "def plot_confusion_matrix(cm, classes=None, title='Confusion matrix'):\n",
    "    \"\"\"Plots a confusion matrix.\"\"\"\n",
    "    if classes is not None:\n",
    "        sns.heatmap(cm, xticklabels=classes, yticklabels=classes, vmin=0., vmax=1., annot=True)\n",
    "    else:\n",
    "        sns.heatmap(cm, vmin=0., vmax=1.)\n",
    "    plt.title(title)\n",
    "    plt.ylabel('True label')\n",
    "    plt.xlabel('Predicted label')"
   ]
  },
  {
   "cell_type": "code",
   "execution_count": 10,
   "metadata": {},
   "outputs": [
    {
     "data": {
      "image/png": "[encoded data removed]",
      "text/plain": [
       "<Figure size 432x288 with 2 Axes>"
      ]
     },
     "metadata": {},
     "output_type": "display_data"
    }
   ],
   "source": [
    "cm = confusion_matrix(y_pred=y_pred, y_true=y_test)\n",
    "# retrive the normalized version of cm\n",
    "cm_norm = cm/cm.sum(axis=1)[:, np.newaxis]\n",
    "\n",
    "plt.figure()\n",
    "plot_confusion_matrix(cm_norm, classes=['unsuccess','success'])\n",
    "plt.show()"
   ]
  },
  {
   "cell_type": "code",
   "execution_count": null,
   "metadata": {},
   "outputs": [],
   "source": []
  },
  {
   "cell_type": "code",
   "execution_count": null,
   "metadata": {},
   "outputs": [],
   "source": []
  },
  {
   "cell_type": "code",
   "execution_count": null,
   "metadata": {},
   "outputs": [],
   "source": []
  },
  {
   "cell_type": "code",
   "execution_count": 11,
   "metadata": {},
   "outputs": [],
   "source": [
    "# transform the data\n",
    "ss = StandardScaler()\n",
    "ss.fit(X_tr)\n",
    "X_tr = ss.transform(X_tr)\n",
    "X_test = ss.transform(X_test)"
   ]
  },
  {
   "cell_type": "code",
   "execution_count": 12,
   "metadata": {},
   "outputs": [
    {
     "name": "stdout",
     "output_type": "stream",
     "text": [
      "Classification accuracy of the LogisticRegression classifier on training set: 0.82273\n",
      "Precision on train: 0.80704\n",
      "Recall on train: 0.30899\n",
      "\n",
      "Classification accuracy of the LogisticRegression classifier on test set: 0.81095\n",
      "Precision on test: 0.82178\n",
      "Recall on test: 0.30445\n"
     ]
    }
   ],
   "source": [
    "lr = LogisticRegression(solver='lbfgs')\n",
    "lr.fit(X_tr, y_tr)\n",
    "ca = lr.score(X_tr, y_tr)\n",
    "print('Classification accuracy of the LogisticRegression classifier on training set: {:.5f}'.format(ca))\n",
    "y_pred = lr.predict(X_tr)\n",
    "p = precision_score(y_pred=y_pred,y_true=y_tr, pos_label=1)\n",
    "r = recall_score(y_pred=y_pred, y_true=y_tr, pos_label=1)\n",
    "print('Precision on train: {:.5f}'.format(p))\n",
    "print('Recall on train: {:.5f}'.format(r))\n",
    "\n",
    "ca = lr.score(X_test, y_test)\n",
    "y_pred = lr.predict(X_test)\n",
    "p = precision_score(y_pred=y_pred,y_true=y_test, pos_label=1)\n",
    "r = recall_score(y_pred=y_pred, y_true=y_test, pos_label=1)\n",
    "print('\\nClassification accuracy of the LogisticRegression classifier on test set: {:.5f}'.format(ca))\n",
    "print('Precision on test: {:.5f}'.format(p))\n",
    "print('Recall on test: {:.5f}'.format(r))"
   ]
  },
  {
   "cell_type": "code",
   "execution_count": 13,
   "metadata": {},
   "outputs": [
    {
     "name": "stdout",
     "output_type": "stream",
     "text": [
      "[[-0.58659562  1.11425872 -3.61870914 -0.93228188 -0.13323661  2.30880896\n",
      "  -0.99538084 -0.34503709 -0.05395326  0.02218607  0.95017776 -0.02795179\n",
      "  -0.09995622 -0.09053906  0.74198529 -0.70472628 -1.06658704 -0.28288239\n",
      "  -0.12661374  1.64542931  1.00113556]]\n",
      "[-1.43618843]\n"
     ]
    }
   ],
   "source": [
    "# display coef for logistic regression model\n",
    "print(lr.coef_)\n",
    "print(lr.intercept_)"
   ]
  },
  {
   "cell_type": "code",
   "execution_count": 14,
   "metadata": {},
   "outputs": [
    {
     "data": {
      "image/png": "[encoded data removed]",
      "text/plain": [
       "<Figure size 432x288 with 2 Axes>"
      ]
     },
     "metadata": {},
     "output_type": "display_data"
    }
   ],
   "source": [
    "cm = confusion_matrix(y_pred=y_pred, y_true=y_test)\n",
    "# retrive the normalized version of cm\n",
    "cm_norm = cm/cm.sum(axis=1)[:, np.newaxis]\n",
    "\n",
    "plt.figure()\n",
    "plot_confusion_matrix(cm_norm, classes=['unsuccess','success'])\n",
    "plt.show()"
   ]
  },
  {
   "cell_type": "code",
   "execution_count": null,
   "metadata": {},
   "outputs": [],
   "source": []
  },
  {
   "cell_type": "code",
   "execution_count": null,
   "metadata": {},
   "outputs": [],
   "source": []
  },
  {
   "cell_type": "code",
   "execution_count": null,
   "metadata": {},
   "outputs": [],
   "source": []
  },
  {
   "cell_type": "code",
   "execution_count": 15,
   "metadata": {},
   "outputs": [
    {
     "name": "stdout",
     "output_type": "stream",
     "text": [
      "Accuracy score on the training dataset: 0.9032682926829269\n",
      "Precision on train: 0.94387\n",
      "Recall on train: 0.61945\n",
      "\n",
      "Accuracy score on the test dataset: 0.85978\n",
      "Precision on test: 0.87099\n",
      "Recall on test: 0.51077\n"
     ]
    }
   ],
   "source": [
    "rf = RandomForestClassifier(n_estimators=100, random_state=42)\n",
    "rf.fit(X_tr, y_tr)\n",
    "y_pred = rf.predict(X_tr)\n",
    "p = precision_score(y_pred=y_pred,y_true=y_tr, pos_label=1)\n",
    "r = recall_score(y_pred=y_pred, y_true=y_tr, pos_label=1)\n",
    "accuracy_score_train = rf.score(X_tr, y_tr)\n",
    "print('Accuracy score on the training dataset: {}'.format(accuracy_score_train))\n",
    "print('Precision on train: {:.5f}'.format(p))\n",
    "print('Recall on train: {:.5f}'.format(r))\n",
    "\n",
    "# test set\n",
    "y_pred = rf.predict(X_test)\n",
    "p = precision_score(y_pred=y_pred,y_true=y_test, pos_label=1)\n",
    "r = recall_score(y_pred=y_pred, y_true=y_test, pos_label=1)\n",
    "accuracy_score_test = rf.score(X_test, y_test)\n",
    "print('\\nAccuracy score on the test dataset: {:.5f}'.format(accuracy_score_test))\n",
    "print('Precision on test: {:.5f}'.format(p))\n",
    "print('Recall on test: {:.5f}'.format(r))"
   ]
  },
  {
   "cell_type": "code",
   "execution_count": 16,
   "metadata": {},
   "outputs": [
    {
     "data": {
      "image/png": "[encoded data removed]",
      "text/plain": [
       "<Figure size 432x288 with 2 Axes>"
      ]
     },
     "metadata": {},
     "output_type": "display_data"
    }
   ],
   "source": [
    "cm = confusion_matrix(y_pred=y_pred, y_true=y_test)\n",
    "# retrive the normalized version of cm\n",
    "cm_norm = cm/cm.sum(axis=1)[:, np.newaxis]\n",
    "\n",
    "plt.figure()\n",
    "plot_confusion_matrix(cm_norm, classes=['unsuccess','success'])\n",
    "plt.show()"
   ]
  },
  {
   "cell_type": "code",
   "execution_count": 17,
   "metadata": {},
   "outputs": [
    {
     "name": "stdout",
     "output_type": "stream",
     "text": [
      "Names of the 10 most important features:\n",
      "1. num_Create\n",
      "2. num_Push\n",
      "3. activity_intensity\n",
      "4. normalized_proj_span\n",
      "5. proj_span\n",
      "6. final_teamsize\n",
      "7. first_quater_teamsize\n",
      "8. num_Delete\n",
      "9. num_Watch\n",
      "10. num_PullRequest\n"
     ]
    }
   ],
   "source": [
    "features = X.columns[:].values.tolist()\n",
    "important_features = rf.feature_importances_\n",
    "feature_index = np.argsort(important_features)[::-1]\n",
    "print('Names of the 10 most important features:')\n",
    "for n in range(10):\n",
    "    print(\"{}. {}\".format(n+1, features[feature_index[n]]))"
   ]
  },
  {
   "cell_type": "code",
   "execution_count": null,
   "metadata": {},
   "outputs": [],
   "source": []
  },
  {
   "cell_type": "code",
   "execution_count": null,
   "metadata": {},
   "outputs": [],
   "source": []
  },
  {
   "cell_type": "code",
   "execution_count": null,
   "metadata": {},
   "outputs": [],
   "source": []
  },
  {
   "cell_type": "code",
   "execution_count": 18,
   "metadata": {},
   "outputs": [
    {
     "name": "stdout",
     "output_type": "stream",
     "text": [
      "Linear SVC classification accuracy on training set: 0.85932\n",
      "Linear SVC classification accuracy on test set: 0.85033\n"
     ]
    }
   ],
   "source": [
    "svc_linear = SVC(kernel='linear')\n",
    "svc_linear.fit(X_tr, y_tr)\n",
    "ca = svc_linear.score(X_tr, y_tr)\n",
    "print('Linear SVC classification accuracy on training set: {:.5f}'.format(ca))\n",
    "ca = svc_linear.score(X_test, y_test)\n",
    "print('Linear SVC classification accuracy on test set: {:.5f}'.format(ca))"
   ]
  },
  {
   "cell_type": "code",
   "execution_count": 19,
   "metadata": {},
   "outputs": [
    {
     "name": "stdout",
     "output_type": "stream",
     "text": [
      "\n",
      "Radial Basis Function SVC classification accuracy on training set: 0.86546\n",
      "Radial Basis Function SVC classification accuracy on test set: 0.85386\n"
     ]
    }
   ],
   "source": [
    "\n",
    "\n",
    "svc_rbf = SVC(kernel='rbf')\n",
    "svc_rbf.fit(X_tr, y_tr)\n",
    "ca = svc_rbf.score(X_tr, y_tr)\n",
    "print('\\nRadial Basis Function SVC classification accuracy on training set: {:.5f}'.format(ca))\n",
    "ca = svc_rbf.score(X_test, y_test)\n",
    "print('Radial Basis Function SVC classification accuracy on test set: {:.5f}'.format(ca))\n",
    "\n"
   ]
  },
  {
   "cell_type": "code",
   "execution_count": 20,
   "metadata": {},
   "outputs": [
    {
     "name": "stdout",
     "output_type": "stream",
     "text": [
      "Precision on train: 0.82964\n",
      "Recall on train: 0.52789\n",
      "Precision on test: 0.83051\n",
      "Recall on test: 0.51674\n"
     ]
    }
   ],
   "source": [
    "y_pred = svc_rbf.predict(X_tr)\n",
    "p = precision_score(y_pred=y_pred,y_true=y_tr, pos_label=1)\n",
    "r = recall_score(y_pred=y_pred, y_true=y_tr, pos_label=1)\n",
    "print('Precision on train: {:.5f}'.format(p))\n",
    "print('Recall on train: {:.5f}'.format(r))\n",
    "\n",
    "y_pred = svc_rbf.predict(X_test)\n",
    "p = precision_score(y_pred=y_pred,y_true=y_test, pos_label=1)\n",
    "r = recall_score(y_pred=y_pred, y_true=y_test, pos_label=1)\n",
    "print('Precision on test: {:.5f}'.format(p))\n",
    "print('Recall on test: {:.5f}'.format(r))\n"
   ]
  },
  {
   "cell_type": "code",
   "execution_count": 21,
   "metadata": {},
   "outputs": [
    {
     "name": "stdout",
     "output_type": "stream",
     "text": [
      "\n",
      "Polynomial SVC classification accuracy on training set: 0.77332\n",
      "Polynomial SVC classification accuracy on test set: 0.74937\n"
     ]
    }
   ],
   "source": [
    "svc_poly = SVC(kernel='poly')\n",
    "svc_poly.fit(X_tr, y_tr)\n",
    "ca = svc_poly.score(X_tr, y_tr)\n",
    "print('\\nPolynomial SVC classification accuracy on training set: {:.5f}'.format(ca))\n",
    "ca = svc_poly.score(X_test, y_test)\n",
    "print('Polynomial SVC classification accuracy on test set: {:.5f}'.format(ca))"
   ]
  },
  {
   "cell_type": "code",
   "execution_count": null,
   "metadata": {},
   "outputs": [],
   "source": []
  },
  {
   "cell_type": "code",
   "execution_count": null,
   "metadata": {},
   "outputs": [],
   "source": []
  }
 ],
 "metadata": {
  "kernelspec": {
   "display_name": "Python 3",
   "language": "python",
   "name": "python3"
  },
  "language_info": {
   "codemirror_mode": {
    "name": "ipython",
    "version": 3
   },
   "file_extension": ".py",
   "mimetype": "text/x-python",
   "name": "python",
   "nbconvert_exporter": "python",
   "pygments_lexer": "ipython3",
   "version": "3.4.9"
  }
 },
 "nbformat": 4,
 "nbformat_minor": 2
}
