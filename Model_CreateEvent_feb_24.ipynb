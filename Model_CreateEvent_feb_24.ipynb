{
 "cells": [
  {
   "cell_type": "code",
   "execution_count": 1,
   "metadata": {},
   "outputs": [
    {
     "name": "stderr",
     "output_type": "stream",
     "text": [
      "/usr/lib64/python3.4/site-packages/sklearn/cross_validation.py:41: DeprecationWarning: This module was deprecated in version 0.18 in favor of the model_selection module into which all the refactored classes and functions are moved. Also note that the interface of the new CV iterators are different from that of this module. This module will be removed in 0.20.\n",
      "  \"This module will be removed in 0.20.\", DeprecationWarning)\n"
     ]
    }
   ],
   "source": [
    "from __future__ import print_function, division\n",
    "%matplotlib inline\n",
    "\n",
    "# Your code goes here\n",
    "import os\n",
    "import numpy as np \n",
    "import pandas as pd\n",
    "import matplotlib.pyplot as plt\n",
    "import seaborn as sns\n",
    "from sklearn.metrics import accuracy_score, log_loss\n",
    "from sklearn.linear_model import LogisticRegression, LogisticRegressionCV\n",
    "from sklearn.preprocessing import StandardScaler\n",
    "from sklearn.cross_validation import KFold\n",
    "from sklearn.ensemble import RandomForestClassifier\n",
    "from sklearn.svm import SVC\n",
    "from sklearn.naive_bayes import GaussianNB\n",
    "from sklearn.neural_network import MLPClassifier\n",
    "from sklearn.model_selection import train_test_split\n",
    "from sklearn.metrics import average_precision_score, recall_score, precision_score, f1_score, confusion_matrix"
   ]
  },
  {
   "cell_type": "code",
   "execution_count": 2,
   "metadata": {},
   "outputs": [
    {
     "name": "stdout",
     "output_type": "stream",
     "text": [
      "(8260, 96)\n",
      "(1449, 96)\n"
     ]
    }
   ],
   "source": [
    "dataset1 = pd.read_csv('createEvent_feb_24.csv',delimiter = ',')\n",
    "data_neg = dataset1.loc[(dataset1['class']==0) & (dataset1['proj_span']>1.0)]\n",
    "data_pos = dataset1.loc[(dataset1['class']==1) & (dataset1['proj_span']>1.0)]\n",
    "print(data_neg.shape)\n",
    "print(data_pos.shape)"
   ]
  },
  {
   "cell_type": "code",
   "execution_count": 3,
   "metadata": {},
   "outputs": [],
   "source": [
    "dataset = pd.read_csv('createEvent_feb_24.csv',delimiter = ',')\n",
    "# dataset1 = pd.read_csv('test_createEvent_12_18.csv',delimiter = ',') # this one does not take care the CRAN before GH date"
   ]
  },
  {
   "cell_type": "code",
   "execution_count": 4,
   "metadata": {},
   "outputs": [
    {
     "data": {
      "text/plain": [
       "(29286, 96)"
      ]
     },
     "execution_count": 4,
     "metadata": {},
     "output_type": "execute_result"
    }
   ],
   "source": [
    "X = (dataset.drop('class', axis=1)).drop('id', axis=1)\n",
    "y = dataset['class']\n",
    "dataset.shape"
   ]
  },
  {
   "cell_type": "code",
   "execution_count": 5,
   "metadata": {},
   "outputs": [
    {
     "data": {
      "text/html": [
       "<div>\n",
       "<style scoped>\n",
       "    .dataframe tbody tr th:only-of-type {\n",
       "        vertical-align: middle;\n",
       "    }\n",
       "\n",
       "    .dataframe tbody tr th {\n",
       "        vertical-align: top;\n",
       "    }\n",
       "\n",
       "    .dataframe thead th {\n",
       "        text-align: right;\n",
       "    }\n",
       "</style>\n",
       "<table border=\"1\" class=\"dataframe\">\n",
       "  <thead>\n",
       "    <tr style=\"text-align: right;\">\n",
       "      <th></th>\n",
       "      <th>activity_intensity</th>\n",
       "      <th>class</th>\n",
       "      <th>contribution_30_10</th>\n",
       "      <th>contribution_50_30</th>\n",
       "      <th>contribution_below_10</th>\n",
       "      <th>contribution_over_50</th>\n",
       "      <th>final_teamsize</th>\n",
       "      <th>first_quater_teamsize</th>\n",
       "      <th>id</th>\n",
       "      <th>max_contribution_percentage</th>\n",
       "      <th>...</th>\n",
       "      <th>num_Issues</th>\n",
       "      <th>num_Member</th>\n",
       "      <th>num_Public</th>\n",
       "      <th>num_PullRequest</th>\n",
       "      <th>num_PullRequestReviewComment</th>\n",
       "      <th>num_Push</th>\n",
       "      <th>num_Release</th>\n",
       "      <th>num_TeamAdd</th>\n",
       "      <th>num_Watch</th>\n",
       "      <th>proj_span</th>\n",
       "    </tr>\n",
       "  </thead>\n",
       "  <tbody>\n",
       "    <tr>\n",
       "      <th>2232</th>\n",
       "      <td>4.417542</td>\n",
       "      <td>1</td>\n",
       "      <td>1</td>\n",
       "      <td>1</td>\n",
       "      <td>1046</td>\n",
       "      <td>0</td>\n",
       "      <td>1048</td>\n",
       "      <td>1048</td>\n",
       "      <td>hadley-dplyr</td>\n",
       "      <td>0.366611</td>\n",
       "      <td>...</td>\n",
       "      <td>1450</td>\n",
       "      <td>1</td>\n",
       "      <td>0</td>\n",
       "      <td>872</td>\n",
       "      <td>504</td>\n",
       "      <td>1020</td>\n",
       "      <td>7</td>\n",
       "      <td>0</td>\n",
       "      <td>593</td>\n",
       "      <td>1619</td>\n",
       "    </tr>\n",
       "    <tr>\n",
       "      <th>13742</th>\n",
       "      <td>0.696673</td>\n",
       "      <td>0</td>\n",
       "      <td>0</td>\n",
       "      <td>0</td>\n",
       "      <td>588</td>\n",
       "      <td>0</td>\n",
       "      <td>588</td>\n",
       "      <td>588</td>\n",
       "      <td>bcaffo-Caffo-Coursera</td>\n",
       "      <td>0.056180</td>\n",
       "      <td>...</td>\n",
       "      <td>1</td>\n",
       "      <td>1</td>\n",
       "      <td>0</td>\n",
       "      <td>17</td>\n",
       "      <td>0</td>\n",
       "      <td>47</td>\n",
       "      <td>0</td>\n",
       "      <td>0</td>\n",
       "      <td>263</td>\n",
       "      <td>1022</td>\n",
       "    </tr>\n",
       "    <tr>\n",
       "      <th>13814</th>\n",
       "      <td>27.013793</td>\n",
       "      <td>0</td>\n",
       "      <td>0</td>\n",
       "      <td>0</td>\n",
       "      <td>39641</td>\n",
       "      <td>0</td>\n",
       "      <td>39641</td>\n",
       "      <td>39641</td>\n",
       "      <td>rdpeng-ProgrammingAssignment2</td>\n",
       "      <td>0.000743</td>\n",
       "      <td>...</td>\n",
       "      <td>5</td>\n",
       "      <td>0</td>\n",
       "      <td>0</td>\n",
       "      <td>4353</td>\n",
       "      <td>34</td>\n",
       "      <td>5</td>\n",
       "      <td>0</td>\n",
       "      <td>0</td>\n",
       "      <td>122</td>\n",
       "      <td>1595</td>\n",
       "    </tr>\n",
       "  </tbody>\n",
       "</table>\n",
       "<p>3 rows × 28 columns</p>\n",
       "</div>"
      ],
      "text/plain": [
       "       activity_intensity  class  contribution_30_10  contribution_50_30  \\\n",
       "2232             4.417542      1                   1                   1   \n",
       "13742            0.696673      0                   0                   0   \n",
       "13814           27.013793      0                   0                   0   \n",
       "\n",
       "       contribution_below_10  contribution_over_50  final_teamsize  \\\n",
       "2232                    1046                     0            1048   \n",
       "13742                    588                     0             588   \n",
       "13814                  39641                     0           39641   \n",
       "\n",
       "       first_quater_teamsize                             id  \\\n",
       "2232                    1048                   hadley-dplyr   \n",
       "13742                    588          bcaffo-Caffo-Coursera   \n",
       "13814                  39641  rdpeng-ProgrammingAssignment2   \n",
       "\n",
       "       max_contribution_percentage    ...      num_Issues  num_Member  \\\n",
       "2232                      0.366611    ...            1450           1   \n",
       "13742                     0.056180    ...               1           1   \n",
       "13814                     0.000743    ...               5           0   \n",
       "\n",
       "       num_Public  num_PullRequest  num_PullRequestReviewComment  num_Push  \\\n",
       "2232            0              872                           504      1020   \n",
       "13742           0               17                             0        47   \n",
       "13814           0             4353                            34         5   \n",
       "\n",
       "       num_Release  num_TeamAdd  num_Watch  proj_span  \n",
       "2232             7            0        593       1619  \n",
       "13742            0            0        263       1022  \n",
       "13814            0            0        122       1595  \n",
       "\n",
       "[3 rows x 28 columns]"
      ]
     },
     "execution_count": 5,
     "metadata": {},
     "output_type": "execute_result"
    }
   ],
   "source": [
    "playset = pd.read_csv('createEvent_feb_7.csv',delimiter = ',')\n",
    "playset[playset['final_teamsize'] > 500]"
   ]
  },
  {
   "cell_type": "code",
   "execution_count": 6,
   "metadata": {},
   "outputs": [
    {
     "data": {
      "text/html": [
       "<div>\n",
       "<style scoped>\n",
       "    .dataframe tbody tr th:only-of-type {\n",
       "        vertical-align: middle;\n",
       "    }\n",
       "\n",
       "    .dataframe tbody tr th {\n",
       "        vertical-align: top;\n",
       "    }\n",
       "\n",
       "    .dataframe thead th {\n",
       "        text-align: right;\n",
       "    }\n",
       "</style>\n",
       "<table border=\"1\" class=\"dataframe\">\n",
       "  <thead>\n",
       "    <tr style=\"text-align: right;\">\n",
       "      <th></th>\n",
       "      <th>activity_intensity</th>\n",
       "      <th>class</th>\n",
       "      <th>contribution_30_10</th>\n",
       "      <th>contribution_50_30</th>\n",
       "      <th>contribution_below_10</th>\n",
       "      <th>contribution_over_50</th>\n",
       "      <th>final_teamsize</th>\n",
       "      <th>first_quater_teamsize</th>\n",
       "      <th>majority_contribution_time</th>\n",
       "      <th>max_contribution_percentage</th>\n",
       "      <th>...</th>\n",
       "      <th>num_TeamAdd_Q4</th>\n",
       "      <th>num_Watch</th>\n",
       "      <th>num_Watch_Q1</th>\n",
       "      <th>num_Watch_Q2</th>\n",
       "      <th>num_Watch_Q3</th>\n",
       "      <th>num_Watch_Q4</th>\n",
       "      <th>num_joint_project</th>\n",
       "      <th>num_joint_success_project</th>\n",
       "      <th>proj_span</th>\n",
       "      <th>team_age_in_days</th>\n",
       "    </tr>\n",
       "  </thead>\n",
       "  <tbody>\n",
       "    <tr>\n",
       "      <th>count</th>\n",
       "      <td>29286.000000</td>\n",
       "      <td>29286.000000</td>\n",
       "      <td>29286.000000</td>\n",
       "      <td>29286.000000</td>\n",
       "      <td>29286.000000</td>\n",
       "      <td>29286.000000</td>\n",
       "      <td>29286.000000</td>\n",
       "      <td>29286.000000</td>\n",
       "      <td>29286.000000</td>\n",
       "      <td>29286.000000</td>\n",
       "      <td>...</td>\n",
       "      <td>29286.000000</td>\n",
       "      <td>29286.000000</td>\n",
       "      <td>29286.000000</td>\n",
       "      <td>29286.000000</td>\n",
       "      <td>29286.000000</td>\n",
       "      <td>29286.000000</td>\n",
       "      <td>29286.000000</td>\n",
       "      <td>29286.000000</td>\n",
       "      <td>29286.000000</td>\n",
       "      <td>29286.000000</td>\n",
       "    </tr>\n",
       "    <tr>\n",
       "      <th>mean</th>\n",
       "      <td>2.032372</td>\n",
       "      <td>0.241890</td>\n",
       "      <td>0.087789</td>\n",
       "      <td>0.055999</td>\n",
       "      <td>1.897221</td>\n",
       "      <td>0.970327</td>\n",
       "      <td>3.011336</td>\n",
       "      <td>3.011336</td>\n",
       "      <td>0.514990</td>\n",
       "      <td>0.961830</td>\n",
       "      <td>...</td>\n",
       "      <td>0.000205</td>\n",
       "      <td>0.358567</td>\n",
       "      <td>0.077409</td>\n",
       "      <td>0.104692</td>\n",
       "      <td>0.107457</td>\n",
       "      <td>0.109472</td>\n",
       "      <td>1931.859011</td>\n",
       "      <td>1057.497781</td>\n",
       "      <td>58.686266</td>\n",
       "      <td>152.457693</td>\n",
       "    </tr>\n",
       "    <tr>\n",
       "      <th>std</th>\n",
       "      <td>3.694424</td>\n",
       "      <td>0.428236</td>\n",
       "      <td>0.444698</td>\n",
       "      <td>0.298088</td>\n",
       "      <td>231.831024</td>\n",
       "      <td>0.169686</td>\n",
       "      <td>231.825169</td>\n",
       "      <td>231.825169</td>\n",
       "      <td>0.499784</td>\n",
       "      <td>0.123158</td>\n",
       "      <td>...</td>\n",
       "      <td>0.014312</td>\n",
       "      <td>6.030359</td>\n",
       "      <td>1.785391</td>\n",
       "      <td>1.838624</td>\n",
       "      <td>1.592290</td>\n",
       "      <td>1.353979</td>\n",
       "      <td>3929.881167</td>\n",
       "      <td>2164.228317</td>\n",
       "      <td>193.306612</td>\n",
       "      <td>226.302552</td>\n",
       "    </tr>\n",
       "    <tr>\n",
       "      <th>min</th>\n",
       "      <td>0.001577</td>\n",
       "      <td>0.000000</td>\n",
       "      <td>0.000000</td>\n",
       "      <td>0.000000</td>\n",
       "      <td>0.000000</td>\n",
       "      <td>0.000000</td>\n",
       "      <td>1.000000</td>\n",
       "      <td>1.000000</td>\n",
       "      <td>0.000000</td>\n",
       "      <td>0.000743</td>\n",
       "      <td>...</td>\n",
       "      <td>0.000000</td>\n",
       "      <td>0.000000</td>\n",
       "      <td>0.000000</td>\n",
       "      <td>0.000000</td>\n",
       "      <td>0.000000</td>\n",
       "      <td>0.000000</td>\n",
       "      <td>1.000000</td>\n",
       "      <td>0.000000</td>\n",
       "      <td>1.000000</td>\n",
       "      <td>0.000000</td>\n",
       "    </tr>\n",
       "    <tr>\n",
       "      <th>25%</th>\n",
       "      <td>0.857143</td>\n",
       "      <td>0.000000</td>\n",
       "      <td>0.000000</td>\n",
       "      <td>0.000000</td>\n",
       "      <td>0.000000</td>\n",
       "      <td>1.000000</td>\n",
       "      <td>1.000000</td>\n",
       "      <td>1.000000</td>\n",
       "      <td>0.000000</td>\n",
       "      <td>1.000000</td>\n",
       "      <td>...</td>\n",
       "      <td>0.000000</td>\n",
       "      <td>0.000000</td>\n",
       "      <td>0.000000</td>\n",
       "      <td>0.000000</td>\n",
       "      <td>0.000000</td>\n",
       "      <td>0.000000</td>\n",
       "      <td>2.000000</td>\n",
       "      <td>0.000000</td>\n",
       "      <td>1.000000</td>\n",
       "      <td>0.000000</td>\n",
       "    </tr>\n",
       "    <tr>\n",
       "      <th>50%</th>\n",
       "      <td>1.000000</td>\n",
       "      <td>0.000000</td>\n",
       "      <td>0.000000</td>\n",
       "      <td>0.000000</td>\n",
       "      <td>0.000000</td>\n",
       "      <td>1.000000</td>\n",
       "      <td>1.000000</td>\n",
       "      <td>1.000000</td>\n",
       "      <td>1.000000</td>\n",
       "      <td>1.000000</td>\n",
       "      <td>...</td>\n",
       "      <td>0.000000</td>\n",
       "      <td>0.000000</td>\n",
       "      <td>0.000000</td>\n",
       "      <td>0.000000</td>\n",
       "      <td>0.000000</td>\n",
       "      <td>0.000000</td>\n",
       "      <td>3.000000</td>\n",
       "      <td>2.000000</td>\n",
       "      <td>1.000000</td>\n",
       "      <td>25.000000</td>\n",
       "    </tr>\n",
       "    <tr>\n",
       "      <th>75%</th>\n",
       "      <td>2.500000</td>\n",
       "      <td>0.000000</td>\n",
       "      <td>0.000000</td>\n",
       "      <td>0.000000</td>\n",
       "      <td>0.000000</td>\n",
       "      <td>1.000000</td>\n",
       "      <td>1.000000</td>\n",
       "      <td>1.000000</td>\n",
       "      <td>1.000000</td>\n",
       "      <td>1.000000</td>\n",
       "      <td>...</td>\n",
       "      <td>0.000000</td>\n",
       "      <td>0.000000</td>\n",
       "      <td>0.000000</td>\n",
       "      <td>0.000000</td>\n",
       "      <td>0.000000</td>\n",
       "      <td>0.000000</td>\n",
       "      <td>16.000000</td>\n",
       "      <td>8.000000</td>\n",
       "      <td>8.000000</td>\n",
       "      <td>243.000000</td>\n",
       "    </tr>\n",
       "    <tr>\n",
       "      <th>max</th>\n",
       "      <td>403.000000</td>\n",
       "      <td>1.000000</td>\n",
       "      <td>9.000000</td>\n",
       "      <td>3.000000</td>\n",
       "      <td>39641.000000</td>\n",
       "      <td>1.000000</td>\n",
       "      <td>39641.000000</td>\n",
       "      <td>39641.000000</td>\n",
       "      <td>1.000000</td>\n",
       "      <td>1.000000</td>\n",
       "      <td>...</td>\n",
       "      <td>1.000000</td>\n",
       "      <td>593.000000</td>\n",
       "      <td>211.000000</td>\n",
       "      <td>170.000000</td>\n",
       "      <td>152.000000</td>\n",
       "      <td>88.000000</td>\n",
       "      <td>10065.000000</td>\n",
       "      <td>10057.000000</td>\n",
       "      <td>2258.000000</td>\n",
       "      <td>1019.000000</td>\n",
       "    </tr>\n",
       "  </tbody>\n",
       "</table>\n",
       "<p>8 rows × 95 columns</p>\n",
       "</div>"
      ],
      "text/plain": [
       "       activity_intensity         class  contribution_30_10  \\\n",
       "count        29286.000000  29286.000000        29286.000000   \n",
       "mean             2.032372      0.241890            0.087789   \n",
       "std              3.694424      0.428236            0.444698   \n",
       "min              0.001577      0.000000            0.000000   \n",
       "25%              0.857143      0.000000            0.000000   \n",
       "50%              1.000000      0.000000            0.000000   \n",
       "75%              2.500000      0.000000            0.000000   \n",
       "max            403.000000      1.000000            9.000000   \n",
       "\n",
       "       contribution_50_30  contribution_below_10  contribution_over_50  \\\n",
       "count        29286.000000           29286.000000          29286.000000   \n",
       "mean             0.055999               1.897221              0.970327   \n",
       "std              0.298088             231.831024              0.169686   \n",
       "min              0.000000               0.000000              0.000000   \n",
       "25%              0.000000               0.000000              1.000000   \n",
       "50%              0.000000               0.000000              1.000000   \n",
       "75%              0.000000               0.000000              1.000000   \n",
       "max              3.000000           39641.000000              1.000000   \n",
       "\n",
       "       final_teamsize  first_quater_teamsize  majority_contribution_time  \\\n",
       "count    29286.000000           29286.000000                29286.000000   \n",
       "mean         3.011336               3.011336                    0.514990   \n",
       "std        231.825169             231.825169                    0.499784   \n",
       "min          1.000000               1.000000                    0.000000   \n",
       "25%          1.000000               1.000000                    0.000000   \n",
       "50%          1.000000               1.000000                    1.000000   \n",
       "75%          1.000000               1.000000                    1.000000   \n",
       "max      39641.000000           39641.000000                    1.000000   \n",
       "\n",
       "       max_contribution_percentage        ...         num_TeamAdd_Q4  \\\n",
       "count                 29286.000000        ...           29286.000000   \n",
       "mean                      0.961830        ...               0.000205   \n",
       "std                       0.123158        ...               0.014312   \n",
       "min                       0.000743        ...               0.000000   \n",
       "25%                       1.000000        ...               0.000000   \n",
       "50%                       1.000000        ...               0.000000   \n",
       "75%                       1.000000        ...               0.000000   \n",
       "max                       1.000000        ...               1.000000   \n",
       "\n",
       "          num_Watch  num_Watch_Q1  num_Watch_Q2  num_Watch_Q3  num_Watch_Q4  \\\n",
       "count  29286.000000  29286.000000  29286.000000  29286.000000  29286.000000   \n",
       "mean       0.358567      0.077409      0.104692      0.107457      0.109472   \n",
       "std        6.030359      1.785391      1.838624      1.592290      1.353979   \n",
       "min        0.000000      0.000000      0.000000      0.000000      0.000000   \n",
       "25%        0.000000      0.000000      0.000000      0.000000      0.000000   \n",
       "50%        0.000000      0.000000      0.000000      0.000000      0.000000   \n",
       "75%        0.000000      0.000000      0.000000      0.000000      0.000000   \n",
       "max      593.000000    211.000000    170.000000    152.000000     88.000000   \n",
       "\n",
       "       num_joint_project  num_joint_success_project     proj_span  \\\n",
       "count       29286.000000               29286.000000  29286.000000   \n",
       "mean         1931.859011                1057.497781     58.686266   \n",
       "std          3929.881167                2164.228317    193.306612   \n",
       "min             1.000000                   0.000000      1.000000   \n",
       "25%             2.000000                   0.000000      1.000000   \n",
       "50%             3.000000                   2.000000      1.000000   \n",
       "75%            16.000000                   8.000000      8.000000   \n",
       "max         10065.000000               10057.000000   2258.000000   \n",
       "\n",
       "       team_age_in_days  \n",
       "count      29286.000000  \n",
       "mean         152.457693  \n",
       "std          226.302552  \n",
       "min            0.000000  \n",
       "25%            0.000000  \n",
       "50%           25.000000  \n",
       "75%          243.000000  \n",
       "max         1019.000000  \n",
       "\n",
       "[8 rows x 95 columns]"
      ]
     },
     "execution_count": 6,
     "metadata": {},
     "output_type": "execute_result"
    }
   ],
   "source": [
    "dataset.describe()"
   ]
  },
  {
   "cell_type": "code",
   "execution_count": null,
   "metadata": {},
   "outputs": [],
   "source": []
  },
  {
   "cell_type": "code",
   "execution_count": 7,
   "metadata": {},
   "outputs": [
    {
     "name": "stdout",
     "output_type": "stream",
     "text": [
      "training size:  17571\n",
      "validation size:  5857\n",
      "test size:  5858\n"
     ]
    }
   ],
   "source": [
    "X_tr_val, X_test, y_tr_val, y_test = train_test_split(X, y, test_size=0.2, random_state=20190101)\n",
    "X_tr, X_val, y_tr, y_val = train_test_split(X_tr_val, y_tr_val, test_size=0.25, random_state=20190207)\n",
    "print('training size: ', X_tr.shape[0])\n",
    "print('validation size: ', X_val.shape[0])\n",
    "print('test size: ', X_test.shape[0])"
   ]
  },
  {
   "cell_type": "code",
   "execution_count": 8,
   "metadata": {},
   "outputs": [
    {
     "data": {
      "image/png": "[encoded data removed]",
      "text/plain": [
       "<Figure size 864x360 with 1 Axes>"
      ]
     },
     "metadata": {},
     "output_type": "display_data"
    }
   ],
   "source": [
    "plt.figure(figsize=(12,5))\n",
    "plt.subplot(1,2,1)\n",
    "ax1 = sns.countplot(x='class', data=dataset)\n",
    "ax1.set_xticklabels(['not Success', 'Success'])\n",
    "plt.title('Dataset with CreateEvent in beginning')\n",
    "# ax2 = plt.subplot(1,2,2)\n",
    "# sns.countplot(x='class', data=dataset1)\n",
    "# ax2.set_xticklabels(['not Success', 'Success'])\n",
    "# plt.title('Dataset don\\'t care CRAN before GH')\n",
    "plt.show()"
   ]
  },
  {
   "cell_type": "code",
   "execution_count": 9,
   "metadata": {},
   "outputs": [
    {
     "name": "stdout",
     "output_type": "stream",
     "text": [
      "Classification accuracy of the LogisticRegression classifier on training set: 0.95003\n",
      "Precision on train: 0.96847\n",
      "Recall on train: 0.81633\n",
      "\n",
      "Classification accuracy of the LogisticRegression classifier on val set: 0.94980\n",
      "Precision on val: 0.97174\n",
      "Recall on val: 0.81805\n"
     ]
    },
    {
     "data": {
      "text/plain": [
       "array([[4394,   34],\n",
       "       [ 260, 1169]])"
      ]
     },
     "execution_count": 9,
     "metadata": {},
     "output_type": "execute_result"
    }
   ],
   "source": [
    "lr = LogisticRegression(solver='lbfgs')\n",
    "lr.fit(X_tr, y_tr)\n",
    "ca = lr.score(X_tr, y_tr)\n",
    "print('Classification accuracy of the LogisticRegression classifier on training set: {:.5f}'.format(ca))\n",
    "y_pred = lr.predict(X_tr)\n",
    "p = precision_score(y_pred=y_pred,y_true=y_tr, pos_label=1)\n",
    "r = recall_score(y_pred=y_pred, y_true=y_tr, pos_label=1)\n",
    "print('Precision on train: {:.5f}'.format(p))\n",
    "print('Recall on train: {:.5f}'.format(r))\n",
    "ca = lr.score(X_val, y_val)\n",
    "y_pred = lr.predict(X_val)\n",
    "p = precision_score(y_pred=y_pred,y_true=y_val, pos_label=1)\n",
    "r = recall_score(y_pred=y_pred, y_true=y_val, pos_label=1)\n",
    "print('\\nClassification accuracy of the LogisticRegression classifier on val set: {:.5f}'.format(ca))\n",
    "print('Precision on val: {:.5f}'.format(p))\n",
    "print('Recall on val: {:.5f}'.format(r))\n",
    "confusion_matrix(y_pred=y_pred, y_true=y_val)"
   ]
  },
  {
   "cell_type": "code",
   "execution_count": 10,
   "metadata": {},
   "outputs": [
    {
     "name": "stdout",
     "output_type": "stream",
     "text": [
      "\n",
      "Classification accuracy of the LogisticRegression classifier on val set: 0.94674\n",
      "Precision on val: 0.97247\n",
      "Recall on val: 0.81204\n"
     ]
    }
   ],
   "source": [
    "ca = lr.score(X_test, y_test)\n",
    "y_pred_1 = lr.predict(X_test)\n",
    "p = precision_score(y_pred=y_pred_1,y_true=y_test, pos_label=1)\n",
    "r = recall_score(y_pred=y_pred_1, y_true=y_test, pos_label=1)\n",
    "print('\\nClassification accuracy of the LogisticRegression classifier on val set: {:.5f}'.format(ca))\n",
    "print('Precision on val: {:.5f}'.format(p))\n",
    "print('Recall on val: {:.5f}'.format(r))"
   ]
  },
  {
   "cell_type": "code",
   "execution_count": 11,
   "metadata": {},
   "outputs": [
    {
     "name": "stdout",
     "output_type": "stream",
     "text": [
      "[[-4.21571792e-01 -2.23385452e-02 -2.43860880e-02  2.46281463e-01\n",
      "  -3.99310174e-01 -1.99753344e-01 -1.99753344e-01 -2.04175482e-01\n",
      "  -4.07336736e-01  1.53469839e-04  1.21815614e-02  8.68030904e-03\n",
      "   6.65350857e-04  3.26314450e-03 -1.84197681e-03  7.46765383e-02\n",
      "  -2.68777092e-01 -1.56137041e-01 -5.35223698e-02 -8.95272636e-02\n",
      "   1.19179818e-01  2.61292894e-02  4.10849640e-02  3.33532820e-02\n",
      "   2.98185588e-02  1.57204069e-03  2.80266859e-03 -1.34040408e-03\n",
      "  -3.86982210e-04 -3.04506058e-04  3.35634934e-02  3.67231185e-03\n",
      "   1.39280255e-03 -9.74830043e-03  7.02932996e-03  1.66565144e-02\n",
      "   9.67263827e-03 -4.42615398e-03 -4.43425928e-03  1.13076704e-02\n",
      "  -2.72945619e-02  1.90190295e-02 -3.26527073e-02  5.67412363e-03\n",
      "  -1.93763123e-02  2.23387570e-02  2.00409041e-02 -1.49545950e-02\n",
      "   9.15477727e-03  6.63423690e-03 -1.17931812e-02 -6.52921768e-03\n",
      "  -5.63581882e-03 -2.61667341e-03 -4.23303274e-03 -2.48898317e-03\n",
      "  -9.16169723e-04 -8.32729324e-04 -9.11625925e-04 -1.06434663e-03\n",
      "   4.32281850e-02  3.06950394e-02  8.99649846e-03 -1.30562383e-03\n",
      "  -4.09814303e-03  2.80048777e-02 -6.89480249e-03 -6.80439851e-03\n",
      "  -5.37307557e-02  1.19178219e-01  1.13479874e-01  1.35042208e-02\n",
      "  -1.59416844e-01 -1.49271609e-01 -1.71171881e-01  5.68444844e-02\n",
      "   1.21709498e-02  1.83697196e-02  1.54022407e-02  1.48729978e-02\n",
      "  -1.97174106e-03 -1.59981744e-03 -6.61335558e-04 -3.55552850e-04\n",
      "  -1.08626343e-04  8.75270017e-02  3.14059652e-02  4.09605307e-02\n",
      "   2.02190924e-02 -1.12628911e-02  3.89020960e-03 -4.16466791e-03\n",
      "   1.54441703e-03 -6.34090703e-04]]\n",
      "[-0.4177141]\n"
     ]
    }
   ],
   "source": [
    "# display coef for logistic regression model\n",
    "print(lr.coef_)\n",
    "print(lr.intercept_)"
   ]
  },
  {
   "cell_type": "code",
   "execution_count": 12,
   "metadata": {},
   "outputs": [],
   "source": [
    "def plot_confusion_matrix(cm, classes=None, title='Confusion matrix'):\n",
    "    \"\"\"Plots a confusion matrix.\"\"\"\n",
    "    if classes is not None:\n",
    "        sns.heatmap(cm, xticklabels=classes, yticklabels=classes, vmin=0., vmax=1., annot=True)\n",
    "    else:\n",
    "        sns.heatmap(cm, vmin=0., vmax=1.)\n",
    "    plt.title(title)\n",
    "    plt.ylabel('True label')\n",
    "    plt.xlabel('Predicted label')"
   ]
  },
  {
   "cell_type": "code",
   "execution_count": 13,
   "metadata": {},
   "outputs": [
    {
     "data": {
      "image/png": "[encoded data removed]",
      "text/plain": [
       "<Figure size 432x288 with 2 Axes>"
      ]
     },
     "metadata": {},
     "output_type": "display_data"
    }
   ],
   "source": [
    "cm = confusion_matrix(y_pred=y_pred, y_true=y_val)\n",
    "# retrive the normalized version of cm\n",
    "cm_norm = cm/cm.sum(axis=1)[:, np.newaxis]\n",
    "\n",
    "plt.figure()\n",
    "plot_confusion_matrix(cm_norm, classes=['unsuccess','success'])\n",
    "plt.show()"
   ]
  },
  {
   "cell_type": "code",
   "execution_count": 14,
   "metadata": {},
   "outputs": [
    {
     "name": "stdout",
     "output_type": "stream",
     "text": [
      "Classification accuracy of the Naive Bayes classifier on training set: 0.94178\n",
      "Precision on train: 0.93299\n",
      "Recall on train: 0.81346\n",
      "\n",
      "Classification accuracy of the Naive Bayes classifier on val set: 0.94110\n",
      "Precision on val: 0.93639\n",
      "Recall on val: 0.81386\n"
     ]
    },
    {
     "data": {
      "text/plain": [
       "array([[4349,   79],\n",
       "       [ 266, 1163]])"
      ]
     },
     "execution_count": 14,
     "metadata": {},
     "output_type": "execute_result"
    }
   ],
   "source": [
    "clf = GaussianNB()\n",
    "clf.fit(X_tr, y_tr)\n",
    "ca = clf.score(X_tr, y_tr)\n",
    "print('Classification accuracy of the Naive Bayes classifier on training set: {:.5f}'.format(ca))\n",
    "y_pred = clf.predict(X_tr)\n",
    "p = precision_score(y_pred=y_pred,y_true=y_tr, pos_label=1)\n",
    "r = recall_score(y_pred=y_pred, y_true=y_tr, pos_label=1)\n",
    "print('Precision on train: {:.5f}'.format(p))\n",
    "print('Recall on train: {:.5f}'.format(r))\n",
    "ca = clf.score(X_val, y_val)\n",
    "y_pred = clf.predict(X_val)\n",
    "p = precision_score(y_pred=y_pred,y_true=y_val, pos_label=1)\n",
    "r = recall_score(y_pred=y_pred, y_true=y_val, pos_label=1)\n",
    "print('\\nClassification accuracy of the Naive Bayes classifier on val set: {:.5f}'.format(ca))\n",
    "print('Precision on val: {:.5f}'.format(p))\n",
    "print('Recall on val: {:.5f}'.format(r))\n",
    "confusion_matrix(y_pred=y_pred, y_true=y_val)"
   ]
  },
  {
   "cell_type": "code",
   "execution_count": null,
   "metadata": {},
   "outputs": [],
   "source": []
  },
  {
   "cell_type": "code",
   "execution_count": null,
   "metadata": {},
   "outputs": [],
   "source": []
  },
  {
   "cell_type": "code",
   "execution_count": 15,
   "metadata": {},
   "outputs": [],
   "source": [
    "# transform the data\n",
    "ss = StandardScaler()\n",
    "ss.fit(X_tr)\n",
    "X_tr = ss.transform(X_tr)\n",
    "X_val = ss.transform(X_val)\n",
    "X_test = ss.transform(X_test)"
   ]
  },
  {
   "cell_type": "code",
   "execution_count": 16,
   "metadata": {},
   "outputs": [
    {
     "name": "stdout",
     "output_type": "stream",
     "text": [
      "Classification accuracy of the LogisticRegression classifier on training set: 0.94997\n",
      "Precision on train: 0.98216\n",
      "Recall on train: 0.80412\n",
      "\n",
      "Classification accuracy of the LogisticRegression classifier on val set: 0.94758\n",
      "Precision on val: 0.97382\n",
      "Recall on val: 0.80686\n"
     ]
    }
   ],
   "source": [
    "lr = LogisticRegression(solver='lbfgs')\n",
    "lr.fit(X_tr, y_tr)\n",
    "ca = lr.score(X_tr, y_tr)\n",
    "print('Classification accuracy of the LogisticRegression classifier on training set: {:.5f}'.format(ca))\n",
    "y_pred = lr.predict(X_tr)\n",
    "p = precision_score(y_pred=y_pred,y_true=y_tr, pos_label=1)\n",
    "r = recall_score(y_pred=y_pred, y_true=y_tr, pos_label=1)\n",
    "print('Precision on train: {:.5f}'.format(p))\n",
    "print('Recall on train: {:.5f}'.format(r))\n",
    "\n",
    "ca = lr.score(X_val, y_val)\n",
    "y_pred = lr.predict(X_val)\n",
    "p = precision_score(y_pred=y_pred,y_true=y_val, pos_label=1)\n",
    "r = recall_score(y_pred=y_pred, y_true=y_val, pos_label=1)\n",
    "print('\\nClassification accuracy of the LogisticRegression classifier on val set: {:.5f}'.format(ca))\n",
    "print('Precision on val: {:.5f}'.format(p))\n",
    "print('Recall on val: {:.5f}'.format(r))\n"
   ]
  },
  {
   "cell_type": "code",
   "execution_count": 17,
   "metadata": {},
   "outputs": [
    {
     "name": "stdout",
     "output_type": "stream",
     "text": [
      "[[-4.68518287e-01  8.79818694e-02  2.13275580e-01  4.25221776e-01\n",
      "   3.05482073e-01  4.38874481e-01  4.38874481e-01 -5.34461860e-02\n",
      "  -2.12853404e-01  2.30928958e-01 -4.23669062e-01  3.28584711e-01\n",
      "   8.62223880e-03  7.02199466e-02  5.20713737e-02  4.05198966e-01\n",
      "   8.50549204e-02 -1.06444146e-03  3.89239324e-02 -2.35333160e-01\n",
      "  -6.27102881e-01  1.95489208e-01  2.31865739e-01  1.20911015e-01\n",
      "   2.45404602e-01 -7.36602239e-02  6.56174844e-02 -4.90977673e-01\n",
      "  -8.18144489e-02 -7.13662224e-02  9.46193241e-01 -2.68253543e-01\n",
      "  -2.08032229e-01 -5.87904822e-01 -6.64539576e-01 -1.52815816e-01\n",
      "   7.97954507e-02  6.02228991e-02  3.69299366e-03  3.37141057e-02\n",
      "  -4.39477213e-01  2.49334870e-01  4.32279301e-02 -1.88843056e-01\n",
      "   1.45580953e-01 -5.47036247e-01  1.92601158e-01  3.33716574e-01\n",
      "  -3.67700428e-02  8.97323201e-02  6.82664398e-02 -9.54188443e-02\n",
      "  -6.40369757e-02 -3.91023475e-02 -5.82817059e-02 -1.71628481e-01\n",
      "  -2.85998123e-01 -1.41359954e-01 -2.28612277e-01  1.08519616e-01\n",
      "  -1.01301164e+00 -1.67887845e-01  9.41130216e-02 -5.57179565e-02\n",
      "  -2.78335760e-02  2.32572695e-01  1.89643095e-01  6.50888659e-01\n",
      "  -3.43390016e-01  4.82900355e-01  1.71163564e+00 -1.15211610e-01\n",
      "  -1.81873690e-02 -8.04809677e-01 -7.04407060e-01 -2.21487391e-01\n",
      "   5.93600190e-02  2.43800930e-02  5.97618675e-02  1.00688223e-01\n",
      "   7.18853530e-01 -6.45033106e-01 -4.02493243e-01 -1.82711756e-01\n",
      "  -6.32009398e-02 -1.66888255e+00  4.50908301e-01  4.64977885e-01\n",
      "   3.76647468e-02  8.68698889e-02  9.05081781e+00 -4.42939265e+00\n",
      "   8.41475608e-02  1.54705497e-01]]\n",
      "[-0.79786387]\n"
     ]
    }
   ],
   "source": [
    "# display coef for logistic regression model\n",
    "print(lr.coef_)\n",
    "print(lr.intercept_)"
   ]
  },
  {
   "cell_type": "code",
   "execution_count": 18,
   "metadata": {},
   "outputs": [
    {
     "data": {
      "image/png": "[encoded data removed]",
      "text/plain": [
       "<Figure size 432x288 with 2 Axes>"
      ]
     },
     "metadata": {},
     "output_type": "display_data"
    }
   ],
   "source": [
    "cm = confusion_matrix(y_pred=y_pred, y_true=y_val)\n",
    "# retrive the normalized version of cm\n",
    "cm_norm = cm/cm.sum(axis=1)[:, np.newaxis]\n",
    "\n",
    "plt.figure()\n",
    "plot_confusion_matrix(cm_norm, classes=['unsuccess','success'])\n",
    "plt.show()"
   ]
  },
  {
   "cell_type": "code",
   "execution_count": null,
   "metadata": {},
   "outputs": [],
   "source": []
  },
  {
   "cell_type": "code",
   "execution_count": null,
   "metadata": {},
   "outputs": [],
   "source": []
  },
  {
   "cell_type": "code",
   "execution_count": null,
   "metadata": {},
   "outputs": [],
   "source": []
  },
  {
   "cell_type": "code",
   "execution_count": 19,
   "metadata": {},
   "outputs": [
    {
     "name": "stdout",
     "output_type": "stream",
     "text": [
      "Accuracy score on the training dataset: 0.9976096977975073\n",
      "Precision on train: 0.99928\n",
      "Recall on train: 0.99066\n",
      "\n",
      "Accuracy score on the val dataset: 0.97507\n",
      "Precision on val: 0.98709\n",
      "Recall on val: 0.90973\n"
     ]
    }
   ],
   "source": [
    "rf = RandomForestClassifier(n_estimators=100, random_state=42)\n",
    "rf.fit(X_tr, y_tr)\n",
    "y_pred = rf.predict(X_tr)\n",
    "p = precision_score(y_pred=y_pred,y_true=y_tr, pos_label=1)\n",
    "r = recall_score(y_pred=y_pred, y_true=y_tr, pos_label=1)\n",
    "accuracy_score_train = rf.score(X_tr, y_tr)\n",
    "print('Accuracy score on the training dataset: {}'.format(accuracy_score_train))\n",
    "print('Precision on train: {:.5f}'.format(p))\n",
    "print('Recall on train: {:.5f}'.format(r))\n",
    "\n",
    "# test set\n",
    "y_pred = rf.predict(X_val)\n",
    "p = precision_score(y_pred=y_pred,y_true=y_val, pos_label=1)\n",
    "r = recall_score(y_pred=y_pred, y_true=y_val, pos_label=1)\n",
    "accuracy_score_val = rf.score(X_val, y_val)\n",
    "print('\\nAccuracy score on the val dataset: {:.5f}'.format(accuracy_score_val))\n",
    "print('Precision on val: {:.5f}'.format(p))\n",
    "print('Recall on val: {:.5f}'.format(r))"
   ]
  },
  {
   "cell_type": "code",
   "execution_count": 20,
   "metadata": {},
   "outputs": [
    {
     "data": {
      "image/png": "[encoded data removed]",
      "text/plain": [
       "<Figure size 432x288 with 2 Axes>"
      ]
     },
     "metadata": {},
     "output_type": "display_data"
    }
   ],
   "source": [
    "cm = confusion_matrix(y_pred=y_pred, y_true=y_val)\n",
    "# retrive the normalized version of cm\n",
    "cm_norm = cm/cm.sum(axis=1)[:, np.newaxis]\n",
    "\n",
    "plt.figure()\n",
    "plot_confusion_matrix(cm_norm, classes=['unsuccess','success'])\n",
    "plt.show()"
   ]
  },
  {
   "cell_type": "code",
   "execution_count": 21,
   "metadata": {},
   "outputs": [
    {
     "name": "stdout",
     "output_type": "stream",
     "text": [
      "Names of the 10 most important features:\n",
      "1. num_joint_project\n",
      "2. num_joint_success_project\n",
      "3. team_age_in_days\n",
      "4. num_Create_Q2\n",
      "5. num_Create_Q3\n",
      "6. num_Create\n",
      "7. num_Push\n",
      "8. num_Push_Q3\n",
      "9. activity_intensity\n",
      "10. normalized_proj_span\n"
     ]
    }
   ],
   "source": [
    "features = X.columns[:].values.tolist()\n",
    "important_features = rf.feature_importances_\n",
    "feature_index = np.argsort(important_features)[::-1]\n",
    "print('Names of the 10 most important features:')\n",
    "for n in range(10):\n",
    "    print(\"{}. {}\".format(n+1, features[feature_index[n]]))"
   ]
  },
  {
   "cell_type": "code",
   "execution_count": 22,
   "metadata": {},
   "outputs": [
    {
     "name": "stdout",
     "output_type": "stream",
     "text": [
      "\n",
      "Accuracy score on the val dataset: 0.97354\n",
      "Precision on val: 0.98748\n",
      "Recall on val: 0.90669\n"
     ]
    }
   ],
   "source": [
    "# test set\n",
    "y_pred = rf.predict(X_test)\n",
    "p = precision_score(y_pred=y_pred,y_true=y_test, pos_label=1)\n",
    "r = recall_score(y_pred=y_pred, y_true=y_test, pos_label=1)\n",
    "accuracy_score_val = rf.score(X_test, y_test)\n",
    "print('\\nAccuracy score on the val dataset: {:.5f}'.format(accuracy_score_val))\n",
    "print('Precision on val: {:.5f}'.format(p))\n",
    "print('Recall on val: {:.5f}'.format(r))"
   ]
  },
  {
   "cell_type": "code",
   "execution_count": null,
   "metadata": {},
   "outputs": [],
   "source": []
  },
  {
   "cell_type": "code",
   "execution_count": null,
   "metadata": {},
   "outputs": [],
   "source": []
  },
  {
   "cell_type": "code",
   "execution_count": 23,
   "metadata": {},
   "outputs": [
    {
     "name": "stdout",
     "output_type": "stream",
     "text": [
      "Linear SVC classification accuracy on training set: 0.94929\n",
      "Linear SVC classification accuracy on val set: 0.94775\n"
     ]
    }
   ],
   "source": [
    "svc_linear = SVC(kernel='linear')\n",
    "svc_linear.fit(X_tr, y_tr)\n",
    "ca = svc_linear.score(X_tr, y_tr)\n",
    "print('Linear SVC classification accuracy on training set: {:.5f}'.format(ca))\n",
    "ca = svc_linear.score(X_val, y_val)\n",
    "print('Linear SVC classification accuracy on val set: {:.5f}'.format(ca))"
   ]
  },
  {
   "cell_type": "code",
   "execution_count": 24,
   "metadata": {},
   "outputs": [
    {
     "name": "stdout",
     "output_type": "stream",
     "text": [
      "\n",
      "Radial Basis Function SVC classification accuracy on training set: 0.95635\n",
      "Radial Basis Function SVC classification accuracy on val set: 0.94639\n"
     ]
    }
   ],
   "source": [
    "\n",
    "\n",
    "svc_rbf = SVC(kernel='rbf')\n",
    "svc_rbf.fit(X_tr, y_tr)\n",
    "ca = svc_rbf.score(X_tr, y_tr)\n",
    "print('\\nRadial Basis Function SVC classification accuracy on training set: {:.5f}'.format(ca))\n",
    "ca = svc_rbf.score(X_val, y_val)\n",
    "print('Radial Basis Function SVC classification accuracy on val set: {:.5f}'.format(ca))\n",
    "\n"
   ]
  },
  {
   "cell_type": "code",
   "execution_count": 25,
   "metadata": {},
   "outputs": [
    {
     "name": "stdout",
     "output_type": "stream",
     "text": [
      "Precision on train: 0.99796\n",
      "Recall on train: 0.81801\n",
      "Precision on val: 0.99206\n",
      "Recall on val: 0.78656\n"
     ]
    }
   ],
   "source": [
    "y_pred = svc_rbf.predict(X_tr)\n",
    "p = precision_score(y_pred=y_pred,y_true=y_tr, pos_label=1)\n",
    "r = recall_score(y_pred=y_pred, y_true=y_tr, pos_label=1)\n",
    "print('Precision on train: {:.5f}'.format(p))\n",
    "print('Recall on train: {:.5f}'.format(r))\n",
    "\n",
    "y_pred = svc_rbf.predict(X_val)\n",
    "p = precision_score(y_pred=y_pred,y_true=y_val, pos_label=1)\n",
    "r = recall_score(y_pred=y_pred, y_true=y_val, pos_label=1)\n",
    "print('Precision on val: {:.5f}'.format(p))\n",
    "print('Recall on val: {:.5f}'.format(r))\n"
   ]
  },
  {
   "cell_type": "code",
   "execution_count": 26,
   "metadata": {},
   "outputs": [
    {
     "name": "stdout",
     "output_type": "stream",
     "text": [
      "\n",
      "Polynomial SVC classification accuracy on training set: 0.95720\n",
      "Polynomial SVC classification accuracy on val set: 0.94502\n"
     ]
    }
   ],
   "source": [
    "svc_poly = SVC(kernel='poly')\n",
    "svc_poly.fit(X_tr, y_tr)\n",
    "ca = svc_poly.score(X_tr, y_tr)\n",
    "print('\\nPolynomial SVC classification accuracy on training set: {:.5f}'.format(ca))\n",
    "ca = svc_poly.score(X_val, y_val)\n",
    "print('Polynomial SVC classification accuracy on val set: {:.5f}'.format(ca))"
   ]
  },
  {
   "cell_type": "code",
   "execution_count": 27,
   "metadata": {},
   "outputs": [
    {
     "name": "stdout",
     "output_type": "stream",
     "text": [
      "Precision on train: 0.96996\n",
      "Recall on train: 0.84267\n",
      "Precision on val: 0.94923\n",
      "Recall on val: 0.82435\n"
     ]
    }
   ],
   "source": [
    "mlp = MLPClassifier(solver='lbfgs', alpha=1e-5, hidden_layer_sizes=(5,2), random_state=2019)\n",
    "mlp.fit(X_tr, y_tr)\n",
    "y_pred = mlp.predict(X_tr)\n",
    "p = precision_score(y_pred=y_pred,y_true=y_tr, pos_label=1)\n",
    "r = recall_score(y_pred=y_pred, y_true=y_tr, pos_label=1)\n",
    "print('Precision on train: {:.5f}'.format(p))\n",
    "print('Recall on train: {:.5f}'.format(r))\n",
    "\n",
    "y_pred = mlp.predict(X_val)\n",
    "p = precision_score(y_pred=y_pred,y_true=y_val, pos_label=1)\n",
    "r = recall_score(y_pred=y_pred, y_true=y_val, pos_label=1)\n",
    "print('Precision on val: {:.5f}'.format(p))\n",
    "print('Recall on val: {:.5f}'.format(r))"
   ]
  },
  {
   "cell_type": "code",
   "execution_count": null,
   "metadata": {},
   "outputs": [],
   "source": []
  },
  {
   "cell_type": "code",
   "execution_count": 28,
   "metadata": {},
   "outputs": [
    {
     "name": "stdout",
     "output_type": "stream",
     "text": [
      "Precision on val: 0.93975\n",
      "Recall on val: 0.81204\n"
     ]
    }
   ],
   "source": [
    "y_pred = mlp.predict(X_test)\n",
    "p = precision_score(y_pred=y_pred,y_true=y_test, pos_label=1)\n",
    "r = recall_score(y_pred=y_pred, y_true=y_test, pos_label=1)\n",
    "print('Precision on val: {:.5f}'.format(p))\n",
    "print('Recall on val: {:.5f}'.format(r))"
   ]
  },
  {
   "cell_type": "code",
   "execution_count": null,
   "metadata": {},
   "outputs": [],
   "source": []
  }
 ],
 "metadata": {
  "kernelspec": {
   "display_name": "Python 3",
   "language": "python",
   "name": "python3"
  },
  "language_info": {
   "codemirror_mode": {
    "name": "ipython",
    "version": 3
   },
   "file_extension": ".py",
   "mimetype": "text/x-python",
   "name": "python",
   "nbconvert_exporter": "python",
   "pygments_lexer": "ipython3",
   "version": "3.4.9"
  }
 },
 "nbformat": 4,
 "nbformat_minor": 2
}
