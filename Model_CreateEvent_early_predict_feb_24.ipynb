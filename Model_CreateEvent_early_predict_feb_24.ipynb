{
 "cells": [
  {
   "cell_type": "code",
   "execution_count": 1,
   "metadata": {},
   "outputs": [
    {
     "name": "stderr",
     "output_type": "stream",
     "text": [
      "/usr/lib64/python3.4/site-packages/sklearn/cross_validation.py:41: DeprecationWarning: This module was deprecated in version 0.18 in favor of the model_selection module into which all the refactored classes and functions are moved. Also note that the interface of the new CV iterators are different from that of this module. This module will be removed in 0.20.\n",
      "  \"This module will be removed in 0.20.\", DeprecationWarning)\n"
     ]
    }
   ],
   "source": [
    "from __future__ import print_function, division\n",
    "%matplotlib inline\n",
    "\n",
    "# Your code goes here\n",
    "import os\n",
    "import numpy as np \n",
    "import pandas as pd\n",
    "import matplotlib.pyplot as plt\n",
    "import seaborn as sns\n",
    "from sklearn.metrics import accuracy_score, log_loss\n",
    "from sklearn.linear_model import LogisticRegression, LogisticRegressionCV\n",
    "from sklearn.preprocessing import StandardScaler\n",
    "from sklearn.cross_validation import KFold\n",
    "from sklearn.ensemble import RandomForestClassifier\n",
    "from sklearn.svm import SVC\n",
    "from sklearn.naive_bayes import GaussianNB\n",
    "from sklearn.neural_network import MLPClassifier\n",
    "from sklearn.model_selection import train_test_split\n",
    "from sklearn.metrics import average_precision_score, recall_score, precision_score, f1_score, confusion_matrix"
   ]
  },
  {
   "cell_type": "code",
   "execution_count": 2,
   "metadata": {},
   "outputs": [
    {
     "name": "stdout",
     "output_type": "stream",
     "text": [
      "(22202, 96)\n",
      "(7084, 96)\n"
     ]
    }
   ],
   "source": [
    "dataset_original = pd.read_csv('createEvent_feb_24.csv',delimiter = ',')\n",
    "dataset1 = pd.read_csv('createEvent_fir_quater_feb_24.csv',delimiter = ',')\n",
    "data_neg = dataset1.loc[(dataset1['class']==0) & (dataset1['id'].isin(dataset_original['id']))]\n",
    "data_pos = dataset1.loc[(dataset1['class']==1) & (dataset1['id'].isin(dataset_original['id']))]\n",
    "print(data_neg.shape)\n",
    "print(data_pos.shape)"
   ]
  },
  {
   "cell_type": "code",
   "execution_count": 3,
   "metadata": {},
   "outputs": [],
   "source": [
    "dataset = pd.read_csv('createEvent_fir_quater_feb_24.csv',delimiter = ',')\n",
    "# dataset1 = pd.read_csv('test_createEvent_12_18.csv',delimiter = ',') # this one does not take care the CRAN before GH date"
   ]
  },
  {
   "cell_type": "code",
   "execution_count": 4,
   "metadata": {},
   "outputs": [
    {
     "data": {
      "text/plain": [
       "(29286, 96)"
      ]
     },
     "execution_count": 4,
     "metadata": {},
     "output_type": "execute_result"
    }
   ],
   "source": [
    "X = (dataset.drop('class', axis=1)).drop('id', axis=1)\n",
    "y = dataset['class']\n",
    "dataset.shape"
   ]
  },
  {
   "cell_type": "code",
   "execution_count": 5,
   "metadata": {},
   "outputs": [
    {
     "data": {
      "text/html": [
       "<div>\n",
       "<style scoped>\n",
       "    .dataframe tbody tr th:only-of-type {\n",
       "        vertical-align: middle;\n",
       "    }\n",
       "\n",
       "    .dataframe tbody tr th {\n",
       "        vertical-align: top;\n",
       "    }\n",
       "\n",
       "    .dataframe thead th {\n",
       "        text-align: right;\n",
       "    }\n",
       "</style>\n",
       "<table border=\"1\" class=\"dataframe\">\n",
       "  <thead>\n",
       "    <tr style=\"text-align: right;\">\n",
       "      <th></th>\n",
       "      <th>activity_intensity</th>\n",
       "      <th>class</th>\n",
       "      <th>contribution_30_10</th>\n",
       "      <th>contribution_50_30</th>\n",
       "      <th>contribution_below_10</th>\n",
       "      <th>contribution_over_50</th>\n",
       "      <th>final_teamsize</th>\n",
       "      <th>first_quater_teamsize</th>\n",
       "      <th>id</th>\n",
       "      <th>max_contribution_percentage</th>\n",
       "      <th>...</th>\n",
       "      <th>num_Issues</th>\n",
       "      <th>num_Member</th>\n",
       "      <th>num_Public</th>\n",
       "      <th>num_PullRequest</th>\n",
       "      <th>num_PullRequestReviewComment</th>\n",
       "      <th>num_Push</th>\n",
       "      <th>num_Release</th>\n",
       "      <th>num_TeamAdd</th>\n",
       "      <th>num_Watch</th>\n",
       "      <th>proj_span</th>\n",
       "    </tr>\n",
       "  </thead>\n",
       "  <tbody>\n",
       "    <tr>\n",
       "      <th>2232</th>\n",
       "      <td>4.417542</td>\n",
       "      <td>1</td>\n",
       "      <td>1</td>\n",
       "      <td>1</td>\n",
       "      <td>1046</td>\n",
       "      <td>0</td>\n",
       "      <td>1048</td>\n",
       "      <td>1048</td>\n",
       "      <td>hadley-dplyr</td>\n",
       "      <td>0.366611</td>\n",
       "      <td>...</td>\n",
       "      <td>1450</td>\n",
       "      <td>1</td>\n",
       "      <td>0</td>\n",
       "      <td>872</td>\n",
       "      <td>504</td>\n",
       "      <td>1020</td>\n",
       "      <td>7</td>\n",
       "      <td>0</td>\n",
       "      <td>593</td>\n",
       "      <td>1619</td>\n",
       "    </tr>\n",
       "    <tr>\n",
       "      <th>13742</th>\n",
       "      <td>0.696673</td>\n",
       "      <td>0</td>\n",
       "      <td>0</td>\n",
       "      <td>0</td>\n",
       "      <td>588</td>\n",
       "      <td>0</td>\n",
       "      <td>588</td>\n",
       "      <td>588</td>\n",
       "      <td>bcaffo-Caffo-Coursera</td>\n",
       "      <td>0.056180</td>\n",
       "      <td>...</td>\n",
       "      <td>1</td>\n",
       "      <td>1</td>\n",
       "      <td>0</td>\n",
       "      <td>17</td>\n",
       "      <td>0</td>\n",
       "      <td>47</td>\n",
       "      <td>0</td>\n",
       "      <td>0</td>\n",
       "      <td>263</td>\n",
       "      <td>1022</td>\n",
       "    </tr>\n",
       "    <tr>\n",
       "      <th>13814</th>\n",
       "      <td>27.013793</td>\n",
       "      <td>0</td>\n",
       "      <td>0</td>\n",
       "      <td>0</td>\n",
       "      <td>39641</td>\n",
       "      <td>0</td>\n",
       "      <td>39641</td>\n",
       "      <td>39641</td>\n",
       "      <td>rdpeng-ProgrammingAssignment2</td>\n",
       "      <td>0.000743</td>\n",
       "      <td>...</td>\n",
       "      <td>5</td>\n",
       "      <td>0</td>\n",
       "      <td>0</td>\n",
       "      <td>4353</td>\n",
       "      <td>34</td>\n",
       "      <td>5</td>\n",
       "      <td>0</td>\n",
       "      <td>0</td>\n",
       "      <td>122</td>\n",
       "      <td>1595</td>\n",
       "    </tr>\n",
       "  </tbody>\n",
       "</table>\n",
       "<p>3 rows × 28 columns</p>\n",
       "</div>"
      ],
      "text/plain": [
       "       activity_intensity  class  contribution_30_10  contribution_50_30  \\\n",
       "2232             4.417542      1                   1                   1   \n",
       "13742            0.696673      0                   0                   0   \n",
       "13814           27.013793      0                   0                   0   \n",
       "\n",
       "       contribution_below_10  contribution_over_50  final_teamsize  \\\n",
       "2232                    1046                     0            1048   \n",
       "13742                    588                     0             588   \n",
       "13814                  39641                     0           39641   \n",
       "\n",
       "       first_quater_teamsize                             id  \\\n",
       "2232                    1048                   hadley-dplyr   \n",
       "13742                    588          bcaffo-Caffo-Coursera   \n",
       "13814                  39641  rdpeng-ProgrammingAssignment2   \n",
       "\n",
       "       max_contribution_percentage    ...      num_Issues  num_Member  \\\n",
       "2232                      0.366611    ...            1450           1   \n",
       "13742                     0.056180    ...               1           1   \n",
       "13814                     0.000743    ...               5           0   \n",
       "\n",
       "       num_Public  num_PullRequest  num_PullRequestReviewComment  num_Push  \\\n",
       "2232            0              872                           504      1020   \n",
       "13742           0               17                             0        47   \n",
       "13814           0             4353                            34         5   \n",
       "\n",
       "       num_Release  num_TeamAdd  num_Watch  proj_span  \n",
       "2232             7            0        593       1619  \n",
       "13742            0            0        263       1022  \n",
       "13814            0            0        122       1595  \n",
       "\n",
       "[3 rows x 28 columns]"
      ]
     },
     "execution_count": 5,
     "metadata": {},
     "output_type": "execute_result"
    }
   ],
   "source": [
    "playset = pd.read_csv('createEvent_feb_7.csv',delimiter = ',')\n",
    "playset[playset['final_teamsize'] > 500]"
   ]
  },
  {
   "cell_type": "code",
   "execution_count": 6,
   "metadata": {},
   "outputs": [
    {
     "data": {
      "text/html": [
       "<div>\n",
       "<style scoped>\n",
       "    .dataframe tbody tr th:only-of-type {\n",
       "        vertical-align: middle;\n",
       "    }\n",
       "\n",
       "    .dataframe tbody tr th {\n",
       "        vertical-align: top;\n",
       "    }\n",
       "\n",
       "    .dataframe thead th {\n",
       "        text-align: right;\n",
       "    }\n",
       "</style>\n",
       "<table border=\"1\" class=\"dataframe\">\n",
       "  <thead>\n",
       "    <tr style=\"text-align: right;\">\n",
       "      <th></th>\n",
       "      <th>activity_intensity</th>\n",
       "      <th>class</th>\n",
       "      <th>contribution_30_10</th>\n",
       "      <th>contribution_50_30</th>\n",
       "      <th>contribution_below_10</th>\n",
       "      <th>contribution_over_50</th>\n",
       "      <th>final_teamsize</th>\n",
       "      <th>first_quater_teamsize</th>\n",
       "      <th>majority_contribution_time</th>\n",
       "      <th>max_contribution_percentage</th>\n",
       "      <th>...</th>\n",
       "      <th>num_TeamAdd_Q4</th>\n",
       "      <th>num_Watch</th>\n",
       "      <th>num_Watch_Q1</th>\n",
       "      <th>num_Watch_Q2</th>\n",
       "      <th>num_Watch_Q3</th>\n",
       "      <th>num_Watch_Q4</th>\n",
       "      <th>num_joint_project</th>\n",
       "      <th>num_joint_success_project</th>\n",
       "      <th>proj_span</th>\n",
       "      <th>team_age_in_days</th>\n",
       "    </tr>\n",
       "  </thead>\n",
       "  <tbody>\n",
       "    <tr>\n",
       "      <th>count</th>\n",
       "      <td>29286.000000</td>\n",
       "      <td>29286.000000</td>\n",
       "      <td>29286.000000</td>\n",
       "      <td>29286.000000</td>\n",
       "      <td>29286.000000</td>\n",
       "      <td>29286.000000</td>\n",
       "      <td>29286.000000</td>\n",
       "      <td>29286.000000</td>\n",
       "      <td>29286.000000</td>\n",
       "      <td>29286.000000</td>\n",
       "      <td>...</td>\n",
       "      <td>29286.000000</td>\n",
       "      <td>29286.000000</td>\n",
       "      <td>29286.000000</td>\n",
       "      <td>29286.000000</td>\n",
       "      <td>29286.000000</td>\n",
       "      <td>29286.000000</td>\n",
       "      <td>29286.000000</td>\n",
       "      <td>29286.000000</td>\n",
       "      <td>29286.000000</td>\n",
       "      <td>29286.000000</td>\n",
       "    </tr>\n",
       "    <tr>\n",
       "      <th>mean</th>\n",
       "      <td>1.572971</td>\n",
       "      <td>0.241890</td>\n",
       "      <td>0.087789</td>\n",
       "      <td>0.055999</td>\n",
       "      <td>1.897221</td>\n",
       "      <td>0.970327</td>\n",
       "      <td>3.011336</td>\n",
       "      <td>3.011336</td>\n",
       "      <td>0.513283</td>\n",
       "      <td>0.961830</td>\n",
       "      <td>...</td>\n",
       "      <td>0.000137</td>\n",
       "      <td>0.077409</td>\n",
       "      <td>0.018405</td>\n",
       "      <td>0.025814</td>\n",
       "      <td>0.029366</td>\n",
       "      <td>0.023049</td>\n",
       "      <td>1931.859011</td>\n",
       "      <td>1057.497781</td>\n",
       "      <td>7.723212</td>\n",
       "      <td>152.457693</td>\n",
       "    </tr>\n",
       "    <tr>\n",
       "      <th>std</th>\n",
       "      <td>1.884425</td>\n",
       "      <td>0.428236</td>\n",
       "      <td>0.444698</td>\n",
       "      <td>0.298088</td>\n",
       "      <td>231.831024</td>\n",
       "      <td>0.169686</td>\n",
       "      <td>231.825169</td>\n",
       "      <td>231.825169</td>\n",
       "      <td>0.499832</td>\n",
       "      <td>0.123158</td>\n",
       "      <td>...</td>\n",
       "      <td>0.011686</td>\n",
       "      <td>1.785391</td>\n",
       "      <td>0.615687</td>\n",
       "      <td>0.390010</td>\n",
       "      <td>0.565007</td>\n",
       "      <td>0.445318</td>\n",
       "      <td>3929.881167</td>\n",
       "      <td>2164.228317</td>\n",
       "      <td>44.215992</td>\n",
       "      <td>226.302552</td>\n",
       "    </tr>\n",
       "    <tr>\n",
       "      <th>min</th>\n",
       "      <td>0.001358</td>\n",
       "      <td>0.000000</td>\n",
       "      <td>0.000000</td>\n",
       "      <td>0.000000</td>\n",
       "      <td>0.000000</td>\n",
       "      <td>0.000000</td>\n",
       "      <td>1.000000</td>\n",
       "      <td>1.000000</td>\n",
       "      <td>0.000000</td>\n",
       "      <td>0.000743</td>\n",
       "      <td>...</td>\n",
       "      <td>0.000000</td>\n",
       "      <td>0.000000</td>\n",
       "      <td>0.000000</td>\n",
       "      <td>0.000000</td>\n",
       "      <td>0.000000</td>\n",
       "      <td>0.000000</td>\n",
       "      <td>1.000000</td>\n",
       "      <td>0.000000</td>\n",
       "      <td>1.000000</td>\n",
       "      <td>0.000000</td>\n",
       "    </tr>\n",
       "    <tr>\n",
       "      <th>25%</th>\n",
       "      <td>1.000000</td>\n",
       "      <td>0.000000</td>\n",
       "      <td>0.000000</td>\n",
       "      <td>0.000000</td>\n",
       "      <td>0.000000</td>\n",
       "      <td>1.000000</td>\n",
       "      <td>1.000000</td>\n",
       "      <td>1.000000</td>\n",
       "      <td>0.000000</td>\n",
       "      <td>1.000000</td>\n",
       "      <td>...</td>\n",
       "      <td>0.000000</td>\n",
       "      <td>0.000000</td>\n",
       "      <td>0.000000</td>\n",
       "      <td>0.000000</td>\n",
       "      <td>0.000000</td>\n",
       "      <td>0.000000</td>\n",
       "      <td>2.000000</td>\n",
       "      <td>0.000000</td>\n",
       "      <td>1.000000</td>\n",
       "      <td>0.000000</td>\n",
       "    </tr>\n",
       "    <tr>\n",
       "      <th>50%</th>\n",
       "      <td>1.000000</td>\n",
       "      <td>0.000000</td>\n",
       "      <td>0.000000</td>\n",
       "      <td>0.000000</td>\n",
       "      <td>0.000000</td>\n",
       "      <td>1.000000</td>\n",
       "      <td>1.000000</td>\n",
       "      <td>1.000000</td>\n",
       "      <td>1.000000</td>\n",
       "      <td>1.000000</td>\n",
       "      <td>...</td>\n",
       "      <td>0.000000</td>\n",
       "      <td>0.000000</td>\n",
       "      <td>0.000000</td>\n",
       "      <td>0.000000</td>\n",
       "      <td>0.000000</td>\n",
       "      <td>0.000000</td>\n",
       "      <td>3.000000</td>\n",
       "      <td>2.000000</td>\n",
       "      <td>1.000000</td>\n",
       "      <td>25.000000</td>\n",
       "    </tr>\n",
       "    <tr>\n",
       "      <th>75%</th>\n",
       "      <td>2.000000</td>\n",
       "      <td>0.000000</td>\n",
       "      <td>0.000000</td>\n",
       "      <td>0.000000</td>\n",
       "      <td>0.000000</td>\n",
       "      <td>1.000000</td>\n",
       "      <td>1.000000</td>\n",
       "      <td>1.000000</td>\n",
       "      <td>1.000000</td>\n",
       "      <td>1.000000</td>\n",
       "      <td>...</td>\n",
       "      <td>0.000000</td>\n",
       "      <td>0.000000</td>\n",
       "      <td>0.000000</td>\n",
       "      <td>0.000000</td>\n",
       "      <td>0.000000</td>\n",
       "      <td>0.000000</td>\n",
       "      <td>16.000000</td>\n",
       "      <td>8.000000</td>\n",
       "      <td>1.000000</td>\n",
       "      <td>243.000000</td>\n",
       "    </tr>\n",
       "    <tr>\n",
       "      <th>max</th>\n",
       "      <td>101.000000</td>\n",
       "      <td>1.000000</td>\n",
       "      <td>9.000000</td>\n",
       "      <td>3.000000</td>\n",
       "      <td>39641.000000</td>\n",
       "      <td>1.000000</td>\n",
       "      <td>39641.000000</td>\n",
       "      <td>39641.000000</td>\n",
       "      <td>1.000000</td>\n",
       "      <td>1.000000</td>\n",
       "      <td>...</td>\n",
       "      <td>1.000000</td>\n",
       "      <td>211.000000</td>\n",
       "      <td>88.000000</td>\n",
       "      <td>26.000000</td>\n",
       "      <td>52.000000</td>\n",
       "      <td>53.000000</td>\n",
       "      <td>10065.000000</td>\n",
       "      <td>10057.000000</td>\n",
       "      <td>1504.000000</td>\n",
       "      <td>1019.000000</td>\n",
       "    </tr>\n",
       "  </tbody>\n",
       "</table>\n",
       "<p>8 rows × 95 columns</p>\n",
       "</div>"
      ],
      "text/plain": [
       "       activity_intensity         class  contribution_30_10  \\\n",
       "count        29286.000000  29286.000000        29286.000000   \n",
       "mean             1.572971      0.241890            0.087789   \n",
       "std              1.884425      0.428236            0.444698   \n",
       "min              0.001358      0.000000            0.000000   \n",
       "25%              1.000000      0.000000            0.000000   \n",
       "50%              1.000000      0.000000            0.000000   \n",
       "75%              2.000000      0.000000            0.000000   \n",
       "max            101.000000      1.000000            9.000000   \n",
       "\n",
       "       contribution_50_30  contribution_below_10  contribution_over_50  \\\n",
       "count        29286.000000           29286.000000          29286.000000   \n",
       "mean             0.055999               1.897221              0.970327   \n",
       "std              0.298088             231.831024              0.169686   \n",
       "min              0.000000               0.000000              0.000000   \n",
       "25%              0.000000               0.000000              1.000000   \n",
       "50%              0.000000               0.000000              1.000000   \n",
       "75%              0.000000               0.000000              1.000000   \n",
       "max              3.000000           39641.000000              1.000000   \n",
       "\n",
       "       final_teamsize  first_quater_teamsize  majority_contribution_time  \\\n",
       "count    29286.000000           29286.000000                29286.000000   \n",
       "mean         3.011336               3.011336                    0.513283   \n",
       "std        231.825169             231.825169                    0.499832   \n",
       "min          1.000000               1.000000                    0.000000   \n",
       "25%          1.000000               1.000000                    0.000000   \n",
       "50%          1.000000               1.000000                    1.000000   \n",
       "75%          1.000000               1.000000                    1.000000   \n",
       "max      39641.000000           39641.000000                    1.000000   \n",
       "\n",
       "       max_contribution_percentage        ...         num_TeamAdd_Q4  \\\n",
       "count                 29286.000000        ...           29286.000000   \n",
       "mean                      0.961830        ...               0.000137   \n",
       "std                       0.123158        ...               0.011686   \n",
       "min                       0.000743        ...               0.000000   \n",
       "25%                       1.000000        ...               0.000000   \n",
       "50%                       1.000000        ...               0.000000   \n",
       "75%                       1.000000        ...               0.000000   \n",
       "max                       1.000000        ...               1.000000   \n",
       "\n",
       "          num_Watch  num_Watch_Q1  num_Watch_Q2  num_Watch_Q3  num_Watch_Q4  \\\n",
       "count  29286.000000  29286.000000  29286.000000  29286.000000  29286.000000   \n",
       "mean       0.077409      0.018405      0.025814      0.029366      0.023049   \n",
       "std        1.785391      0.615687      0.390010      0.565007      0.445318   \n",
       "min        0.000000      0.000000      0.000000      0.000000      0.000000   \n",
       "25%        0.000000      0.000000      0.000000      0.000000      0.000000   \n",
       "50%        0.000000      0.000000      0.000000      0.000000      0.000000   \n",
       "75%        0.000000      0.000000      0.000000      0.000000      0.000000   \n",
       "max      211.000000     88.000000     26.000000     52.000000     53.000000   \n",
       "\n",
       "       num_joint_project  num_joint_success_project     proj_span  \\\n",
       "count       29286.000000               29286.000000  29286.000000   \n",
       "mean         1931.859011                1057.497781      7.723212   \n",
       "std          3929.881167                2164.228317     44.215992   \n",
       "min             1.000000                   0.000000      1.000000   \n",
       "25%             2.000000                   0.000000      1.000000   \n",
       "50%             3.000000                   2.000000      1.000000   \n",
       "75%            16.000000                   8.000000      1.000000   \n",
       "max         10065.000000               10057.000000   1504.000000   \n",
       "\n",
       "       team_age_in_days  \n",
       "count      29286.000000  \n",
       "mean         152.457693  \n",
       "std          226.302552  \n",
       "min            0.000000  \n",
       "25%            0.000000  \n",
       "50%           25.000000  \n",
       "75%          243.000000  \n",
       "max         1019.000000  \n",
       "\n",
       "[8 rows x 95 columns]"
      ]
     },
     "execution_count": 6,
     "metadata": {},
     "output_type": "execute_result"
    }
   ],
   "source": [
    "dataset.describe()"
   ]
  },
  {
   "cell_type": "code",
   "execution_count": null,
   "metadata": {},
   "outputs": [],
   "source": []
  },
  {
   "cell_type": "code",
   "execution_count": 7,
   "metadata": {},
   "outputs": [
    {
     "name": "stdout",
     "output_type": "stream",
     "text": [
      "training size:  17571\n",
      "validation size:  5857\n",
      "test size:  5858\n"
     ]
    }
   ],
   "source": [
    "X_tr_val, X_test, y_tr_val, y_test = train_test_split(X, y, test_size=0.2, random_state=20190101)\n",
    "X_tr, X_val, y_tr, y_val = train_test_split(X_tr_val, y_tr_val, test_size=0.25, random_state=20190207)\n",
    "print('training size: ', X_tr.shape[0])\n",
    "print('validation size: ', X_val.shape[0])\n",
    "print('test size: ', X_test.shape[0])"
   ]
  },
  {
   "cell_type": "code",
   "execution_count": 8,
   "metadata": {},
   "outputs": [
    {
     "data": {
      "image/png": "[encoded data removed]",
      "text/plain": [
       "<Figure size 864x360 with 1 Axes>"
      ]
     },
     "metadata": {},
     "output_type": "display_data"
    }
   ],
   "source": [
    "plt.figure(figsize=(12,5))\n",
    "plt.subplot(1,2,1)\n",
    "ax1 = sns.countplot(x='class', data=dataset)\n",
    "ax1.set_xticklabels(['not Success', 'Success'])\n",
    "plt.title('Dataset with CreateEvent in beginning')\n",
    "# ax2 = plt.subplot(1,2,2)\n",
    "# sns.countplot(x='class', data=dataset1)\n",
    "# ax2.set_xticklabels(['not Success', 'Success'])\n",
    "# plt.title('Dataset don\\'t care CRAN before GH')\n",
    "plt.show()"
   ]
  },
  {
   "cell_type": "code",
   "execution_count": 9,
   "metadata": {},
   "outputs": [
    {
     "name": "stdout",
     "output_type": "stream",
     "text": [
      "Classification accuracy of the LogisticRegression classifier on training set: 0.95162\n",
      "Precision on train: 0.98231\n",
      "Recall on train: 0.81106\n",
      "\n",
      "Classification accuracy of the LogisticRegression classifier on val set: 0.95339\n",
      "Precision on val: 0.98409\n",
      "Recall on val: 0.82225\n"
     ]
    },
    {
     "data": {
      "text/plain": [
       "array([[4409,   19],\n",
       "       [ 254, 1175]])"
      ]
     },
     "execution_count": 9,
     "metadata": {},
     "output_type": "execute_result"
    }
   ],
   "source": [
    "lr = LogisticRegression(solver='lbfgs')\n",
    "lr.fit(X_tr, y_tr)\n",
    "ca = lr.score(X_tr, y_tr)\n",
    "print('Classification accuracy of the LogisticRegression classifier on training set: {:.5f}'.format(ca))\n",
    "y_pred = lr.predict(X_tr)\n",
    "p = precision_score(y_pred=y_pred,y_true=y_tr, pos_label=1)\n",
    "r = recall_score(y_pred=y_pred, y_true=y_tr, pos_label=1)\n",
    "print('Precision on train: {:.5f}'.format(p))\n",
    "print('Recall on train: {:.5f}'.format(r))\n",
    "ca = lr.score(X_val, y_val)\n",
    "y_pred = lr.predict(X_val)\n",
    "p = precision_score(y_pred=y_pred,y_true=y_val, pos_label=1)\n",
    "r = recall_score(y_pred=y_pred, y_true=y_val, pos_label=1)\n",
    "print('\\nClassification accuracy of the LogisticRegression classifier on val set: {:.5f}'.format(ca))\n",
    "print('Precision on val: {:.5f}'.format(p))\n",
    "print('Recall on val: {:.5f}'.format(r))\n",
    "confusion_matrix(y_pred=y_pred, y_true=y_val)"
   ]
  },
  {
   "cell_type": "code",
   "execution_count": 10,
   "metadata": {},
   "outputs": [
    {
     "name": "stdout",
     "output_type": "stream",
     "text": [
      "\n",
      "Classification accuracy of the LogisticRegression classifier on val set: 0.94708\n",
      "Precision on val: 0.97792\n",
      "Recall on val: 0.80865\n"
     ]
    }
   ],
   "source": [
    "ca = lr.score(X_test, y_test)\n",
    "y_pred_1 = lr.predict(X_test)\n",
    "p = precision_score(y_pred=y_pred_1,y_true=y_test, pos_label=1)\n",
    "r = recall_score(y_pred=y_pred_1, y_true=y_test, pos_label=1)\n",
    "print('\\nClassification accuracy of the LogisticRegression classifier on val set: {:.5f}'.format(ca))\n",
    "print('Precision on val: {:.5f}'.format(p))\n",
    "print('Recall on val: {:.5f}'.format(r))"
   ]
  },
  {
   "cell_type": "code",
   "execution_count": 11,
   "metadata": {},
   "outputs": [
    {
     "name": "stdout",
     "output_type": "stream",
     "text": [
      "[[ 2.53222592e-02  1.24305004e-01  5.15188388e-02  2.35781816e-01\n",
      "  -5.29808462e-01 -1.18202803e-01 -1.18202803e-01 -2.38031823e-01\n",
      "  -5.65185210e-01  2.90409164e-04  2.36813944e-02  3.25622836e-03\n",
      "  -3.27639285e-04  6.80736734e-03  1.40115809e-02 -6.52544266e-02\n",
      "  -3.83908666e-01 -4.05343629e-01 -2.89175811e-01 -3.12140055e-01\n",
      "   7.94877480e-02  1.18203296e-02  3.26770653e-02  3.75522257e-02\n",
      "   1.67739622e-02  7.61858421e-03  8.22040681e-03  3.72192580e-03\n",
      "  -9.51696789e-04 -7.94799262e-04 -9.43306278e-02 -3.08927211e-02\n",
      "  -3.59467226e-02 -2.65649009e-02 -1.30902893e-02  4.80089342e-02\n",
      "   4.80444182e-03  3.01409812e-02  1.02034259e-02  2.02790924e-03\n",
      "  -4.98106456e-02 -2.17347055e-02 -2.33752708e-02 -2.46672662e-02\n",
      "   2.07002638e-02  7.56576665e-02  3.25961540e-02  1.37136316e-02\n",
      "   4.51324228e-02  6.88311321e-03 -9.57308219e-03  5.24199641e-03\n",
      "  -9.49021312e-03 -2.74695386e-03 -4.66606868e-03 -2.02556131e-03\n",
      "  -1.27124056e-03 -9.29500849e-04 -7.54320747e-04 -5.24203663e-04\n",
      "  -2.06633676e-01  3.51671485e-02  5.41599720e-03 -1.09986909e-03\n",
      "   9.44884790e-03  2.20701539e-02 -4.31540903e-02 -3.65659726e-02\n",
      "  -2.49692268e-02 -7.84734345e-02  9.63336544e-02  3.59322730e-03\n",
      "  -2.25769703e-02 -1.22282267e-01 -8.77257993e-02  3.17527570e-02\n",
      "   9.47908773e-03  6.17103215e-03  5.12990332e-03  1.30132449e-02\n",
      "  -6.99027572e-04  6.64176244e-04  3.16927986e-04 -1.24364432e-03\n",
      "  -4.67199218e-04 -1.28999228e-02  1.91510289e-02 -4.91016932e-03\n",
      "  -3.95791698e-03  9.21268154e-03  6.58067961e-03 -1.01910974e-02\n",
      "   3.87249924e-03  3.57327878e-04]]\n",
      "[-0.5215046]\n"
     ]
    }
   ],
   "source": [
    "# display coef for logistic regression model\n",
    "print(lr.coef_)\n",
    "print(lr.intercept_)"
   ]
  },
  {
   "cell_type": "code",
   "execution_count": 12,
   "metadata": {},
   "outputs": [],
   "source": [
    "def plot_confusion_matrix(cm, classes=None, title='Confusion matrix'):\n",
    "    \"\"\"Plots a confusion matrix.\"\"\"\n",
    "    if classes is not None:\n",
    "        sns.heatmap(cm, xticklabels=classes, yticklabels=classes, vmin=0., vmax=1., annot=True)\n",
    "    else:\n",
    "        sns.heatmap(cm, vmin=0., vmax=1.)\n",
    "    plt.title(title)\n",
    "    plt.ylabel('True label')\n",
    "    plt.xlabel('Predicted label')"
   ]
  },
  {
   "cell_type": "code",
   "execution_count": 13,
   "metadata": {},
   "outputs": [
    {
     "data": {
      "image/png": "[encoded data removed]",
      "text/plain": [
       "<Figure size 432x288 with 2 Axes>"
      ]
     },
     "metadata": {},
     "output_type": "display_data"
    }
   ],
   "source": [
    "cm = confusion_matrix(y_pred=y_pred, y_true=y_val)\n",
    "# retrive the normalized version of cm\n",
    "cm_norm = cm/cm.sum(axis=1)[:, np.newaxis]\n",
    "\n",
    "plt.figure()\n",
    "plot_confusion_matrix(cm_norm, classes=['unsuccess','success'])\n",
    "plt.show()"
   ]
  },
  {
   "cell_type": "code",
   "execution_count": 14,
   "metadata": {},
   "outputs": [
    {
     "name": "stdout",
     "output_type": "stream",
     "text": [
      "Classification accuracy of the Naive Bayes classifier on training set: 0.94195\n",
      "Precision on train: 0.94004\n",
      "Recall on train: 0.80723\n",
      "\n",
      "Classification accuracy of the Naive Bayes classifier on val set: 0.94246\n",
      "Precision on val: 0.94463\n",
      "Recall on val: 0.81176\n"
     ]
    },
    {
     "data": {
      "text/plain": [
       "array([[4360,   68],\n",
       "       [ 269, 1160]])"
      ]
     },
     "execution_count": 14,
     "metadata": {},
     "output_type": "execute_result"
    }
   ],
   "source": [
    "clf = GaussianNB()\n",
    "clf.fit(X_tr, y_tr)\n",
    "ca = clf.score(X_tr, y_tr)\n",
    "print('Classification accuracy of the Naive Bayes classifier on training set: {:.5f}'.format(ca))\n",
    "y_pred = clf.predict(X_tr)\n",
    "p = precision_score(y_pred=y_pred,y_true=y_tr, pos_label=1)\n",
    "r = recall_score(y_pred=y_pred, y_true=y_tr, pos_label=1)\n",
    "print('Precision on train: {:.5f}'.format(p))\n",
    "print('Recall on train: {:.5f}'.format(r))\n",
    "ca = clf.score(X_val, y_val)\n",
    "y_pred = clf.predict(X_val)\n",
    "p = precision_score(y_pred=y_pred,y_true=y_val, pos_label=1)\n",
    "r = recall_score(y_pred=y_pred, y_true=y_val, pos_label=1)\n",
    "print('\\nClassification accuracy of the Naive Bayes classifier on val set: {:.5f}'.format(ca))\n",
    "print('Precision on val: {:.5f}'.format(p))\n",
    "print('Recall on val: {:.5f}'.format(r))\n",
    "confusion_matrix(y_pred=y_pred, y_true=y_val)"
   ]
  },
  {
   "cell_type": "code",
   "execution_count": null,
   "metadata": {},
   "outputs": [],
   "source": []
  },
  {
   "cell_type": "code",
   "execution_count": null,
   "metadata": {},
   "outputs": [],
   "source": []
  },
  {
   "cell_type": "code",
   "execution_count": 15,
   "metadata": {},
   "outputs": [],
   "source": [
    "# transform the data\n",
    "ss = StandardScaler()\n",
    "ss.fit(X_tr)\n",
    "X_tr = ss.transform(X_tr)\n",
    "X_val = ss.transform(X_val)\n",
    "X_test = ss.transform(X_test)"
   ]
  },
  {
   "cell_type": "code",
   "execution_count": 16,
   "metadata": {},
   "outputs": [
    {
     "name": "stdout",
     "output_type": "stream",
     "text": [
      "Classification accuracy of the LogisticRegression classifier on training set: 0.94997\n",
      "Precision on train: 0.98902\n",
      "Recall on train: 0.79837\n",
      "\n",
      "Classification accuracy of the LogisticRegression classifier on val set: 0.94673\n",
      "Precision on val: 0.97613\n",
      "Recall on val: 0.80126\n"
     ]
    }
   ],
   "source": [
    "lr = LogisticRegression(solver='lbfgs')\n",
    "lr.fit(X_tr, y_tr)\n",
    "ca = lr.score(X_tr, y_tr)\n",
    "print('Classification accuracy of the LogisticRegression classifier on training set: {:.5f}'.format(ca))\n",
    "y_pred = lr.predict(X_tr)\n",
    "p = precision_score(y_pred=y_pred,y_true=y_tr, pos_label=1)\n",
    "r = recall_score(y_pred=y_pred, y_true=y_tr, pos_label=1)\n",
    "print('Precision on train: {:.5f}'.format(p))\n",
    "print('Recall on train: {:.5f}'.format(r))\n",
    "\n",
    "ca = lr.score(X_val, y_val)\n",
    "y_pred = lr.predict(X_val)\n",
    "p = precision_score(y_pred=y_pred,y_true=y_val, pos_label=1)\n",
    "r = recall_score(y_pred=y_pred, y_true=y_val, pos_label=1)\n",
    "print('\\nClassification accuracy of the LogisticRegression classifier on val set: {:.5f}'.format(ca))\n",
    "print('Precision on val: {:.5f}'.format(p))\n",
    "print('Recall on val: {:.5f}'.format(r))\n"
   ]
  },
  {
   "cell_type": "code",
   "execution_count": 17,
   "metadata": {},
   "outputs": [
    {
     "name": "stdout",
     "output_type": "stream",
     "text": [
      "[[-1.34209884e-01  3.77244133e-02  1.07616176e-01  3.33513806e-02\n",
      "   3.01509596e-01  4.25000678e-02  4.25000678e-02 -8.23646323e-02\n",
      "  -4.17264278e-01  4.41912235e-01  1.05851647e+00 -1.28531778e-01\n",
      "  -2.27777605e-01 -1.64661421e-01 -3.47510923e-01  4.53341184e-01\n",
      "  -5.64498503e-02 -6.77658542e-02  6.15263462e-02 -2.89716231e-01\n",
      "  -2.44903951e-01  5.51273411e-02  1.35376223e-01  8.40952919e-02\n",
      "   8.28171790e-04 -8.16269253e-01  6.26771351e-01  3.55125195e-01\n",
      "  -4.91455849e-03 -3.14903732e-01  3.33174809e-01 -2.59648278e-01\n",
      "   5.40830780e-02 -2.68592028e-01 -1.33781533e-01  3.36550900e-01\n",
      "  -1.28839674e-01  4.77176568e-02 -1.73453993e-01 -1.11126393e-01\n",
      "  -2.71525603e-01  8.31519336e-03  1.02623248e-01 -2.14494448e-01\n",
      "   1.75414969e-01 -2.63262830e-01  4.64547500e-01  2.22028709e-01\n",
      "   4.45724466e-01 -5.83583176e-01 -1.47275255e-01  5.53657594e-02\n",
      "   3.25030232e-02 -1.85362319e-02  2.07271984e-02 -1.01415643e-01\n",
      "  -1.14860874e-01 -2.64246442e-02 -5.16907126e-02 -1.35057945e-02\n",
      "  -2.06391411e+00 -1.08293107e-03  2.36527657e-01 -5.98111517e-01\n",
      "   4.72237123e-01 -4.41608174e-01  6.07591737e-01  4.84301163e-01\n",
      "   2.46227519e-01  6.75942891e-01  1.02975147e+00 -6.40927660e-02\n",
      "   3.51148959e-01 -3.46555682e-01 -7.17513800e-01 -4.27030986e-02\n",
      "   4.90918431e-02  2.69783523e-02 -7.13195252e-02  4.84959748e-03\n",
      "  -5.62294057e-01  1.94934888e-01  1.92449908e-01 -7.06127313e-02\n",
      "  -3.50005383e-02 -4.28825314e-01  2.48653483e-01  1.00770165e-01\n",
      "   2.95642011e-01 -2.38132815e-01  8.46690100e+00 -3.96813775e+00\n",
      "  -3.04027174e-01  1.12983320e-01]]\n",
      "[-0.79087887]\n"
     ]
    }
   ],
   "source": [
    "# display coef for logistic regression model\n",
    "print(lr.coef_)\n",
    "print(lr.intercept_)"
   ]
  },
  {
   "cell_type": "code",
   "execution_count": 18,
   "metadata": {},
   "outputs": [
    {
     "data": {
      "image/png": "[encoded data removed]",
      "text/plain": [
       "<Figure size 432x288 with 2 Axes>"
      ]
     },
     "metadata": {},
     "output_type": "display_data"
    }
   ],
   "source": [
    "cm = confusion_matrix(y_pred=y_pred, y_true=y_val)\n",
    "# retrive the normalized version of cm\n",
    "cm_norm = cm/cm.sum(axis=1)[:, np.newaxis]\n",
    "\n",
    "plt.figure()\n",
    "plot_confusion_matrix(cm_norm, classes=['unsuccess','success'])\n",
    "plt.show()"
   ]
  },
  {
   "cell_type": "code",
   "execution_count": null,
   "metadata": {},
   "outputs": [],
   "source": []
  },
  {
   "cell_type": "code",
   "execution_count": null,
   "metadata": {},
   "outputs": [],
   "source": []
  },
  {
   "cell_type": "code",
   "execution_count": null,
   "metadata": {},
   "outputs": [],
   "source": []
  },
  {
   "cell_type": "code",
   "execution_count": 19,
   "metadata": {},
   "outputs": [
    {
     "name": "stdout",
     "output_type": "stream",
     "text": [
      "Accuracy score on the training dataset: 0.9957316032098343\n",
      "Precision on train: 0.99903\n",
      "Recall on train: 0.98300\n",
      "\n",
      "Accuracy score on the val dataset: 0.97558\n",
      "Precision on val: 0.98057\n",
      "Recall on val: 0.91812\n"
     ]
    }
   ],
   "source": [
    "rf = RandomForestClassifier(n_estimators=100, random_state=42)\n",
    "rf.fit(X_tr, y_tr)\n",
    "y_pred = rf.predict(X_tr)\n",
    "p = precision_score(y_pred=y_pred,y_true=y_tr, pos_label=1)\n",
    "r = recall_score(y_pred=y_pred, y_true=y_tr, pos_label=1)\n",
    "accuracy_score_train = rf.score(X_tr, y_tr)\n",
    "print('Accuracy score on the training dataset: {}'.format(accuracy_score_train))\n",
    "print('Precision on train: {:.5f}'.format(p))\n",
    "print('Recall on train: {:.5f}'.format(r))\n",
    "\n",
    "# test set\n",
    "y_pred = rf.predict(X_val)\n",
    "p = precision_score(y_pred=y_pred,y_true=y_val, pos_label=1)\n",
    "r = recall_score(y_pred=y_pred, y_true=y_val, pos_label=1)\n",
    "accuracy_score_val = rf.score(X_val, y_val)\n",
    "print('\\nAccuracy score on the val dataset: {:.5f}'.format(accuracy_score_val))\n",
    "print('Precision on val: {:.5f}'.format(p))\n",
    "print('Recall on val: {:.5f}'.format(r))"
   ]
  },
  {
   "cell_type": "code",
   "execution_count": 20,
   "metadata": {},
   "outputs": [
    {
     "data": {
      "image/png": "[encoded data removed]",
      "text/plain": [
       "<Figure size 432x288 with 2 Axes>"
      ]
     },
     "metadata": {},
     "output_type": "display_data"
    }
   ],
   "source": [
    "cm = confusion_matrix(y_pred=y_pred, y_true=y_val)\n",
    "# retrive the normalized version of cm\n",
    "cm_norm = cm/cm.sum(axis=1)[:, np.newaxis]\n",
    "\n",
    "plt.figure()\n",
    "plot_confusion_matrix(cm_norm, classes=['unsuccess','success'])\n",
    "plt.show()"
   ]
  },
  {
   "cell_type": "code",
   "execution_count": 21,
   "metadata": {},
   "outputs": [
    {
     "name": "stdout",
     "output_type": "stream",
     "text": [
      "Names of the 10 most important features:\n",
      "1. num_joint_success_project\n",
      "2. num_joint_project\n",
      "3. team_age_in_days\n",
      "4. num_Create_Q3\n",
      "5. num_Push_Q3\n",
      "6. num_Push\n",
      "7. activity_intensity\n",
      "8. num_Create_Q2\n",
      "9. normalized_proj_span\n",
      "10. proj_span\n"
     ]
    }
   ],
   "source": [
    "features = X.columns[:].values.tolist()\n",
    "important_features = rf.feature_importances_\n",
    "feature_index = np.argsort(important_features)[::-1]\n",
    "print('Names of the 10 most important features:')\n",
    "for n in range(10):\n",
    "    print(\"{}. {}\".format(n+1, features[feature_index[n]]))"
   ]
  },
  {
   "cell_type": "code",
   "execution_count": 22,
   "metadata": {},
   "outputs": [
    {
     "name": "stdout",
     "output_type": "stream",
     "text": [
      "\n",
      "Accuracy score on the val dataset: 0.97422\n",
      "Precision on val: 0.98609\n",
      "Recall on val: 0.91075\n"
     ]
    }
   ],
   "source": [
    "# test set\n",
    "y_pred = rf.predict(X_test)\n",
    "p = precision_score(y_pred=y_pred,y_true=y_test, pos_label=1)\n",
    "r = recall_score(y_pred=y_pred, y_true=y_test, pos_label=1)\n",
    "accuracy_score_val = rf.score(X_test, y_test)\n",
    "print('\\nAccuracy score on the val dataset: {:.5f}'.format(accuracy_score_val))\n",
    "print('Precision on val: {:.5f}'.format(p))\n",
    "print('Recall on val: {:.5f}'.format(r))"
   ]
  },
  {
   "cell_type": "code",
   "execution_count": null,
   "metadata": {},
   "outputs": [],
   "source": []
  },
  {
   "cell_type": "code",
   "execution_count": null,
   "metadata": {},
   "outputs": [],
   "source": []
  },
  {
   "cell_type": "code",
   "execution_count": 23,
   "metadata": {},
   "outputs": [
    {
     "name": "stdout",
     "output_type": "stream",
     "text": [
      "Linear SVC classification accuracy on training set: 0.94906\n",
      "Linear SVC classification accuracy on val set: 0.94724\n"
     ]
    }
   ],
   "source": [
    "svc_linear = SVC(kernel='linear')\n",
    "svc_linear.fit(X_tr, y_tr)\n",
    "ca = svc_linear.score(X_tr, y_tr)\n",
    "print('Linear SVC classification accuracy on training set: {:.5f}'.format(ca))\n",
    "ca = svc_linear.score(X_val, y_val)\n",
    "print('Linear SVC classification accuracy on val set: {:.5f}'.format(ca))"
   ]
  },
  {
   "cell_type": "code",
   "execution_count": 24,
   "metadata": {},
   "outputs": [
    {
     "name": "stdout",
     "output_type": "stream",
     "text": [
      "\n",
      "Radial Basis Function SVC classification accuracy on training set: 0.95310\n",
      "Radial Basis Function SVC classification accuracy on val set: 0.94571\n"
     ]
    }
   ],
   "source": [
    "\n",
    "\n",
    "svc_rbf = SVC(kernel='rbf')\n",
    "svc_rbf.fit(X_tr, y_tr)\n",
    "ca = svc_rbf.score(X_tr, y_tr)\n",
    "print('\\nRadial Basis Function SVC classification accuracy on training set: {:.5f}'.format(ca))\n",
    "ca = svc_rbf.score(X_val, y_val)\n",
    "print('Radial Basis Function SVC classification accuracy on val set: {:.5f}'.format(ca))\n",
    "\n"
   ]
  },
  {
   "cell_type": "code",
   "execution_count": 25,
   "metadata": {},
   "outputs": [
    {
     "name": "stdout",
     "output_type": "stream",
     "text": [
      "Precision on train: 0.99851\n",
      "Recall on train: 0.80388\n",
      "Precision on val: 0.99643\n",
      "Recall on val: 0.78027\n"
     ]
    }
   ],
   "source": [
    "y_pred = svc_rbf.predict(X_tr)\n",
    "p = precision_score(y_pred=y_pred,y_true=y_tr, pos_label=1)\n",
    "r = recall_score(y_pred=y_pred, y_true=y_tr, pos_label=1)\n",
    "print('Precision on train: {:.5f}'.format(p))\n",
    "print('Recall on train: {:.5f}'.format(r))\n",
    "\n",
    "y_pred = svc_rbf.predict(X_val)\n",
    "p = precision_score(y_pred=y_pred,y_true=y_val, pos_label=1)\n",
    "r = recall_score(y_pred=y_pred, y_true=y_val, pos_label=1)\n",
    "print('Precision on val: {:.5f}'.format(p))\n",
    "print('Recall on val: {:.5f}'.format(r))\n"
   ]
  },
  {
   "cell_type": "code",
   "execution_count": 26,
   "metadata": {},
   "outputs": [
    {
     "name": "stdout",
     "output_type": "stream",
     "text": [
      "\n",
      "Polynomial SVC classification accuracy on training set: 0.95510\n",
      "Polynomial SVC classification accuracy on val set: 0.94485\n"
     ]
    }
   ],
   "source": [
    "svc_poly = SVC(kernel='poly')\n",
    "svc_poly.fit(X_tr, y_tr)\n",
    "ca = svc_poly.score(X_tr, y_tr)\n",
    "print('\\nPolynomial SVC classification accuracy on training set: {:.5f}'.format(ca))\n",
    "ca = svc_poly.score(X_val, y_val)\n",
    "print('Polynomial SVC classification accuracy on val set: {:.5f}'.format(ca))"
   ]
  },
  {
   "cell_type": "code",
   "execution_count": 27,
   "metadata": {},
   "outputs": [
    {
     "name": "stdout",
     "output_type": "stream",
     "text": [
      "Precision on train: 0.99153\n",
      "Recall on train: 0.81298\n",
      "Precision on val: 0.97029\n",
      "Recall on val: 0.79986\n"
     ]
    }
   ],
   "source": [
    "mlp = MLPClassifier(solver='lbfgs', alpha=1e-5, hidden_layer_sizes=(5,2), random_state=2019)\n",
    "mlp.fit(X_tr, y_tr)\n",
    "y_pred = mlp.predict(X_tr)\n",
    "p = precision_score(y_pred=y_pred,y_true=y_tr, pos_label=1)\n",
    "r = recall_score(y_pred=y_pred, y_true=y_tr, pos_label=1)\n",
    "print('Precision on train: {:.5f}'.format(p))\n",
    "print('Recall on train: {:.5f}'.format(r))\n",
    "\n",
    "y_pred = mlp.predict(X_val)\n",
    "p = precision_score(y_pred=y_pred,y_true=y_val, pos_label=1)\n",
    "r = recall_score(y_pred=y_pred, y_true=y_val, pos_label=1)\n",
    "print('Precision on val: {:.5f}'.format(p))\n",
    "print('Recall on val: {:.5f}'.format(r))"
   ]
  },
  {
   "cell_type": "code",
   "execution_count": null,
   "metadata": {},
   "outputs": [],
   "source": []
  },
  {
   "cell_type": "code",
   "execution_count": 28,
   "metadata": {},
   "outputs": [
    {
     "name": "stdout",
     "output_type": "stream",
     "text": [
      "Precision on val: 0.97088\n",
      "Recall on val: 0.78905\n"
     ]
    }
   ],
   "source": [
    "y_pred = mlp.predict(X_test)\n",
    "p = precision_score(y_pred=y_pred,y_true=y_test, pos_label=1)\n",
    "r = recall_score(y_pred=y_pred, y_true=y_test, pos_label=1)\n",
    "print('Precision on val: {:.5f}'.format(p))\n",
    "print('Recall on val: {:.5f}'.format(r))"
   ]
  },
  {
   "cell_type": "code",
   "execution_count": null,
   "metadata": {},
   "outputs": [],
   "source": []
  }
 ],
 "metadata": {
  "kernelspec": {
   "display_name": "Python 3",
   "language": "python",
   "name": "python3"
  },
  "language_info": {
   "codemirror_mode": {
    "name": "ipython",
    "version": 3
   },
   "file_extension": ".py",
   "mimetype": "text/x-python",
   "name": "python",
   "nbconvert_exporter": "python",
   "pygments_lexer": "ipython3",
   "version": "3.4.9"
  }
 },
 "nbformat": 4,
 "nbformat_minor": 2
}
