{
 "cells": [
  {
   "cell_type": "code",
   "execution_count": 1,
   "metadata": {},
   "outputs": [
    {
     "name": "stderr",
     "output_type": "stream",
     "text": [
      "/usr/lib64/python3.4/site-packages/sklearn/cross_validation.py:41: DeprecationWarning: This module was deprecated in version 0.18 in favor of the model_selection module into which all the refactored classes and functions are moved. Also note that the interface of the new CV iterators are different from that of this module. This module will be removed in 0.20.\n",
      "  \"This module will be removed in 0.20.\", DeprecationWarning)\n"
     ]
    }
   ],
   "source": [
    "from __future__ import print_function, division\n",
    "%matplotlib inline\n",
    "\n",
    "# Your code goes here\n",
    "import os\n",
    "import numpy as np \n",
    "import pandas as pd\n",
    "import matplotlib.pyplot as plt\n",
    "import seaborn as sns\n",
    "from scipy import stats\n",
    "from sklearn.metrics import accuracy_score, log_loss\n",
    "from sklearn.linear_model import LogisticRegression, LogisticRegressionCV\n",
    "from sklearn.preprocessing import StandardScaler\n",
    "from sklearn.cross_validation import KFold\n",
    "from sklearn.ensemble import RandomForestClassifier\n",
    "from sklearn.svm import SVC\n",
    "from sklearn.model_selection import train_test_split\n",
    "from sklearn.metrics import average_precision_score, recall_score, precision_score, f1_score, confusion_matrix"
   ]
  },
  {
   "cell_type": "code",
   "execution_count": 2,
   "metadata": {},
   "outputs": [
    {
     "name": "stdout",
     "output_type": "stream",
     "text": [
      "(21820, 96)\n",
      "(5993, 96)\n"
     ]
    }
   ],
   "source": [
    "dataset_original = pd.read_csv('span_feb_24.csv',delimiter = ',')\n",
    "dataset_original = dataset_original.loc[dataset_original['proj_span'] >= 10.0]\n",
    "\n",
    "dataset1 = pd.read_csv('span_fir_quater_feb_24.csv',delimiter = ',')\n",
    "data_neg = dataset1.loc[(dataset1['class']==0) & (dataset1['id'].isin(dataset_original['id']))]\n",
    "data_pos = dataset1.loc[(dataset1['class']==1) & (dataset1['id'].isin(dataset_original['id']))]\n",
    "print(data_neg.shape)\n",
    "print(data_pos.shape)"
   ]
  },
  {
   "cell_type": "code",
   "execution_count": 3,
   "metadata": {},
   "outputs": [],
   "source": [
    "dataset = pd.read_csv('span_fir_quater_feb_24.csv',delimiter = ',')\n",
    "dataset = dataset.loc[dataset['id'].isin(dataset_original['id'])]\n"
   ]
  },
  {
   "cell_type": "code",
   "execution_count": 4,
   "metadata": {},
   "outputs": [
    {
     "data": {
      "text/plain": [
       "(27813, 96)"
      ]
     },
     "execution_count": 4,
     "metadata": {},
     "output_type": "execute_result"
    }
   ],
   "source": [
    "X = (dataset.drop('class', axis=1)).drop('id', axis=1)\n",
    "y = dataset['class']\n",
    "dataset.shape"
   ]
  },
  {
   "cell_type": "code",
   "execution_count": null,
   "metadata": {},
   "outputs": [],
   "source": []
  },
  {
   "cell_type": "code",
   "execution_count": 5,
   "metadata": {},
   "outputs": [
    {
     "data": {
      "text/html": [
       "<div>\n",
       "<style scoped>\n",
       "    .dataframe tbody tr th:only-of-type {\n",
       "        vertical-align: middle;\n",
       "    }\n",
       "\n",
       "    .dataframe tbody tr th {\n",
       "        vertical-align: top;\n",
       "    }\n",
       "\n",
       "    .dataframe thead th {\n",
       "        text-align: right;\n",
       "    }\n",
       "</style>\n",
       "<table border=\"1\" class=\"dataframe\">\n",
       "  <thead>\n",
       "    <tr style=\"text-align: right;\">\n",
       "      <th></th>\n",
       "      <th>activity_intensity</th>\n",
       "      <th>class</th>\n",
       "      <th>contribution_30_10</th>\n",
       "      <th>contribution_50_30</th>\n",
       "      <th>contribution_below_10</th>\n",
       "      <th>contribution_over_50</th>\n",
       "      <th>final_teamsize</th>\n",
       "      <th>first_quater_teamsize</th>\n",
       "      <th>majority_contribution_time</th>\n",
       "      <th>max_contribution_percentage</th>\n",
       "      <th>...</th>\n",
       "      <th>num_TeamAdd_Q4</th>\n",
       "      <th>num_Watch</th>\n",
       "      <th>num_Watch_Q1</th>\n",
       "      <th>num_Watch_Q2</th>\n",
       "      <th>num_Watch_Q3</th>\n",
       "      <th>num_Watch_Q4</th>\n",
       "      <th>num_joint_project</th>\n",
       "      <th>num_joint_success_project</th>\n",
       "      <th>proj_span</th>\n",
       "      <th>team_age_in_days</th>\n",
       "    </tr>\n",
       "  </thead>\n",
       "  <tbody>\n",
       "    <tr>\n",
       "      <th>count</th>\n",
       "      <td>27813.000000</td>\n",
       "      <td>27813.000000</td>\n",
       "      <td>27813.000000</td>\n",
       "      <td>27813.000000</td>\n",
       "      <td>27813.000000</td>\n",
       "      <td>27813.000000</td>\n",
       "      <td>27813.000000</td>\n",
       "      <td>27813.000000</td>\n",
       "      <td>27813.000000</td>\n",
       "      <td>27813.000000</td>\n",
       "      <td>...</td>\n",
       "      <td>27813.000000</td>\n",
       "      <td>27813.000000</td>\n",
       "      <td>27813.000000</td>\n",
       "      <td>27813.000000</td>\n",
       "      <td>27813.000000</td>\n",
       "      <td>27813.000000</td>\n",
       "      <td>27813.000000</td>\n",
       "      <td>27813.000000</td>\n",
       "      <td>27813.000000</td>\n",
       "      <td>27813.000000</td>\n",
       "    </tr>\n",
       "    <tr>\n",
       "      <th>mean</th>\n",
       "      <td>1.916007</td>\n",
       "      <td>0.215475</td>\n",
       "      <td>0.337540</td>\n",
       "      <td>0.261065</td>\n",
       "      <td>3.107827</td>\n",
       "      <td>0.858987</td>\n",
       "      <td>4.565419</td>\n",
       "      <td>4.565419</td>\n",
       "      <td>0.545680</td>\n",
       "      <td>0.848609</td>\n",
       "      <td>...</td>\n",
       "      <td>0.000935</td>\n",
       "      <td>0.203826</td>\n",
       "      <td>0.054902</td>\n",
       "      <td>0.068961</td>\n",
       "      <td>0.072376</td>\n",
       "      <td>0.059145</td>\n",
       "      <td>828.326358</td>\n",
       "      <td>814.016647</td>\n",
       "      <td>23.956172</td>\n",
       "      <td>53.731277</td>\n",
       "    </tr>\n",
       "    <tr>\n",
       "      <th>std</th>\n",
       "      <td>3.454765</td>\n",
       "      <td>0.411159</td>\n",
       "      <td>0.831806</td>\n",
       "      <td>0.615824</td>\n",
       "      <td>237.373068</td>\n",
       "      <td>0.348041</td>\n",
       "      <td>237.364690</td>\n",
       "      <td>237.364690</td>\n",
       "      <td>0.497918</td>\n",
       "      <td>0.218953</td>\n",
       "      <td>...</td>\n",
       "      <td>0.030561</td>\n",
       "      <td>2.555817</td>\n",
       "      <td>0.797873</td>\n",
       "      <td>0.660730</td>\n",
       "      <td>0.771995</td>\n",
       "      <td>0.665123</td>\n",
       "      <td>2738.267131</td>\n",
       "      <td>2731.359397</td>\n",
       "      <td>65.819460</td>\n",
       "      <td>141.433467</td>\n",
       "    </tr>\n",
       "    <tr>\n",
       "      <th>min</th>\n",
       "      <td>0.001358</td>\n",
       "      <td>0.000000</td>\n",
       "      <td>0.000000</td>\n",
       "      <td>0.000000</td>\n",
       "      <td>0.000000</td>\n",
       "      <td>0.000000</td>\n",
       "      <td>1.000000</td>\n",
       "      <td>1.000000</td>\n",
       "      <td>0.000000</td>\n",
       "      <td>0.000747</td>\n",
       "      <td>...</td>\n",
       "      <td>0.000000</td>\n",
       "      <td>0.000000</td>\n",
       "      <td>0.000000</td>\n",
       "      <td>0.000000</td>\n",
       "      <td>0.000000</td>\n",
       "      <td>0.000000</td>\n",
       "      <td>1.000000</td>\n",
       "      <td>0.000000</td>\n",
       "      <td>1.000000</td>\n",
       "      <td>0.000000</td>\n",
       "    </tr>\n",
       "    <tr>\n",
       "      <th>25%</th>\n",
       "      <td>0.400000</td>\n",
       "      <td>0.000000</td>\n",
       "      <td>0.000000</td>\n",
       "      <td>0.000000</td>\n",
       "      <td>0.000000</td>\n",
       "      <td>1.000000</td>\n",
       "      <td>1.000000</td>\n",
       "      <td>1.000000</td>\n",
       "      <td>0.000000</td>\n",
       "      <td>0.714286</td>\n",
       "      <td>...</td>\n",
       "      <td>0.000000</td>\n",
       "      <td>0.000000</td>\n",
       "      <td>0.000000</td>\n",
       "      <td>0.000000</td>\n",
       "      <td>0.000000</td>\n",
       "      <td>0.000000</td>\n",
       "      <td>1.000000</td>\n",
       "      <td>0.000000</td>\n",
       "      <td>1.000000</td>\n",
       "      <td>0.000000</td>\n",
       "    </tr>\n",
       "    <tr>\n",
       "      <th>50%</th>\n",
       "      <td>1.000000</td>\n",
       "      <td>0.000000</td>\n",
       "      <td>0.000000</td>\n",
       "      <td>0.000000</td>\n",
       "      <td>0.000000</td>\n",
       "      <td>1.000000</td>\n",
       "      <td>1.000000</td>\n",
       "      <td>1.000000</td>\n",
       "      <td>1.000000</td>\n",
       "      <td>1.000000</td>\n",
       "      <td>...</td>\n",
       "      <td>0.000000</td>\n",
       "      <td>0.000000</td>\n",
       "      <td>0.000000</td>\n",
       "      <td>0.000000</td>\n",
       "      <td>0.000000</td>\n",
       "      <td>0.000000</td>\n",
       "      <td>1.000000</td>\n",
       "      <td>0.000000</td>\n",
       "      <td>1.000000</td>\n",
       "      <td>0.000000</td>\n",
       "    </tr>\n",
       "    <tr>\n",
       "      <th>75%</th>\n",
       "      <td>2.000000</td>\n",
       "      <td>0.000000</td>\n",
       "      <td>0.000000</td>\n",
       "      <td>0.000000</td>\n",
       "      <td>0.000000</td>\n",
       "      <td>1.000000</td>\n",
       "      <td>2.000000</td>\n",
       "      <td>2.000000</td>\n",
       "      <td>1.000000</td>\n",
       "      <td>1.000000</td>\n",
       "      <td>...</td>\n",
       "      <td>0.000000</td>\n",
       "      <td>0.000000</td>\n",
       "      <td>0.000000</td>\n",
       "      <td>0.000000</td>\n",
       "      <td>0.000000</td>\n",
       "      <td>0.000000</td>\n",
       "      <td>5.000000</td>\n",
       "      <td>1.000000</td>\n",
       "      <td>14.000000</td>\n",
       "      <td>35.000000</td>\n",
       "    </tr>\n",
       "    <tr>\n",
       "      <th>max</th>\n",
       "      <td>256.666667</td>\n",
       "      <td>1.000000</td>\n",
       "      <td>9.000000</td>\n",
       "      <td>3.000000</td>\n",
       "      <td>39495.000000</td>\n",
       "      <td>1.000000</td>\n",
       "      <td>39495.000000</td>\n",
       "      <td>39495.000000</td>\n",
       "      <td>1.000000</td>\n",
       "      <td>1.000000</td>\n",
       "      <td>...</td>\n",
       "      <td>1.000000</td>\n",
       "      <td>198.000000</td>\n",
       "      <td>78.000000</td>\n",
       "      <td>46.000000</td>\n",
       "      <td>46.000000</td>\n",
       "      <td>54.000000</td>\n",
       "      <td>10064.000000</td>\n",
       "      <td>10033.000000</td>\n",
       "      <td>1473.000000</td>\n",
       "      <td>1718.000000</td>\n",
       "    </tr>\n",
       "  </tbody>\n",
       "</table>\n",
       "<p>8 rows × 95 columns</p>\n",
       "</div>"
      ],
      "text/plain": [
       "       activity_intensity         class  contribution_30_10  \\\n",
       "count        27813.000000  27813.000000        27813.000000   \n",
       "mean             1.916007      0.215475            0.337540   \n",
       "std              3.454765      0.411159            0.831806   \n",
       "min              0.001358      0.000000            0.000000   \n",
       "25%              0.400000      0.000000            0.000000   \n",
       "50%              1.000000      0.000000            0.000000   \n",
       "75%              2.000000      0.000000            0.000000   \n",
       "max            256.666667      1.000000            9.000000   \n",
       "\n",
       "       contribution_50_30  contribution_below_10  contribution_over_50  \\\n",
       "count        27813.000000           27813.000000          27813.000000   \n",
       "mean             0.261065               3.107827              0.858987   \n",
       "std              0.615824             237.373068              0.348041   \n",
       "min              0.000000               0.000000              0.000000   \n",
       "25%              0.000000               0.000000              1.000000   \n",
       "50%              0.000000               0.000000              1.000000   \n",
       "75%              0.000000               0.000000              1.000000   \n",
       "max              3.000000           39495.000000              1.000000   \n",
       "\n",
       "       final_teamsize  first_quater_teamsize  majority_contribution_time  \\\n",
       "count    27813.000000           27813.000000                27813.000000   \n",
       "mean         4.565419               4.565419                    0.545680   \n",
       "std        237.364690             237.364690                    0.497918   \n",
       "min          1.000000               1.000000                    0.000000   \n",
       "25%          1.000000               1.000000                    0.000000   \n",
       "50%          1.000000               1.000000                    1.000000   \n",
       "75%          2.000000               2.000000                    1.000000   \n",
       "max      39495.000000           39495.000000                    1.000000   \n",
       "\n",
       "       max_contribution_percentage        ...         num_TeamAdd_Q4  \\\n",
       "count                 27813.000000        ...           27813.000000   \n",
       "mean                      0.848609        ...               0.000935   \n",
       "std                       0.218953        ...               0.030561   \n",
       "min                       0.000747        ...               0.000000   \n",
       "25%                       0.714286        ...               0.000000   \n",
       "50%                       1.000000        ...               0.000000   \n",
       "75%                       1.000000        ...               0.000000   \n",
       "max                       1.000000        ...               1.000000   \n",
       "\n",
       "          num_Watch  num_Watch_Q1  num_Watch_Q2  num_Watch_Q3  num_Watch_Q4  \\\n",
       "count  27813.000000  27813.000000  27813.000000  27813.000000  27813.000000   \n",
       "mean       0.203826      0.054902      0.068961      0.072376      0.059145   \n",
       "std        2.555817      0.797873      0.660730      0.771995      0.665123   \n",
       "min        0.000000      0.000000      0.000000      0.000000      0.000000   \n",
       "25%        0.000000      0.000000      0.000000      0.000000      0.000000   \n",
       "50%        0.000000      0.000000      0.000000      0.000000      0.000000   \n",
       "75%        0.000000      0.000000      0.000000      0.000000      0.000000   \n",
       "max      198.000000     78.000000     46.000000     46.000000     54.000000   \n",
       "\n",
       "       num_joint_project  num_joint_success_project     proj_span  \\\n",
       "count       27813.000000               27813.000000  27813.000000   \n",
       "mean          828.326358                 814.016647     23.956172   \n",
       "std          2738.267131                2731.359397     65.819460   \n",
       "min             1.000000                   0.000000      1.000000   \n",
       "25%             1.000000                   0.000000      1.000000   \n",
       "50%             1.000000                   0.000000      1.000000   \n",
       "75%             5.000000                   1.000000     14.000000   \n",
       "max         10064.000000               10033.000000   1473.000000   \n",
       "\n",
       "       team_age_in_days  \n",
       "count      27813.000000  \n",
       "mean          53.731277  \n",
       "std          141.433467  \n",
       "min            0.000000  \n",
       "25%            0.000000  \n",
       "50%            0.000000  \n",
       "75%           35.000000  \n",
       "max         1718.000000  \n",
       "\n",
       "[8 rows x 95 columns]"
      ]
     },
     "execution_count": 5,
     "metadata": {},
     "output_type": "execute_result"
    }
   ],
   "source": [
    "\n",
    "dataset.describe()"
   ]
  },
  {
   "cell_type": "code",
   "execution_count": 6,
   "metadata": {},
   "outputs": [
    {
     "name": "stdout",
     "output_type": "stream",
     "text": [
      "training size:  16687\n",
      "validation size:  5563\n",
      "test size:  5563\n"
     ]
    }
   ],
   "source": [
    "X_tr, X_test, y_tr, y_test = train_test_split(X, y, test_size=0.2, random_state=20190101)\n",
    "X_tr, X_val, y_tr, y_val = train_test_split(X_tr, y_tr, test_size=0.25, random_state=20190101)\n",
    "print('training size: ', X_tr.shape[0])\n",
    "print('validation size: ', X_val.shape[0])\n",
    "print('test size: ', X_test.shape[0])"
   ]
  },
  {
   "cell_type": "code",
   "execution_count": 7,
   "metadata": {},
   "outputs": [
    {
     "data": {
      "image/png": "[encoded data removed]",
      "text/plain": [
       "<Figure size 864x360 with 2 Axes>"
      ]
     },
     "metadata": {},
     "output_type": "display_data"
    }
   ],
   "source": [
    "plt.figure(figsize=(12,5))\n",
    "plt.subplot(1,2,1)\n",
    "ax1 = sns.countplot(x='class', data=dataset)\n",
    "ax1.set_xticklabels(['not Success', 'Success'])\n",
    "plt.title('Dataset with CRAN before GH')\n",
    "ax2 = plt.subplot(1,2,2)\n",
    "sns.countplot(x='class', data=dataset1)\n",
    "ax2.set_xticklabels(['not Success', 'Success'])\n",
    "plt.title('Dataset don\\'t care CRAN before GH')\n",
    "plt.show()"
   ]
  },
  {
   "cell_type": "code",
   "execution_count": 8,
   "metadata": {},
   "outputs": [
    {
     "name": "stdout",
     "output_type": "stream",
     "text": [
      "Classification accuracy of the LogisticRegression classifier on training set: 0.86654\n",
      "Precision on train: 0.96218\n",
      "Recall on train: 0.38737\n",
      "\n",
      "Classification accuracy of the LogisticRegression classifier on val set: 0.86698\n",
      "Precision on val: 0.95082\n",
      "Recall on val: 0.39322\n"
     ]
    },
    {
     "data": {
      "text/plain": [
       "array([[3914,  383],\n",
       "       [1161,  105]])"
      ]
     },
     "execution_count": 8,
     "metadata": {},
     "output_type": "execute_result"
    }
   ],
   "source": [
    "lr = LogisticRegression(solver='lbfgs')\n",
    "lr.fit(X_tr, y_tr)\n",
    "ca = lr.score(X_tr, y_tr)\n",
    "print('Classification accuracy of the LogisticRegression classifier on training set: {:.5f}'.format(ca))\n",
    "y_pred = lr.predict(X_tr)\n",
    "p = precision_score(y_pred=y_pred,y_true=y_tr, pos_label=1)\n",
    "r = recall_score(y_pred=y_pred, y_true=y_tr, pos_label=1)\n",
    "print('Precision on train: {:.5f}'.format(p))\n",
    "print('Recall on train: {:.5f}'.format(r))\n",
    "ca = lr.score(X_val, y_val)\n",
    "y_pred = lr.predict(X_val)\n",
    "p = precision_score(y_pred=y_pred,y_true=y_val, pos_label=1)\n",
    "r = recall_score(y_pred=y_pred, y_true=y_val, pos_label=1)\n",
    "print('\\nClassification accuracy of the LogisticRegression classifier on val set: {:.5f}'.format(ca))\n",
    "print('Precision on val: {:.5f}'.format(p))\n",
    "print('Recall on val: {:.5f}'.format(r))\n",
    "confusion_matrix(y_pred=y_pred, y_true=y_test)"
   ]
  },
  {
   "cell_type": "code",
   "execution_count": 9,
   "metadata": {},
   "outputs": [
    {
     "name": "stdout",
     "output_type": "stream",
     "text": [
      "[[-1.13552082e-01  1.13903732e-02 -4.01569928e-02  2.40997712e-01\n",
      "  -3.36381909e-01 -1.24150816e-01 -1.24150816e-01 -1.47855620e-01\n",
      "  -3.43578978e-01  1.15129407e-04  2.98264820e-03  3.64747706e-03\n",
      "   1.90240163e-03 -2.06934292e-03 -3.04856822e-03  3.62798586e-02\n",
      "  -5.59775658e-02 -3.56187884e-02  2.45220211e-02  1.60741566e-02\n",
      "   4.14745374e-02  7.57539111e-03  1.64627634e-02  1.72769804e-02\n",
      "   1.46964259e-02  0.00000000e+00  0.00000000e+00  0.00000000e+00\n",
      "   0.00000000e+00  0.00000000e+00 -6.61783266e-02 -2.97736656e-02\n",
      "  -2.96560556e-02 -2.66238803e-02 -1.93740791e-02 -3.92053463e-02\n",
      "  -1.03665950e-03 -2.10044279e-02 -6.66739046e-03 -1.96367422e-02\n",
      "  -3.52578380e-02 -1.40045154e-02 -2.81100801e-02 -1.44705248e-02\n",
      "   1.63710232e-02  1.78504526e-04 -8.52344904e-03 -1.44430158e-02\n",
      "  -5.30990580e-03  1.76057250e-02 -2.39592497e-03  2.47549414e-03\n",
      "  -8.24855891e-03 -6.08741291e-03 -2.58786374e-03 -9.11758234e-03\n",
      "  -8.14839121e-03 -5.77141298e-03 -4.33036556e-03 -4.19668038e-03\n",
      "   2.37682065e-02  3.06520922e-02  1.05267070e-02  9.71696188e-03\n",
      "   7.21154723e-03  1.51942118e-02  7.81231481e-04  5.39059737e-04\n",
      "  -4.31967325e-03 -1.30080226e-02  1.83115824e-01 -7.97967056e-02\n",
      "  -2.34680057e-01 -2.16055969e-01 -1.45394738e-01  1.53340671e-02\n",
      "   4.21883930e-03  4.64411836e-03  4.28387168e-03  3.67351818e-03\n",
      "   9.20565420e-05 -1.10656438e-03  2.88449318e-04  4.80388234e-04\n",
      "   6.55111964e-04  4.71593164e-02  1.19588922e-02  6.47703563e-03\n",
      "   6.49717968e-03  5.35181941e-03  4.90605832e-04  3.66693846e-04\n",
      "   2.44527817e-03 -1.25256872e-04]]\n",
      "[-0.35568391]\n"
     ]
    }
   ],
   "source": [
    "# display coef for logistic regression model\n",
    "print(lr.coef_)\n",
    "print(lr.intercept_)"
   ]
  },
  {
   "cell_type": "code",
   "execution_count": 10,
   "metadata": {},
   "outputs": [],
   "source": [
    "def plot_confusion_matrix(cm, classes=None, title='Confusion matrix'):\n",
    "    \"\"\"Plots a confusion matrix.\"\"\"\n",
    "    if classes is not None:\n",
    "        sns.heatmap(cm, xticklabels=classes, yticklabels=classes, vmin=0., vmax=1., annot=True)\n",
    "    else:\n",
    "        sns.heatmap(cm, vmin=0., vmax=1.)\n",
    "    plt.title(title)\n",
    "    plt.ylabel('True label')\n",
    "    plt.xlabel('Predicted label')"
   ]
  },
  {
   "cell_type": "code",
   "execution_count": 11,
   "metadata": {},
   "outputs": [],
   "source": [
    "# cm = confusion_matrix(y_pred=y_pred, y_true=y_test)\n",
    "# # retrive the normalized version of cm\n",
    "# cm_norm = cm/cm.sum(axis=1)[:, np.newaxis]\n",
    "\n",
    "# plt.figure()\n",
    "# plot_confusion_matrix(cm_norm, classes=['unsuccess','success'])\n",
    "# plt.show()"
   ]
  },
  {
   "cell_type": "code",
   "execution_count": 12,
   "metadata": {
    "scrolled": true
   },
   "outputs": [],
   "source": [
    "# lr = LogisticRegression(solver='lbfgs')\n",
    "# lr.fit(X_tr, y_tr)\n",
    "# predictions = lr.predict(X_tr)\n",
    "# params = np.append(lr.intercept_, lr.coef_)\n",
    "# newX = pd.DataFrame({\"Constant\":np.ones(len(X_tr))}).join(pd.DataFrame(X_tr.reset_index(drop=True)))\n",
    "# MSE = (sum((y_tr-predictions)**2))/(len(newX)-len(newX.columns))\n",
    "\n",
    "\n",
    "# var_b = MSE*(np.linalg.inv(np.dot(newX.T,newX)).diagonal())\n",
    "# sd_b = np.sqrt(var_b)\n",
    "# ts_b = params/ sd_b\n",
    "# print(newX)\n",
    "# p_values =[2*(1-stats.t.cdf(np.abs(i),(len(newX)-1))) for i in ts_b]\n",
    "\n",
    "# sd_b = np.round(sd_b,3)\n",
    "# ts_b = np.round(ts_b,3)\n",
    "# p_values = np.round(p_values,3)\n",
    "# params = np.round(params,4)\n",
    "\n",
    "# myDF3 = pd.DataFrame()\n",
    "# myDF3[\"Coefficients\"],myDF3[\"Standard Errors\"],myDF3[\"t values\"],myDF3[\"Probabilites\"] = [params,sd_b,ts_b,p_values]\n",
    "# print(myDF3)"
   ]
  },
  {
   "cell_type": "code",
   "execution_count": null,
   "metadata": {},
   "outputs": [],
   "source": []
  },
  {
   "cell_type": "code",
   "execution_count": 13,
   "metadata": {},
   "outputs": [],
   "source": [
    "# cm = confusion_matrix(y_pred=y_pred, y_true=y_test_1)\n",
    "# # retrive the normalized version of cm\n",
    "# cm_norm = cm/cm.sum(axis=1)[:, np.newaxis]\n",
    "\n",
    "# plt.figure()\n",
    "# plot_confusion_matrix(cm_norm, classes=['unsuccess','success'])\n",
    "# plt.show()"
   ]
  },
  {
   "cell_type": "code",
   "execution_count": 14,
   "metadata": {},
   "outputs": [],
   "source": [
    "# transform the data\n",
    "ss = StandardScaler()\n",
    "ss.fit(X_tr)\n",
    "X_tr = ss.transform(X_tr)\n",
    "X_val = ss.transform(X_val)\n",
    "\n"
   ]
  },
  {
   "cell_type": "code",
   "execution_count": 15,
   "metadata": {},
   "outputs": [
    {
     "name": "stdout",
     "output_type": "stream",
     "text": [
      "Classification accuracy of the LogisticRegression classifier on training set: 0.86738\n",
      "Precision on train: 0.92484\n",
      "Recall on train: 0.40936\n",
      "\n",
      "Classification accuracy of the LogisticRegression classifier on val set: 0.86698\n",
      "Precision on val: 0.90892\n",
      "Recall on val: 0.41441\n"
     ]
    }
   ],
   "source": [
    "lr = LogisticRegression(solver='lbfgs')\n",
    "lr.fit(X_tr, y_tr)\n",
    "ca = lr.score(X_tr, y_tr)\n",
    "print('Classification accuracy of the LogisticRegression classifier on training set: {:.5f}'.format(ca))\n",
    "y_pred = lr.predict(X_tr)\n",
    "p = precision_score(y_pred=y_pred,y_true=y_tr, pos_label=1)\n",
    "r = recall_score(y_pred=y_pred, y_true=y_tr, pos_label=1)\n",
    "print('Precision on train: {:.5f}'.format(p))\n",
    "print('Recall on train: {:.5f}'.format(r))\n",
    "\n",
    "ca = lr.score(X_val, y_val)\n",
    "y_pred = lr.predict(X_val)\n",
    "p = precision_score(y_pred=y_pred,y_true=y_val, pos_label=1)\n",
    "r = recall_score(y_pred=y_pred, y_true=y_val, pos_label=1)\n",
    "print('\\nClassification accuracy of the LogisticRegression classifier on val set: {:.5f}'.format(ca))\n",
    "print('Precision on val: {:.5f}'.format(p))\n",
    "print('Recall on val: {:.5f}'.format(r))"
   ]
  },
  {
   "cell_type": "code",
   "execution_count": 16,
   "metadata": {},
   "outputs": [
    {
     "name": "stdout",
     "output_type": "stream",
     "text": [
      "[[-0.07804281  0.01624625  0.0476366  -0.32152508  0.15397546 -0.32122188\n",
      "  -0.32122188  0.08026875 -0.35737078  0.39725254  0.02732427  0.01451928\n",
      "   0.01081202 -0.07724027 -0.00967198  0.2068572  -0.1009247   0.01828702\n",
      "   0.1217319   0.0851079  -0.99763769  0.29499606  0.40362173  0.32964198\n",
      "   0.29906465  0.          0.          0.          0.          0.\n",
      "  -0.77583769 -0.90383636 -0.98539065 -0.94864671 -0.78942148  0.54392582\n",
      "  -0.06757526 -0.20735805 -0.0384345  -0.36863901 -0.75300566  0.10106284\n",
      "   0.25715888  0.09466896  0.35615553 -0.39946587  0.1513098   0.19408812\n",
      "   0.01196046  0.24716457  0.03733403  0.00615956 -0.05854931 -0.02697436\n",
      "  -0.0108457   0.28697786 -0.30691366  0.04578105 -0.0903777  -0.13997508\n",
      "  -1.14978175 -1.1892526   0.33012709  0.38926754  0.23175321  0.40036788\n",
      "   0.36741606  0.45433813  0.17118616  0.33111041  0.42496547 -0.03022133\n",
      "   0.20422469 -0.38325939 -0.16054445  0.04001925  0.03091578 -0.01390929\n",
      "   0.01289451 -0.05250019 -0.00911924 -0.01525344  0.01817832 -0.01107736\n",
      "   0.03542505  0.11090949  0.05282678  0.05331754 -0.09500166 -0.04996558\n",
      "   3.35604535 -1.23535192 -0.17865402  0.04517771]]\n",
      "[-1.32017176]\n"
     ]
    }
   ],
   "source": [
    "# display coef for logistic regression model\n",
    "print(lr.coef_)\n",
    "print(lr.intercept_)"
   ]
  },
  {
   "cell_type": "code",
   "execution_count": 17,
   "metadata": {},
   "outputs": [],
   "source": [
    "# cm = confusion_matrix(y_pred=y_pred, y_true=y_test)\n",
    "# # retrive the normalized version of cm\n",
    "# cm_norm = cm/cm.sum(axis=1)[:, np.newaxis]\n",
    "\n",
    "# plt.figure()\n",
    "# plot_confusion_matrix(cm_norm, classes=['unsuccess','success'])\n",
    "# plt.show()"
   ]
  },
  {
   "cell_type": "code",
   "execution_count": null,
   "metadata": {},
   "outputs": [],
   "source": []
  },
  {
   "cell_type": "code",
   "execution_count": null,
   "metadata": {},
   "outputs": [],
   "source": []
  },
  {
   "cell_type": "code",
   "execution_count": 18,
   "metadata": {},
   "outputs": [],
   "source": [
    "# cm = confusion_matrix(y_pred=y_pred, y_true=y_test_1)\n",
    "# # retrive the normalized version of cm\n",
    "# cm_norm = cm/cm.sum(axis=1)[:, np.newaxis]\n",
    "\n",
    "# plt.figure()\n",
    "# plot_confusion_matrix(cm_norm, classes=['unsuccess','success'])\n",
    "# plt.show()"
   ]
  },
  {
   "cell_type": "code",
   "execution_count": 19,
   "metadata": {},
   "outputs": [
    {
     "name": "stdout",
     "output_type": "stream",
     "text": [
      "Accuracy score on the training dataset: 0.9977227782105831\n",
      "Precision on train: 0.99745\n",
      "Recall on train: 0.99182\n",
      "\n",
      "Accuracy score on the val dataset: 0.96656\n",
      "Precision on val: 0.93982\n",
      "Recall on val: 0.90000\n"
     ]
    }
   ],
   "source": [
    "rf = RandomForestClassifier(n_estimators=100, random_state=42)\n",
    "rf.fit(X_tr, y_tr)\n",
    "y_pred = rf.predict(X_tr)\n",
    "p = precision_score(y_pred=y_pred,y_true=y_tr, pos_label=1)\n",
    "r = recall_score(y_pred=y_pred, y_true=y_tr, pos_label=1)\n",
    "accuracy_score_train = rf.score(X_tr, y_tr)\n",
    "print('Accuracy score on the training dataset: {}'.format(accuracy_score_train))\n",
    "print('Precision on train: {:.5f}'.format(p))\n",
    "print('Recall on train: {:.5f}'.format(r))\n",
    "\n",
    "# test set\n",
    "y_pred = rf.predict(X_val)\n",
    "p = precision_score(y_pred=y_pred,y_true=y_val, pos_label=1)\n",
    "r = recall_score(y_pred=y_pred, y_true=y_val, pos_label=1)\n",
    "accuracy_score_val = rf.score(X_val, y_val)\n",
    "print('\\nAccuracy score on the val dataset: {:.5f}'.format(accuracy_score_val))\n",
    "print('Precision on val: {:.5f}'.format(p))\n",
    "print('Recall on val: {:.5f}'.format(r))"
   ]
  },
  {
   "cell_type": "code",
   "execution_count": 20,
   "metadata": {},
   "outputs": [],
   "source": [
    "# cm = confusion_matrix(y_pred=y_pred, y_true=y_test)\n",
    "# # retrive the normalized version of cm\n",
    "# cm_norm = cm/cm.sum(axis=1)[:, np.newaxis]\n",
    "\n",
    "# plt.figure()\n",
    "# plot_confusion_matrix(cm_norm, classes=['unsuccess','success'])\n",
    "# plt.show()"
   ]
  },
  {
   "cell_type": "code",
   "execution_count": 21,
   "metadata": {},
   "outputs": [
    {
     "name": "stdout",
     "output_type": "stream",
     "text": [
      "Names of the 10 most important features:\n",
      "1. num_joint_success_project\n",
      "2. num_joint_project\n",
      "3. team_age_in_days\n",
      "4. normalized_proj_span\n",
      "5. activity_intensity\n",
      "6. proj_span\n",
      "7. max_contribution_percentage\n",
      "8. num_Push\n",
      "9. num_Push_Q2\n",
      "10. num_Push_Q3\n"
     ]
    }
   ],
   "source": [
    "features = X.columns[:].values.tolist()\n",
    "important_features = rf.feature_importances_\n",
    "feature_index = np.argsort(important_features)[::-1]\n",
    "print('Names of the 10 most important features:')\n",
    "for n in range(10):\n",
    "    print(\"{}. {}\".format(n+1, features[feature_index[n]]))"
   ]
  },
  {
   "cell_type": "code",
   "execution_count": null,
   "metadata": {
    "scrolled": true
   },
   "outputs": [],
   "source": []
  },
  {
   "cell_type": "code",
   "execution_count": 22,
   "metadata": {},
   "outputs": [],
   "source": [
    "# cm = confusion_matrix(y_pred=y_pred, y_true=y_test_1)\n",
    "# # retrive the normalized version of cm\n",
    "# cm_norm = cm/cm.sum(axis=1)[:, np.newaxis]\n",
    "\n",
    "# plt.figure()\n",
    "# plot_confusion_matrix(cm_norm, classes=['unsuccess','success'])\n",
    "# plt.show()"
   ]
  },
  {
   "cell_type": "code",
   "execution_count": null,
   "metadata": {},
   "outputs": [],
   "source": []
  },
  {
   "cell_type": "code",
   "execution_count": 23,
   "metadata": {},
   "outputs": [],
   "source": [
    "# svc_linear = SVC(kernel='linear')\n",
    "# svc_linear.fit(X_tr, y_tr)\n",
    "# ca = svc_linear.score(X_tr, y_tr)\n",
    "# print('Linear SVC classification accuracy on training set: {:.5f}'.format(ca))\n",
    "# ca = svc_linear.score(X_test, y_test)\n",
    "# print('Linear SVC classification accuracy on test set: {:.5f}'.format(ca))"
   ]
  },
  {
   "cell_type": "code",
   "execution_count": 24,
   "metadata": {},
   "outputs": [
    {
     "name": "stdout",
     "output_type": "stream",
     "text": [
      "\n",
      "Radial Basis Function SVC classification accuracy on training set: 0.87889\n",
      "Radial Basis Function SVC classification accuracy on val set: 0.87021\n"
     ]
    }
   ],
   "source": [
    "\n",
    "\n",
    "svc_rbf = SVC(kernel='rbf')\n",
    "svc_rbf.fit(X_tr, y_tr)\n",
    "ca = svc_rbf.score(X_tr, y_tr)\n",
    "print('\\nRadial Basis Function SVC classification accuracy on training set: {:.5f}'.format(ca))\n",
    "ca = svc_rbf.score(X_val, y_val)\n",
    "print('Radial Basis Function SVC classification accuracy on val set: {:.5f}'.format(ca))\n",
    "\n",
    "# svc_poly = SVC(kernel='poly')\n",
    "# svc_poly.fit(X_tr, y_tr)\n",
    "# ca = svc_poly.score(X_tr, y_tr)\n",
    "# print('\\nPolynomial SVC classification accuracy on training set: {:.5f}'.format(ca))\n",
    "# ca = svc_poly.score(X_test, y_test)\n",
    "# print('Polynomial SVC classification accuracy on test set: {:.5f}'.format(ca))"
   ]
  },
  {
   "cell_type": "code",
   "execution_count": 25,
   "metadata": {},
   "outputs": [
    {
     "name": "stdout",
     "output_type": "stream",
     "text": [
      "Precision on train: 0.98848\n",
      "Recall on train: 0.43530\n",
      "Precision on val: 0.97119\n",
      "Recall on val: 0.40000\n"
     ]
    }
   ],
   "source": [
    "y_pred = svc_rbf.predict(X_tr)\n",
    "p = precision_score(y_pred=y_pred,y_true=y_tr, pos_label=1)\n",
    "r = recall_score(y_pred=y_pred, y_true=y_tr, pos_label=1)\n",
    "print('Precision on train: {:.5f}'.format(p))\n",
    "print('Recall on train: {:.5f}'.format(r))\n",
    "\n",
    "y_pred = svc_rbf.predict(X_val)\n",
    "p = precision_score(y_pred=y_pred,y_true=y_val, pos_label=1)\n",
    "r = recall_score(y_pred=y_pred, y_true=y_val, pos_label=1)\n",
    "print('Precision on val: {:.5f}'.format(p))\n",
    "print('Recall on val: {:.5f}'.format(r))\n"
   ]
  },
  {
   "cell_type": "code",
   "execution_count": null,
   "metadata": {},
   "outputs": [],
   "source": []
  },
  {
   "cell_type": "code",
   "execution_count": null,
   "metadata": {},
   "outputs": [],
   "source": []
  },
  {
   "cell_type": "code",
   "execution_count": null,
   "metadata": {},
   "outputs": [],
   "source": []
  }
 ],
 "metadata": {
  "kernelspec": {
   "display_name": "Python 3",
   "language": "python",
   "name": "python3"
  },
  "language_info": {
   "codemirror_mode": {
    "name": "ipython",
    "version": 3
   },
   "file_extension": ".py",
   "mimetype": "text/x-python",
   "name": "python",
   "nbconvert_exporter": "python",
   "pygments_lexer": "ipython3",
   "version": "3.4.9"
  }
 },
 "nbformat": 4,
 "nbformat_minor": 2
}
